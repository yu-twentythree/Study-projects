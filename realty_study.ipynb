{
 "cells": [
  {
   "cell_type": "markdown",
   "metadata": {
    "toc": true
   },
   "source": [
    "<h1>Содержание<span class=\"tocSkip\"></span></h1>\n",
    "<div class=\"toc\"><ul class=\"toc-item\"><li><span><a href=\"#Изучение-данных-из-файла\" data-toc-modified-id=\"Изучение-данных-из-файла-1\">Изучение данных из файла</a></span><ul class=\"toc-item\"><li><span><a href=\"#Вывод\" data-toc-modified-id=\"Вывод-1.1\">Вывод</a></span></li></ul></li><li><span><a href=\"#Предобработка-данных\" data-toc-modified-id=\"Предобработка-данных-2\">Предобработка данных</a></span><ul class=\"toc-item\"><li><span><a href=\"#Стиль-заголовков\" data-toc-modified-id=\"Стиль-заголовков-2.1\">Стиль заголовков</a></span></li><li><span><a href=\"#Пропуски-значений\" data-toc-modified-id=\"Пропуски-значений-2.2\">Пропуски значений</a></span></li><li><span><a href=\"#Замена-типа-данных\" data-toc-modified-id=\"Замена-типа-данных-2.3\">Замена типа данных</a></span></li><li><span><a href=\"#Изменение-единиц-измерения-данных\" data-toc-modified-id=\"Изменение-единиц-измерения-данных-2.4\">Изменение единиц измерения данных</a></span></li></ul></li><li><span><a href=\"#Расчёты-и-добавление-результатов-в-таблицу\" data-toc-modified-id=\"Расчёты-и-добавление-результатов-в-таблицу-3\">Расчёты и добавление результатов в таблицу</a></span><ul class=\"toc-item\"><li><span><a href=\"#Новые-столбцы\" data-toc-modified-id=\"Новые-столбцы-3.1\">Новые столбцы</a></span></li></ul></li><li><span><a href=\"#Исследовательский-анализ-данных\" data-toc-modified-id=\"Исследовательский-анализ-данных-4\">Исследовательский анализ данных</a></span><ul class=\"toc-item\"><li><span><a href=\"#Площадь,-цена,-число-комнат,-высота-потолков\" data-toc-modified-id=\"Площадь,-цена,-число-комнат,-высота-потолков-4.1\">Площадь, цена, число комнат, высота потолков</a></span></li><li><span><a href=\"#Время-продажи-квартиры\" data-toc-modified-id=\"Время-продажи-квартиры-4.2\">Время продажи квартиры</a></span></li><li><span><a href=\"#Вывод\" data-toc-modified-id=\"Вывод-4.3\">Вывод</a></span></li><li><span><a href=\"#Влияние--факторов-на-стоимость-квартиры\" data-toc-modified-id=\"Влияние--факторов-на-стоимость-квартиры-4.4\">Влияние  факторов на стоимость квартиры</a></span></li><li><span><a href=\"#Анализ-объявлений-по-населённым-пунктам\" data-toc-modified-id=\"Анализ-объявлений-по-населённым-пунктам-4.5\">Анализ объявлений по населённым пунктам</a></span></li><li><span><a href=\"#Удаленность-от-центра-для-Санкт-Петербурга\" data-toc-modified-id=\"Удаленность-от-центра-для-Санкт-Петербурга-4.6\">Удаленность от центра для Санкт-Петербурга</a></span></li><li><span><a href=\"#Анализ-центра-для-Санкт-Петербурга\" data-toc-modified-id=\"Анализ-центра-для-Санкт-Петербурга-4.7\">Анализ центра для Санкт-Петербурга</a></span></li></ul></li><li><span><a href=\"#Общий-вывод\" data-toc-modified-id=\"Общий-вывод-5\">Общий вывод</a></span></li><li><span><a href=\"#Чек-лист-готовности-проекта\" data-toc-modified-id=\"Чек-лист-готовности-проекта-6\">Чек-лист готовности проекта</a></span></li></ul></div>"
   ]
  },
  {
   "cell_type": "markdown",
   "metadata": {},
   "source": [
    "# Исследование объявлений о продаже квартир\n",
    "\n",
    "В вашем распоряжении данные сервиса Яндекс.Недвижимость — архив объявлений о продаже квартир в Санкт-Петербурге и соседних населённых пунктах за несколько лет. Нужно научиться определять рыночную стоимость объектов недвижимости. Ваша задача — установить параметры. Это позволит построить автоматизированную систему: она отследит аномалии и мошенническую деятельность. \n",
    "\n",
    "По каждой квартире на продажу доступны два вида данных. Первые вписаны пользователем, вторые получены автоматически на основе картографических данных. Например, расстояние до центра, аэропорта, ближайшего парка и водоёма. "
   ]
  },
  {
   "cell_type": "markdown",
   "metadata": {},
   "source": [
    "## Изучение данных из файла"
   ]
  },
  {
   "cell_type": "code",
   "execution_count": 1,
   "metadata": {},
   "outputs": [],
   "source": [
    "# импорт библиотеки pandas и matplotlib\n",
    "import pandas as pd\n",
    "import matplotlib.pyplot as plt"
   ]
  },
  {
   "cell_type": "code",
   "execution_count": 3,
   "metadata": {
    "scrolled": true
   },
   "outputs": [
    {
     "name": "stdout",
     "output_type": "stream",
     "text": [
      "<class 'pandas.core.frame.DataFrame'>\n",
      "RangeIndex: 23699 entries, 0 to 23698\n",
      "Data columns (total 22 columns):\n",
      "total_images            23699 non-null int64\n",
      "last_price              23699 non-null float64\n",
      "total_area              23699 non-null float64\n",
      "first_day_exposition    23699 non-null object\n",
      "rooms                   23699 non-null int64\n",
      "ceiling_height          14504 non-null float64\n",
      "floors_total            23613 non-null float64\n",
      "living_area             21796 non-null float64\n",
      "floor                   23699 non-null int64\n",
      "is_apartment            2775 non-null object\n",
      "studio                  23699 non-null bool\n",
      "open_plan               23699 non-null bool\n",
      "kitchen_area            21421 non-null float64\n",
      "balcony                 12180 non-null float64\n",
      "locality_name           23650 non-null object\n",
      "airports_nearest        18157 non-null float64\n",
      "cityCenters_nearest     18180 non-null float64\n",
      "parks_around3000        18181 non-null float64\n",
      "parks_nearest           8079 non-null float64\n",
      "ponds_around3000        18181 non-null float64\n",
      "ponds_nearest           9110 non-null float64\n",
      "days_exposition         20518 non-null float64\n",
      "dtypes: bool(2), float64(14), int64(3), object(3)\n",
      "memory usage: 3.7+ MB\n"
     ]
    }
   ],
   "source": [
    "# чтение файла с данными и сохранение в data\n",
    "try: data = pd.read_csv('real_estate_data.csv', sep = '\t') \n",
    "except: data = pd.read_csv('/datasets/real_estate_data.csv', sep = '\t')\n",
    "# получение общей информации о данных в таблице data\n",
    "data.info()"
   ]
  },
  {
   "cell_type": "code",
   "execution_count": 4,
   "metadata": {
    "scrolled": true
   },
   "outputs": [
    {
     "data": {
      "text/html": [
       "<div>\n",
       "<style scoped>\n",
       "    .dataframe tbody tr th:only-of-type {\n",
       "        vertical-align: middle;\n",
       "    }\n",
       "\n",
       "    .dataframe tbody tr th {\n",
       "        vertical-align: top;\n",
       "    }\n",
       "\n",
       "    .dataframe thead th {\n",
       "        text-align: right;\n",
       "    }\n",
       "</style>\n",
       "<table border=\"1\" class=\"dataframe\">\n",
       "  <thead>\n",
       "    <tr style=\"text-align: right;\">\n",
       "      <th></th>\n",
       "      <th>total_images</th>\n",
       "      <th>last_price</th>\n",
       "      <th>total_area</th>\n",
       "      <th>first_day_exposition</th>\n",
       "      <th>rooms</th>\n",
       "      <th>ceiling_height</th>\n",
       "      <th>floors_total</th>\n",
       "      <th>living_area</th>\n",
       "      <th>floor</th>\n",
       "      <th>is_apartment</th>\n",
       "      <th>...</th>\n",
       "      <th>kitchen_area</th>\n",
       "      <th>balcony</th>\n",
       "      <th>locality_name</th>\n",
       "      <th>airports_nearest</th>\n",
       "      <th>cityCenters_nearest</th>\n",
       "      <th>parks_around3000</th>\n",
       "      <th>parks_nearest</th>\n",
       "      <th>ponds_around3000</th>\n",
       "      <th>ponds_nearest</th>\n",
       "      <th>days_exposition</th>\n",
       "    </tr>\n",
       "  </thead>\n",
       "  <tbody>\n",
       "    <tr>\n",
       "      <td>0</td>\n",
       "      <td>20</td>\n",
       "      <td>13000000.0</td>\n",
       "      <td>108.0</td>\n",
       "      <td>2019-03-07T00:00:00</td>\n",
       "      <td>3</td>\n",
       "      <td>2.70</td>\n",
       "      <td>16.0</td>\n",
       "      <td>51.0</td>\n",
       "      <td>8</td>\n",
       "      <td>NaN</td>\n",
       "      <td>...</td>\n",
       "      <td>25.0</td>\n",
       "      <td>NaN</td>\n",
       "      <td>Санкт-Петербург</td>\n",
       "      <td>18863.0</td>\n",
       "      <td>16028.0</td>\n",
       "      <td>1.0</td>\n",
       "      <td>482.0</td>\n",
       "      <td>2.0</td>\n",
       "      <td>755.0</td>\n",
       "      <td>NaN</td>\n",
       "    </tr>\n",
       "    <tr>\n",
       "      <td>1</td>\n",
       "      <td>7</td>\n",
       "      <td>3350000.0</td>\n",
       "      <td>40.4</td>\n",
       "      <td>2018-12-04T00:00:00</td>\n",
       "      <td>1</td>\n",
       "      <td>NaN</td>\n",
       "      <td>11.0</td>\n",
       "      <td>18.6</td>\n",
       "      <td>1</td>\n",
       "      <td>NaN</td>\n",
       "      <td>...</td>\n",
       "      <td>11.0</td>\n",
       "      <td>2.0</td>\n",
       "      <td>посёлок Шушары</td>\n",
       "      <td>12817.0</td>\n",
       "      <td>18603.0</td>\n",
       "      <td>0.0</td>\n",
       "      <td>NaN</td>\n",
       "      <td>0.0</td>\n",
       "      <td>NaN</td>\n",
       "      <td>81.0</td>\n",
       "    </tr>\n",
       "    <tr>\n",
       "      <td>2</td>\n",
       "      <td>10</td>\n",
       "      <td>5196000.0</td>\n",
       "      <td>56.0</td>\n",
       "      <td>2015-08-20T00:00:00</td>\n",
       "      <td>2</td>\n",
       "      <td>NaN</td>\n",
       "      <td>5.0</td>\n",
       "      <td>34.3</td>\n",
       "      <td>4</td>\n",
       "      <td>NaN</td>\n",
       "      <td>...</td>\n",
       "      <td>8.3</td>\n",
       "      <td>0.0</td>\n",
       "      <td>Санкт-Петербург</td>\n",
       "      <td>21741.0</td>\n",
       "      <td>13933.0</td>\n",
       "      <td>1.0</td>\n",
       "      <td>90.0</td>\n",
       "      <td>2.0</td>\n",
       "      <td>574.0</td>\n",
       "      <td>558.0</td>\n",
       "    </tr>\n",
       "    <tr>\n",
       "      <td>3</td>\n",
       "      <td>0</td>\n",
       "      <td>64900000.0</td>\n",
       "      <td>159.0</td>\n",
       "      <td>2015-07-24T00:00:00</td>\n",
       "      <td>3</td>\n",
       "      <td>NaN</td>\n",
       "      <td>14.0</td>\n",
       "      <td>NaN</td>\n",
       "      <td>9</td>\n",
       "      <td>NaN</td>\n",
       "      <td>...</td>\n",
       "      <td>NaN</td>\n",
       "      <td>0.0</td>\n",
       "      <td>Санкт-Петербург</td>\n",
       "      <td>28098.0</td>\n",
       "      <td>6800.0</td>\n",
       "      <td>2.0</td>\n",
       "      <td>84.0</td>\n",
       "      <td>3.0</td>\n",
       "      <td>234.0</td>\n",
       "      <td>424.0</td>\n",
       "    </tr>\n",
       "    <tr>\n",
       "      <td>4</td>\n",
       "      <td>2</td>\n",
       "      <td>10000000.0</td>\n",
       "      <td>100.0</td>\n",
       "      <td>2018-06-19T00:00:00</td>\n",
       "      <td>2</td>\n",
       "      <td>3.03</td>\n",
       "      <td>14.0</td>\n",
       "      <td>32.0</td>\n",
       "      <td>13</td>\n",
       "      <td>NaN</td>\n",
       "      <td>...</td>\n",
       "      <td>41.0</td>\n",
       "      <td>NaN</td>\n",
       "      <td>Санкт-Петербург</td>\n",
       "      <td>31856.0</td>\n",
       "      <td>8098.0</td>\n",
       "      <td>2.0</td>\n",
       "      <td>112.0</td>\n",
       "      <td>1.0</td>\n",
       "      <td>48.0</td>\n",
       "      <td>121.0</td>\n",
       "    </tr>\n",
       "  </tbody>\n",
       "</table>\n",
       "<p>5 rows × 22 columns</p>\n",
       "</div>"
      ],
      "text/plain": [
       "   total_images  last_price  total_area first_day_exposition  rooms  \\\n",
       "0            20  13000000.0       108.0  2019-03-07T00:00:00      3   \n",
       "1             7   3350000.0        40.4  2018-12-04T00:00:00      1   \n",
       "2            10   5196000.0        56.0  2015-08-20T00:00:00      2   \n",
       "3             0  64900000.0       159.0  2015-07-24T00:00:00      3   \n",
       "4             2  10000000.0       100.0  2018-06-19T00:00:00      2   \n",
       "\n",
       "   ceiling_height  floors_total  living_area  floor is_apartment  ...  \\\n",
       "0            2.70          16.0         51.0      8          NaN  ...   \n",
       "1             NaN          11.0         18.6      1          NaN  ...   \n",
       "2             NaN           5.0         34.3      4          NaN  ...   \n",
       "3             NaN          14.0          NaN      9          NaN  ...   \n",
       "4            3.03          14.0         32.0     13          NaN  ...   \n",
       "\n",
       "   kitchen_area  balcony    locality_name  airports_nearest  \\\n",
       "0          25.0      NaN  Санкт-Петербург           18863.0   \n",
       "1          11.0      2.0   посёлок Шушары           12817.0   \n",
       "2           8.3      0.0  Санкт-Петербург           21741.0   \n",
       "3           NaN      0.0  Санкт-Петербург           28098.0   \n",
       "4          41.0      NaN  Санкт-Петербург           31856.0   \n",
       "\n",
       "  cityCenters_nearest  parks_around3000  parks_nearest  ponds_around3000  \\\n",
       "0             16028.0               1.0          482.0               2.0   \n",
       "1             18603.0               0.0            NaN               0.0   \n",
       "2             13933.0               1.0           90.0               2.0   \n",
       "3              6800.0               2.0           84.0               3.0   \n",
       "4              8098.0               2.0          112.0               1.0   \n",
       "\n",
       "   ponds_nearest  days_exposition  \n",
       "0          755.0              NaN  \n",
       "1            NaN             81.0  \n",
       "2          574.0            558.0  \n",
       "3          234.0            424.0  \n",
       "4           48.0            121.0  \n",
       "\n",
       "[5 rows x 22 columns]"
      ]
     },
     "execution_count": 4,
     "metadata": {},
     "output_type": "execute_result"
    }
   ],
   "source": [
    "# посмотрим как выглядят данные\n",
    "data.head()"
   ]
  },
  {
   "cell_type": "code",
   "execution_count": 5,
   "metadata": {},
   "outputs": [
    {
     "data": {
      "text/plain": [
       "Index(['total_images', 'last_price', 'total_area', 'first_day_exposition',\n",
       "       'rooms', 'ceiling_height', 'floors_total', 'living_area', 'floor',\n",
       "       'is_apartment', 'studio', 'open_plan', 'kitchen_area', 'balcony',\n",
       "       'locality_name', 'airports_nearest', 'cityCenters_nearest',\n",
       "       'parks_around3000', 'parks_nearest', 'ponds_around3000',\n",
       "       'ponds_nearest', 'days_exposition'],\n",
       "      dtype='object')"
      ]
     },
     "execution_count": 5,
     "metadata": {},
     "output_type": "execute_result"
    }
   ],
   "source": [
    "# проверим названия колонок\n",
    "data.columns"
   ]
  },
  {
   "cell_type": "markdown",
   "metadata": {},
   "source": [
    "### Вывод"
   ]
  },
  {
   "cell_type": "markdown",
   "metadata": {},
   "source": [
    "\n",
    "В таблице **22 столбца** и **23699 строк**\n"
   ]
  },
  {
   "cell_type": "markdown",
   "metadata": {},
   "source": [
    "**В таблице следующие столбцы (по алфавиту):**\n",
    "\n",
    "- airports_nearest — расстояние до ближайшего аэропорта в метрах (м)\n",
    "- balcony — число балконов\n",
    "- ceiling_height — высота потолков (м)\n",
    "- cityCenters_nearest — расстояние до центра города (м)\n",
    "- days_exposition — сколько дней было размещено объявление (от публикации до снятия)\n",
    "- first_day_exposition — дата публикации\n",
    "- floor — этаж\n",
    "- floors_total — всего этажей в доме\n",
    "- is_apartment — апартаменты (булев тип)\n",
    "- kitchen_area — площадь кухни в квадратных метрах (м²)\n",
    "- last_price — цена на момент снятия с публикации\n",
    "- living_area — жилая площадь в квадратных метрах (м²)\n",
    "- locality_name — название населённого пункта\n",
    "- open_plan — свободная планировка (булев тип)\n",
    "- parks_around3000 — число парков в радиусе 3 км\n",
    "- parks_nearest — расстояние до ближайшего парка (м)\n",
    "- ponds_around3000 — число водоёмов в радиусе 3 км\n",
    "- ponds_nearest — расстояние до ближайшего водоёма (м)\n",
    "- rooms — число комнат\n",
    "- studio — квартира-студия (булев тип)\n",
    "- total_area — площадь квартиры в квадратных метрах (м²)\n",
    "- total_images — число фотографий квартиры в объявлении"
   ]
  },
  {
   "cell_type": "markdown",
   "metadata": {},
   "source": [
    "Нужно изучить и заполнить пропуски в **ceiling_height, floors_total, living_area, is_apartment, kitchen_area, balcony, locality_name, airports_nearest, cityCenters_nearest, parks_around3000, parks_nearest, ponds_around3000, ponds_nearest, days_exposition**.\n",
    "Поправить название столбца **cityCenters_nearest**."
   ]
  },
  {
   "cell_type": "markdown",
   "metadata": {},
   "source": [
    "Данные в **balcony, parks_around3000, ponds_around3000, days_exposition, floors_total, total_images, rooms, floor** можно перевести из float64 в int64. \n",
    "**is_apartment** можно преобразовать в bool.\n",
    "Перевести метры в километры в **airports_nearest, city_centers_nearest, parks_nearest, ponds_nearest**.\n"
   ]
  },
  {
   "cell_type": "markdown",
   "metadata": {},
   "source": [
    "## Предобработка данных"
   ]
  },
  {
   "cell_type": "markdown",
   "metadata": {},
   "source": [
    "### Стиль заголовков"
   ]
  },
  {
   "cell_type": "code",
   "execution_count": 6,
   "metadata": {},
   "outputs": [
    {
     "data": {
      "text/plain": [
       "Index(['total_images', 'last_price', 'total_area', 'first_day_exposition',\n",
       "       'rooms', 'ceiling_height', 'floors_total', 'living_area', 'floor',\n",
       "       'is_apartment', 'studio', 'open_plan', 'kitchen_area', 'balcony',\n",
       "       'locality_name', 'airports_nearest', 'city_centers_nearest',\n",
       "       'parks_around3000', 'parks_nearest', 'ponds_around3000',\n",
       "       'ponds_nearest', 'days_exposition'],\n",
       "      dtype='object')"
      ]
     },
     "execution_count": 6,
     "metadata": {},
     "output_type": "execute_result"
    }
   ],
   "source": [
    "# поправим название столбца cityCenters_nearest\n",
    "data=data.rename(columns={'cityCenters_nearest':'city_centers_nearest'})\n",
    "# проверим название столбца\n",
    "data.columns"
   ]
  },
  {
   "cell_type": "markdown",
   "metadata": {},
   "source": [
    "### Пропуски значений"
   ]
  },
  {
   "cell_type": "code",
   "execution_count": 7,
   "metadata": {},
   "outputs": [
    {
     "data": {
      "text/plain": [
       "balcony             0\n",
       "parks_around3000    0\n",
       "ponds_around3000    0\n",
       "dtype: int64"
      ]
     },
     "execution_count": 7,
     "metadata": {},
     "output_type": "execute_result"
    }
   ],
   "source": [
    "# заполиним пропуски в столбцах balcony, parks_around3000, ponds_around3000 и проверим остались ли пропуски\n",
    "columns_to_fillna = ['balcony', 'parks_around3000', 'ponds_around3000']\n",
    "\n",
    "data[columns_to_fillna] = data[columns_to_fillna].fillna(value = 0)\n",
    "data[columns_to_fillna].isna().sum()"
   ]
  },
  {
   "cell_type": "code",
   "execution_count": 8,
   "metadata": {},
   "outputs": [
    {
     "data": {
      "text/plain": [
       "count    20518.000000\n",
       "mean       180.888634\n",
       "std        219.727988\n",
       "min          1.000000\n",
       "25%         45.000000\n",
       "50%         95.000000\n",
       "75%        232.000000\n",
       "max       1580.000000\n",
       "Name: days_exposition, dtype: float64"
      ]
     },
     "execution_count": 8,
     "metadata": {},
     "output_type": "execute_result"
    }
   ],
   "source": [
    "# в столбце days_exposition посмотрим описание\n",
    "# есть пропуски, но заполнять средним или медианным значением пока не будем, так как получаются большие выбросы \n",
    "\n",
    "data['days_exposition'].describe()"
   ]
  },
  {
   "cell_type": "code",
   "execution_count": 9,
   "metadata": {},
   "outputs": [
    {
     "data": {
      "text/plain": [
       "86"
      ]
     },
     "execution_count": 9,
     "metadata": {},
     "output_type": "execute_result"
    }
   ],
   "source": [
    "# узнаем сколько пропусков в floors_total\n",
    "data['floors_total'].isna().sum()"
   ]
  },
  {
   "cell_type": "code",
   "execution_count": 10,
   "metadata": {},
   "outputs": [
    {
     "data": {
      "text/plain": [
       "array([16., 11.,  5., 14., 12., 26., 24., 27.,  9.,  6., 17., 25.,  3.,\n",
       "       23., 19., 18.,  4., 22.,  8.,  2., 10.,  7., 13., 15., nan, 20.,\n",
       "       28., 36., 21., 35., 34., 60.,  1., 29., 33., 52., 37.])"
      ]
     },
     "execution_count": 10,
     "metadata": {},
     "output_type": "execute_result"
    }
   ],
   "source": [
    "# посмотрим какие значения в floors_total\n",
    "data['floors_total'].unique()"
   ]
  },
  {
   "cell_type": "code",
   "execution_count": 11,
   "metadata": {},
   "outputs": [],
   "source": [
    "# учитывая малое количество, удалим строки с пропусками\n",
    "data.dropna(subset = ['floors_total'], inplace = True)\n",
    "data = data.reset_index(drop=True)"
   ]
  },
  {
   "cell_type": "code",
   "execution_count": 12,
   "metadata": {},
   "outputs": [
    {
     "data": {
      "text/plain": [
       "20838"
      ]
     },
     "execution_count": 12,
     "metadata": {},
     "output_type": "execute_result"
    }
   ],
   "source": [
    "# проверим сколько пропусков в is_apartment\n",
    "data['is_apartment'].isna().sum()"
   ]
  },
  {
   "cell_type": "code",
   "execution_count": 13,
   "metadata": {},
   "outputs": [],
   "source": [
    "# заполним пропуски для булевого столбца is_apartment значением False\n",
    "data['is_apartment'] = data['is_apartment'].fillna('False')"
   ]
  },
  {
   "cell_type": "code",
   "execution_count": 14,
   "metadata": {
    "scrolled": true
   },
   "outputs": [
    {
     "data": {
      "text/plain": [
       "array(['Санкт-Петербург', 'посёлок Шушары', 'городской посёлок Янино-1',\n",
       "       'посёлок Парголово', 'посёлок Мурино', 'Ломоносов', 'Сертолово',\n",
       "       'Петергоф', 'Пушкин', 'деревня Кудрово', 'Коммунар', 'Колпино',\n",
       "       'поселок городского типа Красный Бор', 'Гатчина', 'поселок Мурино',\n",
       "       'деревня Фёдоровское', 'Выборг', 'Кронштадт', 'Кировск',\n",
       "       'деревня Новое Девяткино', 'посёлок Металлострой',\n",
       "       'посёлок городского типа Лебяжье',\n",
       "       'посёлок городского типа Сиверский', 'поселок Молодцово',\n",
       "       'поселок городского типа Кузьмоловский',\n",
       "       'садовое товарищество Новая Ропша', 'Павловск',\n",
       "       'деревня Пикколово', 'Всеволожск', 'Волхов', 'Кингисепп',\n",
       "       'Приозерск', 'Сестрорецк', 'деревня Куттузи', 'посёлок Аннино',\n",
       "       'поселок городского типа Ефимовский', 'посёлок Плодовое',\n",
       "       'деревня Заклинье', 'поселок Торковичи', 'поселок Первомайское',\n",
       "       'Красное Село', 'посёлок Понтонный', 'Сясьстрой', 'деревня Старая',\n",
       "       'деревня Лесколово', 'посёлок Новый Свет', 'Сланцы',\n",
       "       'село Путилово', 'Ивангород', 'Мурино', 'Шлиссельбург',\n",
       "       'Никольское', 'Зеленогорск', 'Сосновый Бор', 'поселок Новый Свет',\n",
       "       'деревня Оржицы', 'деревня Кальтино', 'Кудрово',\n",
       "       'поселок Романовка', 'посёлок Бугры', 'поселок Бугры',\n",
       "       'поселок городского типа Рощино', 'Кириши', 'Луга', 'Волосово',\n",
       "       'Отрадное', 'село Павлово', 'поселок Оредеж', 'село Копорье',\n",
       "       'посёлок городского типа Красный Бор', 'посёлок Молодёжное',\n",
       "       'Тихвин', 'посёлок Победа', 'деревня Нурма',\n",
       "       'поселок городского типа Синявино', 'Тосно',\n",
       "       'посёлок городского типа Кузьмоловский', 'посёлок Стрельна',\n",
       "       'Бокситогорск', 'посёлок Александровская', 'деревня Лопухинка',\n",
       "       'Пикалёво', 'поселок Терволово',\n",
       "       'поселок городского типа Советский', 'Подпорожье',\n",
       "       'посёлок Петровское', 'посёлок городского типа Токсово',\n",
       "       'поселок Сельцо', 'посёлок городского типа Вырица',\n",
       "       'деревня Кипень', 'деревня Келози', 'деревня Вартемяги',\n",
       "       'посёлок Тельмана', 'поселок Севастьяново',\n",
       "       'городской поселок Большая Ижора', nan,\n",
       "       'городской посёлок Павлово', 'деревня Агалатово',\n",
       "       'посёлок Новогорелово', 'городской посёлок Лесогорский',\n",
       "       'деревня Лаголово', 'поселок Цвелодубово',\n",
       "       'поселок городского типа Рахья', 'поселок городского типа Вырица',\n",
       "       'деревня Белогорка', 'поселок Заводской',\n",
       "       'городской посёлок Новоселье', 'деревня Большие Колпаны',\n",
       "       'деревня Горбунки', 'деревня Батово', 'деревня Заневка',\n",
       "       'деревня Иссад', 'Приморск', 'городской посёлок Фёдоровское',\n",
       "       'деревня Мистолово', 'Новая Ладога', 'поселок Зимитицы',\n",
       "       'поселок Барышево', 'деревня Разметелево',\n",
       "       'поселок городского типа имени Свердлова', 'деревня Пеники',\n",
       "       'поселок Рябово', 'деревня Пудомяги', 'поселок станции Корнево',\n",
       "       'деревня Низино', 'деревня Бегуницы', 'посёлок Поляны',\n",
       "       'городской посёлок Мга', 'поселок Елизаветино',\n",
       "       'посёлок городского типа Кузнечное', 'деревня Колтуши',\n",
       "       'поселок Запорожское', 'посёлок городского типа Рощино',\n",
       "       'деревня Гостилицы', 'деревня Малое Карлино',\n",
       "       'посёлок Мичуринское', 'посёлок городского типа имени Морозова',\n",
       "       'посёлок Песочный', 'посёлок Сосново', 'деревня Аро',\n",
       "       'поселок Ильичёво', 'посёлок городского типа Тайцы',\n",
       "       'деревня Малое Верево', 'деревня Извара', 'поселок станции Вещево',\n",
       "       'село Паша', 'деревня Калитино',\n",
       "       'посёлок городского типа Ульяновка', 'деревня Чудской Бор',\n",
       "       'поселок городского типа Дубровка', 'деревня Мины',\n",
       "       'поселок Войсковицы', 'посёлок городского типа имени Свердлова',\n",
       "       'деревня Коркино', 'посёлок Ропша',\n",
       "       'поселок городского типа Приладожский', 'посёлок Щеглово',\n",
       "       'посёлок Гаврилово', 'Лодейное Поле', 'деревня Рабитицы',\n",
       "       'поселок городского типа Никольский', 'деревня Кузьмолово',\n",
       "       'деревня Малые Колпаны', 'поселок Тельмана',\n",
       "       'посёлок Петро-Славянка', 'городской посёлок Назия',\n",
       "       'посёлок Репино', 'посёлок Ильичёво', 'поселок Углово',\n",
       "       'поселок Старая Малукса', 'садовое товарищество Рахья',\n",
       "       'поселок Аннино', 'поселок Победа', 'деревня Меньково',\n",
       "       'деревня Старые Бегуницы', 'посёлок Сапёрный', 'поселок Семрино',\n",
       "       'поселок Гаврилово', 'поселок Глажево', 'поселок Кобринское',\n",
       "       'деревня Гарболово', 'деревня Юкки',\n",
       "       'поселок станции Приветнинское', 'деревня Мануйлово',\n",
       "       'деревня Пчева', 'поселок Поляны', 'поселок Цвылёво',\n",
       "       'поселок Мельниково', 'посёлок Пудость', 'посёлок Усть-Луга',\n",
       "       'Светогорск', 'Любань', 'поселок Селезнёво',\n",
       "       'поселок городского типа Рябово', 'Каменногорск', 'деревня Кривко',\n",
       "       'поселок Глебычево', 'деревня Парицы', 'поселок Жилпосёлок',\n",
       "       'посёлок городского типа Мга', 'городской поселок Янино-1',\n",
       "       'посёлок Войскорово', 'село Никольское', 'посёлок Терволово',\n",
       "       'поселок Стеклянный', 'посёлок городского типа Важины',\n",
       "       'посёлок Мыза-Ивановка', 'село Русско-Высоцкое',\n",
       "       'поселок городского типа Лебяжье',\n",
       "       'поселок городского типа Форносово', 'село Старая Ладога',\n",
       "       'поселок Житково', 'городской посёлок Виллози', 'деревня Лампово',\n",
       "       'деревня Шпаньково', 'деревня Лаврики', 'посёлок Сумино',\n",
       "       'посёлок Возрождение', 'деревня Старосиверская',\n",
       "       'посёлок Кикерино', 'поселок Возрождение',\n",
       "       'деревня Старое Хинколово', 'посёлок Пригородный',\n",
       "       'посёлок Торфяное', 'городской посёлок Будогощь',\n",
       "       'поселок Суходолье', 'поселок Красная Долина', 'деревня Хапо-Ое',\n",
       "       'поселок городского типа Дружная Горка', 'поселок Лисий Нос',\n",
       "       'деревня Яльгелево', 'посёлок Стеклянный', 'село Рождествено',\n",
       "       'деревня Старополье', 'посёлок Левашово', 'деревня Сяськелево',\n",
       "       'деревня Камышовка',\n",
       "       'садоводческое некоммерческое товарищество Лесная Поляна',\n",
       "       'деревня Хязельки', 'поселок Жилгородок',\n",
       "       'посёлок городского типа Павлово', 'деревня Ялгино',\n",
       "       'поселок Новый Учхоз', 'городской посёлок Рощино',\n",
       "       'поселок Гончарово', 'поселок Почап', 'посёлок Сапёрное',\n",
       "       'посёлок Платформа 69-й километр', 'поселок Каложицы',\n",
       "       'деревня Фалилеево', 'деревня Пельгора',\n",
       "       'поселок городского типа Лесогорский', 'деревня Торошковичи',\n",
       "       'посёлок Белоостров', 'посёлок Алексеевка', 'поселок Серебрянский',\n",
       "       'поселок Лукаши', 'поселок Петровское', 'деревня Щеглово',\n",
       "       'поселок Мичуринское', 'деревня Тарасово', 'поселок Кингисеппский',\n",
       "       'посёлок при железнодорожной станции Вещево', 'поселок Ушаки',\n",
       "       'деревня Котлы', 'деревня Сижно', 'деревня Торосово',\n",
       "       'посёлок Форт Красная Горка', 'деревня Новолисино',\n",
       "       'посёлок станции Громово', 'деревня Глинка', 'посёлок Мельниково',\n",
       "       'поселок городского типа Назия', 'деревня Старая Пустошь',\n",
       "       'поселок Коммунары', 'поселок Починок',\n",
       "       'посёлок городского типа Вознесенье', 'деревня Разбегаево',\n",
       "       'посёлок городского типа Рябово', 'поселок Гладкое',\n",
       "       'посёлок при железнодорожной станции Приветнинское',\n",
       "       'поселок Тёсово-4', 'посёлок Жилгородок', 'деревня Бор',\n",
       "       'посёлок Коробицыно', 'деревня Большая Вруда', 'деревня Курковицы',\n",
       "       'посёлок Лисий Нос', 'городской посёлок Советский',\n",
       "       'посёлок Кобралово', 'деревня Суоранда', 'поселок Кобралово',\n",
       "       'поселок городского типа Кондратьево',\n",
       "       'коттеджный поселок Счастье', 'поселок Любань', 'деревня Реброво',\n",
       "       'деревня Зимитицы', 'деревня Тойворово', 'поселок Семиозерье',\n",
       "       'поселок Лесное', 'поселок Совхозный', 'поселок Усть-Луга',\n",
       "       'посёлок Ленинское', 'посёлок Суйда',\n",
       "       'посёлок городского типа Форносово', 'деревня Нижние Осельки',\n",
       "       'посёлок станции Свирь', 'поселок Перово', 'Высоцк',\n",
       "       'поселок Гарболово', 'село Шум', 'поселок Котельский',\n",
       "       'поселок станции Лужайка', 'деревня Большая Пустомержа',\n",
       "       'поселок Красносельское', 'деревня Вахнова Кара', 'деревня Пижма',\n",
       "       'коттеджный поселок Кивеннапа Север', 'поселок Коробицыно',\n",
       "       'поселок Ромашки', 'посёлок Перово', 'деревня Каськово',\n",
       "       'деревня Куровицы', 'посёлок Плоское', 'поселок Сумино',\n",
       "       'поселок городского типа Большая Ижора', 'поселок Кирпичное',\n",
       "       'деревня Ям-Тесово', 'деревня Раздолье', 'деревня Терпилицы',\n",
       "       'поселок городского типа Токсово', 'посёлок Шугозеро',\n",
       "       'деревня Ваганово', 'поселок Пушное', 'садовое товарищество Садко',\n",
       "       'посёлок Усть-Ижора', 'деревня Выскатка',\n",
       "       'городской посёлок Свирьстрой', 'поселок Громово',\n",
       "       'деревня Кисельня', 'посёлок Старая Малукса',\n",
       "       'деревня Трубников Бор', 'поселок Калитино',\n",
       "       'посёлок Высокоключевой', 'садовое товарищество Приладожский',\n",
       "       'посёлок Пансионат Зелёный Бор', 'деревня Ненимяки',\n",
       "       'поселок Пансионат Зелёный Бор', 'деревня Снегирёвка',\n",
       "       'деревня Рапполово', 'деревня Пустынка', 'поселок Рабитицы',\n",
       "       'деревня Большой Сабск', 'деревня Русско', 'деревня Лупполово',\n",
       "       'деревня Большое Рейзино', 'деревня Малая Романовка',\n",
       "       'поселок Дружноселье', 'поселок Пчевжа', 'поселок Володарское',\n",
       "       'деревня Нижняя', 'коттеджный посёлок Лесное', 'деревня Тихковицы',\n",
       "       'деревня Борисова Грива', 'посёлок Дзержинского'], dtype=object)"
      ]
     },
     "execution_count": 14,
     "metadata": {},
     "output_type": "execute_result"
    }
   ],
   "source": [
    "# посмотрим уникальные значения locality_name\n",
    "data['locality_name'].unique()"
   ]
  },
  {
   "cell_type": "code",
   "execution_count": 15,
   "metadata": {},
   "outputs": [],
   "source": [
    "#заполним пропуски на Другое\n",
    "data['locality_name'] = data['locality_name'].fillna('Другое')"
   ]
  },
  {
   "cell_type": "code",
   "execution_count": 16,
   "metadata": {},
   "outputs": [
    {
     "data": {
      "text/plain": [
       "[5432, 5432, 5986, 5517]"
      ]
     },
     "execution_count": 16,
     "metadata": {},
     "output_type": "execute_result"
    }
   ],
   "source": [
    "# сделаем цикл, который заполняет пропуски расстояний исходя из групп по locality name \n",
    "# в airports_nearest, city_centers_nearest, parks_nearest, ponds_nearest\n",
    "# и оценим оставшиеся пропуски\n",
    "nearest_list = ['airports_nearest', 'city_centers_nearest', 'parks_nearest', 'ponds_nearest']\n",
    "na_nearest = []\n",
    "for col in nearest_list:\n",
    "    data[col] = data[col].fillna(data.groupby('locality_name')[col].transform('mean'))\n",
    "    na_nearest.append(data[col].isna().sum())\n",
    "na_nearest "
   ]
  },
  {
   "cell_type": "code",
   "execution_count": 18,
   "metadata": {},
   "outputs": [
    {
     "data": {
      "text/plain": [
       "2231"
      ]
     },
     "execution_count": 18,
     "metadata": {},
     "output_type": "execute_result"
    }
   ],
   "source": [
    "# проверим сколько пропусков в kitchen_area\n",
    "data['kitchen_area'].isna().sum()"
   ]
  },
  {
   "cell_type": "code",
   "execution_count": 19,
   "metadata": {},
   "outputs": [
    {
     "data": {
      "text/plain": [
       "1870"
      ]
     },
     "execution_count": 19,
     "metadata": {},
     "output_type": "execute_result"
    }
   ],
   "source": [
    "# проверим сколько пропусков в living_area\n",
    "data['living_area'].isna().sum()"
   ]
  },
  {
   "cell_type": "code",
   "execution_count": 20,
   "metadata": {},
   "outputs": [
    {
     "data": {
      "text/plain": [
       "1.8457113357130028"
      ]
     },
     "execution_count": 20,
     "metadata": {},
     "output_type": "execute_result"
    }
   ],
   "source": [
    "# рассчитаем коэффициент для living_area\n",
    "living_coef = (data['total_area']/data['living_area']).mean()\n",
    "living_coef"
   ]
  },
  {
   "cell_type": "code",
   "execution_count": 21,
   "metadata": {},
   "outputs": [
    {
     "data": {
      "text/plain": [
       "2.5244633287359504"
      ]
     },
     "execution_count": 21,
     "metadata": {},
     "output_type": "execute_result"
    }
   ],
   "source": [
    "# рассчитаем коэффициент для kitchen_area\n",
    "kitchen_coef = ((data['total_area']-data['living_area'])/data['kitchen_area']).mean()\n",
    "kitchen_coef"
   ]
  },
  {
   "cell_type": "code",
   "execution_count": 22,
   "metadata": {},
   "outputs": [
    {
     "data": {
      "text/plain": [
       "0"
      ]
     },
     "execution_count": 22,
     "metadata": {},
     "output_type": "execute_result"
    }
   ],
   "source": [
    "# заполним пропуски и проверим пропуски в living_area\n",
    "data['living_area'] = data['living_area'].fillna(data['total_area']/living_coef)\n",
    "data['living_area'].isna().sum()"
   ]
  },
  {
   "cell_type": "code",
   "execution_count": 23,
   "metadata": {},
   "outputs": [
    {
     "data": {
      "text/plain": [
       "0"
      ]
     },
     "execution_count": 23,
     "metadata": {},
     "output_type": "execute_result"
    }
   ],
   "source": [
    "# заполним пропуски и проверим пропуски в kitchen_area \n",
    "data['kitchen_area'] = data['kitchen_area'].fillna(((data['total_area']-data['living_area'])/kitchen_coef))\n",
    "data['kitchen_area'].isna().sum()"
   ]
  },
  {
   "cell_type": "code",
   "execution_count": 24,
   "metadata": {
    "scrolled": true
   },
   "outputs": [
    {
     "data": {
      "text/html": [
       "<div>\n",
       "<style scoped>\n",
       "    .dataframe tbody tr th:only-of-type {\n",
       "        vertical-align: middle;\n",
       "    }\n",
       "\n",
       "    .dataframe tbody tr th {\n",
       "        vertical-align: top;\n",
       "    }\n",
       "\n",
       "    .dataframe thead th {\n",
       "        text-align: right;\n",
       "    }\n",
       "</style>\n",
       "<table border=\"1\" class=\"dataframe\">\n",
       "  <thead>\n",
       "    <tr style=\"text-align: right;\">\n",
       "      <th></th>\n",
       "      <th>total_images</th>\n",
       "      <th>last_price</th>\n",
       "      <th>total_area</th>\n",
       "      <th>rooms</th>\n",
       "      <th>ceiling_height</th>\n",
       "      <th>floors_total</th>\n",
       "      <th>living_area</th>\n",
       "      <th>floor</th>\n",
       "      <th>studio</th>\n",
       "      <th>open_plan</th>\n",
       "      <th>kitchen_area</th>\n",
       "      <th>balcony</th>\n",
       "      <th>airports_nearest</th>\n",
       "      <th>city_centers_nearest</th>\n",
       "      <th>parks_around3000</th>\n",
       "      <th>parks_nearest</th>\n",
       "      <th>ponds_around3000</th>\n",
       "      <th>ponds_nearest</th>\n",
       "      <th>days_exposition</th>\n",
       "    </tr>\n",
       "  </thead>\n",
       "  <tbody>\n",
       "    <tr>\n",
       "      <td>total_images</td>\n",
       "      <td>1.000000</td>\n",
       "      <td>0.104940</td>\n",
       "      <td>0.116425</td>\n",
       "      <td>0.099385</td>\n",
       "      <td>-0.001973</td>\n",
       "      <td>0.010427</td>\n",
       "      <td>0.104459</td>\n",
       "      <td>0.033286</td>\n",
       "      <td>-0.028116</td>\n",
       "      <td>-0.024607</td>\n",
       "      <td>0.107351</td>\n",
       "      <td>0.047212</td>\n",
       "      <td>-0.002650</td>\n",
       "      <td>-0.048076</td>\n",
       "      <td>0.037357</td>\n",
       "      <td>-0.002505</td>\n",
       "      <td>0.012057</td>\n",
       "      <td>-0.004308</td>\n",
       "      <td>-0.026578</td>\n",
       "    </tr>\n",
       "    <tr>\n",
       "      <td>last_price</td>\n",
       "      <td>0.104940</td>\n",
       "      <td>1.000000</td>\n",
       "      <td>0.653581</td>\n",
       "      <td>0.363124</td>\n",
       "      <td>0.085435</td>\n",
       "      <td>-0.006984</td>\n",
       "      <td>0.584886</td>\n",
       "      <td>0.026644</td>\n",
       "      <td>-0.025083</td>\n",
       "      <td>-0.008801</td>\n",
       "      <td>0.504754</td>\n",
       "      <td>0.008598</td>\n",
       "      <td>-0.026051</td>\n",
       "      <td>-0.205725</td>\n",
       "      <td>0.198419</td>\n",
       "      <td>-0.012976</td>\n",
       "      <td>0.209058</td>\n",
       "      <td>-0.082021</td>\n",
       "      <td>0.081063</td>\n",
       "    </tr>\n",
       "    <tr>\n",
       "      <td>total_area</td>\n",
       "      <td>0.116425</td>\n",
       "      <td>0.653581</td>\n",
       "      <td>1.000000</td>\n",
       "      <td>0.758324</td>\n",
       "      <td>0.095506</td>\n",
       "      <td>-0.075774</td>\n",
       "      <td>0.944935</td>\n",
       "      <td>-0.024927</td>\n",
       "      <td>-0.071983</td>\n",
       "      <td>-0.034941</td>\n",
       "      <td>0.656997</td>\n",
       "      <td>0.010104</td>\n",
       "      <td>-0.029967</td>\n",
       "      <td>-0.230279</td>\n",
       "      <td>0.201414</td>\n",
       "      <td>-0.015548</td>\n",
       "      <td>0.201049</td>\n",
       "      <td>-0.082542</td>\n",
       "      <td>0.150130</td>\n",
       "    </tr>\n",
       "    <tr>\n",
       "      <td>rooms</td>\n",
       "      <td>0.099385</td>\n",
       "      <td>0.363124</td>\n",
       "      <td>0.758324</td>\n",
       "      <td>1.000000</td>\n",
       "      <td>0.054512</td>\n",
       "      <td>-0.228215</td>\n",
       "      <td>0.828805</td>\n",
       "      <td>-0.151586</td>\n",
       "      <td>-0.145983</td>\n",
       "      <td>-0.087687</td>\n",
       "      <td>0.321335</td>\n",
       "      <td>-0.015759</td>\n",
       "      <td>-0.061034</td>\n",
       "      <td>-0.184653</td>\n",
       "      <td>0.158375</td>\n",
       "      <td>-0.038819</td>\n",
       "      <td>0.121846</td>\n",
       "      <td>-0.048495</td>\n",
       "      <td>0.127470</td>\n",
       "    </tr>\n",
       "    <tr>\n",
       "      <td>ceiling_height</td>\n",
       "      <td>-0.001973</td>\n",
       "      <td>0.085435</td>\n",
       "      <td>0.095506</td>\n",
       "      <td>0.054512</td>\n",
       "      <td>1.000000</td>\n",
       "      <td>-0.028732</td>\n",
       "      <td>0.093822</td>\n",
       "      <td>-0.011806</td>\n",
       "      <td>0.001674</td>\n",
       "      <td>0.042777</td>\n",
       "      <td>0.082411</td>\n",
       "      <td>0.031229</td>\n",
       "      <td>-0.024007</td>\n",
       "      <td>-0.091784</td>\n",
       "      <td>0.062242</td>\n",
       "      <td>-0.017584</td>\n",
       "      <td>0.072351</td>\n",
       "      <td>-0.052858</td>\n",
       "      <td>0.019092</td>\n",
       "    </tr>\n",
       "    <tr>\n",
       "      <td>floors_total</td>\n",
       "      <td>0.010427</td>\n",
       "      <td>-0.006984</td>\n",
       "      <td>-0.075774</td>\n",
       "      <td>-0.228215</td>\n",
       "      <td>-0.028732</td>\n",
       "      <td>1.000000</td>\n",
       "      <td>-0.160298</td>\n",
       "      <td>0.678059</td>\n",
       "      <td>0.070151</td>\n",
       "      <td>0.050791</td>\n",
       "      <td>0.120509</td>\n",
       "      <td>0.172812</td>\n",
       "      <td>0.107639</td>\n",
       "      <td>0.019445</td>\n",
       "      <td>-0.158775</td>\n",
       "      <td>0.070806</td>\n",
       "      <td>-0.048698</td>\n",
       "      <td>0.043637</td>\n",
       "      <td>-0.052234</td>\n",
       "    </tr>\n",
       "    <tr>\n",
       "      <td>living_area</td>\n",
       "      <td>0.104459</td>\n",
       "      <td>0.584886</td>\n",
       "      <td>0.944935</td>\n",
       "      <td>0.828805</td>\n",
       "      <td>0.093822</td>\n",
       "      <td>-0.160298</td>\n",
       "      <td>1.000000</td>\n",
       "      <td>-0.089765</td>\n",
       "      <td>-0.055676</td>\n",
       "      <td>-0.025257</td>\n",
       "      <td>0.489058</td>\n",
       "      <td>-0.009189</td>\n",
       "      <td>-0.051538</td>\n",
       "      <td>-0.228501</td>\n",
       "      <td>0.210341</td>\n",
       "      <td>-0.038044</td>\n",
       "      <td>0.184246</td>\n",
       "      <td>-0.071612</td>\n",
       "      <td>0.145409</td>\n",
       "    </tr>\n",
       "    <tr>\n",
       "      <td>floor</td>\n",
       "      <td>0.033286</td>\n",
       "      <td>0.026644</td>\n",
       "      <td>-0.024927</td>\n",
       "      <td>-0.151586</td>\n",
       "      <td>-0.011806</td>\n",
       "      <td>0.678059</td>\n",
       "      <td>-0.089765</td>\n",
       "      <td>1.000000</td>\n",
       "      <td>0.035908</td>\n",
       "      <td>0.036140</td>\n",
       "      <td>0.106149</td>\n",
       "      <td>0.171005</td>\n",
       "      <td>0.072329</td>\n",
       "      <td>0.008855</td>\n",
       "      <td>-0.105279</td>\n",
       "      <td>0.051167</td>\n",
       "      <td>-0.029510</td>\n",
       "      <td>0.029177</td>\n",
       "      <td>-0.039018</td>\n",
       "    </tr>\n",
       "    <tr>\n",
       "      <td>studio</td>\n",
       "      <td>-0.028116</td>\n",
       "      <td>-0.025083</td>\n",
       "      <td>-0.071983</td>\n",
       "      <td>-0.145983</td>\n",
       "      <td>0.001674</td>\n",
       "      <td>0.070151</td>\n",
       "      <td>-0.055676</td>\n",
       "      <td>0.035908</td>\n",
       "      <td>1.000000</td>\n",
       "      <td>-0.004208</td>\n",
       "      <td>-0.089530</td>\n",
       "      <td>0.030050</td>\n",
       "      <td>-0.022273</td>\n",
       "      <td>-0.005832</td>\n",
       "      <td>-0.032081</td>\n",
       "      <td>0.004729</td>\n",
       "      <td>-0.009291</td>\n",
       "      <td>0.002248</td>\n",
       "      <td>-0.021604</td>\n",
       "    </tr>\n",
       "    <tr>\n",
       "      <td>open_plan</td>\n",
       "      <td>-0.024607</td>\n",
       "      <td>-0.008801</td>\n",
       "      <td>-0.034941</td>\n",
       "      <td>-0.087687</td>\n",
       "      <td>0.042777</td>\n",
       "      <td>0.050791</td>\n",
       "      <td>-0.025257</td>\n",
       "      <td>0.036140</td>\n",
       "      <td>-0.004208</td>\n",
       "      <td>1.000000</td>\n",
       "      <td>-0.046605</td>\n",
       "      <td>0.032554</td>\n",
       "      <td>-0.013574</td>\n",
       "      <td>-0.004166</td>\n",
       "      <td>-0.016392</td>\n",
       "      <td>0.006635</td>\n",
       "      <td>-0.004107</td>\n",
       "      <td>-0.002502</td>\n",
       "      <td>-0.024161</td>\n",
       "    </tr>\n",
       "    <tr>\n",
       "      <td>kitchen_area</td>\n",
       "      <td>0.107351</td>\n",
       "      <td>0.504754</td>\n",
       "      <td>0.656997</td>\n",
       "      <td>0.321335</td>\n",
       "      <td>0.082411</td>\n",
       "      <td>0.120509</td>\n",
       "      <td>0.489058</td>\n",
       "      <td>0.106149</td>\n",
       "      <td>-0.089530</td>\n",
       "      <td>-0.046605</td>\n",
       "      <td>1.000000</td>\n",
       "      <td>0.036904</td>\n",
       "      <td>0.009859</td>\n",
       "      <td>-0.188057</td>\n",
       "      <td>0.131747</td>\n",
       "      <td>0.019253</td>\n",
       "      <td>0.174803</td>\n",
       "      <td>-0.074710</td>\n",
       "      <td>0.112076</td>\n",
       "    </tr>\n",
       "    <tr>\n",
       "      <td>balcony</td>\n",
       "      <td>0.047212</td>\n",
       "      <td>0.008598</td>\n",
       "      <td>0.010104</td>\n",
       "      <td>-0.015759</td>\n",
       "      <td>0.031229</td>\n",
       "      <td>0.172812</td>\n",
       "      <td>-0.009189</td>\n",
       "      <td>0.171005</td>\n",
       "      <td>0.030050</td>\n",
       "      <td>0.032554</td>\n",
       "      <td>0.036904</td>\n",
       "      <td>1.000000</td>\n",
       "      <td>0.049577</td>\n",
       "      <td>0.065289</td>\n",
       "      <td>-0.070011</td>\n",
       "      <td>0.023481</td>\n",
       "      <td>-0.038200</td>\n",
       "      <td>0.013895</td>\n",
       "      <td>-0.027933</td>\n",
       "    </tr>\n",
       "    <tr>\n",
       "      <td>airports_nearest</td>\n",
       "      <td>-0.002650</td>\n",
       "      <td>-0.026051</td>\n",
       "      <td>-0.029967</td>\n",
       "      <td>-0.061034</td>\n",
       "      <td>-0.024007</td>\n",
       "      <td>0.107639</td>\n",
       "      <td>-0.051538</td>\n",
       "      <td>0.072329</td>\n",
       "      <td>-0.022273</td>\n",
       "      <td>-0.013574</td>\n",
       "      <td>0.009859</td>\n",
       "      <td>0.049577</td>\n",
       "      <td>1.000000</td>\n",
       "      <td>0.271942</td>\n",
       "      <td>0.001514</td>\n",
       "      <td>-0.054183</td>\n",
       "      <td>-0.049992</td>\n",
       "      <td>0.015829</td>\n",
       "      <td>-0.018990</td>\n",
       "    </tr>\n",
       "    <tr>\n",
       "      <td>city_centers_nearest</td>\n",
       "      <td>-0.048076</td>\n",
       "      <td>-0.205725</td>\n",
       "      <td>-0.230279</td>\n",
       "      <td>-0.184653</td>\n",
       "      <td>-0.091784</td>\n",
       "      <td>0.019445</td>\n",
       "      <td>-0.228501</td>\n",
       "      <td>0.008855</td>\n",
       "      <td>-0.005832</td>\n",
       "      <td>-0.004166</td>\n",
       "      <td>-0.188057</td>\n",
       "      <td>0.065289</td>\n",
       "      <td>0.271942</td>\n",
       "      <td>1.000000</td>\n",
       "      <td>-0.161747</td>\n",
       "      <td>-0.061348</td>\n",
       "      <td>-0.074401</td>\n",
       "      <td>0.021279</td>\n",
       "      <td>-0.060788</td>\n",
       "    </tr>\n",
       "    <tr>\n",
       "      <td>parks_around3000</td>\n",
       "      <td>0.037357</td>\n",
       "      <td>0.198419</td>\n",
       "      <td>0.201414</td>\n",
       "      <td>0.158375</td>\n",
       "      <td>0.062242</td>\n",
       "      <td>-0.158775</td>\n",
       "      <td>0.210341</td>\n",
       "      <td>-0.105279</td>\n",
       "      <td>-0.032081</td>\n",
       "      <td>-0.016392</td>\n",
       "      <td>0.131747</td>\n",
       "      <td>-0.070011</td>\n",
       "      <td>0.001514</td>\n",
       "      <td>-0.161747</td>\n",
       "      <td>1.000000</td>\n",
       "      <td>-0.141140</td>\n",
       "      <td>0.393028</td>\n",
       "      <td>-0.137513</td>\n",
       "      <td>0.056106</td>\n",
       "    </tr>\n",
       "    <tr>\n",
       "      <td>parks_nearest</td>\n",
       "      <td>-0.002505</td>\n",
       "      <td>-0.012976</td>\n",
       "      <td>-0.015548</td>\n",
       "      <td>-0.038819</td>\n",
       "      <td>-0.017584</td>\n",
       "      <td>0.070806</td>\n",
       "      <td>-0.038044</td>\n",
       "      <td>0.051167</td>\n",
       "      <td>0.004729</td>\n",
       "      <td>0.006635</td>\n",
       "      <td>0.019253</td>\n",
       "      <td>0.023481</td>\n",
       "      <td>-0.054183</td>\n",
       "      <td>-0.061348</td>\n",
       "      <td>-0.141140</td>\n",
       "      <td>1.000000</td>\n",
       "      <td>0.055304</td>\n",
       "      <td>0.002485</td>\n",
       "      <td>0.013034</td>\n",
       "    </tr>\n",
       "    <tr>\n",
       "      <td>ponds_around3000</td>\n",
       "      <td>0.012057</td>\n",
       "      <td>0.209058</td>\n",
       "      <td>0.201049</td>\n",
       "      <td>0.121846</td>\n",
       "      <td>0.072351</td>\n",
       "      <td>-0.048698</td>\n",
       "      <td>0.184246</td>\n",
       "      <td>-0.029510</td>\n",
       "      <td>-0.009291</td>\n",
       "      <td>-0.004107</td>\n",
       "      <td>0.174803</td>\n",
       "      <td>-0.038200</td>\n",
       "      <td>-0.049992</td>\n",
       "      <td>-0.074401</td>\n",
       "      <td>0.393028</td>\n",
       "      <td>0.055304</td>\n",
       "      <td>1.000000</td>\n",
       "      <td>-0.203804</td>\n",
       "      <td>0.065801</td>\n",
       "    </tr>\n",
       "    <tr>\n",
       "      <td>ponds_nearest</td>\n",
       "      <td>-0.004308</td>\n",
       "      <td>-0.082021</td>\n",
       "      <td>-0.082542</td>\n",
       "      <td>-0.048495</td>\n",
       "      <td>-0.052858</td>\n",
       "      <td>0.043637</td>\n",
       "      <td>-0.071612</td>\n",
       "      <td>0.029177</td>\n",
       "      <td>0.002248</td>\n",
       "      <td>-0.002502</td>\n",
       "      <td>-0.074710</td>\n",
       "      <td>0.013895</td>\n",
       "      <td>0.015829</td>\n",
       "      <td>0.021279</td>\n",
       "      <td>-0.137513</td>\n",
       "      <td>0.002485</td>\n",
       "      <td>-0.203804</td>\n",
       "      <td>1.000000</td>\n",
       "      <td>-0.061455</td>\n",
       "    </tr>\n",
       "    <tr>\n",
       "      <td>days_exposition</td>\n",
       "      <td>-0.026578</td>\n",
       "      <td>0.081063</td>\n",
       "      <td>0.150130</td>\n",
       "      <td>0.127470</td>\n",
       "      <td>0.019092</td>\n",
       "      <td>-0.052234</td>\n",
       "      <td>0.145409</td>\n",
       "      <td>-0.039018</td>\n",
       "      <td>-0.021604</td>\n",
       "      <td>-0.024161</td>\n",
       "      <td>0.112076</td>\n",
       "      <td>-0.027933</td>\n",
       "      <td>-0.018990</td>\n",
       "      <td>-0.060788</td>\n",
       "      <td>0.056106</td>\n",
       "      <td>0.013034</td>\n",
       "      <td>0.065801</td>\n",
       "      <td>-0.061455</td>\n",
       "      <td>1.000000</td>\n",
       "    </tr>\n",
       "  </tbody>\n",
       "</table>\n",
       "</div>"
      ],
      "text/plain": [
       "                      total_images  last_price  total_area     rooms  \\\n",
       "total_images              1.000000    0.104940    0.116425  0.099385   \n",
       "last_price                0.104940    1.000000    0.653581  0.363124   \n",
       "total_area                0.116425    0.653581    1.000000  0.758324   \n",
       "rooms                     0.099385    0.363124    0.758324  1.000000   \n",
       "ceiling_height           -0.001973    0.085435    0.095506  0.054512   \n",
       "floors_total              0.010427   -0.006984   -0.075774 -0.228215   \n",
       "living_area               0.104459    0.584886    0.944935  0.828805   \n",
       "floor                     0.033286    0.026644   -0.024927 -0.151586   \n",
       "studio                   -0.028116   -0.025083   -0.071983 -0.145983   \n",
       "open_plan                -0.024607   -0.008801   -0.034941 -0.087687   \n",
       "kitchen_area              0.107351    0.504754    0.656997  0.321335   \n",
       "balcony                   0.047212    0.008598    0.010104 -0.015759   \n",
       "airports_nearest         -0.002650   -0.026051   -0.029967 -0.061034   \n",
       "city_centers_nearest     -0.048076   -0.205725   -0.230279 -0.184653   \n",
       "parks_around3000          0.037357    0.198419    0.201414  0.158375   \n",
       "parks_nearest            -0.002505   -0.012976   -0.015548 -0.038819   \n",
       "ponds_around3000          0.012057    0.209058    0.201049  0.121846   \n",
       "ponds_nearest            -0.004308   -0.082021   -0.082542 -0.048495   \n",
       "days_exposition          -0.026578    0.081063    0.150130  0.127470   \n",
       "\n",
       "                      ceiling_height  floors_total  living_area     floor  \\\n",
       "total_images               -0.001973      0.010427     0.104459  0.033286   \n",
       "last_price                  0.085435     -0.006984     0.584886  0.026644   \n",
       "total_area                  0.095506     -0.075774     0.944935 -0.024927   \n",
       "rooms                       0.054512     -0.228215     0.828805 -0.151586   \n",
       "ceiling_height              1.000000     -0.028732     0.093822 -0.011806   \n",
       "floors_total               -0.028732      1.000000    -0.160298  0.678059   \n",
       "living_area                 0.093822     -0.160298     1.000000 -0.089765   \n",
       "floor                      -0.011806      0.678059    -0.089765  1.000000   \n",
       "studio                      0.001674      0.070151    -0.055676  0.035908   \n",
       "open_plan                   0.042777      0.050791    -0.025257  0.036140   \n",
       "kitchen_area                0.082411      0.120509     0.489058  0.106149   \n",
       "balcony                     0.031229      0.172812    -0.009189  0.171005   \n",
       "airports_nearest           -0.024007      0.107639    -0.051538  0.072329   \n",
       "city_centers_nearest       -0.091784      0.019445    -0.228501  0.008855   \n",
       "parks_around3000            0.062242     -0.158775     0.210341 -0.105279   \n",
       "parks_nearest              -0.017584      0.070806    -0.038044  0.051167   \n",
       "ponds_around3000            0.072351     -0.048698     0.184246 -0.029510   \n",
       "ponds_nearest              -0.052858      0.043637    -0.071612  0.029177   \n",
       "days_exposition             0.019092     -0.052234     0.145409 -0.039018   \n",
       "\n",
       "                        studio  open_plan  kitchen_area   balcony  \\\n",
       "total_images         -0.028116  -0.024607      0.107351  0.047212   \n",
       "last_price           -0.025083  -0.008801      0.504754  0.008598   \n",
       "total_area           -0.071983  -0.034941      0.656997  0.010104   \n",
       "rooms                -0.145983  -0.087687      0.321335 -0.015759   \n",
       "ceiling_height        0.001674   0.042777      0.082411  0.031229   \n",
       "floors_total          0.070151   0.050791      0.120509  0.172812   \n",
       "living_area          -0.055676  -0.025257      0.489058 -0.009189   \n",
       "floor                 0.035908   0.036140      0.106149  0.171005   \n",
       "studio                1.000000  -0.004208     -0.089530  0.030050   \n",
       "open_plan            -0.004208   1.000000     -0.046605  0.032554   \n",
       "kitchen_area         -0.089530  -0.046605      1.000000  0.036904   \n",
       "balcony               0.030050   0.032554      0.036904  1.000000   \n",
       "airports_nearest     -0.022273  -0.013574      0.009859  0.049577   \n",
       "city_centers_nearest -0.005832  -0.004166     -0.188057  0.065289   \n",
       "parks_around3000     -0.032081  -0.016392      0.131747 -0.070011   \n",
       "parks_nearest         0.004729   0.006635      0.019253  0.023481   \n",
       "ponds_around3000     -0.009291  -0.004107      0.174803 -0.038200   \n",
       "ponds_nearest         0.002248  -0.002502     -0.074710  0.013895   \n",
       "days_exposition      -0.021604  -0.024161      0.112076 -0.027933   \n",
       "\n",
       "                      airports_nearest  city_centers_nearest  \\\n",
       "total_images                 -0.002650             -0.048076   \n",
       "last_price                   -0.026051             -0.205725   \n",
       "total_area                   -0.029967             -0.230279   \n",
       "rooms                        -0.061034             -0.184653   \n",
       "ceiling_height               -0.024007             -0.091784   \n",
       "floors_total                  0.107639              0.019445   \n",
       "living_area                  -0.051538             -0.228501   \n",
       "floor                         0.072329              0.008855   \n",
       "studio                       -0.022273             -0.005832   \n",
       "open_plan                    -0.013574             -0.004166   \n",
       "kitchen_area                  0.009859             -0.188057   \n",
       "balcony                       0.049577              0.065289   \n",
       "airports_nearest              1.000000              0.271942   \n",
       "city_centers_nearest          0.271942              1.000000   \n",
       "parks_around3000              0.001514             -0.161747   \n",
       "parks_nearest                -0.054183             -0.061348   \n",
       "ponds_around3000             -0.049992             -0.074401   \n",
       "ponds_nearest                 0.015829              0.021279   \n",
       "days_exposition              -0.018990             -0.060788   \n",
       "\n",
       "                      parks_around3000  parks_nearest  ponds_around3000  \\\n",
       "total_images                  0.037357      -0.002505          0.012057   \n",
       "last_price                    0.198419      -0.012976          0.209058   \n",
       "total_area                    0.201414      -0.015548          0.201049   \n",
       "rooms                         0.158375      -0.038819          0.121846   \n",
       "ceiling_height                0.062242      -0.017584          0.072351   \n",
       "floors_total                 -0.158775       0.070806         -0.048698   \n",
       "living_area                   0.210341      -0.038044          0.184246   \n",
       "floor                        -0.105279       0.051167         -0.029510   \n",
       "studio                       -0.032081       0.004729         -0.009291   \n",
       "open_plan                    -0.016392       0.006635         -0.004107   \n",
       "kitchen_area                  0.131747       0.019253          0.174803   \n",
       "balcony                      -0.070011       0.023481         -0.038200   \n",
       "airports_nearest              0.001514      -0.054183         -0.049992   \n",
       "city_centers_nearest         -0.161747      -0.061348         -0.074401   \n",
       "parks_around3000              1.000000      -0.141140          0.393028   \n",
       "parks_nearest                -0.141140       1.000000          0.055304   \n",
       "ponds_around3000              0.393028       0.055304          1.000000   \n",
       "ponds_nearest                -0.137513       0.002485         -0.203804   \n",
       "days_exposition               0.056106       0.013034          0.065801   \n",
       "\n",
       "                      ponds_nearest  days_exposition  \n",
       "total_images              -0.004308        -0.026578  \n",
       "last_price                -0.082021         0.081063  \n",
       "total_area                -0.082542         0.150130  \n",
       "rooms                     -0.048495         0.127470  \n",
       "ceiling_height            -0.052858         0.019092  \n",
       "floors_total               0.043637        -0.052234  \n",
       "living_area               -0.071612         0.145409  \n",
       "floor                      0.029177        -0.039018  \n",
       "studio                     0.002248        -0.021604  \n",
       "open_plan                 -0.002502        -0.024161  \n",
       "kitchen_area              -0.074710         0.112076  \n",
       "balcony                    0.013895        -0.027933  \n",
       "airports_nearest           0.015829        -0.018990  \n",
       "city_centers_nearest       0.021279        -0.060788  \n",
       "parks_around3000          -0.137513         0.056106  \n",
       "parks_nearest              0.002485         0.013034  \n",
       "ponds_around3000          -0.203804         0.065801  \n",
       "ponds_nearest              1.000000        -0.061455  \n",
       "days_exposition           -0.061455         1.000000  "
      ]
     },
     "execution_count": 24,
     "metadata": {},
     "output_type": "execute_result"
    }
   ],
   "source": [
    "data.corr()"
   ]
  },
  {
   "cell_type": "code",
   "execution_count": 25,
   "metadata": {},
   "outputs": [
    {
     "data": {
      "text/plain": [
       "9118"
      ]
     },
     "execution_count": 25,
     "metadata": {},
     "output_type": "execute_result"
    }
   ],
   "source": [
    "# проверим пропуски в ceiling_height\n",
    "data['ceiling_height'].isna().sum()"
   ]
  },
  {
   "cell_type": "code",
   "execution_count": 26,
   "metadata": {},
   "outputs": [
    {
     "data": {
      "text/plain": [
       "count    14495.000000\n",
       "mean         2.771495\n",
       "std          1.261445\n",
       "min          1.000000\n",
       "25%          2.520000\n",
       "50%          2.650000\n",
       "75%          2.800000\n",
       "max        100.000000\n",
       "Name: ceiling_height, dtype: float64"
      ]
     },
     "execution_count": 26,
     "metadata": {},
     "output_type": "execute_result"
    }
   ],
   "source": [
    "# посмотрим описание ceiling_height\n",
    "data['ceiling_height'].describe()"
   ]
  },
  {
   "cell_type": "code",
   "execution_count": 27,
   "metadata": {},
   "outputs": [],
   "source": [
    "# перезапишем значения для потолков меньше 2.5 м и больше 4 м\n",
    "data.loc[((data['ceiling_height'] > 4) | (data['ceiling_height'] < 2.5)), 'ceiling_height'] = data['ceiling_height'].median()\n"
   ]
  },
  {
   "cell_type": "code",
   "execution_count": 28,
   "metadata": {},
   "outputs": [
    {
     "data": {
      "text/plain": [
       "count    14495.000000\n",
       "mean         2.722026\n",
       "std          0.256068\n",
       "min          2.500000\n",
       "25%          2.520000\n",
       "50%          2.650000\n",
       "75%          2.800000\n",
       "max          4.000000\n",
       "Name: ceiling_height, dtype: float64"
      ]
     },
     "execution_count": 28,
     "metadata": {},
     "output_type": "execute_result"
    }
   ],
   "source": [
    "# проверим как изменилось описание ceiling_height\n",
    "data['ceiling_height'].describe()"
   ]
  },
  {
   "cell_type": "code",
   "execution_count": 29,
   "metadata": {},
   "outputs": [
    {
     "data": {
      "text/plain": [
       "0"
      ]
     },
     "execution_count": 29,
     "metadata": {},
     "output_type": "execute_result"
    }
   ],
   "source": [
    "# заполним пропуски и проверим пропуски в ceiling_height\n",
    "data['ceiling_height'] = data['ceiling_height'].fillna(data['ceiling_height'].mean())\n",
    "data['ceiling_height'].isna().sum()"
   ]
  },
  {
   "cell_type": "markdown",
   "metadata": {},
   "source": [
    "### Замена типа данных"
   ]
  },
  {
   "cell_type": "code",
   "execution_count": 30,
   "metadata": {},
   "outputs": [
    {
     "name": "stdout",
     "output_type": "stream",
     "text": [
      "<class 'pandas.core.frame.DataFrame'>\n",
      "RangeIndex: 23613 entries, 0 to 23612\n",
      "Data columns (total 22 columns):\n",
      "total_images            23613 non-null int64\n",
      "last_price              23613 non-null float64\n",
      "total_area              23613 non-null float64\n",
      "first_day_exposition    23613 non-null object\n",
      "rooms                   23613 non-null int64\n",
      "ceiling_height          23613 non-null float64\n",
      "floors_total            23613 non-null float64\n",
      "living_area             23613 non-null float64\n",
      "floor                   23613 non-null int64\n",
      "is_apartment            23613 non-null object\n",
      "studio                  23613 non-null bool\n",
      "open_plan               23613 non-null bool\n",
      "kitchen_area            23613 non-null float64\n",
      "balcony                 23613 non-null float64\n",
      "locality_name           23613 non-null object\n",
      "airports_nearest        18181 non-null float64\n",
      "city_centers_nearest    18181 non-null float64\n",
      "parks_around3000        23613 non-null float64\n",
      "parks_nearest           17627 non-null float64\n",
      "ponds_around3000        23613 non-null float64\n",
      "ponds_nearest           18096 non-null float64\n",
      "days_exposition         20441 non-null float64\n",
      "dtypes: bool(2), float64(14), int64(3), object(3)\n",
      "memory usage: 3.6+ MB\n"
     ]
    }
   ],
   "source": [
    "\n",
    "data.astype({'balcony': 'int', \n",
    "             'parks_around3000': 'int', \n",
    "             'ponds_around3000': 'int', \n",
    "             'floors_total': 'int', \n",
    "             'total_images': 'int', \n",
    "             'rooms': 'int', \n",
    "             'floor': 'int',\n",
    "             'is_apartment': 'bool'\n",
    "})\n",
    "data.info() "
   ]
  },
  {
   "cell_type": "markdown",
   "metadata": {},
   "source": [
    "### Изменение единиц измерения данных"
   ]
  },
  {
   "cell_type": "code",
   "execution_count": 33,
   "metadata": {},
   "outputs": [],
   "source": [
    "# переведем в км и проверим\n",
    "nearest_list = ['airports_nearest', 'city_centers_nearest', 'parks_nearest', 'ponds_nearest']\n",
    "for col in nearest_list:\n",
    "    data[col] = data[col]/1000\n"
   ]
  },
  {
   "cell_type": "code",
   "execution_count": 34,
   "metadata": {},
   "outputs": [],
   "source": [
    "# переведем в млн \n",
    "data['last_price'] = data['last_price']/1000000"
   ]
  },
  {
   "cell_type": "code",
   "execution_count": 35,
   "metadata": {},
   "outputs": [
    {
     "data": {
      "text/html": [
       "<div>\n",
       "<style scoped>\n",
       "    .dataframe tbody tr th:only-of-type {\n",
       "        vertical-align: middle;\n",
       "    }\n",
       "\n",
       "    .dataframe tbody tr th {\n",
       "        vertical-align: top;\n",
       "    }\n",
       "\n",
       "    .dataframe thead th {\n",
       "        text-align: right;\n",
       "    }\n",
       "</style>\n",
       "<table border=\"1\" class=\"dataframe\">\n",
       "  <thead>\n",
       "    <tr style=\"text-align: right;\">\n",
       "      <th></th>\n",
       "      <th>total_images</th>\n",
       "      <th>last_price</th>\n",
       "      <th>total_area</th>\n",
       "      <th>first_day_exposition</th>\n",
       "      <th>rooms</th>\n",
       "      <th>ceiling_height</th>\n",
       "      <th>floors_total</th>\n",
       "      <th>living_area</th>\n",
       "      <th>floor</th>\n",
       "      <th>is_apartment</th>\n",
       "      <th>...</th>\n",
       "      <th>kitchen_area</th>\n",
       "      <th>balcony</th>\n",
       "      <th>locality_name</th>\n",
       "      <th>airports_nearest</th>\n",
       "      <th>city_centers_nearest</th>\n",
       "      <th>parks_around3000</th>\n",
       "      <th>parks_nearest</th>\n",
       "      <th>ponds_around3000</th>\n",
       "      <th>ponds_nearest</th>\n",
       "      <th>days_exposition</th>\n",
       "    </tr>\n",
       "  </thead>\n",
       "  <tbody>\n",
       "    <tr>\n",
       "      <td>0</td>\n",
       "      <td>20</td>\n",
       "      <td>13.000</td>\n",
       "      <td>108.0</td>\n",
       "      <td>2019-03-07T00:00:00</td>\n",
       "      <td>3</td>\n",
       "      <td>2.700000</td>\n",
       "      <td>16.0</td>\n",
       "      <td>51.000000</td>\n",
       "      <td>8</td>\n",
       "      <td>False</td>\n",
       "      <td>...</td>\n",
       "      <td>25.000000</td>\n",
       "      <td>0.0</td>\n",
       "      <td>Санкт-Петербург</td>\n",
       "      <td>18.863</td>\n",
       "      <td>16.028</td>\n",
       "      <td>1.0</td>\n",
       "      <td>0.482</td>\n",
       "      <td>2.0</td>\n",
       "      <td>0.755000</td>\n",
       "      <td>NaN</td>\n",
       "    </tr>\n",
       "    <tr>\n",
       "      <td>1</td>\n",
       "      <td>7</td>\n",
       "      <td>3.350</td>\n",
       "      <td>40.4</td>\n",
       "      <td>2018-12-04T00:00:00</td>\n",
       "      <td>1</td>\n",
       "      <td>2.722026</td>\n",
       "      <td>11.0</td>\n",
       "      <td>18.600000</td>\n",
       "      <td>1</td>\n",
       "      <td>False</td>\n",
       "      <td>...</td>\n",
       "      <td>11.000000</td>\n",
       "      <td>2.0</td>\n",
       "      <td>посёлок Шушары</td>\n",
       "      <td>12.817</td>\n",
       "      <td>18.603</td>\n",
       "      <td>0.0</td>\n",
       "      <td>NaN</td>\n",
       "      <td>0.0</td>\n",
       "      <td>0.573217</td>\n",
       "      <td>81.0</td>\n",
       "    </tr>\n",
       "    <tr>\n",
       "      <td>2</td>\n",
       "      <td>10</td>\n",
       "      <td>5.196</td>\n",
       "      <td>56.0</td>\n",
       "      <td>2015-08-20T00:00:00</td>\n",
       "      <td>2</td>\n",
       "      <td>2.722026</td>\n",
       "      <td>5.0</td>\n",
       "      <td>34.300000</td>\n",
       "      <td>4</td>\n",
       "      <td>False</td>\n",
       "      <td>...</td>\n",
       "      <td>8.300000</td>\n",
       "      <td>0.0</td>\n",
       "      <td>Санкт-Петербург</td>\n",
       "      <td>21.741</td>\n",
       "      <td>13.933</td>\n",
       "      <td>1.0</td>\n",
       "      <td>0.090</td>\n",
       "      <td>2.0</td>\n",
       "      <td>0.574000</td>\n",
       "      <td>558.0</td>\n",
       "    </tr>\n",
       "    <tr>\n",
       "      <td>3</td>\n",
       "      <td>0</td>\n",
       "      <td>64.900</td>\n",
       "      <td>159.0</td>\n",
       "      <td>2015-07-24T00:00:00</td>\n",
       "      <td>3</td>\n",
       "      <td>2.722026</td>\n",
       "      <td>14.0</td>\n",
       "      <td>86.145649</td>\n",
       "      <td>9</td>\n",
       "      <td>False</td>\n",
       "      <td>...</td>\n",
       "      <td>28.859342</td>\n",
       "      <td>0.0</td>\n",
       "      <td>Санкт-Петербург</td>\n",
       "      <td>28.098</td>\n",
       "      <td>6.800</td>\n",
       "      <td>2.0</td>\n",
       "      <td>0.084</td>\n",
       "      <td>3.0</td>\n",
       "      <td>0.234000</td>\n",
       "      <td>424.0</td>\n",
       "    </tr>\n",
       "    <tr>\n",
       "      <td>4</td>\n",
       "      <td>2</td>\n",
       "      <td>10.000</td>\n",
       "      <td>100.0</td>\n",
       "      <td>2018-06-19T00:00:00</td>\n",
       "      <td>2</td>\n",
       "      <td>3.030000</td>\n",
       "      <td>14.0</td>\n",
       "      <td>32.000000</td>\n",
       "      <td>13</td>\n",
       "      <td>False</td>\n",
       "      <td>...</td>\n",
       "      <td>41.000000</td>\n",
       "      <td>0.0</td>\n",
       "      <td>Санкт-Петербург</td>\n",
       "      <td>31.856</td>\n",
       "      <td>8.098</td>\n",
       "      <td>2.0</td>\n",
       "      <td>0.112</td>\n",
       "      <td>1.0</td>\n",
       "      <td>0.048000</td>\n",
       "      <td>121.0</td>\n",
       "    </tr>\n",
       "  </tbody>\n",
       "</table>\n",
       "<p>5 rows × 22 columns</p>\n",
       "</div>"
      ],
      "text/plain": [
       "   total_images  last_price  total_area first_day_exposition  rooms  \\\n",
       "0            20      13.000       108.0  2019-03-07T00:00:00      3   \n",
       "1             7       3.350        40.4  2018-12-04T00:00:00      1   \n",
       "2            10       5.196        56.0  2015-08-20T00:00:00      2   \n",
       "3             0      64.900       159.0  2015-07-24T00:00:00      3   \n",
       "4             2      10.000       100.0  2018-06-19T00:00:00      2   \n",
       "\n",
       "   ceiling_height  floors_total  living_area  floor is_apartment  ...  \\\n",
       "0        2.700000          16.0    51.000000      8        False  ...   \n",
       "1        2.722026          11.0    18.600000      1        False  ...   \n",
       "2        2.722026           5.0    34.300000      4        False  ...   \n",
       "3        2.722026          14.0    86.145649      9        False  ...   \n",
       "4        3.030000          14.0    32.000000     13        False  ...   \n",
       "\n",
       "   kitchen_area  balcony    locality_name  airports_nearest  \\\n",
       "0     25.000000      0.0  Санкт-Петербург            18.863   \n",
       "1     11.000000      2.0   посёлок Шушары            12.817   \n",
       "2      8.300000      0.0  Санкт-Петербург            21.741   \n",
       "3     28.859342      0.0  Санкт-Петербург            28.098   \n",
       "4     41.000000      0.0  Санкт-Петербург            31.856   \n",
       "\n",
       "  city_centers_nearest  parks_around3000  parks_nearest  ponds_around3000  \\\n",
       "0               16.028               1.0          0.482               2.0   \n",
       "1               18.603               0.0            NaN               0.0   \n",
       "2               13.933               1.0          0.090               2.0   \n",
       "3                6.800               2.0          0.084               3.0   \n",
       "4                8.098               2.0          0.112               1.0   \n",
       "\n",
       "   ponds_nearest  days_exposition  \n",
       "0       0.755000              NaN  \n",
       "1       0.573217             81.0  \n",
       "2       0.574000            558.0  \n",
       "3       0.234000            424.0  \n",
       "4       0.048000            121.0  \n",
       "\n",
       "[5 rows x 22 columns]"
      ]
     },
     "execution_count": 35,
     "metadata": {},
     "output_type": "execute_result"
    }
   ],
   "source": [
    "# проверим изменения\n",
    "data.head()"
   ]
  },
  {
   "cell_type": "markdown",
   "metadata": {},
   "source": [
    "## Расчёты и добавление результатов в таблицу"
   ]
  },
  {
   "cell_type": "markdown",
   "metadata": {},
   "source": [
    "### Новые столбцы"
   ]
  },
  {
   "cell_type": "markdown",
   "metadata": {},
   "source": [
    "Добавим столбцы с ценой квадратного метра;\n",
    "денем недели, месяцем и годом публикации объявления;\n",
    "категорией этажа квартиры;\n",
    "соотношения жилой и общей площади, а также отношение площади кухни к общей."
   ]
  },
  {
   "cell_type": "code",
   "execution_count": 36,
   "metadata": {},
   "outputs": [],
   "source": [
    "#создадим столбец с ценой квадратного метра\n",
    "data['price_metr'] = round(((data['last_price']/data['total_area'])*1000), 2)\n"
   ]
  },
  {
   "cell_type": "code",
   "execution_count": 37,
   "metadata": {},
   "outputs": [],
   "source": [
    "#создадим столбцы с днем недели, месяцем и годом публикации объявления\n",
    "data['first_day_exposition'] = pd.to_datetime(data['first_day_exposition'], format='%Y-%m-%dT%H:%M:%S')\n",
    "data['year'] = pd.DatetimeIndex(data['first_day_exposition']).year\n",
    "data['month'] = pd.DatetimeIndex(data['first_day_exposition']).month\n",
    "data['day_name'] = data['first_day_exposition'].dt.day_name()\n",
    "data['day_week'] = data['first_day_exposition'].dt.weekday"
   ]
  },
  {
   "cell_type": "code",
   "execution_count": 38,
   "metadata": {},
   "outputs": [
    {
     "data": {
      "text/plain": [
       "другой       17363\n",
       "последний     3361\n",
       "первый        2889\n",
       "Name: floor_cat, dtype: int64"
      ]
     },
     "execution_count": 38,
     "metadata": {},
     "output_type": "execute_result"
    }
   ],
   "source": [
    "# функция для нового с столбца с категормями этажей \n",
    "def floor(row):\n",
    "    floor_number = row['floor']\n",
    "    floors_total = row['floors_total']\n",
    "    if floor_number == floors_total:\n",
    "         return 'последний'\n",
    "    if floor_number == 1:\n",
    "        return 'первый'\n",
    "    return 'другой'\n",
    "\n",
    "data['floor_cat'] = data.apply(floor, axis=1)\n",
    "# проверим категории\n",
    "data['floor_cat'].value_counts()"
   ]
  },
  {
   "cell_type": "code",
   "execution_count": 39,
   "metadata": {},
   "outputs": [],
   "source": [
    "# создадим столбцы с соотношеним жилой и общей площади, а также площади кухни к общей\n",
    "data['total_living_ratio'] = data['living_area']/data['total_area']\n",
    "data['total_kitchen_ratio'] = data['kitchen_area']/data['total_area']"
   ]
  },
  {
   "cell_type": "code",
   "execution_count": 40,
   "metadata": {},
   "outputs": [
    {
     "data": {
      "text/html": [
       "<div>\n",
       "<style scoped>\n",
       "    .dataframe tbody tr th:only-of-type {\n",
       "        vertical-align: middle;\n",
       "    }\n",
       "\n",
       "    .dataframe tbody tr th {\n",
       "        vertical-align: top;\n",
       "    }\n",
       "\n",
       "    .dataframe thead th {\n",
       "        text-align: right;\n",
       "    }\n",
       "</style>\n",
       "<table border=\"1\" class=\"dataframe\">\n",
       "  <thead>\n",
       "    <tr style=\"text-align: right;\">\n",
       "      <th></th>\n",
       "      <th>last_price</th>\n",
       "      <th>total_area</th>\n",
       "      <th>price_metr</th>\n",
       "      <th>floor</th>\n",
       "      <th>floor_cat</th>\n",
       "      <th>floors_total</th>\n",
       "      <th>living_area</th>\n",
       "      <th>total_living_ratio</th>\n",
       "      <th>kitchen_area</th>\n",
       "      <th>total_kitchen_ratio</th>\n",
       "      <th>first_day_exposition</th>\n",
       "      <th>year</th>\n",
       "      <th>month</th>\n",
       "      <th>day_week</th>\n",
       "    </tr>\n",
       "  </thead>\n",
       "  <tbody>\n",
       "    <tr>\n",
       "      <td>0</td>\n",
       "      <td>13.000</td>\n",
       "      <td>108.0</td>\n",
       "      <td>120.37</td>\n",
       "      <td>8</td>\n",
       "      <td>другой</td>\n",
       "      <td>16.0</td>\n",
       "      <td>51.000000</td>\n",
       "      <td>0.472222</td>\n",
       "      <td>25.000000</td>\n",
       "      <td>0.231481</td>\n",
       "      <td>2019-03-07</td>\n",
       "      <td>2019</td>\n",
       "      <td>3</td>\n",
       "      <td>3</td>\n",
       "    </tr>\n",
       "    <tr>\n",
       "      <td>1</td>\n",
       "      <td>3.350</td>\n",
       "      <td>40.4</td>\n",
       "      <td>82.92</td>\n",
       "      <td>1</td>\n",
       "      <td>первый</td>\n",
       "      <td>11.0</td>\n",
       "      <td>18.600000</td>\n",
       "      <td>0.460396</td>\n",
       "      <td>11.000000</td>\n",
       "      <td>0.272277</td>\n",
       "      <td>2018-12-04</td>\n",
       "      <td>2018</td>\n",
       "      <td>12</td>\n",
       "      <td>1</td>\n",
       "    </tr>\n",
       "    <tr>\n",
       "      <td>2</td>\n",
       "      <td>5.196</td>\n",
       "      <td>56.0</td>\n",
       "      <td>92.79</td>\n",
       "      <td>4</td>\n",
       "      <td>другой</td>\n",
       "      <td>5.0</td>\n",
       "      <td>34.300000</td>\n",
       "      <td>0.612500</td>\n",
       "      <td>8.300000</td>\n",
       "      <td>0.148214</td>\n",
       "      <td>2015-08-20</td>\n",
       "      <td>2015</td>\n",
       "      <td>8</td>\n",
       "      <td>3</td>\n",
       "    </tr>\n",
       "    <tr>\n",
       "      <td>3</td>\n",
       "      <td>64.900</td>\n",
       "      <td>159.0</td>\n",
       "      <td>408.18</td>\n",
       "      <td>9</td>\n",
       "      <td>другой</td>\n",
       "      <td>14.0</td>\n",
       "      <td>86.145649</td>\n",
       "      <td>0.541797</td>\n",
       "      <td>28.859342</td>\n",
       "      <td>0.181505</td>\n",
       "      <td>2015-07-24</td>\n",
       "      <td>2015</td>\n",
       "      <td>7</td>\n",
       "      <td>4</td>\n",
       "    </tr>\n",
       "    <tr>\n",
       "      <td>4</td>\n",
       "      <td>10.000</td>\n",
       "      <td>100.0</td>\n",
       "      <td>100.00</td>\n",
       "      <td>13</td>\n",
       "      <td>другой</td>\n",
       "      <td>14.0</td>\n",
       "      <td>32.000000</td>\n",
       "      <td>0.320000</td>\n",
       "      <td>41.000000</td>\n",
       "      <td>0.410000</td>\n",
       "      <td>2018-06-19</td>\n",
       "      <td>2018</td>\n",
       "      <td>6</td>\n",
       "      <td>1</td>\n",
       "    </tr>\n",
       "  </tbody>\n",
       "</table>\n",
       "</div>"
      ],
      "text/plain": [
       "   last_price  total_area  price_metr  floor floor_cat  floors_total  \\\n",
       "0      13.000       108.0      120.37      8    другой          16.0   \n",
       "1       3.350        40.4       82.92      1    первый          11.0   \n",
       "2       5.196        56.0       92.79      4    другой           5.0   \n",
       "3      64.900       159.0      408.18      9    другой          14.0   \n",
       "4      10.000       100.0      100.00     13    другой          14.0   \n",
       "\n",
       "   living_area  total_living_ratio  kitchen_area  total_kitchen_ratio  \\\n",
       "0    51.000000            0.472222     25.000000             0.231481   \n",
       "1    18.600000            0.460396     11.000000             0.272277   \n",
       "2    34.300000            0.612500      8.300000             0.148214   \n",
       "3    86.145649            0.541797     28.859342             0.181505   \n",
       "4    32.000000            0.320000     41.000000             0.410000   \n",
       "\n",
       "  first_day_exposition  year  month  day_week  \n",
       "0           2019-03-07  2019      3         3  \n",
       "1           2018-12-04  2018     12         1  \n",
       "2           2015-08-20  2015      8         3  \n",
       "3           2015-07-24  2015      7         4  \n",
       "4           2018-06-19  2018      6         1  "
      ]
     },
     "execution_count": 40,
     "metadata": {},
     "output_type": "execute_result"
    }
   ],
   "source": [
    "# проверим новые столбцы\n",
    "data.loc[:, ['last_price', 'total_area', 'price_metr', 'floor', 'floor_cat', 'floors_total', 'living_area', 'total_living_ratio', 'kitchen_area',  'total_kitchen_ratio', 'first_day_exposition', 'year', 'month', 'day_week']].head()\n",
    "\n"
   ]
  },
  {
   "cell_type": "markdown",
   "metadata": {},
   "source": [
    "## Исследовательский анализ данных"
   ]
  },
  {
   "cell_type": "markdown",
   "metadata": {},
   "source": [
    "### Площадь, цена, число комнат, высота потолков"
   ]
  },
  {
   "cell_type": "markdown",
   "metadata": {},
   "source": [
    "Изучим данные по площади, цене, числу комнат и высоте потолков. \n",
    "Для этого построим гистограммы для каждого параметра и вычеслим показатели разброса данных."
   ]
  },
  {
   "cell_type": "code",
   "execution_count": 41,
   "metadata": {},
   "outputs": [
    {
     "data": {
      "text/plain": [
       "count    23613.000000\n",
       "mean        60.340678\n",
       "std         35.648988\n",
       "min         12.000000\n",
       "25%         40.000000\n",
       "50%         52.000000\n",
       "75%         69.800000\n",
       "max        900.000000\n",
       "Name: total_area, dtype: float64"
      ]
     },
     "metadata": {},
     "output_type": "display_data"
    },
    {
     "data": {
      "image/png": "[encoded data removed]",
      "text/plain": [
       "<Figure size 432x288 with 1 Axes>"
      ]
     },
     "metadata": {
      "needs_background": "light"
     },
     "output_type": "display_data"
    },
    {
     "data": {
      "image/png": "[encoded data removed]",
      "text/plain": [
       "<Figure size 432x288 with 1 Axes>"
      ]
     },
     "metadata": {
      "needs_background": "light"
     },
     "output_type": "display_data"
    }
   ],
   "source": [
    "# построим гистограмму для total_area и вычеслим показатели разброса данных\n",
    "display(data['total_area'].describe())\n",
    "data['total_area'].hist(bins = 50)\n",
    "plt.title('Распределение общей площади')\n",
    "plt.show()\n",
    "\n",
    "data['total_area'].where(data['total_area'] < 300).hist(bins = 50)\n",
    "plt.title('Распределение общей площади до 300 кв.м')\n",
    "plt.show()\n"
   ]
  },
  {
   "cell_type": "code",
   "execution_count": 42,
   "metadata": {},
   "outputs": [
    {
     "data": {
      "text/plain": [
       "count    23613.000000\n",
       "mean         6.540555\n",
       "std         10.901723\n",
       "min          0.012190\n",
       "25%          3.400000\n",
       "50%          4.650000\n",
       "75%          6.799000\n",
       "max        763.000000\n",
       "Name: last_price, dtype: float64"
      ]
     },
     "metadata": {},
     "output_type": "display_data"
    },
    {
     "data": {
      "image/png": "[encoded data removed]",
      "text/plain": [
       "<Figure size 432x288 with 1 Axes>"
      ]
     },
     "metadata": {
      "needs_background": "light"
     },
     "output_type": "display_data"
    },
    {
     "data": {
      "image/png": "[encoded data removed]",
      "text/plain": [
       "<Figure size 432x288 with 1 Axes>"
      ]
     },
     "metadata": {
      "needs_background": "light"
     },
     "output_type": "display_data"
    }
   ],
   "source": [
    "# построим гистограмму для last_price и вычеслим показатели разброса данных\n",
    "display(data['last_price'].describe())\n",
    "data['last_price'].hist()\n",
    "plt.title('Стоимость квартир')\n",
    "plt.show()\n",
    "\n",
    "data['last_price'].where(data['last_price'] < 15).hist(bins = 50)\n",
    "plt.title('Стоимость квартир до 15 млн.руб.')\n",
    "plt.show()"
   ]
  },
  {
   "cell_type": "code",
   "execution_count": 43,
   "metadata": {},
   "outputs": [
    {
     "data": {
      "text/plain": [
       "count    23613.000000\n",
       "mean         2.071147\n",
       "std          1.078380\n",
       "min          0.000000\n",
       "25%          1.000000\n",
       "50%          2.000000\n",
       "75%          3.000000\n",
       "max         19.000000\n",
       "Name: rooms, dtype: float64"
      ]
     },
     "metadata": {},
     "output_type": "display_data"
    },
    {
     "data": {
      "image/png": "[encoded data removed]",
      "text/plain": [
       "<Figure size 432x288 with 1 Axes>"
      ]
     },
     "metadata": {
      "needs_background": "light"
     },
     "output_type": "display_data"
    },
    {
     "data": {
      "image/png": "[encoded data removed]",
      "text/plain": [
       "<Figure size 432x288 with 1 Axes>"
      ]
     },
     "metadata": {
      "needs_background": "light"
     },
     "output_type": "display_data"
    }
   ],
   "source": [
    "# построим гистограмму для rooms и вычеслим показатели разброса данных\n",
    "display(data['rooms'].describe())\n",
    "data['rooms'].hist(bins = 20)\n",
    "plt.title('Комнаты')\n",
    "plt.show()\n",
    "\n",
    "data['rooms'].where(data['rooms'] <= 10).hist(bins = 20)\n",
    "plt.title('Комнаты (до 10)')\n",
    "plt.show()\n"
   ]
  },
  {
   "cell_type": "code",
   "execution_count": 44,
   "metadata": {},
   "outputs": [
    {
     "data": {
      "text/plain": [
       "count    23613.000000\n",
       "mean         2.722026\n",
       "std          0.200624\n",
       "min          2.500000\n",
       "25%          2.600000\n",
       "50%          2.722026\n",
       "75%          2.722026\n",
       "max          4.000000\n",
       "Name: ceiling_height, dtype: float64"
      ]
     },
     "metadata": {},
     "output_type": "display_data"
    },
    {
     "data": {
      "image/png": "[encoded data removed]",
      "text/plain": [
       "<Figure size 432x288 with 1 Axes>"
      ]
     },
     "metadata": {
      "needs_background": "light"
     },
     "output_type": "display_data"
    }
   ],
   "source": [
    "# построим гистограмму для ceiling_height и вычеслим показатели разброса данных\n",
    "display(data['ceiling_height'].describe())\n",
    "data['ceiling_height'].hist(bins = 20)\n",
    "plt.title('Высота потолков')\n",
    "plt.show()"
   ]
  },
  {
   "cell_type": "markdown",
   "metadata": {},
   "source": [
    "### Время продажи квартиры\n",
    "Изучим время продажи квартиры. Для этого построим гистограмму и посчитаим среднее и медиану."
   ]
  },
  {
   "cell_type": "code",
   "execution_count": 45,
   "metadata": {},
   "outputs": [
    {
     "data": {
      "text/plain": [
       "count    20441.000000\n",
       "mean       180.884839\n",
       "std        219.685543\n",
       "min          1.000000\n",
       "25%         45.000000\n",
       "50%         95.000000\n",
       "75%        232.000000\n",
       "max       1580.000000\n",
       "Name: days_exposition, dtype: float64"
      ]
     },
     "metadata": {},
     "output_type": "display_data"
    },
    {
     "data": {
      "image/png": "[encoded data removed]",
      "text/plain": [
       "<Figure size 432x288 with 1 Axes>"
      ]
     },
     "metadata": {
      "needs_background": "light"
     },
     "output_type": "display_data"
    },
    {
     "data": {
      "image/png": "[encoded data removed]",
      "text/plain": [
       "<Figure size 432x288 with 1 Axes>"
      ]
     },
     "metadata": {
      "needs_background": "light"
     },
     "output_type": "display_data"
    },
    {
     "data": {
      "image/png": "[encoded data removed]",
      "text/plain": [
       "<Figure size 432x288 with 1 Axes>"
      ]
     },
     "metadata": {
      "needs_background": "light"
     },
     "output_type": "display_data"
    },
    {
     "data": {
      "image/png": "[encoded data removed]",
      "text/plain": [
       "<Figure size 432x288 with 1 Axes>"
      ]
     },
     "metadata": {
      "needs_background": "light"
     },
     "output_type": "display_data"
    }
   ],
   "source": [
    "# построим гистограмму для days_exposition и вычеслим показатели разброса данных\n",
    "display(data['days_exposition'].describe())\n",
    "data['days_exposition'].hist(bins = 50)\n",
    "plt.title('Дни размещения объявления')\n",
    "plt.show()\n",
    "# рассмотрим отдельные участки гистограмм\n",
    "data['days_exposition'].hist(bins = 100, range = (0, 130))\n",
    "plt.title('Дни размещения объявления (до 130)')\n",
    "plt.show()\n",
    "\n",
    "data['days_exposition'].hist(bins = 84, range = (0, 84))\n",
    "plt.title('Дни размещения объявления (до 84)')\n",
    "plt.show()\n",
    "\n",
    "data['days_exposition'].hist(bins = 50, range = (232, 1580))\n",
    "plt.title('Дни размещения объявления (232-1580)')\n",
    "plt.show()"
   ]
  },
  {
   "cell_type": "code",
   "execution_count": 46,
   "metadata": {},
   "outputs": [],
   "source": [
    "#Уберите редкие и выбивающиеся значения\n",
    "\n",
    "# предположение, что если бы объявления не снимались бы автоматически, \n",
    "# то могли бы еще быть опубликованы некоторое время\n",
    "# но возможно, также, что эти объявления не актульны уже\n",
    "# в этой работе для выбивающихся значений напишем цикл по заполнению случайными данными в диапазоне медианы\n",
    "\n",
    "from random import randint\n",
    "for i in data.query('days_exposition in (30, 45, 60, 90)').index:\n",
    "    data.loc[i, 'days_exposition'] = data.loc[i, 'days_exposition'] + randint(1, 95)\n",
    "    "
   ]
  },
  {
   "cell_type": "code",
   "execution_count": 47,
   "metadata": {},
   "outputs": [
    {
     "data": {
      "text/plain": [
       "count    20441.000000\n",
       "mean       182.683968\n",
       "std        218.884763\n",
       "min          1.000000\n",
       "25%         45.000000\n",
       "50%        102.000000\n",
       "75%        232.000000\n",
       "max       1580.000000\n",
       "Name: days_exposition, dtype: float64"
      ]
     },
     "execution_count": 47,
     "metadata": {},
     "output_type": "execute_result"
    }
   ],
   "source": [
    "data['days_exposition'].describe()\n"
   ]
  },
  {
   "cell_type": "markdown",
   "metadata": {},
   "source": [
    "### Вывод\n",
    "Из полученного описания данных по времени продаж и гистограммам можно сказать, что :\n",
    "- среднее значение равно 180 дн., медианное - 95 дн. Значит, перед нами не нормальное распределение и для оценки лучше использовать медианное значение. \n",
    "- Время продажи варьируется от 1 дня до 1580. Обычно на продажу квартиры нужно около 100 дней (судя по первой гистограмме - максимальное количество продаж находится примерно в этом значении). Судя по разбивке на квартили очень быстрые продажи проходят в срок до 45 дней, а очень длительные после 232 дней.\n",
    "- В целом распределение напоминает пуассоновское. Но есть явные выбросы: на 30, 45, 60 и 90 дней. Вероятно объявления снимаются автоматически в эти дни. Нужно их обработать. Если совсем убрать эти значения, то можно потерять реальные продажи. В данной работе увеличим их значение на случайное число. "
   ]
  },
  {
   "cell_type": "markdown",
   "metadata": {},
   "source": [
    "### Влияние  факторов на стоимость квартиры"
   ]
  },
  {
   "cell_type": "markdown",
   "metadata": {},
   "source": [
    "- **Влияние площади, числа комнат, удалённости от центра**"
   ]
  },
  {
   "cell_type": "code",
   "execution_count": 48,
   "metadata": {
    "scrolled": false
   },
   "outputs": [
    {
     "name": "stdout",
     "output_type": "stream",
     "text": [
      "коэффициент корреляции между стоимостью квартиры и total_area\n"
     ]
    },
    {
     "data": {
      "text/plain": [
       "0.65"
      ]
     },
     "metadata": {},
     "output_type": "display_data"
    },
    {
     "name": "stdout",
     "output_type": "stream",
     "text": [
      "коэффициент корреляции между стоимостью квартиры и rooms\n"
     ]
    },
    {
     "data": {
      "text/plain": [
       "0.36"
      ]
     },
     "metadata": {},
     "output_type": "display_data"
    },
    {
     "name": "stdout",
     "output_type": "stream",
     "text": [
      "коэффициент корреляции между стоимостью квартиры и city_centers_nearest\n"
     ]
    },
    {
     "data": {
      "text/plain": [
       "-0.21"
      ]
     },
     "metadata": {},
     "output_type": "display_data"
    },
    {
     "data": {
      "image/png": "[encoded data removed]",
      "text/plain": [
       "<Figure size 432x288 with 1 Axes>"
      ]
     },
     "metadata": {
      "needs_background": "light"
     },
     "output_type": "display_data"
    },
    {
     "data": {
      "image/png": "[encoded data removed]",
      "text/plain": [
       "<Figure size 432x288 with 1 Axes>"
      ]
     },
     "metadata": {
      "needs_background": "light"
     },
     "output_type": "display_data"
    },
    {
     "data": {
      "image/png": "[encoded data removed]",
      "text/plain": [
       "<Figure size 432x288 with 1 Axes>"
      ]
     },
     "metadata": {
      "needs_background": "light"
     },
     "output_type": "display_data"
    }
   ],
   "source": [
    "# посмотрим корреляции между этими величинами и построим диаграмму рассеяния\n",
    "corr_list1 = ['total_area', 'rooms', 'city_centers_nearest']\n",
    "corr_numbers1 = []\n",
    "for col in corr_list1:\n",
    "    print(f'коэффициент корреляции между стоимостью квартиры и {col}')\n",
    "    display (round(data['last_price'].corr(data[col]), 2))\n",
    "    corr_numbers1.append(data['last_price'].corr(data[col]))\n",
    "    data.plot(x = col, y = 'last_price', kind = 'scatter', grid=True)\n"
   ]
  },
  {
   "cell_type": "markdown",
   "metadata": {},
   "source": [
    "Среди данных параметров наиболее явная взаимосвязь стоимости квартиры видна с площадью, коэффициент корреляции 0,65. Число комнат и удалённость от центра не имеют такую же взаимосвязь. Кроме того, можно отметить, что с удалённостью от центра связь обратная. "
   ]
  },
  {
   "cell_type": "markdown",
   "metadata": {},
   "source": [
    " - **Влияние этажа**"
   ]
  },
  {
   "cell_type": "code",
   "execution_count": 49,
   "metadata": {},
   "outputs": [
    {
     "data": {
      "text/plain": [
       "'корреляция между ценой и категормями этажей'"
      ]
     },
     "metadata": {},
     "output_type": "display_data"
    },
    {
     "data": {
      "text/plain": [
       "0.057"
      ]
     },
     "metadata": {},
     "output_type": "display_data"
    },
    {
     "data": {
      "text/plain": [
       "<matplotlib.axes._subplots.AxesSubplot at 0x7f13a46e94d0>"
      ]
     },
     "execution_count": 49,
     "metadata": {},
     "output_type": "execute_result"
    },
    {
     "data": {
      "image/png": "[encoded data removed]",
      "text/plain": [
       "<Figure size 432x288 with 1 Axes>"
      ]
     },
     "metadata": {
      "needs_background": "light"
     },
     "output_type": "display_data"
    }
   ],
   "source": [
    "# посмотрим корреляцию между этими величинами и построим диаграмму рассеяния\n",
    "# функция для нового с столбца с числовыми категормями этажей \n",
    "def floor_cat(floor_cat):\n",
    "    if floor_cat == 'последний':\n",
    "         return 2\n",
    "    if floor_cat == 'первый':\n",
    "        return 0\n",
    "    return 1\n",
    "\n",
    "data['floor_cat_num'] = data['floor_cat'].apply(floor_cat)\n",
    "\n",
    "# проверим категории\n",
    "corr_numbers2 = []\n",
    "display('корреляция между ценой и категормями этажей')\n",
    "display((round(data['last_price'].corr(data['floor_cat_num']), 3)))\n",
    "corr_numbers2.append(data['last_price'].corr(data['floor_cat_num']))\n",
    "data.plot(x = 'floor_cat_num', y = 'last_price', kind = 'scatter', grid=True)\n"
   ]
  },
  {
   "cell_type": "code",
   "execution_count": 50,
   "metadata": {},
   "outputs": [
    {
     "data": {
      "text/plain": [
       "'корреляция между ценой и этажом'"
      ]
     },
     "metadata": {},
     "output_type": "display_data"
    },
    {
     "data": {
      "text/plain": [
       "0.03"
      ]
     },
     "metadata": {},
     "output_type": "display_data"
    },
    {
     "data": {
      "text/plain": [
       "'корреляция между ценой за кв.м и этажом'"
      ]
     },
     "metadata": {},
     "output_type": "display_data"
    },
    {
     "data": {
      "text/plain": [
       "0.13"
      ]
     },
     "metadata": {},
     "output_type": "display_data"
    },
    {
     "data": {
      "text/plain": [
       "<matplotlib.axes._subplots.AxesSubplot at 0x7f13a4219c10>"
      ]
     },
     "execution_count": 50,
     "metadata": {},
     "output_type": "execute_result"
    },
    {
     "data": {
      "image/png": "[encoded data removed]",
      "text/plain": [
       "<Figure size 432x288 with 1 Axes>"
      ]
     },
     "metadata": {
      "needs_background": "light"
     },
     "output_type": "display_data"
    },
    {
     "data": {
      "image/png": "[encoded data removed]",
      "text/plain": [
       "<Figure size 432x288 with 1 Axes>"
      ]
     },
     "metadata": {
      "needs_background": "light"
     },
     "output_type": "display_data"
    }
   ],
   "source": [
    "\n",
    "display('корреляция между ценой и этажом')\n",
    "display(round(data['last_price'].corr(data['floor']), 2))\n",
    "corr_numbers2.append(data['last_price'].corr(data['floor']))\n",
    "data.plot(x = 'floor', y = 'last_price', kind = 'scatter', grid=True)\n",
    "\n",
    "\n",
    "display('корреляция между ценой за кв.м и этажом')\n",
    "display(round(data['price_metr'].corr(data['floor']), 2))\n",
    "corr_numbers2.append(data['price_metr'].corr(data['floor']))\n",
    "data.plot(x = 'floor', y = 'price_metr', kind = 'scatter', grid=True)\n",
    "\n"
   ]
  },
  {
   "cell_type": "code",
   "execution_count": 51,
   "metadata": {},
   "outputs": [
    {
     "data": {
      "text/html": [
       "<div>\n",
       "<style scoped>\n",
       "    .dataframe tbody tr th:only-of-type {\n",
       "        vertical-align: middle;\n",
       "    }\n",
       "\n",
       "    .dataframe tbody tr th {\n",
       "        vertical-align: top;\n",
       "    }\n",
       "\n",
       "    .dataframe thead tr th {\n",
       "        text-align: left;\n",
       "    }\n",
       "\n",
       "    .dataframe thead tr:last-of-type th {\n",
       "        text-align: right;\n",
       "    }\n",
       "</style>\n",
       "<table border=\"1\" class=\"dataframe\">\n",
       "  <thead>\n",
       "    <tr>\n",
       "      <th></th>\n",
       "      <th colspan=\"2\" halign=\"left\">last_price</th>\n",
       "      <th colspan=\"2\" halign=\"left\">price_metr</th>\n",
       "    </tr>\n",
       "    <tr>\n",
       "      <th></th>\n",
       "      <th>mean</th>\n",
       "      <th>median</th>\n",
       "      <th>mean</th>\n",
       "      <th>median</th>\n",
       "    </tr>\n",
       "    <tr>\n",
       "      <th>floor</th>\n",
       "      <th></th>\n",
       "      <th></th>\n",
       "      <th></th>\n",
       "      <th></th>\n",
       "    </tr>\n",
       "  </thead>\n",
       "  <tbody>\n",
       "    <tr>\n",
       "      <td>1</td>\n",
       "      <td>4.805699</td>\n",
       "      <td>3.90000</td>\n",
       "      <td>81.995944</td>\n",
       "      <td>81.235</td>\n",
       "    </tr>\n",
       "    <tr>\n",
       "      <td>2</td>\n",
       "      <td>6.162681</td>\n",
       "      <td>4.49000</td>\n",
       "      <td>94.384688</td>\n",
       "      <td>90.730</td>\n",
       "    </tr>\n",
       "    <tr>\n",
       "      <td>3</td>\n",
       "      <td>6.725367</td>\n",
       "      <td>4.60000</td>\n",
       "      <td>97.682916</td>\n",
       "      <td>93.460</td>\n",
       "    </tr>\n",
       "    <tr>\n",
       "      <td>4</td>\n",
       "      <td>7.133279</td>\n",
       "      <td>4.70000</td>\n",
       "      <td>99.613518</td>\n",
       "      <td>93.125</td>\n",
       "    </tr>\n",
       "    <tr>\n",
       "      <td>5</td>\n",
       "      <td>6.618781</td>\n",
       "      <td>4.40000</td>\n",
       "      <td>96.113454</td>\n",
       "      <td>90.700</td>\n",
       "    </tr>\n",
       "    <tr>\n",
       "      <td>6</td>\n",
       "      <td>7.528837</td>\n",
       "      <td>5.10000</td>\n",
       "      <td>109.508032</td>\n",
       "      <td>99.345</td>\n",
       "    </tr>\n",
       "    <tr>\n",
       "      <td>7</td>\n",
       "      <td>7.922230</td>\n",
       "      <td>4.95000</td>\n",
       "      <td>109.403130</td>\n",
       "      <td>100.000</td>\n",
       "    </tr>\n",
       "    <tr>\n",
       "      <td>8</td>\n",
       "      <td>6.822020</td>\n",
       "      <td>4.80000</td>\n",
       "      <td>107.186763</td>\n",
       "      <td>100.080</td>\n",
       "    </tr>\n",
       "    <tr>\n",
       "      <td>9</td>\n",
       "      <td>6.318548</td>\n",
       "      <td>4.67000</td>\n",
       "      <td>103.924025</td>\n",
       "      <td>97.985</td>\n",
       "    </tr>\n",
       "    <tr>\n",
       "      <td>10</td>\n",
       "      <td>7.679125</td>\n",
       "      <td>5.04850</td>\n",
       "      <td>110.511623</td>\n",
       "      <td>104.470</td>\n",
       "    </tr>\n",
       "    <tr>\n",
       "      <td>11</td>\n",
       "      <td>6.504624</td>\n",
       "      <td>5.18000</td>\n",
       "      <td>108.824077</td>\n",
       "      <td>104.865</td>\n",
       "    </tr>\n",
       "    <tr>\n",
       "      <td>12</td>\n",
       "      <td>6.704007</td>\n",
       "      <td>5.17000</td>\n",
       "      <td>108.904577</td>\n",
       "      <td>102.565</td>\n",
       "    </tr>\n",
       "    <tr>\n",
       "      <td>13</td>\n",
       "      <td>6.430622</td>\n",
       "      <td>5.31000</td>\n",
       "      <td>110.719495</td>\n",
       "      <td>106.565</td>\n",
       "    </tr>\n",
       "    <tr>\n",
       "      <td>14</td>\n",
       "      <td>6.223648</td>\n",
       "      <td>5.03500</td>\n",
       "      <td>108.851910</td>\n",
       "      <td>103.750</td>\n",
       "    </tr>\n",
       "    <tr>\n",
       "      <td>15</td>\n",
       "      <td>6.457827</td>\n",
       "      <td>5.05000</td>\n",
       "      <td>109.544294</td>\n",
       "      <td>105.095</td>\n",
       "    </tr>\n",
       "    <tr>\n",
       "      <td>16</td>\n",
       "      <td>6.270367</td>\n",
       "      <td>5.20014</td>\n",
       "      <td>108.951365</td>\n",
       "      <td>105.990</td>\n",
       "    </tr>\n",
       "    <tr>\n",
       "      <td>17</td>\n",
       "      <td>6.435916</td>\n",
       "      <td>4.90000</td>\n",
       "      <td>107.607124</td>\n",
       "      <td>105.080</td>\n",
       "    </tr>\n",
       "    <tr>\n",
       "      <td>18</td>\n",
       "      <td>6.399231</td>\n",
       "      <td>5.40000</td>\n",
       "      <td>104.883771</td>\n",
       "      <td>103.850</td>\n",
       "    </tr>\n",
       "    <tr>\n",
       "      <td>19</td>\n",
       "      <td>7.462815</td>\n",
       "      <td>5.04250</td>\n",
       "      <td>112.184167</td>\n",
       "      <td>106.255</td>\n",
       "    </tr>\n",
       "    <tr>\n",
       "      <td>20</td>\n",
       "      <td>6.164182</td>\n",
       "      <td>4.97000</td>\n",
       "      <td>109.863889</td>\n",
       "      <td>104.810</td>\n",
       "    </tr>\n",
       "    <tr>\n",
       "      <td>21</td>\n",
       "      <td>6.687592</td>\n",
       "      <td>5.20000</td>\n",
       "      <td>113.291157</td>\n",
       "      <td>108.040</td>\n",
       "    </tr>\n",
       "    <tr>\n",
       "      <td>22</td>\n",
       "      <td>6.102772</td>\n",
       "      <td>5.27450</td>\n",
       "      <td>110.512946</td>\n",
       "      <td>105.250</td>\n",
       "    </tr>\n",
       "    <tr>\n",
       "      <td>23</td>\n",
       "      <td>5.937647</td>\n",
       "      <td>5.17000</td>\n",
       "      <td>111.891616</td>\n",
       "      <td>107.540</td>\n",
       "    </tr>\n",
       "    <tr>\n",
       "      <td>24</td>\n",
       "      <td>6.416725</td>\n",
       "      <td>5.15000</td>\n",
       "      <td>109.784426</td>\n",
       "      <td>105.100</td>\n",
       "    </tr>\n",
       "    <tr>\n",
       "      <td>25</td>\n",
       "      <td>15.118186</td>\n",
       "      <td>4.77500</td>\n",
       "      <td>113.323261</td>\n",
       "      <td>101.435</td>\n",
       "    </tr>\n",
       "    <tr>\n",
       "      <td>26</td>\n",
       "      <td>4.571042</td>\n",
       "      <td>4.04000</td>\n",
       "      <td>95.807083</td>\n",
       "      <td>91.180</td>\n",
       "    </tr>\n",
       "    <tr>\n",
       "      <td>27</td>\n",
       "      <td>4.765702</td>\n",
       "      <td>4.49400</td>\n",
       "      <td>92.477000</td>\n",
       "      <td>87.915</td>\n",
       "    </tr>\n",
       "    <tr>\n",
       "      <td>28</td>\n",
       "      <td>5.990000</td>\n",
       "      <td>5.99000</td>\n",
       "      <td>110.930000</td>\n",
       "      <td>110.930</td>\n",
       "    </tr>\n",
       "    <tr>\n",
       "      <td>29</td>\n",
       "      <td>9.200000</td>\n",
       "      <td>9.20000</td>\n",
       "      <td>122.670000</td>\n",
       "      <td>122.670</td>\n",
       "    </tr>\n",
       "    <tr>\n",
       "      <td>30</td>\n",
       "      <td>10.150000</td>\n",
       "      <td>10.15000</td>\n",
       "      <td>137.160000</td>\n",
       "      <td>137.160</td>\n",
       "    </tr>\n",
       "    <tr>\n",
       "      <td>31</td>\n",
       "      <td>5.700000</td>\n",
       "      <td>5.70000</td>\n",
       "      <td>105.560000</td>\n",
       "      <td>105.560</td>\n",
       "    </tr>\n",
       "    <tr>\n",
       "      <td>32</td>\n",
       "      <td>9.900000</td>\n",
       "      <td>9.90000</td>\n",
       "      <td>98.020000</td>\n",
       "      <td>98.020</td>\n",
       "    </tr>\n",
       "    <tr>\n",
       "      <td>33</td>\n",
       "      <td>9.900000</td>\n",
       "      <td>9.90000</td>\n",
       "      <td>98.020000</td>\n",
       "      <td>98.020</td>\n",
       "    </tr>\n",
       "  </tbody>\n",
       "</table>\n",
       "</div>"
      ],
      "text/plain": [
       "      last_price            price_metr         \n",
       "            mean    median        mean   median\n",
       "floor                                          \n",
       "1       4.805699   3.90000   81.995944   81.235\n",
       "2       6.162681   4.49000   94.384688   90.730\n",
       "3       6.725367   4.60000   97.682916   93.460\n",
       "4       7.133279   4.70000   99.613518   93.125\n",
       "5       6.618781   4.40000   96.113454   90.700\n",
       "6       7.528837   5.10000  109.508032   99.345\n",
       "7       7.922230   4.95000  109.403130  100.000\n",
       "8       6.822020   4.80000  107.186763  100.080\n",
       "9       6.318548   4.67000  103.924025   97.985\n",
       "10      7.679125   5.04850  110.511623  104.470\n",
       "11      6.504624   5.18000  108.824077  104.865\n",
       "12      6.704007   5.17000  108.904577  102.565\n",
       "13      6.430622   5.31000  110.719495  106.565\n",
       "14      6.223648   5.03500  108.851910  103.750\n",
       "15      6.457827   5.05000  109.544294  105.095\n",
       "16      6.270367   5.20014  108.951365  105.990\n",
       "17      6.435916   4.90000  107.607124  105.080\n",
       "18      6.399231   5.40000  104.883771  103.850\n",
       "19      7.462815   5.04250  112.184167  106.255\n",
       "20      6.164182   4.97000  109.863889  104.810\n",
       "21      6.687592   5.20000  113.291157  108.040\n",
       "22      6.102772   5.27450  110.512946  105.250\n",
       "23      5.937647   5.17000  111.891616  107.540\n",
       "24      6.416725   5.15000  109.784426  105.100\n",
       "25     15.118186   4.77500  113.323261  101.435\n",
       "26      4.571042   4.04000   95.807083   91.180\n",
       "27      4.765702   4.49400   92.477000   87.915\n",
       "28      5.990000   5.99000  110.930000  110.930\n",
       "29      9.200000   9.20000  122.670000  122.670\n",
       "30     10.150000  10.15000  137.160000  137.160\n",
       "31      5.700000   5.70000  105.560000  105.560\n",
       "32      9.900000   9.90000   98.020000   98.020\n",
       "33      9.900000   9.90000   98.020000   98.020"
      ]
     },
     "execution_count": 51,
     "metadata": {},
     "output_type": "execute_result"
    }
   ],
   "source": [
    "data.pivot_table(index = ['floor'], values = ('price_metr', 'last_price'), aggfunc = ('median', 'mean'))"
   ]
  },
  {
   "cell_type": "code",
   "execution_count": 52,
   "metadata": {},
   "outputs": [
    {
     "data": {
      "text/plain": [
       "Text(0.5, 1.0, 'Price per metr and floors')"
      ]
     },
     "execution_count": 52,
     "metadata": {},
     "output_type": "execute_result"
    },
    {
     "data": {
      "image/png": "[encoded data removed]",
      "text/plain": [
       "<Figure size 432x288 with 1 Axes>"
      ]
     },
     "metadata": {
      "needs_background": "light"
     },
     "output_type": "display_data"
    }
   ],
   "source": [
    "data.pivot_table(index = ['floor'], values = 'price_metr', aggfunc = ('mean','median')).plot()\n",
    "plt.title('Price per metr and floors')"
   ]
  },
  {
   "cell_type": "code",
   "execution_count": 53,
   "metadata": {},
   "outputs": [
    {
     "data": {
      "text/plain": [
       "Text(0.5, 1.0, 'Price total and floors')"
      ]
     },
     "execution_count": 53,
     "metadata": {},
     "output_type": "execute_result"
    },
    {
     "data": {
      "image/png": "[encoded data removed]",
      "text/plain": [
       "<Figure size 432x288 with 1 Axes>"
      ]
     },
     "metadata": {
      "needs_background": "light"
     },
     "output_type": "display_data"
    }
   ],
   "source": [
    "data.pivot_table(index = ['floor'], values = 'last_price', aggfunc = ('mean','median')).plot()\n",
    "plt.title('Price total and floors')"
   ]
  },
  {
   "cell_type": "markdown",
   "metadata": {},
   "source": [
    "Относительно влияния категории этажа можно отметить, что явной взаимосвязи со стоимостью квартир нет. Но если исходить из диаграммы рассеяния, то видно, что с увеличением этажа цена в среднем растёт.\n",
    "Вместе с тем, по диаграммам рассеяния средних и медианных стоимости и цены за кв.м по отношению к этажам можно отметить, что с увеличением этажа - цена за метр растет. Но по общей стоимости - это не так сильно выражено. \n",
    "Кроме того, есть явные выбросы для этажей 25 и 30 с очень высокими ценами."
   ]
  },
  {
   "cell_type": "markdown",
   "metadata": {},
   "source": [
    " - **Влияние даты размещения: дня недели, месяца и года**"
   ]
  },
  {
   "cell_type": "code",
   "execution_count": 54,
   "metadata": {
    "scrolled": true
   },
   "outputs": [
    {
     "data": {
      "text/plain": [
       "0.001"
      ]
     },
     "metadata": {},
     "output_type": "display_data"
    },
    {
     "data": {
      "text/plain": [
       "0.003"
      ]
     },
     "metadata": {},
     "output_type": "display_data"
    },
    {
     "data": {
      "text/plain": [
       "-0.043"
      ]
     },
     "metadata": {},
     "output_type": "display_data"
    },
    {
     "data": {
      "image/png": "[encoded data removed]",
      "text/plain": [
       "<Figure size 432x288 with 1 Axes>"
      ]
     },
     "metadata": {
      "needs_background": "light"
     },
     "output_type": "display_data"
    },
    {
     "data": {
      "image/png": "[encoded data removed]",
      "text/plain": [
       "<Figure size 576x432 with 2 Axes>"
      ]
     },
     "metadata": {
      "needs_background": "light"
     },
     "output_type": "display_data"
    },
    {
     "data": {
      "image/png": "[encoded data removed]",
      "text/plain": [
       "<Figure size 432x288 with 1 Axes>"
      ]
     },
     "metadata": {
      "needs_background": "light"
     },
     "output_type": "display_data"
    },
    {
     "data": {
      "image/png": "[encoded data removed]",
      "text/plain": [
       "<Figure size 576x432 with 2 Axes>"
      ]
     },
     "metadata": {
      "needs_background": "light"
     },
     "output_type": "display_data"
    },
    {
     "data": {
      "image/png": "[encoded data removed]",
      "text/plain": [
       "<Figure size 432x288 with 1 Axes>"
      ]
     },
     "metadata": {
      "needs_background": "light"
     },
     "output_type": "display_data"
    },
    {
     "data": {
      "image/png": "[encoded data removed]",
      "text/plain": [
       "<Figure size 576x432 with 2 Axes>"
      ]
     },
     "metadata": {
      "needs_background": "light"
     },
     "output_type": "display_data"
    }
   ],
   "source": [
    "# посмотрим корреляции между этими величинами и построим диаграмму рассеяния\n",
    "corr_list1 = ['day_week', 'month', 'year']\n",
    "corr_numbers3 = []\n",
    "for col in corr_list1:\n",
    "    display(round(data['last_price'].corr(data[col]), 3))\n",
    "    corr_numbers3.append(data['last_price'].corr(data[col]))\n",
    "    data.plot(x = col, y = 'last_price', kind = 'scatter', grid=True)\n",
    "    data.plot(x=col, y='last_price', kind='hexbin', gridsize=20, figsize=(8, 6), sharex=False, grid=True)"
   ]
  },
  {
   "cell_type": "markdown",
   "metadata": {},
   "source": [
    "Календарные характеристики, как месяц и день недели, не имею явного влияния на цену квартиры. Хотя можно отметить некоторые повышения стоимости с понедельника по среду и в субботу, и с марта по апрель и декабрь. Относительно годов, наибольшую цену за квартиры в 2017 и 2018 гг.\n",
    "Кроме того, можно отметить более низкое количество новых объявлений в выходные дни. Скорее всего, это связано с тем, что многие объявления публикуются риелторами, которые реже работают в выходные. "
   ]
  },
  {
   "cell_type": "markdown",
   "metadata": {},
   "source": [
    "### Анализ объявлений по населённым пунктам"
   ]
  },
  {
   "cell_type": "markdown",
   "metadata": {},
   "source": [
    " - 10 населённых пунктов с наибольшим числом объявлений"
   ]
  },
  {
   "cell_type": "code",
   "execution_count": 55,
   "metadata": {},
   "outputs": [
    {
     "data": {
      "text/plain": [
       "Санкт-Петербург      15651\n",
       "посёлок Мурино         520\n",
       "посёлок Шушары         439\n",
       "Всеволожск             398\n",
       "Пушкин                 369\n",
       "Колпино                338\n",
       "посёлок Парголово      327\n",
       "Гатчина                307\n",
       "деревня Кудрово        299\n",
       "Выборг                 237\n",
       "Name: locality_name, dtype: int64"
      ]
     },
     "execution_count": 55,
     "metadata": {},
     "output_type": "execute_result"
    }
   ],
   "source": [
    "top10 = pd.Series(data['locality_name'].value_counts().head(10))\n",
    "top10"
   ]
  },
  {
   "cell_type": "markdown",
   "metadata": {},
   "source": [
    " - средняя цена квадратного метра"
   ]
  },
  {
   "cell_type": "code",
   "execution_count": 56,
   "metadata": {},
   "outputs": [
    {
     "data": {
      "text/html": [
       "<div>\n",
       "<style scoped>\n",
       "    .dataframe tbody tr th:only-of-type {\n",
       "        vertical-align: middle;\n",
       "    }\n",
       "\n",
       "    .dataframe tbody tr th {\n",
       "        vertical-align: top;\n",
       "    }\n",
       "\n",
       "    .dataframe thead th {\n",
       "        text-align: right;\n",
       "    }\n",
       "</style>\n",
       "<table border=\"1\" class=\"dataframe\">\n",
       "  <thead>\n",
       "    <tr style=\"text-align: right;\">\n",
       "      <th></th>\n",
       "      <th>price_metr</th>\n",
       "    </tr>\n",
       "    <tr>\n",
       "      <th>locality_name</th>\n",
       "      <th></th>\n",
       "    </tr>\n",
       "  </thead>\n",
       "  <tbody>\n",
       "    <tr>\n",
       "      <td>Санкт-Петербург</td>\n",
       "      <td>114.868884</td>\n",
       "    </tr>\n",
       "    <tr>\n",
       "      <td>Пушкин</td>\n",
       "      <td>103.125854</td>\n",
       "    </tr>\n",
       "    <tr>\n",
       "      <td>деревня Кудрово</td>\n",
       "      <td>92.473712</td>\n",
       "    </tr>\n",
       "    <tr>\n",
       "      <td>посёлок Парголово</td>\n",
       "      <td>90.176177</td>\n",
       "    </tr>\n",
       "    <tr>\n",
       "      <td>посёлок Мурино</td>\n",
       "      <td>85.673327</td>\n",
       "    </tr>\n",
       "    <tr>\n",
       "      <td>посёлок Шушары</td>\n",
       "      <td>78.551595</td>\n",
       "    </tr>\n",
       "    <tr>\n",
       "      <td>Колпино</td>\n",
       "      <td>75.424467</td>\n",
       "    </tr>\n",
       "    <tr>\n",
       "      <td>Гатчина</td>\n",
       "      <td>68.746287</td>\n",
       "    </tr>\n",
       "    <tr>\n",
       "      <td>Всеволожск</td>\n",
       "      <td>68.654447</td>\n",
       "    </tr>\n",
       "    <tr>\n",
       "      <td>Выборг</td>\n",
       "      <td>58.141941</td>\n",
       "    </tr>\n",
       "  </tbody>\n",
       "</table>\n",
       "</div>"
      ],
      "text/plain": [
       "                   price_metr\n",
       "locality_name                \n",
       "Санкт-Петербург    114.868884\n",
       "Пушкин             103.125854\n",
       "деревня Кудрово     92.473712\n",
       "посёлок Парголово   90.176177\n",
       "посёлок Мурино      85.673327\n",
       "посёлок Шушары      78.551595\n",
       "Колпино             75.424467\n",
       "Гатчина             68.746287\n",
       "Всеволожск          68.654447\n",
       "Выборг              58.141941"
      ]
     },
     "execution_count": 56,
     "metadata": {},
     "output_type": "execute_result"
    }
   ],
   "source": [
    "data.query('locality_name in @top10.index').pivot_table(\n",
    "    index = ['locality_name'], values = 'price_metr', aggfunc = 'mean'\n",
    ").sort_values(by = 'price_metr', ascending = False)"
   ]
  },
  {
   "cell_type": "markdown",
   "metadata": {},
   "source": [
    " - населённые пункты с самой высокой и низкой стоимостью жилья"
   ]
  },
  {
   "cell_type": "code",
   "execution_count": 57,
   "metadata": {},
   "outputs": [
    {
     "data": {
      "text/html": [
       "<div>\n",
       "<style scoped>\n",
       "    .dataframe tbody tr th:only-of-type {\n",
       "        vertical-align: middle;\n",
       "    }\n",
       "\n",
       "    .dataframe tbody tr th {\n",
       "        vertical-align: top;\n",
       "    }\n",
       "\n",
       "    .dataframe thead th {\n",
       "        text-align: right;\n",
       "    }\n",
       "</style>\n",
       "<table border=\"1\" class=\"dataframe\">\n",
       "  <thead>\n",
       "    <tr style=\"text-align: right;\">\n",
       "      <th></th>\n",
       "      <th>locality_name</th>\n",
       "      <th>last_price</th>\n",
       "      <th>total_area</th>\n",
       "    </tr>\n",
       "  </thead>\n",
       "  <tbody>\n",
       "    <tr>\n",
       "      <td>12917</td>\n",
       "      <td>Санкт-Петербург</td>\n",
       "      <td>763.0</td>\n",
       "      <td>400.0</td>\n",
       "    </tr>\n",
       "  </tbody>\n",
       "</table>\n",
       "</div>"
      ],
      "text/plain": [
       "         locality_name  last_price  total_area\n",
       "12917  Санкт-Петербург       763.0       400.0"
      ]
     },
     "execution_count": 57,
     "metadata": {},
     "output_type": "execute_result"
    }
   ],
   "source": [
    "data.query('last_price == last_price.max()').loc[:, ['locality_name', 'last_price', 'total_area']]"
   ]
  },
  {
   "cell_type": "code",
   "execution_count": 58,
   "metadata": {},
   "outputs": [
    {
     "data": {
      "text/html": [
       "<div>\n",
       "<style scoped>\n",
       "    .dataframe tbody tr th:only-of-type {\n",
       "        vertical-align: middle;\n",
       "    }\n",
       "\n",
       "    .dataframe tbody tr th {\n",
       "        vertical-align: top;\n",
       "    }\n",
       "\n",
       "    .dataframe thead th {\n",
       "        text-align: right;\n",
       "    }\n",
       "</style>\n",
       "<table border=\"1\" class=\"dataframe\">\n",
       "  <thead>\n",
       "    <tr style=\"text-align: right;\">\n",
       "      <th></th>\n",
       "      <th>locality_name</th>\n",
       "      <th>last_price</th>\n",
       "      <th>total_area</th>\n",
       "    </tr>\n",
       "  </thead>\n",
       "  <tbody>\n",
       "    <tr>\n",
       "      <td>8765</td>\n",
       "      <td>Санкт-Петербург</td>\n",
       "      <td>0.01219</td>\n",
       "      <td>109.0</td>\n",
       "    </tr>\n",
       "  </tbody>\n",
       "</table>\n",
       "</div>"
      ],
      "text/plain": [
       "        locality_name  last_price  total_area\n",
       "8765  Санкт-Петербург     0.01219       109.0"
      ]
     },
     "execution_count": 58,
     "metadata": {},
     "output_type": "execute_result"
    }
   ],
   "source": [
    "data.query('last_price == last_price.min()').loc[:, ['locality_name', 'last_price', 'total_area']]"
   ]
  },
  {
   "cell_type": "code",
   "execution_count": 59,
   "metadata": {},
   "outputs": [
    {
     "data": {
      "text/html": [
       "<div>\n",
       "<style scoped>\n",
       "    .dataframe tbody tr th:only-of-type {\n",
       "        vertical-align: middle;\n",
       "    }\n",
       "\n",
       "    .dataframe tbody tr th {\n",
       "        vertical-align: top;\n",
       "    }\n",
       "\n",
       "    .dataframe thead th {\n",
       "        text-align: right;\n",
       "    }\n",
       "</style>\n",
       "<table border=\"1\" class=\"dataframe\">\n",
       "  <thead>\n",
       "    <tr style=\"text-align: right;\">\n",
       "      <th></th>\n",
       "      <th>locality_name</th>\n",
       "      <th>last_price</th>\n",
       "      <th>total_area</th>\n",
       "      <th>price_metr</th>\n",
       "    </tr>\n",
       "  </thead>\n",
       "  <tbody>\n",
       "    <tr>\n",
       "      <td>8765</td>\n",
       "      <td>Санкт-Петербург</td>\n",
       "      <td>0.01219</td>\n",
       "      <td>109.0</td>\n",
       "      <td>0.11</td>\n",
       "    </tr>\n",
       "  </tbody>\n",
       "</table>\n",
       "</div>"
      ],
      "text/plain": [
       "        locality_name  last_price  total_area  price_metr\n",
       "8765  Санкт-Петербург     0.01219       109.0        0.11"
      ]
     },
     "execution_count": 59,
     "metadata": {},
     "output_type": "execute_result"
    }
   ],
   "source": [
    "data.query('price_metr == price_metr.min()').loc[:, ['locality_name', 'last_price', 'total_area', 'price_metr']]"
   ]
  },
  {
   "cell_type": "markdown",
   "metadata": {},
   "source": [
    "Самая высокая и низкая стоимостью жилья в Санкт-Петербурге и составляет 763 млн. руб. и 12 тыс.руб. соответственно. Возможно в данных по самой низкой стоимости ошибка, так как выглядит не реально. "
   ]
  },
  {
   "cell_type": "markdown",
   "metadata": {},
   "source": [
    "### Удаленность от центра для Санкт-Петербурга"
   ]
  },
  {
   "cell_type": "code",
   "execution_count": 60,
   "metadata": {},
   "outputs": [],
   "source": [
    "# выделите квартиры в Санкт-Петербурге\n",
    "objects_SP = data.query('locality_name == \"Санкт-Петербург\"')"
   ]
  },
  {
   "cell_type": "code",
   "execution_count": 61,
   "metadata": {},
   "outputs": [
    {
     "name": "stderr",
     "output_type": "stream",
     "text": [
      "/opt/conda/lib/python3.7/site-packages/ipykernel_launcher.py:3: SettingWithCopyWarning: \n",
      "A value is trying to be set on a copy of a slice from a DataFrame.\n",
      "Try using .loc[row_indexer,col_indexer] = value instead\n",
      "\n",
      "See the caveats in the documentation: http://pandas.pydata.org/pandas-docs/stable/user_guide/indexing.html#returning-a-view-versus-a-copy\n",
      "  This is separate from the ipykernel package so we can avoid doing imports until\n"
     ]
    },
    {
     "data": {
      "text/plain": [
       "0    16\n",
       "2    14\n",
       "3     7\n",
       "4     8\n",
       "7    12\n",
       "Name: city_centers_nearest, dtype: int64"
      ]
     },
     "execution_count": 61,
     "metadata": {},
     "output_type": "execute_result"
    }
   ],
   "source": [
    "# столбец с расстоянием до центра в километрах округлим до целых значений\n",
    "\n",
    "objects_SP.loc[:, 'city_centers_nearest'] = objects_SP.loc[:, 'city_centers_nearest'].round(0).astype('int')\n",
    "objects_SP.loc[:, 'city_centers_nearest'].head()\n"
   ]
  },
  {
   "cell_type": "code",
   "execution_count": 62,
   "metadata": {
    "scrolled": true
   },
   "outputs": [
    {
     "data": {
      "text/html": [
       "<div>\n",
       "<style scoped>\n",
       "    .dataframe tbody tr th:only-of-type {\n",
       "        vertical-align: middle;\n",
       "    }\n",
       "\n",
       "    .dataframe tbody tr th {\n",
       "        vertical-align: top;\n",
       "    }\n",
       "\n",
       "    .dataframe thead th {\n",
       "        text-align: right;\n",
       "    }\n",
       "</style>\n",
       "<table border=\"1\" class=\"dataframe\">\n",
       "  <thead>\n",
       "    <tr style=\"text-align: right;\">\n",
       "      <th></th>\n",
       "      <th>city_centers_nearest</th>\n",
       "      <th>last_price</th>\n",
       "    </tr>\n",
       "  </thead>\n",
       "  <tbody>\n",
       "    <tr>\n",
       "      <td>0</td>\n",
       "      <td>0</td>\n",
       "      <td>31.449116</td>\n",
       "    </tr>\n",
       "    <tr>\n",
       "      <td>1</td>\n",
       "      <td>1</td>\n",
       "      <td>21.206721</td>\n",
       "    </tr>\n",
       "    <tr>\n",
       "      <td>2</td>\n",
       "      <td>2</td>\n",
       "      <td>17.788320</td>\n",
       "    </tr>\n",
       "    <tr>\n",
       "      <td>3</td>\n",
       "      <td>3</td>\n",
       "      <td>11.137395</td>\n",
       "    </tr>\n",
       "    <tr>\n",
       "      <td>4</td>\n",
       "      <td>4</td>\n",
       "      <td>13.304280</td>\n",
       "    </tr>\n",
       "    <tr>\n",
       "      <td>5</td>\n",
       "      <td>5</td>\n",
       "      <td>14.455996</td>\n",
       "    </tr>\n",
       "    <tr>\n",
       "      <td>6</td>\n",
       "      <td>6</td>\n",
       "      <td>15.338418</td>\n",
       "    </tr>\n",
       "    <tr>\n",
       "      <td>7</td>\n",
       "      <td>7</td>\n",
       "      <td>14.775153</td>\n",
       "    </tr>\n",
       "    <tr>\n",
       "      <td>8</td>\n",
       "      <td>8</td>\n",
       "      <td>9.949111</td>\n",
       "    </tr>\n",
       "    <tr>\n",
       "      <td>9</td>\n",
       "      <td>9</td>\n",
       "      <td>6.956583</td>\n",
       "    </tr>\n",
       "    <tr>\n",
       "      <td>10</td>\n",
       "      <td>10</td>\n",
       "      <td>6.500434</td>\n",
       "    </tr>\n",
       "    <tr>\n",
       "      <td>11</td>\n",
       "      <td>11</td>\n",
       "      <td>6.228108</td>\n",
       "    </tr>\n",
       "    <tr>\n",
       "      <td>12</td>\n",
       "      <td>12</td>\n",
       "      <td>6.197926</td>\n",
       "    </tr>\n",
       "    <tr>\n",
       "      <td>13</td>\n",
       "      <td>13</td>\n",
       "      <td>6.077643</td>\n",
       "    </tr>\n",
       "    <tr>\n",
       "      <td>14</td>\n",
       "      <td>14</td>\n",
       "      <td>5.625173</td>\n",
       "    </tr>\n",
       "    <tr>\n",
       "      <td>15</td>\n",
       "      <td>15</td>\n",
       "      <td>5.876323</td>\n",
       "    </tr>\n",
       "    <tr>\n",
       "      <td>16</td>\n",
       "      <td>16</td>\n",
       "      <td>5.373131</td>\n",
       "    </tr>\n",
       "    <tr>\n",
       "      <td>17</td>\n",
       "      <td>17</td>\n",
       "      <td>5.299496</td>\n",
       "    </tr>\n",
       "    <tr>\n",
       "      <td>18</td>\n",
       "      <td>18</td>\n",
       "      <td>5.091331</td>\n",
       "    </tr>\n",
       "    <tr>\n",
       "      <td>19</td>\n",
       "      <td>19</td>\n",
       "      <td>5.051410</td>\n",
       "    </tr>\n",
       "    <tr>\n",
       "      <td>20</td>\n",
       "      <td>20</td>\n",
       "      <td>5.951465</td>\n",
       "    </tr>\n",
       "    <tr>\n",
       "      <td>21</td>\n",
       "      <td>21</td>\n",
       "      <td>5.493469</td>\n",
       "    </tr>\n",
       "    <tr>\n",
       "      <td>22</td>\n",
       "      <td>22</td>\n",
       "      <td>5.415524</td>\n",
       "    </tr>\n",
       "    <tr>\n",
       "      <td>23</td>\n",
       "      <td>23</td>\n",
       "      <td>4.985376</td>\n",
       "    </tr>\n",
       "    <tr>\n",
       "      <td>24</td>\n",
       "      <td>24</td>\n",
       "      <td>3.854430</td>\n",
       "    </tr>\n",
       "    <tr>\n",
       "      <td>25</td>\n",
       "      <td>25</td>\n",
       "      <td>4.052840</td>\n",
       "    </tr>\n",
       "    <tr>\n",
       "      <td>26</td>\n",
       "      <td>26</td>\n",
       "      <td>4.014287</td>\n",
       "    </tr>\n",
       "    <tr>\n",
       "      <td>27</td>\n",
       "      <td>27</td>\n",
       "      <td>8.300000</td>\n",
       "    </tr>\n",
       "    <tr>\n",
       "      <td>28</td>\n",
       "      <td>28</td>\n",
       "      <td>5.026429</td>\n",
       "    </tr>\n",
       "    <tr>\n",
       "      <td>29</td>\n",
       "      <td>29</td>\n",
       "      <td>4.236667</td>\n",
       "    </tr>\n",
       "  </tbody>\n",
       "</table>\n",
       "</div>"
      ],
      "text/plain": [
       "    city_centers_nearest  last_price\n",
       "0                      0   31.449116\n",
       "1                      1   21.206721\n",
       "2                      2   17.788320\n",
       "3                      3   11.137395\n",
       "4                      4   13.304280\n",
       "5                      5   14.455996\n",
       "6                      6   15.338418\n",
       "7                      7   14.775153\n",
       "8                      8    9.949111\n",
       "9                      9    6.956583\n",
       "10                    10    6.500434\n",
       "11                    11    6.228108\n",
       "12                    12    6.197926\n",
       "13                    13    6.077643\n",
       "14                    14    5.625173\n",
       "15                    15    5.876323\n",
       "16                    16    5.373131\n",
       "17                    17    5.299496\n",
       "18                    18    5.091331\n",
       "19                    19    5.051410\n",
       "20                    20    5.951465\n",
       "21                    21    5.493469\n",
       "22                    22    5.415524\n",
       "23                    23    4.985376\n",
       "24                    24    3.854430\n",
       "25                    25    4.052840\n",
       "26                    26    4.014287\n",
       "27                    27    8.300000\n",
       "28                    28    5.026429\n",
       "29                    29    4.236667"
      ]
     },
     "execution_count": 62,
     "metadata": {},
     "output_type": "execute_result"
    }
   ],
   "source": [
    "# посчитаим среднюю цену для каждого километра\n",
    "objects_SP.pivot_table(\n",
    "    index = ['city_centers_nearest'], values = 'last_price', aggfunc = 'mean'\n",
    ").reset_index(drop=False)\n"
   ]
  },
  {
   "cell_type": "code",
   "execution_count": 63,
   "metadata": {},
   "outputs": [
    {
     "data": {
      "text/plain": [
       "<matplotlib.axes._subplots.AxesSubplot at 0x7f13a42af310>"
      ]
     },
     "execution_count": 63,
     "metadata": {},
     "output_type": "execute_result"
    },
    {
     "data": {
      "image/png": "[encoded data removed]",
      "text/plain": [
       "<Figure size 432x288 with 1 Axes>"
      ]
     },
     "metadata": {
      "needs_background": "light"
     },
     "output_type": "display_data"
    },
    {
     "data": {
      "image/png": "[encoded data removed]",
      "text/plain": [
       "<Figure size 576x432 with 2 Axes>"
      ]
     },
     "metadata": {
      "needs_background": "light"
     },
     "output_type": "display_data"
    }
   ],
   "source": [
    "# построим график влияния удалённости от центра на цену\n",
    "\n",
    "objects_SP.pivot_table(\n",
    "    index = ['city_centers_nearest'], values = 'last_price', aggfunc = 'mean'\n",
    ").reset_index(drop=False).plot(x = 'city_centers_nearest', y = 'last_price', kind = 'scatter', grid=True)\n",
    "\n",
    "objects_SP.pivot_table(\n",
    "    index = ['city_centers_nearest'], values = 'last_price', aggfunc = 'mean'\n",
    ").reset_index(drop=False).plot(x = 'city_centers_nearest', y = 'last_price', kind='hexbin', gridsize=20, figsize=(8, 6), sharex=False, grid=True)"
   ]
  },
  {
   "cell_type": "markdown",
   "metadata": {},
   "source": [
    "Судя по графику, центральная зона заканчивается на 9 км. При этом параметре происходит резкое изменение стоимости квартир в Санкт-Петербурге. "
   ]
  },
  {
   "cell_type": "markdown",
   "metadata": {},
   "source": [
    "### Анализ центра для Санкт-Петербурга"
   ]
  },
  {
   "cell_type": "code",
   "execution_count": 64,
   "metadata": {},
   "outputs": [],
   "source": [
    "# Выделим сегмент квартир в центре\n",
    "objects_SP_center = objects_SP.query('city_centers_nearest <= 9')"
   ]
  },
  {
   "cell_type": "code",
   "execution_count": 65,
   "metadata": {},
   "outputs": [],
   "source": [
    "# Выделим сегмент квартир вне центра\n",
    "objects_SP_other = objects_SP.query('city_centers_nearest > 9')\n"
   ]
  },
  {
   "cell_type": "code",
   "execution_count": 66,
   "metadata": {
    "scrolled": true
   },
   "outputs": [
    {
     "data": {
      "text/plain": [
       "count    4703.000000\n",
       "mean       86.376041\n",
       "std        56.815809\n",
       "min        12.000000\n",
       "25%        51.000000\n",
       "50%        72.600000\n",
       "75%       101.950000\n",
       "max       900.000000\n",
       "Name: total_area, dtype: float64"
      ]
     },
     "metadata": {},
     "output_type": "display_data"
    },
    {
     "data": {
      "image/png": "[encoded data removed]",
      "text/plain": [
       "<Figure size 432x288 with 1 Axes>"
      ]
     },
     "metadata": {
      "needs_background": "light"
     },
     "output_type": "display_data"
    },
    {
     "data": {
      "text/plain": [
       "count    10948.000000\n",
       "mean        55.454738\n",
       "std         25.740960\n",
       "min         13.000000\n",
       "25%         39.300000\n",
       "50%         49.700000\n",
       "75%         64.500000\n",
       "max        470.300000\n",
       "Name: total_area, dtype: float64"
      ]
     },
     "metadata": {},
     "output_type": "display_data"
    },
    {
     "data": {
      "image/png": "[encoded data removed]",
      "text/plain": [
       "<Figure size 432x288 with 1 Axes>"
      ]
     },
     "metadata": {
      "needs_background": "light"
     },
     "output_type": "display_data"
    },
    {
     "data": {
      "text/plain": [
       "count    4703.000000\n",
       "mean       13.267576\n",
       "std        22.267798\n",
       "min         0.012190\n",
       "25%         5.950967\n",
       "50%         8.500000\n",
       "75%        13.036548\n",
       "max       763.000000\n",
       "Name: last_price, dtype: float64"
      ]
     },
     "metadata": {},
     "output_type": "display_data"
    },
    {
     "data": {
      "image/png": "[encoded data removed]",
      "text/plain": [
       "<Figure size 432x288 with 1 Axes>"
      ]
     },
     "metadata": {
      "needs_background": "light"
     },
     "output_type": "display_data"
    },
    {
     "data": {
      "text/plain": [
       "count    10948.000000\n",
       "mean         5.829948\n",
       "std          3.653621\n",
       "min          1.190000\n",
       "25%          3.950000\n",
       "50%          4.900000\n",
       "75%          6.500000\n",
       "max        130.000000\n",
       "Name: last_price, dtype: float64"
      ]
     },
     "metadata": {},
     "output_type": "display_data"
    },
    {
     "data": {
      "image/png": "[encoded data removed]",
      "text/plain": [
       "<Figure size 432x288 with 1 Axes>"
      ]
     },
     "metadata": {
      "needs_background": "light"
     },
     "output_type": "display_data"
    },
    {
     "data": {
      "text/plain": [
       "count    4703.000000\n",
       "mean        2.670848\n",
       "std         1.394563\n",
       "min         0.000000\n",
       "25%         2.000000\n",
       "50%         3.000000\n",
       "75%         3.000000\n",
       "max        19.000000\n",
       "Name: rooms, dtype: float64"
      ]
     },
     "metadata": {},
     "output_type": "display_data"
    },
    {
     "data": {
      "image/png": "[encoded data removed]",
      "text/plain": [
       "<Figure size 432x288 with 1 Axes>"
      ]
     },
     "metadata": {
      "needs_background": "light"
     },
     "output_type": "display_data"
    },
    {
     "data": {
      "text/plain": [
       "count    10948.000000\n",
       "mean         1.958257\n",
       "std          0.947413\n",
       "min          0.000000\n",
       "25%          1.000000\n",
       "50%          2.000000\n",
       "75%          3.000000\n",
       "max         10.000000\n",
       "Name: rooms, dtype: float64"
      ]
     },
     "metadata": {},
     "output_type": "display_data"
    },
    {
     "data": {
      "image/png": "[encoded data removed]",
      "text/plain": [
       "<Figure size 432x288 with 1 Axes>"
      ]
     },
     "metadata": {
      "needs_background": "light"
     },
     "output_type": "display_data"
    },
    {
     "data": {
      "text/plain": [
       "count    4703.000000\n",
       "mean        2.904267\n",
       "std         0.298058\n",
       "min         2.500000\n",
       "25%         2.722026\n",
       "50%         2.740000\n",
       "75%         3.050000\n",
       "max         4.000000\n",
       "Name: ceiling_height, dtype: float64"
      ]
     },
     "metadata": {},
     "output_type": "display_data"
    },
    {
     "data": {
      "image/png": "[encoded data removed]",
      "text/plain": [
       "<Figure size 432x288 with 1 Axes>"
      ]
     },
     "metadata": {
      "needs_background": "light"
     },
     "output_type": "display_data"
    },
    {
     "data": {
      "text/plain": [
       "count    10948.000000\n",
       "mean         2.675996\n",
       "std          0.130288\n",
       "min          2.500000\n",
       "25%          2.570000\n",
       "50%          2.722026\n",
       "75%          2.722026\n",
       "max          4.000000\n",
       "Name: ceiling_height, dtype: float64"
      ]
     },
     "metadata": {},
     "output_type": "display_data"
    },
    {
     "data": {
      "image/png": "[encoded data removed]",
      "text/plain": [
       "<Figure size 432x288 with 1 Axes>"
      ]
     },
     "metadata": {
      "needs_background": "light"
     },
     "output_type": "display_data"
    }
   ],
   "source": [
    "# изучим площадь, цену, число комнат, высоту потолков\n",
    "col_list_SP = ['total_area', 'last_price', 'rooms', 'ceiling_height']\n",
    "for col in col_list_SP:\n",
    "    display(objects_SP_center[col].describe())\n",
    "    objects_SP_center[col].hist(bins = 50)\n",
    "    plt.title('In the center '+col)\n",
    "    plt.show()\n",
    "    display(objects_SP_other[col].describe())\n",
    "    objects_SP_other[col].hist(bins = 50)\n",
    "    plt.title('Out of the center '+col)\n",
    "    plt.show()"
   ]
  },
  {
   "cell_type": "markdown",
   "metadata": {},
   "source": [
    "Теперь можно сравнить параметры для объектов в центре Санкт-Петербурга и вне центра. \n",
    "Площадь в целом повторят распределение по всему городу, но среднее и медиана смещены в большую сторону в центре. \n",
    "Цены в центре тоже выше, чем во всем Санкт-Петербурге.\n",
    "Относительно количества комнат можно отметить, что в центре в среднем на 1 комнату больше исходя из медианного значения. Кроме того, потолки в центре немного выше, чем в среднем по всему городу. "
   ]
  },
  {
   "cell_type": "markdown",
   "metadata": {},
   "source": [
    "<div class=\"alert alert-success\">\n",
    "<b>Комментарий ревьюера v2:</b>☀️\n",
    "    \n",
    "Центр города обладает некоторыми отличиями касательно цены и роскоши). Если убрать в центре `show`, распределение параметров в центре и вне его будут строиться на одном графике\n",
    "</div>\n"
   ]
  },
  {
   "cell_type": "code",
   "execution_count": 67,
   "metadata": {
    "scrolled": true
   },
   "outputs": [
    {
     "data": {
      "text/html": [
       "<div>\n",
       "<style scoped>\n",
       "    .dataframe tbody tr th:only-of-type {\n",
       "        vertical-align: middle;\n",
       "    }\n",
       "\n",
       "    .dataframe tbody tr th {\n",
       "        vertical-align: top;\n",
       "    }\n",
       "\n",
       "    .dataframe thead th {\n",
       "        text-align: right;\n",
       "    }\n",
       "</style>\n",
       "<table border=\"1\" class=\"dataframe\">\n",
       "  <thead>\n",
       "    <tr style=\"text-align: right;\">\n",
       "      <th></th>\n",
       "      <th>rooms</th>\n",
       "      <th>floor_cat_num</th>\n",
       "      <th>city_centers_nearest</th>\n",
       "      <th>day_week</th>\n",
       "      <th>month</th>\n",
       "      <th>year</th>\n",
       "    </tr>\n",
       "  </thead>\n",
       "  <tbody>\n",
       "    <tr>\n",
       "      <td>в центре</td>\n",
       "      <td>0.350873</td>\n",
       "      <td>0.0961</td>\n",
       "      <td>-0.123773</td>\n",
       "      <td>0.019572</td>\n",
       "      <td>0.001881</td>\n",
       "      <td>-0.052267</td>\n",
       "    </tr>\n",
       "    <tr>\n",
       "      <td>вне центре</td>\n",
       "      <td>0.350873</td>\n",
       "      <td>0.0961</td>\n",
       "      <td>-0.123773</td>\n",
       "      <td>0.019572</td>\n",
       "      <td>0.001881</td>\n",
       "      <td>-0.052267</td>\n",
       "    </tr>\n",
       "  </tbody>\n",
       "</table>\n",
       "</div>"
      ],
      "text/plain": [
       "                rooms  floor_cat_num  city_centers_nearest  day_week  \\\n",
       " в центре    0.350873         0.0961             -0.123773  0.019572   \n",
       " вне центре  0.350873         0.0961             -0.123773  0.019572   \n",
       "\n",
       "                month      year  \n",
       " в центре    0.001881 -0.052267  \n",
       " вне центре  0.001881 -0.052267  "
      ]
     },
     "execution_count": 67,
     "metadata": {},
     "output_type": "execute_result"
    },
    {
     "data": {
      "image/png": "[encoded data removed]",
      "text/plain": [
       "<Figure size 432x288 with 1 Axes>"
      ]
     },
     "metadata": {
      "needs_background": "light"
     },
     "output_type": "display_data"
    },
    {
     "data": {
      "image/png": "[encoded data removed]",
      "text/plain": [
       "<Figure size 432x288 with 1 Axes>"
      ]
     },
     "metadata": {
      "needs_background": "light"
     },
     "output_type": "display_data"
    },
    {
     "data": {
      "image/png": "[encoded data removed]",
      "text/plain": [
       "<Figure size 432x288 with 1 Axes>"
      ]
     },
     "metadata": {
      "needs_background": "light"
     },
     "output_type": "display_data"
    },
    {
     "data": {
      "image/png": "[encoded data removed]",
      "text/plain": [
       "<Figure size 432x288 with 1 Axes>"
      ]
     },
     "metadata": {
      "needs_background": "light"
     },
     "output_type": "display_data"
    },
    {
     "data": {
      "image/png": "[encoded data removed]",
      "text/plain": [
       "<Figure size 432x288 with 1 Axes>"
      ]
     },
     "metadata": {
      "needs_background": "light"
     },
     "output_type": "display_data"
    },
    {
     "data": {
      "image/png": "[encoded data removed]",
      "text/plain": [
       "<Figure size 432x288 with 1 Axes>"
      ]
     },
     "metadata": {
      "needs_background": "light"
     },
     "output_type": "display_data"
    },
    {
     "data": {
      "image/png": "[encoded data removed]",
      "text/plain": [
       "<Figure size 432x288 with 1 Axes>"
      ]
     },
     "metadata": {
      "needs_background": "light"
     },
     "output_type": "display_data"
    },
    {
     "data": {
      "image/png": "[encoded data removed]",
      "text/plain": [
       "<Figure size 432x288 with 1 Axes>"
      ]
     },
     "metadata": {
      "needs_background": "light"
     },
     "output_type": "display_data"
    },
    {
     "data": {
      "image/png": "[encoded data removed]",
      "text/plain": [
       "<Figure size 432x288 with 1 Axes>"
      ]
     },
     "metadata": {
      "needs_background": "light"
     },
     "output_type": "display_data"
    },
    {
     "data": {
      "image/png": "[encoded data removed]",
      "text/plain": [
       "<Figure size 432x288 with 1 Axes>"
      ]
     },
     "metadata": {
      "needs_background": "light"
     },
     "output_type": "display_data"
    },
    {
     "data": {
      "image/png": "[encoded data removed]",
      "text/plain": [
       "<Figure size 432x288 with 1 Axes>"
      ]
     },
     "metadata": {
      "needs_background": "light"
     },
     "output_type": "display_data"
    },
    {
     "data": {
      "image/png": "[encoded data removed]",
      "text/plain": [
       "<Figure size 432x288 with 1 Axes>"
      ]
     },
     "metadata": {
      "needs_background": "light"
     },
     "output_type": "display_data"
    }
   ],
   "source": [
    "# рассмотрим влияение \n",
    "# стоимости квартиры числа комнат, этажа, удалённость от центра, дата размещения объявления \n",
    "# в центре и во всем городе\n",
    "center = [' в центре', ' вне центре']\n",
    "col_list_SP2 = ['rooms', 'floor_cat_num', 'city_centers_nearest', 'day_week', 'month', 'year']\n",
    "corr_numbers_in = []\n",
    "corr_numbers_out = []\n",
    "for col in col_list_SP2:\n",
    "    corr_numbers_in.append(objects_SP_center['last_price'].corr(objects_SP_center[col]))\n",
    "    corr_numbers_out.append(objects_SP_center['last_price'].corr(objects_SP_center[col]))\n",
    "\n",
    "    objects_SP_center.plot(x = col, y = 'last_price', kind = 'scatter', grid=True, alpha = 0.3, )\n",
    "    plt.title ('в центре')\n",
    "    \n",
    "    objects_SP_other.plot(x = col, y = 'last_price', kind = 'scatter', grid=True, alpha = 0.3)\n",
    "    plt.title ('вне центре')\n",
    "    \n",
    "corr_numbers = [corr_numbers_in, corr_numbers_out]\n",
    "pd.DataFrame(data= corr_numbers, index=center, columns = col_list_SP2)\n"
   ]
  },
  {
   "cell_type": "markdown",
   "metadata": {},
   "source": [
    "Явных корреляций среди рассматриваемых параметров нет. Исходя из точечных диаграмм можно отметить: \n",
    "- цена растёт с увеличением комнат, но до 5\n",
    "- В центре за последние этажи цена выше, вне центра - выше отличные от первого и последнего \n",
    "- Удалённость от центра влияет на цену вне центра, тогда как внутри центральной зоны не выявляется зависимость\n",
    "- Объявления, размещаемые в понедельник, среду и субботу, с ценой чуть выше. Если рассматривать месяца, то для центра более дорогие объявления размещали в первые 5, для другой зоны - нет значительной разницы. Также в 2017 год выставляли более дорогие объекты на продажу. \n"
   ]
  },
  {
   "cell_type": "markdown",
   "metadata": {},
   "source": [
    "## Общий вывод"
   ]
  },
  {
   "cell_type": "markdown",
   "metadata": {},
   "source": [
    "В данной работе рассмотрены объявления по продаже квартир в Санкт-Петербурге и ближайших населённых пунктах с целью проанализировать факторы, влияющие на стоимость квартир.\n",
    "\n",
    "Были преобразованы типы данных в целочисленный и единицы исчисления в более привычный формат (км и млн) для повыщения наглядности и читаемости данных. Созданы новые столбцы с ценой квадратного метра, календарными характеристиками и соотношением площадей. \n",
    "\n",
    "Для заполнения пропусков использовались средние значения тех же категориях (расстояния до объектов, ), коэффициенты соотношения от зависимых данных (для площадей), нулевые значения (для количества: балконы, парки, аэропорты).\n",
    " \n",
    "В данных наблюдаются аномалии, как например, слишком высокие потолки, частое закрытие объявлений в 30, 45, 60 и 90 дней, а также вероятные ошибки, как например, очень дешевая квартира 12 тыс. руб. \n",
    "\n",
    "Для анализа использовались метод describe, гистограммы, диаграммы рассеяния, коэффициенты коррреляции. \n",
    "\n",
    "В среднем продают 2-3х комнатные квартиры, площадью около 50-60 кв.м. \n",
    "Наибольшее число объявлений размещено для Санкт- Петербурга. Там же были самый дорогой и дешевый объект. \n",
    "\n",
    "Повышение цен наблюдалось в 2017 году, а менее активное размещение объявлений в выходные.\n",
    "\n",
    "По расчетам средней цены квартир в Санкт- Петербурге удалось определить центральную зону, в которой отмечется общее повышение стоимости недвижимости. \n",
    "\n",
    "В итоге анализ имеющихся данных позволил сделать вывод, что на цену в той или иной степени влияет площадь, количество комнат, этаж и удалённость от центра. "
   ]
  },
  {
   "cell_type": "code",
   "execution_count": null,
   "metadata": {},
   "outputs": [],
   "source": []
  }
 ],
 "metadata": {
  "ExecuteTimeLog": [
   {
    "duration": 922,
    "start_time": "2022-01-21T10:18:43.947Z"
   },
   {
    "duration": 2885,
    "start_time": "2022-01-21T10:18:44.872Z"
   },
   {
    "duration": -14444617,
    "start_time": "2022-01-21T14:19:32.379Z"
   },
   {
    "duration": -14444622,
    "start_time": "2022-01-21T14:19:32.386Z"
   },
   {
    "duration": -14444628,
    "start_time": "2022-01-21T14:19:32.394Z"
   },
   {
    "duration": -14444630,
    "start_time": "2022-01-21T14:19:32.397Z"
   },
   {
    "duration": -14444633,
    "start_time": "2022-01-21T14:19:32.402Z"
   },
   {
    "duration": -14444642,
    "start_time": "2022-01-21T14:19:32.412Z"
   },
   {
    "duration": -14444643,
    "start_time": "2022-01-21T14:19:32.415Z"
   },
   {
    "duration": -14444646,
    "start_time": "2022-01-21T14:19:32.419Z"
   },
   {
    "duration": -14444654,
    "start_time": "2022-01-21T14:19:32.429Z"
   },
   {
    "duration": -14444657,
    "start_time": "2022-01-21T14:19:32.433Z"
   },
   {
    "duration": -14444666,
    "start_time": "2022-01-21T14:19:32.444Z"
   },
   {
    "duration": -14444670,
    "start_time": "2022-01-21T14:19:32.449Z"
   },
   {
    "duration": -14444673,
    "start_time": "2022-01-21T14:19:32.454Z"
   },
   {
    "duration": -14444676,
    "start_time": "2022-01-21T14:19:32.458Z"
   },
   {
    "duration": -14444679,
    "start_time": "2022-01-21T14:19:32.462Z"
   },
   {
    "duration": -14444681,
    "start_time": "2022-01-21T14:19:32.466Z"
   },
   {
    "duration": -14444684,
    "start_time": "2022-01-21T14:19:32.470Z"
   },
   {
    "duration": -14444687,
    "start_time": "2022-01-21T14:19:32.474Z"
   },
   {
    "duration": -14444695,
    "start_time": "2022-01-21T14:19:32.484Z"
   },
   {
    "duration": -14444697,
    "start_time": "2022-01-21T14:19:32.487Z"
   },
   {
    "duration": -14444699,
    "start_time": "2022-01-21T14:19:32.490Z"
   },
   {
    "duration": -14444701,
    "start_time": "2022-01-21T14:19:32.493Z"
   },
   {
    "duration": -14444704,
    "start_time": "2022-01-21T14:19:32.498Z"
   },
   {
    "duration": -14444710,
    "start_time": "2022-01-21T14:19:32.505Z"
   },
   {
    "duration": -14444718,
    "start_time": "2022-01-21T14:19:32.514Z"
   },
   {
    "duration": -14444720,
    "start_time": "2022-01-21T14:19:32.517Z"
   },
   {
    "duration": -14444722,
    "start_time": "2022-01-21T14:19:32.521Z"
   },
   {
    "duration": -14444723,
    "start_time": "2022-01-21T14:19:32.523Z"
   },
   {
    "duration": -14444726,
    "start_time": "2022-01-21T14:19:32.527Z"
   },
   {
    "duration": -14444727,
    "start_time": "2022-01-21T14:19:32.530Z"
   },
   {
    "duration": -14444730,
    "start_time": "2022-01-21T14:19:32.534Z"
   },
   {
    "duration": -14444736,
    "start_time": "2022-01-21T14:19:32.541Z"
   },
   {
    "duration": -14444737,
    "start_time": "2022-01-21T14:19:32.544Z"
   },
   {
    "duration": -14444739,
    "start_time": "2022-01-21T14:19:32.547Z"
   },
   {
    "duration": -14444682,
    "start_time": "2022-01-21T14:19:32.552Z"
   },
   {
    "duration": -14444685,
    "start_time": "2022-01-21T14:19:32.556Z"
   },
   {
    "duration": -14445108,
    "start_time": "2022-01-21T14:19:32.981Z"
   },
   {
    "duration": -14445221,
    "start_time": "2022-01-21T14:19:33.095Z"
   },
   {
    "duration": -14445223,
    "start_time": "2022-01-21T14:19:33.098Z"
   },
   {
    "duration": -14445226,
    "start_time": "2022-01-21T14:19:33.102Z"
   },
   {
    "duration": -14445227,
    "start_time": "2022-01-21T14:19:33.105Z"
   },
   {
    "duration": -14445229,
    "start_time": "2022-01-21T14:19:33.108Z"
   },
   {
    "duration": -14445231,
    "start_time": "2022-01-21T14:19:33.112Z"
   },
   {
    "duration": -14445233,
    "start_time": "2022-01-21T14:19:33.115Z"
   },
   {
    "duration": -14445243,
    "start_time": "2022-01-21T14:19:33.126Z"
   },
   {
    "duration": -14445244,
    "start_time": "2022-01-21T14:19:33.129Z"
   },
   {
    "duration": -14445247,
    "start_time": "2022-01-21T14:19:33.133Z"
   },
   {
    "duration": -14445249,
    "start_time": "2022-01-21T14:19:33.136Z"
   },
   {
    "duration": -14445251,
    "start_time": "2022-01-21T14:19:33.140Z"
   },
   {
    "duration": -14445252,
    "start_time": "2022-01-21T14:19:33.142Z"
   },
   {
    "duration": -14445250,
    "start_time": "2022-01-21T14:19:33.146Z"
   },
   {
    "duration": -14445251,
    "start_time": "2022-01-21T14:19:33.148Z"
   },
   {
    "duration": -14445253,
    "start_time": "2022-01-21T14:19:33.152Z"
   },
   {
    "duration": -14445255,
    "start_time": "2022-01-21T14:19:33.155Z"
   },
   {
    "duration": -14445257,
    "start_time": "2022-01-21T14:19:33.158Z"
   },
   {
    "duration": -14445258,
    "start_time": "2022-01-21T14:19:33.160Z"
   },
   {
    "duration": -14445261,
    "start_time": "2022-01-21T14:19:33.164Z"
   },
   {
    "duration": -14445262,
    "start_time": "2022-01-21T14:19:33.167Z"
   },
   {
    "duration": -14445272,
    "start_time": "2022-01-21T14:19:33.178Z"
   },
   {
    "duration": 962,
    "start_time": "2022-01-21T10:21:50.487Z"
   },
   {
    "duration": 3,
    "start_time": "2022-01-21T10:21:51.452Z"
   },
   {
    "duration": 95,
    "start_time": "2022-01-21T10:21:51.470Z"
   },
   {
    "duration": 40,
    "start_time": "2022-01-21T10:21:51.568Z"
   },
   {
    "duration": 5,
    "start_time": "2022-01-21T10:21:51.610Z"
   },
   {
    "duration": 15,
    "start_time": "2022-01-21T10:21:51.617Z"
   },
   {
    "duration": 14,
    "start_time": "2022-01-21T10:21:51.670Z"
   },
   {
    "duration": 13,
    "start_time": "2022-01-21T10:21:51.689Z"
   },
   {
    "duration": 6,
    "start_time": "2022-01-21T10:21:51.705Z"
   },
   {
    "duration": 9,
    "start_time": "2022-01-21T10:21:51.713Z"
   },
   {
    "duration": 14,
    "start_time": "2022-01-21T10:21:51.770Z"
   },
   {
    "duration": 8,
    "start_time": "2022-01-21T10:21:51.786Z"
   },
   {
    "duration": 10,
    "start_time": "2022-01-21T10:21:51.796Z"
   },
   {
    "duration": 11,
    "start_time": "2022-01-21T10:21:51.808Z"
   },
   {
    "duration": 47,
    "start_time": "2022-01-21T10:21:51.822Z"
   },
   {
    "duration": 37,
    "start_time": "2022-01-21T10:21:51.872Z"
   },
   {
    "duration": 13,
    "start_time": "2022-01-21T10:21:51.911Z"
   },
   {
    "duration": 6,
    "start_time": "2022-01-21T10:21:51.927Z"
   },
   {
    "duration": 38,
    "start_time": "2022-01-21T10:21:51.935Z"
   },
   {
    "duration": 13,
    "start_time": "2022-01-21T10:21:51.976Z"
   },
   {
    "duration": 8,
    "start_time": "2022-01-21T10:21:51.991Z"
   },
   {
    "duration": 8,
    "start_time": "2022-01-21T10:21:52.001Z"
   },
   {
    "duration": 54,
    "start_time": "2022-01-21T10:21:52.017Z"
   },
   {
    "duration": 6,
    "start_time": "2022-01-21T10:21:52.075Z"
   },
   {
    "duration": 12,
    "start_time": "2022-01-21T10:21:52.083Z"
   },
   {
    "duration": 8,
    "start_time": "2022-01-21T10:21:52.097Z"
   },
   {
    "duration": 11,
    "start_time": "2022-01-21T10:21:52.108Z"
   },
   {
    "duration": 52,
    "start_time": "2022-01-21T10:21:52.121Z"
   },
   {
    "duration": 10,
    "start_time": "2022-01-21T10:21:52.175Z"
   },
   {
    "duration": 11,
    "start_time": "2022-01-21T10:21:52.187Z"
   },
   {
    "duration": 16,
    "start_time": "2022-01-21T10:21:52.201Z"
   },
   {
    "duration": 8,
    "start_time": "2022-01-21T10:21:52.220Z"
   },
   {
    "duration": 40,
    "start_time": "2022-01-21T10:21:52.231Z"
   },
   {
    "duration": 42,
    "start_time": "2022-01-21T10:21:52.274Z"
   },
   {
    "duration": 6,
    "start_time": "2022-01-21T10:21:52.319Z"
   },
   {
    "duration": 64,
    "start_time": "2022-01-21T10:21:52.327Z"
   },
   {
    "duration": 1131,
    "start_time": "2022-01-21T10:21:52.393Z"
   },
   {
    "duration": 44,
    "start_time": "2022-01-21T10:21:53.527Z"
   },
   {
    "duration": 33,
    "start_time": "2022-01-21T10:21:53.574Z"
   },
   {
    "duration": 866,
    "start_time": "2022-01-21T10:21:53.609Z"
   },
   {
    "duration": 733,
    "start_time": "2022-01-21T10:21:54.478Z"
   },
   {
    "duration": 679,
    "start_time": "2022-01-21T10:21:55.214Z"
   },
   {
    "duration": 352,
    "start_time": "2022-01-21T10:21:55.896Z"
   },
   {
    "duration": 1925,
    "start_time": "2022-01-21T10:21:56.250Z"
   },
   {
    "duration": 513,
    "start_time": "2022-01-21T10:21:58.178Z"
   },
   {
    "duration": 14,
    "start_time": "2022-01-21T10:21:58.694Z"
   },
   {
    "duration": 2209,
    "start_time": "2022-01-21T10:21:58.711Z"
   },
   {
    "duration": 823,
    "start_time": "2022-01-21T10:22:00.922Z"
   },
   {
    "duration": 3893,
    "start_time": "2022-01-21T10:22:01.747Z"
   },
   {
    "duration": 581,
    "start_time": "2022-01-21T10:22:05.643Z"
   },
   {
    "duration": -14444559,
    "start_time": "2022-01-21T14:22:50.785Z"
   },
   {
    "duration": -14444561,
    "start_time": "2022-01-21T14:22:50.789Z"
   },
   {
    "duration": -14444610,
    "start_time": "2022-01-21T14:22:50.839Z"
   },
   {
    "duration": -14444612,
    "start_time": "2022-01-21T14:22:50.842Z"
   },
   {
    "duration": -14444616,
    "start_time": "2022-01-21T14:22:50.847Z"
   },
   {
    "duration": -14444618,
    "start_time": "2022-01-21T14:22:50.851Z"
   },
   {
    "duration": -14444621,
    "start_time": "2022-01-21T14:22:50.855Z"
   },
   {
    "duration": -14444624,
    "start_time": "2022-01-21T14:22:50.859Z"
   },
   {
    "duration": -14444633,
    "start_time": "2022-01-21T14:22:50.870Z"
   },
   {
    "duration": -14444635,
    "start_time": "2022-01-21T14:22:50.873Z"
   },
   {
    "duration": -14444637,
    "start_time": "2022-01-21T14:22:50.876Z"
   },
   {
    "duration": -14444640,
    "start_time": "2022-01-21T14:22:50.880Z"
   },
   {
    "duration": 136,
    "start_time": "2022-01-21T10:26:59.007Z"
   },
   {
    "duration": 648,
    "start_time": "2022-01-21T10:33:17.374Z"
   },
   {
    "duration": 601,
    "start_time": "2022-01-21T12:01:37.341Z"
   },
   {
    "duration": 2,
    "start_time": "2022-01-21T12:01:37.944Z"
   },
   {
    "duration": 75,
    "start_time": "2022-01-21T12:01:37.947Z"
   },
   {
    "duration": 25,
    "start_time": "2022-01-21T12:01:38.023Z"
   },
   {
    "duration": 3,
    "start_time": "2022-01-21T12:01:38.050Z"
   },
   {
    "duration": 11,
    "start_time": "2022-01-21T12:01:38.054Z"
   },
   {
    "duration": 7,
    "start_time": "2022-01-21T12:01:38.066Z"
   },
   {
    "duration": 45,
    "start_time": "2022-01-21T12:01:38.075Z"
   },
   {
    "duration": 4,
    "start_time": "2022-01-21T12:01:38.122Z"
   },
   {
    "duration": 6,
    "start_time": "2022-01-21T12:01:38.128Z"
   },
   {
    "duration": 10,
    "start_time": "2022-01-21T12:01:38.136Z"
   },
   {
    "duration": 4,
    "start_time": "2022-01-21T12:01:38.148Z"
   },
   {
    "duration": 5,
    "start_time": "2022-01-21T12:01:38.154Z"
   },
   {
    "duration": 53,
    "start_time": "2022-01-21T12:01:38.161Z"
   },
   {
    "duration": 4,
    "start_time": "2022-01-21T12:01:38.216Z"
   },
   {
    "duration": 21,
    "start_time": "2022-01-21T12:01:38.222Z"
   },
   {
    "duration": 9,
    "start_time": "2022-01-21T12:01:38.244Z"
   },
   {
    "duration": 5,
    "start_time": "2022-01-21T12:01:38.254Z"
   },
   {
    "duration": 5,
    "start_time": "2022-01-21T12:01:38.261Z"
   },
   {
    "duration": 47,
    "start_time": "2022-01-21T12:01:38.268Z"
   },
   {
    "duration": 6,
    "start_time": "2022-01-21T12:01:38.317Z"
   },
   {
    "duration": 6,
    "start_time": "2022-01-21T12:01:38.325Z"
   },
   {
    "duration": 6,
    "start_time": "2022-01-21T12:01:38.333Z"
   },
   {
    "duration": 92,
    "start_time": "2022-01-21T12:01:38.340Z"
   },
   {
    "duration": 4,
    "start_time": "2022-01-21T12:01:38.434Z"
   },
   {
    "duration": 10,
    "start_time": "2022-01-21T12:01:38.439Z"
   },
   {
    "duration": 6,
    "start_time": "2022-01-21T12:01:38.452Z"
   },
   {
    "duration": 9,
    "start_time": "2022-01-21T12:01:38.461Z"
   },
   {
    "duration": 5,
    "start_time": "2022-01-21T12:01:38.471Z"
   },
   {
    "duration": 39,
    "start_time": "2022-01-21T12:01:38.478Z"
   },
   {
    "duration": 5,
    "start_time": "2022-01-21T12:01:38.518Z"
   },
   {
    "duration": 11,
    "start_time": "2022-01-21T12:01:38.525Z"
   },
   {
    "duration": 6,
    "start_time": "2022-01-21T12:01:38.537Z"
   },
   {
    "duration": 4,
    "start_time": "2022-01-21T12:01:38.545Z"
   },
   {
    "duration": 23,
    "start_time": "2022-01-21T12:01:38.550Z"
   },
   {
    "duration": 5,
    "start_time": "2022-01-21T12:01:38.574Z"
   },
   {
    "duration": 54,
    "start_time": "2022-01-21T12:01:38.580Z"
   },
   {
    "duration": 493,
    "start_time": "2022-01-21T12:01:38.636Z"
   },
   {
    "duration": 5,
    "start_time": "2022-01-21T12:01:39.131Z"
   },
   {
    "duration": 20,
    "start_time": "2022-01-21T12:01:39.137Z"
   },
   {
    "duration": 542,
    "start_time": "2022-01-21T12:01:39.158Z"
   },
   {
    "duration": 438,
    "start_time": "2022-01-21T12:01:39.701Z"
   },
   {
    "duration": 425,
    "start_time": "2022-01-21T12:01:40.141Z"
   },
   {
    "duration": 211,
    "start_time": "2022-01-21T12:01:40.569Z"
   },
   {
    "duration": 1095,
    "start_time": "2022-01-21T12:01:40.782Z"
   },
   {
    "duration": 292,
    "start_time": "2022-01-21T12:01:41.878Z"
   },
   {
    "duration": 7,
    "start_time": "2022-01-21T12:01:42.172Z"
   },
   {
    "duration": 1733,
    "start_time": "2022-01-21T12:01:42.181Z"
   },
   {
    "duration": 599,
    "start_time": "2022-01-21T12:01:43.916Z"
   },
   {
    "duration": 258,
    "start_time": "2022-01-21T12:01:47.002Z"
   },
   {
    "duration": -1499,
    "start_time": "2022-01-21T12:01:48.761Z"
   },
   {
    "duration": -1504,
    "start_time": "2022-01-21T12:01:48.767Z"
   },
   {
    "duration": -1507,
    "start_time": "2022-01-21T12:01:48.771Z"
   },
   {
    "duration": -1511,
    "start_time": "2022-01-21T12:01:48.776Z"
   },
   {
    "duration": -1514,
    "start_time": "2022-01-21T12:01:48.780Z"
   },
   {
    "duration": -1519,
    "start_time": "2022-01-21T12:01:48.786Z"
   },
   {
    "duration": -1523,
    "start_time": "2022-01-21T12:01:48.790Z"
   },
   {
    "duration": -1525,
    "start_time": "2022-01-21T12:01:48.793Z"
   },
   {
    "duration": -1528,
    "start_time": "2022-01-21T12:01:48.797Z"
   },
   {
    "duration": -1531,
    "start_time": "2022-01-21T12:01:48.801Z"
   },
   {
    "duration": -1534,
    "start_time": "2022-01-21T12:01:48.805Z"
   },
   {
    "duration": -1536,
    "start_time": "2022-01-21T12:01:48.808Z"
   },
   {
    "duration": 2,
    "start_time": "2022-01-21T12:35:01.389Z"
   },
   {
    "duration": 699,
    "start_time": "2022-01-21T12:35:13.695Z"
   },
   {
    "duration": 3,
    "start_time": "2022-01-21T12:35:14.396Z"
   },
   {
    "duration": 82,
    "start_time": "2022-01-21T12:35:14.401Z"
   },
   {
    "duration": -150,
    "start_time": "2022-01-21T12:35:14.637Z"
   },
   {
    "duration": -155,
    "start_time": "2022-01-21T12:35:14.643Z"
   },
   {
    "duration": -160,
    "start_time": "2022-01-21T12:35:14.648Z"
   },
   {
    "duration": -163,
    "start_time": "2022-01-21T12:35:14.652Z"
   },
   {
    "duration": -167,
    "start_time": "2022-01-21T12:35:14.657Z"
   },
   {
    "duration": -170,
    "start_time": "2022-01-21T12:35:14.661Z"
   },
   {
    "duration": -173,
    "start_time": "2022-01-21T12:35:14.665Z"
   },
   {
    "duration": -176,
    "start_time": "2022-01-21T12:35:14.669Z"
   },
   {
    "duration": -180,
    "start_time": "2022-01-21T12:35:14.674Z"
   },
   {
    "duration": -184,
    "start_time": "2022-01-21T12:35:14.679Z"
   },
   {
    "duration": -188,
    "start_time": "2022-01-21T12:35:14.684Z"
   },
   {
    "duration": -190,
    "start_time": "2022-01-21T12:35:14.687Z"
   },
   {
    "duration": -192,
    "start_time": "2022-01-21T12:35:14.691Z"
   },
   {
    "duration": -195,
    "start_time": "2022-01-21T12:35:14.695Z"
   },
   {
    "duration": -197,
    "start_time": "2022-01-21T12:35:14.698Z"
   },
   {
    "duration": -212,
    "start_time": "2022-01-21T12:35:14.715Z"
   },
   {
    "duration": -215,
    "start_time": "2022-01-21T12:35:14.719Z"
   },
   {
    "duration": -218,
    "start_time": "2022-01-21T12:35:14.723Z"
   },
   {
    "duration": -220,
    "start_time": "2022-01-21T12:35:14.727Z"
   },
   {
    "duration": -223,
    "start_time": "2022-01-21T12:35:14.731Z"
   },
   {
    "duration": -226,
    "start_time": "2022-01-21T12:35:14.735Z"
   },
   {
    "duration": -229,
    "start_time": "2022-01-21T12:35:14.739Z"
   },
   {
    "duration": -232,
    "start_time": "2022-01-21T12:35:14.743Z"
   },
   {
    "duration": -235,
    "start_time": "2022-01-21T12:35:14.747Z"
   },
   {
    "duration": -239,
    "start_time": "2022-01-21T12:35:14.752Z"
   },
   {
    "duration": -242,
    "start_time": "2022-01-21T12:35:14.756Z"
   },
   {
    "duration": -244,
    "start_time": "2022-01-21T12:35:14.759Z"
   },
   {
    "duration": -246,
    "start_time": "2022-01-21T12:35:14.762Z"
   },
   {
    "duration": -249,
    "start_time": "2022-01-21T12:35:14.766Z"
   },
   {
    "duration": -251,
    "start_time": "2022-01-21T12:35:14.769Z"
   },
   {
    "duration": -254,
    "start_time": "2022-01-21T12:35:14.773Z"
   },
   {
    "duration": -255,
    "start_time": "2022-01-21T12:35:14.776Z"
   },
   {
    "duration": -259,
    "start_time": "2022-01-21T12:35:14.780Z"
   },
   {
    "duration": -260,
    "start_time": "2022-01-21T12:35:14.783Z"
   },
   {
    "duration": -263,
    "start_time": "2022-01-21T12:35:14.787Z"
   },
   {
    "duration": -267,
    "start_time": "2022-01-21T12:35:14.791Z"
   },
   {
    "duration": -270,
    "start_time": "2022-01-21T12:35:14.795Z"
   },
   {
    "duration": -272,
    "start_time": "2022-01-21T12:35:14.798Z"
   },
   {
    "duration": -274,
    "start_time": "2022-01-21T12:35:14.801Z"
   },
   {
    "duration": -276,
    "start_time": "2022-01-21T12:35:14.804Z"
   },
   {
    "duration": -278,
    "start_time": "2022-01-21T12:35:14.807Z"
   },
   {
    "duration": -280,
    "start_time": "2022-01-21T12:35:14.810Z"
   },
   {
    "duration": -292,
    "start_time": "2022-01-21T12:35:14.823Z"
   },
   {
    "duration": -294,
    "start_time": "2022-01-21T12:35:14.827Z"
   },
   {
    "duration": -298,
    "start_time": "2022-01-21T12:35:14.832Z"
   },
   {
    "duration": -301,
    "start_time": "2022-01-21T12:35:14.835Z"
   },
   {
    "duration": -303,
    "start_time": "2022-01-21T12:35:14.839Z"
   },
   {
    "duration": -305,
    "start_time": "2022-01-21T12:35:14.842Z"
   },
   {
    "duration": -308,
    "start_time": "2022-01-21T12:35:14.846Z"
   },
   {
    "duration": -311,
    "start_time": "2022-01-21T12:35:14.850Z"
   },
   {
    "duration": -313,
    "start_time": "2022-01-21T12:35:14.853Z"
   },
   {
    "duration": -316,
    "start_time": "2022-01-21T12:35:14.857Z"
   },
   {
    "duration": -320,
    "start_time": "2022-01-21T12:35:14.862Z"
   },
   {
    "duration": -322,
    "start_time": "2022-01-21T12:35:14.865Z"
   },
   {
    "duration": -324,
    "start_time": "2022-01-21T12:35:14.869Z"
   },
   {
    "duration": -326,
    "start_time": "2022-01-21T12:35:14.872Z"
   },
   {
    "duration": -329,
    "start_time": "2022-01-21T12:35:14.876Z"
   },
   {
    "duration": -331,
    "start_time": "2022-01-21T12:35:14.879Z"
   },
   {
    "duration": -333,
    "start_time": "2022-01-21T12:35:14.882Z"
   },
   {
    "duration": -335,
    "start_time": "2022-01-21T12:35:14.885Z"
   },
   {
    "duration": 552,
    "start_time": "2022-01-21T12:35:29.972Z"
   },
   {
    "duration": 2,
    "start_time": "2022-01-21T12:35:30.526Z"
   },
   {
    "duration": 210,
    "start_time": "2022-01-21T12:35:30.530Z"
   },
   {
    "duration": 25,
    "start_time": "2022-01-21T12:35:30.742Z"
   },
   {
    "duration": 12,
    "start_time": "2022-01-21T12:35:30.768Z"
   },
   {
    "duration": 22,
    "start_time": "2022-01-21T12:35:30.782Z"
   },
   {
    "duration": 20,
    "start_time": "2022-01-21T12:35:30.805Z"
   },
   {
    "duration": 17,
    "start_time": "2022-01-21T12:35:30.826Z"
   },
   {
    "duration": 6,
    "start_time": "2022-01-21T12:35:30.846Z"
   },
   {
    "duration": 13,
    "start_time": "2022-01-21T12:35:30.854Z"
   },
   {
    "duration": 15,
    "start_time": "2022-01-21T12:35:30.869Z"
   },
   {
    "duration": 10,
    "start_time": "2022-01-21T12:35:30.886Z"
   },
   {
    "duration": 21,
    "start_time": "2022-01-21T12:35:30.897Z"
   },
   {
    "duration": 12,
    "start_time": "2022-01-21T12:35:30.919Z"
   },
   {
    "duration": 16,
    "start_time": "2022-01-21T12:35:30.933Z"
   },
   {
    "duration": 34,
    "start_time": "2022-01-21T12:35:30.950Z"
   },
   {
    "duration": 9,
    "start_time": "2022-01-21T12:35:30.986Z"
   },
   {
    "duration": 18,
    "start_time": "2022-01-21T12:35:30.997Z"
   },
   {
    "duration": 16,
    "start_time": "2022-01-21T12:35:31.017Z"
   },
   {
    "duration": 14,
    "start_time": "2022-01-21T12:35:31.035Z"
   },
   {
    "duration": 17,
    "start_time": "2022-01-21T12:35:31.050Z"
   },
   {
    "duration": 12,
    "start_time": "2022-01-21T12:35:31.068Z"
   },
   {
    "duration": 19,
    "start_time": "2022-01-21T12:35:31.082Z"
   },
   {
    "duration": 75,
    "start_time": "2022-01-21T12:35:31.103Z"
   },
   {
    "duration": 4,
    "start_time": "2022-01-21T12:35:31.180Z"
   },
   {
    "duration": 18,
    "start_time": "2022-01-21T12:35:31.186Z"
   },
   {
    "duration": 16,
    "start_time": "2022-01-21T12:35:31.208Z"
   },
   {
    "duration": 11,
    "start_time": "2022-01-21T12:35:31.226Z"
   },
   {
    "duration": 22,
    "start_time": "2022-01-21T12:35:31.238Z"
   },
   {
    "duration": 23,
    "start_time": "2022-01-21T12:35:31.262Z"
   },
   {
    "duration": 7,
    "start_time": "2022-01-21T12:35:31.286Z"
   },
   {
    "duration": 22,
    "start_time": "2022-01-21T12:35:31.294Z"
   },
   {
    "duration": 8,
    "start_time": "2022-01-21T12:35:31.317Z"
   },
   {
    "duration": 7,
    "start_time": "2022-01-21T12:35:31.327Z"
   },
   {
    "duration": 32,
    "start_time": "2022-01-21T12:35:31.335Z"
   },
   {
    "duration": 4,
    "start_time": "2022-01-21T12:35:31.369Z"
   },
   {
    "duration": 33,
    "start_time": "2022-01-21T12:35:31.374Z"
   },
   {
    "duration": 489,
    "start_time": "2022-01-21T12:35:31.409Z"
   },
   {
    "duration": 4,
    "start_time": "2022-01-21T12:35:31.900Z"
   },
   {
    "duration": 32,
    "start_time": "2022-01-21T12:35:31.912Z"
   },
   {
    "duration": 531,
    "start_time": "2022-01-21T12:35:31.945Z"
   },
   {
    "duration": 400,
    "start_time": "2022-01-21T12:35:32.478Z"
   },
   {
    "duration": 409,
    "start_time": "2022-01-21T12:35:32.880Z"
   },
   {
    "duration": 211,
    "start_time": "2022-01-21T12:35:33.291Z"
   },
   {
    "duration": 1079,
    "start_time": "2022-01-21T12:35:33.504Z"
   },
   {
    "duration": 270,
    "start_time": "2022-01-21T12:35:34.585Z"
   },
   {
    "duration": 8,
    "start_time": "2022-01-21T12:35:34.857Z"
   },
   {
    "duration": 1698,
    "start_time": "2022-01-21T12:35:34.866Z"
   },
   {
    "duration": 518,
    "start_time": "2022-01-21T12:35:36.566Z"
   },
   {
    "duration": 2632,
    "start_time": "2022-01-21T12:35:37.086Z"
   },
   {
    "duration": 255,
    "start_time": "2022-01-21T12:35:39.720Z"
   },
   {
    "duration": 23,
    "start_time": "2022-01-21T12:35:39.954Z"
   },
   {
    "duration": 19,
    "start_time": "2022-01-21T12:35:39.959Z"
   },
   {
    "duration": 16,
    "start_time": "2022-01-21T12:35:39.963Z"
   },
   {
    "duration": 13,
    "start_time": "2022-01-21T12:35:39.967Z"
   },
   {
    "duration": 11,
    "start_time": "2022-01-21T12:35:39.970Z"
   },
   {
    "duration": 8,
    "start_time": "2022-01-21T12:35:39.974Z"
   },
   {
    "duration": 5,
    "start_time": "2022-01-21T12:35:39.978Z"
   },
   {
    "duration": 2,
    "start_time": "2022-01-21T12:35:39.982Z"
   },
   {
    "duration": 1,
    "start_time": "2022-01-21T12:35:39.985Z"
   },
   {
    "duration": -2,
    "start_time": "2022-01-21T12:35:39.989Z"
   },
   {
    "duration": -4,
    "start_time": "2022-01-21T12:35:39.992Z"
   },
   {
    "duration": -7,
    "start_time": "2022-01-21T12:35:39.996Z"
   },
   {
    "duration": 203,
    "start_time": "2022-01-21T12:42:10.612Z"
   },
   {
    "duration": 4,
    "start_time": "2022-01-21T12:43:58.652Z"
   },
   {
    "duration": 3,
    "start_time": "2022-01-21T12:44:11.201Z"
   },
   {
    "duration": 193,
    "start_time": "2022-01-21T12:44:58.374Z"
   },
   {
    "duration": 106,
    "start_time": "2022-01-21T12:54:51.594Z"
   },
   {
    "duration": 12,
    "start_time": "2022-01-21T12:55:08.234Z"
   },
   {
    "duration": 3,
    "start_time": "2022-01-21T12:55:52.035Z"
   },
   {
    "duration": 181,
    "start_time": "2022-01-21T12:55:57.654Z"
   },
   {
    "duration": 20,
    "start_time": "2022-01-21T12:56:05.534Z"
   },
   {
    "duration": 10,
    "start_time": "2022-01-21T12:56:21.454Z"
   },
   {
    "duration": 197,
    "start_time": "2022-01-21T12:58:34.883Z"
   },
   {
    "duration": 180,
    "start_time": "2022-01-21T12:58:51.155Z"
   },
   {
    "duration": 10,
    "start_time": "2022-01-21T12:59:11.275Z"
   },
   {
    "duration": 6,
    "start_time": "2022-01-21T12:59:33.855Z"
   },
   {
    "duration": 8,
    "start_time": "2022-01-21T13:00:02.035Z"
   },
   {
    "duration": 8,
    "start_time": "2022-01-21T13:01:05.696Z"
   },
   {
    "duration": 5,
    "start_time": "2022-01-21T13:01:09.295Z"
   },
   {
    "duration": 4,
    "start_time": "2022-01-21T13:01:12.157Z"
   },
   {
    "duration": 9,
    "start_time": "2022-01-21T13:01:14.296Z"
   },
   {
    "duration": 5,
    "start_time": "2022-01-21T13:01:14.775Z"
   },
   {
    "duration": 4,
    "start_time": "2022-01-21T13:01:16.436Z"
   },
   {
    "duration": 7,
    "start_time": "2022-01-21T13:01:17.424Z"
   },
   {
    "duration": 5,
    "start_time": "2022-01-21T13:01:18.516Z"
   },
   {
    "duration": 20,
    "start_time": "2022-01-21T13:01:20.496Z"
   },
   {
    "duration": 9,
    "start_time": "2022-01-21T13:01:22.515Z"
   },
   {
    "duration": 4,
    "start_time": "2022-01-21T13:02:41.996Z"
   },
   {
    "duration": 5,
    "start_time": "2022-01-21T13:02:42.855Z"
   },
   {
    "duration": 203,
    "start_time": "2022-01-21T13:15:48.356Z"
   },
   {
    "duration": 297,
    "start_time": "2022-01-21T13:16:06.157Z"
   },
   {
    "duration": 627,
    "start_time": "2022-01-21T13:42:16.230Z"
   },
   {
    "duration": 2,
    "start_time": "2022-01-21T13:42:16.859Z"
   },
   {
    "duration": 191,
    "start_time": "2022-01-21T13:42:16.863Z"
   },
   {
    "duration": 25,
    "start_time": "2022-01-21T13:42:17.056Z"
   },
   {
    "duration": 4,
    "start_time": "2022-01-21T13:42:17.082Z"
   },
   {
    "duration": 32,
    "start_time": "2022-01-21T13:42:17.088Z"
   },
   {
    "duration": 8,
    "start_time": "2022-01-21T13:42:17.122Z"
   },
   {
    "duration": 8,
    "start_time": "2022-01-21T13:42:17.131Z"
   },
   {
    "duration": 4,
    "start_time": "2022-01-21T13:42:17.141Z"
   },
   {
    "duration": 5,
    "start_time": "2022-01-21T13:42:17.147Z"
   },
   {
    "duration": 11,
    "start_time": "2022-01-21T13:42:17.153Z"
   },
   {
    "duration": 4,
    "start_time": "2022-01-21T13:42:17.166Z"
   },
   {
    "duration": 41,
    "start_time": "2022-01-21T13:42:17.171Z"
   },
   {
    "duration": 6,
    "start_time": "2022-01-21T13:42:17.214Z"
   },
   {
    "duration": 5,
    "start_time": "2022-01-21T13:42:17.222Z"
   },
   {
    "duration": 22,
    "start_time": "2022-01-21T13:42:17.228Z"
   },
   {
    "duration": 2,
    "start_time": "2022-01-21T13:42:17.251Z"
   },
   {
    "duration": 6,
    "start_time": "2022-01-21T13:42:17.255Z"
   },
   {
    "duration": 5,
    "start_time": "2022-01-21T13:42:17.262Z"
   },
   {
    "duration": 7,
    "start_time": "2022-01-21T13:42:17.269Z"
   },
   {
    "duration": 36,
    "start_time": "2022-01-21T13:42:17.277Z"
   },
   {
    "duration": 5,
    "start_time": "2022-01-21T13:42:17.314Z"
   },
   {
    "duration": 5,
    "start_time": "2022-01-21T13:42:17.321Z"
   },
   {
    "duration": 91,
    "start_time": "2022-01-21T13:42:17.327Z"
   },
   {
    "duration": 4,
    "start_time": "2022-01-21T13:42:17.419Z"
   },
   {
    "duration": 9,
    "start_time": "2022-01-21T13:42:17.425Z"
   },
   {
    "duration": 7,
    "start_time": "2022-01-21T13:42:17.438Z"
   },
   {
    "duration": 8,
    "start_time": "2022-01-21T13:42:17.448Z"
   },
   {
    "duration": 6,
    "start_time": "2022-01-21T13:42:17.458Z"
   },
   {
    "duration": 56,
    "start_time": "2022-01-21T13:42:17.466Z"
   },
   {
    "duration": 2,
    "start_time": "2022-01-21T13:42:17.524Z"
   },
   {
    "duration": 4,
    "start_time": "2022-01-21T13:42:17.528Z"
   },
   {
    "duration": 15,
    "start_time": "2022-01-21T13:42:17.533Z"
   },
   {
    "duration": 12,
    "start_time": "2022-01-21T13:42:17.550Z"
   },
   {
    "duration": 23,
    "start_time": "2022-01-21T13:42:17.563Z"
   },
   {
    "duration": 24,
    "start_time": "2022-01-21T13:42:17.588Z"
   },
   {
    "duration": 27,
    "start_time": "2022-01-21T13:42:17.614Z"
   },
   {
    "duration": 478,
    "start_time": "2022-01-21T13:42:17.642Z"
   },
   {
    "duration": 5,
    "start_time": "2022-01-21T13:42:18.121Z"
   },
   {
    "duration": 27,
    "start_time": "2022-01-21T13:42:18.127Z"
   },
   {
    "duration": 531,
    "start_time": "2022-01-21T13:42:18.155Z"
   },
   {
    "duration": 441,
    "start_time": "2022-01-21T13:42:18.687Z"
   },
   {
    "duration": 424,
    "start_time": "2022-01-21T13:42:19.129Z"
   },
   {
    "duration": 220,
    "start_time": "2022-01-21T13:42:19.554Z"
   },
   {
    "duration": 1218,
    "start_time": "2022-01-21T13:42:19.776Z"
   },
   {
    "duration": 309,
    "start_time": "2022-01-21T13:42:20.996Z"
   },
   {
    "duration": 13,
    "start_time": "2022-01-21T13:42:21.306Z"
   },
   {
    "duration": 264,
    "start_time": "2022-01-21T13:42:21.321Z"
   },
   {
    "duration": 105,
    "start_time": "2022-01-21T13:42:21.482Z"
   },
   {
    "duration": 101,
    "start_time": "2022-01-21T13:42:21.487Z"
   },
   {
    "duration": 59,
    "start_time": "2022-01-21T13:42:21.530Z"
   },
   {
    "duration": 54,
    "start_time": "2022-01-21T13:42:21.536Z"
   },
   {
    "duration": 50,
    "start_time": "2022-01-21T13:42:21.541Z"
   },
   {
    "duration": 13,
    "start_time": "2022-01-21T13:42:21.578Z"
   },
   {
    "duration": 0,
    "start_time": "2022-01-21T13:42:21.592Z"
   },
   {
    "duration": -3,
    "start_time": "2022-01-21T13:42:21.596Z"
   },
   {
    "duration": -6,
    "start_time": "2022-01-21T13:42:21.600Z"
   },
   {
    "duration": -9,
    "start_time": "2022-01-21T13:42:21.604Z"
   },
   {
    "duration": -12,
    "start_time": "2022-01-21T13:42:21.608Z"
   },
   {
    "duration": -15,
    "start_time": "2022-01-21T13:42:21.611Z"
   },
   {
    "duration": -17,
    "start_time": "2022-01-21T13:42:21.614Z"
   },
   {
    "duration": -20,
    "start_time": "2022-01-21T13:42:21.618Z"
   },
   {
    "duration": -23,
    "start_time": "2022-01-21T13:42:21.622Z"
   },
   {
    "duration": 1519,
    "start_time": "2022-01-21T13:43:01.571Z"
   },
   {
    "duration": 1512,
    "start_time": "2022-01-21T13:43:22.710Z"
   },
   {
    "duration": 1491,
    "start_time": "2022-01-21T13:44:57.650Z"
   },
   {
    "duration": 1510,
    "start_time": "2022-01-21T13:45:09.275Z"
   },
   {
    "duration": 588,
    "start_time": "2022-01-21T13:51:13.050Z"
   },
   {
    "duration": 517,
    "start_time": "2022-01-21T13:52:05.390Z"
   },
   {
    "duration": 660,
    "start_time": "2022-01-21T13:53:32.132Z"
   },
   {
    "duration": 2,
    "start_time": "2022-01-21T13:53:32.794Z"
   },
   {
    "duration": 193,
    "start_time": "2022-01-21T13:53:32.798Z"
   },
   {
    "duration": 24,
    "start_time": "2022-01-21T13:53:32.993Z"
   },
   {
    "duration": 5,
    "start_time": "2022-01-21T13:53:33.019Z"
   },
   {
    "duration": 13,
    "start_time": "2022-01-21T13:53:33.026Z"
   },
   {
    "duration": 8,
    "start_time": "2022-01-21T13:53:33.041Z"
   },
   {
    "duration": 8,
    "start_time": "2022-01-21T13:53:33.051Z"
   },
   {
    "duration": 4,
    "start_time": "2022-01-21T13:53:33.061Z"
   },
   {
    "duration": 6,
    "start_time": "2022-01-21T13:53:33.066Z"
   },
   {
    "duration": 54,
    "start_time": "2022-01-21T13:53:33.074Z"
   },
   {
    "duration": 5,
    "start_time": "2022-01-21T13:53:33.130Z"
   },
   {
    "duration": 6,
    "start_time": "2022-01-21T13:53:33.137Z"
   },
   {
    "duration": 8,
    "start_time": "2022-01-21T13:53:33.144Z"
   },
   {
    "duration": 5,
    "start_time": "2022-01-21T13:53:33.154Z"
   },
   {
    "duration": 53,
    "start_time": "2022-01-21T13:53:33.161Z"
   },
   {
    "duration": 4,
    "start_time": "2022-01-21T13:53:33.218Z"
   },
   {
    "duration": 6,
    "start_time": "2022-01-21T13:53:33.224Z"
   },
   {
    "duration": 8,
    "start_time": "2022-01-21T13:53:33.232Z"
   },
   {
    "duration": 6,
    "start_time": "2022-01-21T13:53:33.242Z"
   },
   {
    "duration": 4,
    "start_time": "2022-01-21T13:53:33.250Z"
   },
   {
    "duration": 5,
    "start_time": "2022-01-21T13:53:33.256Z"
   },
   {
    "duration": 5,
    "start_time": "2022-01-21T13:53:33.263Z"
   },
   {
    "duration": 116,
    "start_time": "2022-01-21T13:53:33.270Z"
   },
   {
    "duration": 4,
    "start_time": "2022-01-21T13:53:33.387Z"
   },
   {
    "duration": 24,
    "start_time": "2022-01-21T13:53:33.393Z"
   },
   {
    "duration": 8,
    "start_time": "2022-01-21T13:53:33.423Z"
   },
   {
    "duration": 8,
    "start_time": "2022-01-21T13:53:33.434Z"
   },
   {
    "duration": 7,
    "start_time": "2022-01-21T13:53:33.443Z"
   },
   {
    "duration": 24,
    "start_time": "2022-01-21T13:53:33.452Z"
   },
   {
    "duration": 2,
    "start_time": "2022-01-21T13:53:33.477Z"
   },
   {
    "duration": 3,
    "start_time": "2022-01-21T13:53:33.512Z"
   },
   {
    "duration": 16,
    "start_time": "2022-01-21T13:53:33.517Z"
   },
   {
    "duration": 9,
    "start_time": "2022-01-21T13:53:33.534Z"
   },
   {
    "duration": 22,
    "start_time": "2022-01-21T13:53:33.545Z"
   },
   {
    "duration": 5,
    "start_time": "2022-01-21T13:53:33.569Z"
   },
   {
    "duration": 46,
    "start_time": "2022-01-21T13:53:33.575Z"
   },
   {
    "duration": 486,
    "start_time": "2022-01-21T13:53:33.626Z"
   },
   {
    "duration": 7,
    "start_time": "2022-01-21T13:53:34.115Z"
   },
   {
    "duration": 24,
    "start_time": "2022-01-21T13:53:34.124Z"
   },
   {
    "duration": 603,
    "start_time": "2022-01-21T13:53:34.149Z"
   },
   {
    "duration": 498,
    "start_time": "2022-01-21T13:53:34.754Z"
   },
   {
    "duration": 461,
    "start_time": "2022-01-21T13:53:35.254Z"
   },
   {
    "duration": 239,
    "start_time": "2022-01-21T13:53:35.717Z"
   },
   {
    "duration": 1290,
    "start_time": "2022-01-21T13:53:35.958Z"
   },
   {
    "duration": 296,
    "start_time": "2022-01-21T13:53:37.250Z"
   },
   {
    "duration": 8,
    "start_time": "2022-01-21T13:53:37.547Z"
   },
   {
    "duration": 1511,
    "start_time": "2022-01-21T13:53:37.556Z"
   },
   {
    "duration": 517,
    "start_time": "2022-01-21T13:53:39.069Z"
   },
   {
    "duration": 486,
    "start_time": "2022-01-21T13:53:39.588Z"
   },
   {
    "duration": 2458,
    "start_time": "2022-01-21T13:53:40.076Z"
   },
   {
    "duration": 269,
    "start_time": "2022-01-21T13:53:42.535Z"
   },
   {
    "duration": -32,
    "start_time": "2022-01-21T13:53:42.838Z"
   },
   {
    "duration": -35,
    "start_time": "2022-01-21T13:53:42.842Z"
   },
   {
    "duration": -38,
    "start_time": "2022-01-21T13:53:42.846Z"
   },
   {
    "duration": -41,
    "start_time": "2022-01-21T13:53:42.850Z"
   },
   {
    "duration": -44,
    "start_time": "2022-01-21T13:53:42.854Z"
   },
   {
    "duration": -49,
    "start_time": "2022-01-21T13:53:42.860Z"
   },
   {
    "duration": -53,
    "start_time": "2022-01-21T13:53:42.864Z"
   },
   {
    "duration": -56,
    "start_time": "2022-01-21T13:53:42.868Z"
   },
   {
    "duration": -59,
    "start_time": "2022-01-21T13:53:42.872Z"
   },
   {
    "duration": -62,
    "start_time": "2022-01-21T13:53:42.876Z"
   },
   {
    "duration": -64,
    "start_time": "2022-01-21T13:53:42.879Z"
   },
   {
    "duration": -67,
    "start_time": "2022-01-21T13:53:42.883Z"
   },
   {
    "duration": 212,
    "start_time": "2022-01-21T14:07:07.090Z"
   },
   {
    "duration": 214,
    "start_time": "2022-01-21T14:07:22.100Z"
   },
   {
    "duration": 437,
    "start_time": "2022-01-21T14:09:04.047Z"
   },
   {
    "duration": 997,
    "start_time": "2022-01-21T14:12:55.180Z"
   },
   {
    "duration": 601,
    "start_time": "2022-01-21T14:47:29.958Z"
   },
   {
    "duration": 2,
    "start_time": "2022-01-21T14:47:30.561Z"
   },
   {
    "duration": 227,
    "start_time": "2022-01-21T14:47:30.565Z"
   },
   {
    "duration": 25,
    "start_time": "2022-01-21T14:47:30.794Z"
   },
   {
    "duration": 11,
    "start_time": "2022-01-21T14:47:30.821Z"
   },
   {
    "duration": 17,
    "start_time": "2022-01-21T14:47:30.834Z"
   },
   {
    "duration": 8,
    "start_time": "2022-01-21T14:47:30.852Z"
   },
   {
    "duration": 10,
    "start_time": "2022-01-21T14:47:30.862Z"
   },
   {
    "duration": 4,
    "start_time": "2022-01-21T14:47:30.875Z"
   },
   {
    "duration": 10,
    "start_time": "2022-01-21T14:47:30.881Z"
   },
   {
    "duration": 28,
    "start_time": "2022-01-21T14:47:30.893Z"
   },
   {
    "duration": 5,
    "start_time": "2022-01-21T14:47:30.922Z"
   },
   {
    "duration": 10,
    "start_time": "2022-01-21T14:47:30.929Z"
   },
   {
    "duration": 14,
    "start_time": "2022-01-21T14:47:30.941Z"
   },
   {
    "duration": 10,
    "start_time": "2022-01-21T14:47:30.956Z"
   },
   {
    "duration": 33,
    "start_time": "2022-01-21T14:47:30.967Z"
   },
   {
    "duration": 10,
    "start_time": "2022-01-21T14:47:31.002Z"
   },
   {
    "duration": 9,
    "start_time": "2022-01-21T14:47:31.014Z"
   },
   {
    "duration": 15,
    "start_time": "2022-01-21T14:47:31.025Z"
   },
   {
    "duration": 17,
    "start_time": "2022-01-21T14:47:31.042Z"
   },
   {
    "duration": 5,
    "start_time": "2022-01-21T14:47:31.061Z"
   },
   {
    "duration": 10,
    "start_time": "2022-01-21T14:47:31.068Z"
   },
   {
    "duration": 10,
    "start_time": "2022-01-21T14:47:31.080Z"
   },
   {
    "duration": 92,
    "start_time": "2022-01-21T14:47:31.092Z"
   },
   {
    "duration": 4,
    "start_time": "2022-01-21T14:47:31.186Z"
   },
   {
    "duration": 14,
    "start_time": "2022-01-21T14:47:31.191Z"
   },
   {
    "duration": 6,
    "start_time": "2022-01-21T14:47:31.214Z"
   },
   {
    "duration": 22,
    "start_time": "2022-01-21T14:47:31.222Z"
   },
   {
    "duration": 7,
    "start_time": "2022-01-21T14:47:31.245Z"
   },
   {
    "duration": 18,
    "start_time": "2022-01-21T14:47:31.254Z"
   },
   {
    "duration": 2,
    "start_time": "2022-01-21T14:47:31.274Z"
   },
   {
    "duration": 10,
    "start_time": "2022-01-21T14:47:31.277Z"
   },
   {
    "duration": 12,
    "start_time": "2022-01-21T14:47:31.289Z"
   },
   {
    "duration": 15,
    "start_time": "2022-01-21T14:47:31.303Z"
   },
   {
    "duration": 28,
    "start_time": "2022-01-21T14:47:31.320Z"
   },
   {
    "duration": 4,
    "start_time": "2022-01-21T14:47:31.350Z"
   },
   {
    "duration": 28,
    "start_time": "2022-01-21T14:47:31.355Z"
   },
   {
    "duration": 462,
    "start_time": "2022-01-21T14:47:31.385Z"
   },
   {
    "duration": 5,
    "start_time": "2022-01-21T14:47:31.849Z"
   },
   {
    "duration": 23,
    "start_time": "2022-01-21T14:47:31.855Z"
   },
   {
    "duration": 510,
    "start_time": "2022-01-21T14:47:31.880Z"
   },
   {
    "duration": 435,
    "start_time": "2022-01-21T14:47:32.392Z"
   },
   {
    "duration": 405,
    "start_time": "2022-01-21T14:47:32.828Z"
   },
   {
    "duration": 213,
    "start_time": "2022-01-21T14:47:33.235Z"
   },
   {
    "duration": 1182,
    "start_time": "2022-01-21T14:47:33.449Z"
   },
   {
    "duration": 299,
    "start_time": "2022-01-21T14:47:34.633Z"
   },
   {
    "duration": 8,
    "start_time": "2022-01-21T14:47:34.934Z"
   },
   {
    "duration": 1550,
    "start_time": "2022-01-21T14:47:34.943Z"
   },
   {
    "duration": 525,
    "start_time": "2022-01-21T14:47:36.495Z"
   },
   {
    "duration": 974,
    "start_time": "2022-01-21T14:47:37.022Z"
   },
   {
    "duration": 2609,
    "start_time": "2022-01-21T14:47:37.998Z"
   },
   {
    "duration": 317,
    "start_time": "2022-01-21T14:47:40.608Z"
   },
   {
    "duration": 20,
    "start_time": "2022-01-21T14:47:40.907Z"
   },
   {
    "duration": -2,
    "start_time": "2022-01-21T14:47:40.931Z"
   },
   {
    "duration": -22,
    "start_time": "2022-01-21T14:47:40.952Z"
   },
   {
    "duration": -29,
    "start_time": "2022-01-21T14:47:40.959Z"
   },
   {
    "duration": -32,
    "start_time": "2022-01-21T14:47:40.964Z"
   },
   {
    "duration": -36,
    "start_time": "2022-01-21T14:47:40.968Z"
   },
   {
    "duration": -55,
    "start_time": "2022-01-21T14:47:40.989Z"
   },
   {
    "duration": -61,
    "start_time": "2022-01-21T14:47:40.996Z"
   },
   {
    "duration": -65,
    "start_time": "2022-01-21T14:47:41.001Z"
   },
   {
    "duration": -84,
    "start_time": "2022-01-21T14:47:41.021Z"
   },
   {
    "duration": -90,
    "start_time": "2022-01-21T14:47:41.028Z"
   },
   {
    "duration": -94,
    "start_time": "2022-01-21T14:47:41.033Z"
   },
   {
    "duration": 1005,
    "start_time": "2022-01-21T14:57:22.908Z"
   },
   {
    "duration": 13,
    "start_time": "2022-01-21T15:07:16.206Z"
   },
   {
    "duration": 208,
    "start_time": "2022-01-21T15:16:18.505Z"
   },
   {
    "duration": 14,
    "start_time": "2022-01-21T15:16:36.465Z"
   },
   {
    "duration": 13,
    "start_time": "2022-01-21T15:17:32.488Z"
   },
   {
    "duration": 13,
    "start_time": "2022-01-21T15:18:32.166Z"
   },
   {
    "duration": 4992,
    "start_time": "2022-01-21T15:29:18.845Z"
   },
   {
    "duration": 228,
    "start_time": "2022-01-21T15:30:10.425Z"
   },
   {
    "duration": 211,
    "start_time": "2022-01-21T15:32:57.076Z"
   },
   {
    "duration": 217,
    "start_time": "2022-01-21T15:33:25.365Z"
   },
   {
    "duration": 641,
    "start_time": "2022-01-21T15:33:37.523Z"
   },
   {
    "duration": 2,
    "start_time": "2022-01-21T15:33:38.166Z"
   },
   {
    "duration": 207,
    "start_time": "2022-01-21T15:33:38.170Z"
   },
   {
    "duration": 24,
    "start_time": "2022-01-21T15:33:38.379Z"
   },
   {
    "duration": 9,
    "start_time": "2022-01-21T15:33:38.405Z"
   },
   {
    "duration": 10,
    "start_time": "2022-01-21T15:33:38.416Z"
   },
   {
    "duration": 9,
    "start_time": "2022-01-21T15:33:38.428Z"
   },
   {
    "duration": 9,
    "start_time": "2022-01-21T15:33:38.438Z"
   },
   {
    "duration": 5,
    "start_time": "2022-01-21T15:33:38.450Z"
   },
   {
    "duration": 5,
    "start_time": "2022-01-21T15:33:38.457Z"
   },
   {
    "duration": 58,
    "start_time": "2022-01-21T15:33:38.464Z"
   },
   {
    "duration": 12,
    "start_time": "2022-01-21T15:33:38.524Z"
   },
   {
    "duration": 5,
    "start_time": "2022-01-21T15:33:38.538Z"
   },
   {
    "duration": 11,
    "start_time": "2022-01-21T15:33:38.545Z"
   },
   {
    "duration": 6,
    "start_time": "2022-01-21T15:33:38.558Z"
   },
   {
    "duration": 49,
    "start_time": "2022-01-21T15:33:38.566Z"
   },
   {
    "duration": 2,
    "start_time": "2022-01-21T15:33:38.617Z"
   },
   {
    "duration": 7,
    "start_time": "2022-01-21T15:33:38.621Z"
   },
   {
    "duration": 5,
    "start_time": "2022-01-21T15:33:38.629Z"
   },
   {
    "duration": 5,
    "start_time": "2022-01-21T15:33:38.636Z"
   },
   {
    "duration": 6,
    "start_time": "2022-01-21T15:33:38.643Z"
   },
   {
    "duration": 8,
    "start_time": "2022-01-21T15:33:38.650Z"
   },
   {
    "duration": 5,
    "start_time": "2022-01-21T15:33:38.660Z"
   },
   {
    "duration": 109,
    "start_time": "2022-01-21T15:33:38.666Z"
   },
   {
    "duration": 4,
    "start_time": "2022-01-21T15:33:38.777Z"
   },
   {
    "duration": 10,
    "start_time": "2022-01-21T15:33:38.783Z"
   },
   {
    "duration": 6,
    "start_time": "2022-01-21T15:33:38.815Z"
   },
   {
    "duration": 8,
    "start_time": "2022-01-21T15:33:38.823Z"
   },
   {
    "duration": 5,
    "start_time": "2022-01-21T15:33:38.832Z"
   },
   {
    "duration": 17,
    "start_time": "2022-01-21T15:33:38.839Z"
   },
   {
    "duration": 2,
    "start_time": "2022-01-21T15:33:38.857Z"
   },
   {
    "duration": 4,
    "start_time": "2022-01-21T15:33:38.861Z"
   },
   {
    "duration": 6,
    "start_time": "2022-01-21T15:33:38.867Z"
   },
   {
    "duration": 38,
    "start_time": "2022-01-21T15:33:38.874Z"
   },
   {
    "duration": 24,
    "start_time": "2022-01-21T15:33:38.914Z"
   },
   {
    "duration": 5,
    "start_time": "2022-01-21T15:33:38.939Z"
   },
   {
    "duration": 25,
    "start_time": "2022-01-21T15:33:38.945Z"
   },
   {
    "duration": 526,
    "start_time": "2022-01-21T15:33:38.972Z"
   },
   {
    "duration": 4,
    "start_time": "2022-01-21T15:33:39.500Z"
   },
   {
    "duration": 22,
    "start_time": "2022-01-21T15:33:39.512Z"
   },
   {
    "duration": 569,
    "start_time": "2022-01-21T15:33:39.535Z"
   },
   {
    "duration": 457,
    "start_time": "2022-01-21T15:33:40.106Z"
   },
   {
    "duration": 432,
    "start_time": "2022-01-21T15:33:40.565Z"
   },
   {
    "duration": 223,
    "start_time": "2022-01-21T15:33:40.999Z"
   },
   {
    "duration": 1223,
    "start_time": "2022-01-21T15:33:41.223Z"
   },
   {
    "duration": 294,
    "start_time": "2022-01-21T15:33:42.449Z"
   },
   {
    "duration": 9,
    "start_time": "2022-01-21T15:33:42.745Z"
   },
   {
    "duration": 1550,
    "start_time": "2022-01-21T15:33:42.756Z"
   },
   {
    "duration": 559,
    "start_time": "2022-01-21T15:33:44.307Z"
   },
   {
    "duration": 1048,
    "start_time": "2022-01-21T15:33:44.868Z"
   },
   {
    "duration": 328,
    "start_time": "2022-01-21T15:33:45.918Z"
   },
   {
    "duration": -29,
    "start_time": "2022-01-21T15:33:46.278Z"
   },
   {
    "duration": -35,
    "start_time": "2022-01-21T15:33:46.285Z"
   },
   {
    "duration": -39,
    "start_time": "2022-01-21T15:33:46.290Z"
   },
   {
    "duration": -46,
    "start_time": "2022-01-21T15:33:46.298Z"
   },
   {
    "duration": -52,
    "start_time": "2022-01-21T15:33:46.305Z"
   },
   {
    "duration": -58,
    "start_time": "2022-01-21T15:33:46.312Z"
   },
   {
    "duration": -63,
    "start_time": "2022-01-21T15:33:46.318Z"
   },
   {
    "duration": -68,
    "start_time": "2022-01-21T15:33:46.324Z"
   },
   {
    "duration": -85,
    "start_time": "2022-01-21T15:33:46.342Z"
   },
   {
    "duration": -94,
    "start_time": "2022-01-21T15:33:46.352Z"
   },
   {
    "duration": -99,
    "start_time": "2022-01-21T15:33:46.358Z"
   },
   {
    "duration": -105,
    "start_time": "2022-01-21T15:33:46.365Z"
   },
   {
    "duration": -110,
    "start_time": "2022-01-21T15:33:46.371Z"
   },
   {
    "duration": -114,
    "start_time": "2022-01-21T15:33:46.376Z"
   },
   {
    "duration": 230,
    "start_time": "2022-01-21T15:34:35.984Z"
   },
   {
    "duration": 71,
    "start_time": "2022-01-21T15:35:26.724Z"
   },
   {
    "duration": 63,
    "start_time": "2022-01-21T15:35:43.024Z"
   },
   {
    "duration": 5191,
    "start_time": "2022-01-21T15:36:11.724Z"
   },
   {
    "duration": 6045,
    "start_time": "2022-01-21T15:36:48.864Z"
   },
   {
    "duration": 5142,
    "start_time": "2022-01-21T15:37:33.284Z"
   },
   {
    "duration": 242,
    "start_time": "2022-01-21T15:37:59.924Z"
   },
   {
    "duration": 14,
    "start_time": "2022-01-21T15:38:27.544Z"
   },
   {
    "duration": 14,
    "start_time": "2022-01-21T15:39:01.003Z"
   },
   {
    "duration": 208,
    "start_time": "2022-01-21T15:39:11.544Z"
   },
   {
    "duration": 13,
    "start_time": "2022-01-21T15:41:32.344Z"
   },
   {
    "duration": 5034,
    "start_time": "2022-01-21T15:44:50.582Z"
   },
   {
    "duration": 186,
    "start_time": "2022-01-21T15:45:09.184Z"
   },
   {
    "duration": 187,
    "start_time": "2022-01-21T15:46:13.703Z"
   },
   {
    "duration": 178,
    "start_time": "2022-01-21T15:47:11.442Z"
   },
   {
    "duration": 13,
    "start_time": "2022-01-21T15:47:37.905Z"
   },
   {
    "duration": 15,
    "start_time": "2022-01-21T15:49:08.683Z"
   },
   {
    "duration": 190,
    "start_time": "2022-01-21T15:49:40.422Z"
   },
   {
    "duration": 235,
    "start_time": "2022-01-21T15:49:51.743Z"
   },
   {
    "duration": 179,
    "start_time": "2022-01-21T15:50:25.502Z"
   },
   {
    "duration": 17,
    "start_time": "2022-01-21T16:03:28.201Z"
   },
   {
    "duration": 193,
    "start_time": "2022-01-21T16:03:41.603Z"
   },
   {
    "duration": 213,
    "start_time": "2022-01-21T16:04:03.282Z"
   },
   {
    "duration": 187,
    "start_time": "2022-01-21T16:04:08.061Z"
   },
   {
    "duration": 27,
    "start_time": "2022-01-21T16:05:10.303Z"
   },
   {
    "duration": 190,
    "start_time": "2022-01-21T16:05:43.522Z"
   },
   {
    "duration": 181,
    "start_time": "2022-01-21T16:05:46.981Z"
   },
   {
    "duration": 2629,
    "start_time": "2022-01-21T16:28:22.941Z"
   },
   {
    "duration": 2610,
    "start_time": "2022-01-21T16:28:56.602Z"
   },
   {
    "duration": 2582,
    "start_time": "2022-01-21T16:29:03.182Z"
   },
   {
    "duration": 629,
    "start_time": "2022-01-21T16:39:25.019Z"
   },
   {
    "duration": 2,
    "start_time": "2022-01-21T16:39:25.650Z"
   },
   {
    "duration": 202,
    "start_time": "2022-01-21T16:39:25.654Z"
   },
   {
    "duration": 27,
    "start_time": "2022-01-21T16:39:25.858Z"
   },
   {
    "duration": 7,
    "start_time": "2022-01-21T16:39:25.887Z"
   },
   {
    "duration": 21,
    "start_time": "2022-01-21T16:39:25.896Z"
   },
   {
    "duration": 10,
    "start_time": "2022-01-21T16:39:25.919Z"
   },
   {
    "duration": 13,
    "start_time": "2022-01-21T16:39:25.931Z"
   },
   {
    "duration": 8,
    "start_time": "2022-01-21T16:39:25.946Z"
   },
   {
    "duration": 9,
    "start_time": "2022-01-21T16:39:25.956Z"
   },
   {
    "duration": 15,
    "start_time": "2022-01-21T16:39:25.967Z"
   },
   {
    "duration": 5,
    "start_time": "2022-01-21T16:39:25.983Z"
   },
   {
    "duration": 4,
    "start_time": "2022-01-21T16:39:26.013Z"
   },
   {
    "duration": 13,
    "start_time": "2022-01-21T16:39:26.019Z"
   },
   {
    "duration": 7,
    "start_time": "2022-01-21T16:39:26.033Z"
   },
   {
    "duration": 24,
    "start_time": "2022-01-21T16:39:26.042Z"
   },
   {
    "duration": 2,
    "start_time": "2022-01-21T16:39:26.069Z"
   },
   {
    "duration": 6,
    "start_time": "2022-01-21T16:39:26.073Z"
   },
   {
    "duration": 34,
    "start_time": "2022-01-21T16:39:26.081Z"
   },
   {
    "duration": 8,
    "start_time": "2022-01-21T16:39:26.117Z"
   },
   {
    "duration": 6,
    "start_time": "2022-01-21T16:39:26.127Z"
   },
   {
    "duration": 8,
    "start_time": "2022-01-21T16:39:26.135Z"
   },
   {
    "duration": 7,
    "start_time": "2022-01-21T16:39:26.146Z"
   },
   {
    "duration": 116,
    "start_time": "2022-01-21T16:39:26.155Z"
   },
   {
    "duration": 5,
    "start_time": "2022-01-21T16:39:26.273Z"
   },
   {
    "duration": 10,
    "start_time": "2022-01-21T16:39:26.279Z"
   },
   {
    "duration": 27,
    "start_time": "2022-01-21T16:39:26.291Z"
   },
   {
    "duration": 9,
    "start_time": "2022-01-21T16:39:26.320Z"
   },
   {
    "duration": 6,
    "start_time": "2022-01-21T16:39:26.331Z"
   },
   {
    "duration": 19,
    "start_time": "2022-01-21T16:39:26.339Z"
   },
   {
    "duration": 2,
    "start_time": "2022-01-21T16:39:26.360Z"
   },
   {
    "duration": 5,
    "start_time": "2022-01-21T16:39:26.364Z"
   },
   {
    "duration": 42,
    "start_time": "2022-01-21T16:39:26.370Z"
   },
   {
    "duration": 4,
    "start_time": "2022-01-21T16:39:26.415Z"
   },
   {
    "duration": 24,
    "start_time": "2022-01-21T16:39:26.421Z"
   },
   {
    "duration": 5,
    "start_time": "2022-01-21T16:39:26.447Z"
   },
   {
    "duration": 26,
    "start_time": "2022-01-21T16:39:26.454Z"
   },
   {
    "duration": 494,
    "start_time": "2022-01-21T16:39:26.482Z"
   },
   {
    "duration": 5,
    "start_time": "2022-01-21T16:39:26.977Z"
   },
   {
    "duration": 30,
    "start_time": "2022-01-21T16:39:26.983Z"
   },
   {
    "duration": 555,
    "start_time": "2022-01-21T16:39:27.015Z"
   },
   {
    "duration": 449,
    "start_time": "2022-01-21T16:39:27.572Z"
   },
   {
    "duration": 407,
    "start_time": "2022-01-21T16:39:28.023Z"
   },
   {
    "duration": 226,
    "start_time": "2022-01-21T16:39:28.432Z"
   },
   {
    "duration": 1202,
    "start_time": "2022-01-21T16:39:28.659Z"
   },
   {
    "duration": 305,
    "start_time": "2022-01-21T16:39:29.862Z"
   },
   {
    "duration": 8,
    "start_time": "2022-01-21T16:39:30.169Z"
   },
   {
    "duration": 1490,
    "start_time": "2022-01-21T16:39:30.178Z"
   },
   {
    "duration": 517,
    "start_time": "2022-01-21T16:39:31.670Z"
   },
   {
    "duration": 996,
    "start_time": "2022-01-21T16:39:32.188Z"
   },
   {
    "duration": 31,
    "start_time": "2022-01-21T16:39:33.186Z"
   },
   {
    "duration": 198,
    "start_time": "2022-01-21T16:39:33.218Z"
   },
   {
    "duration": 186,
    "start_time": "2022-01-21T16:39:33.417Z"
   },
   {
    "duration": 2460,
    "start_time": "2022-01-21T16:39:33.612Z"
   },
   {
    "duration": 305,
    "start_time": "2022-01-21T16:39:36.074Z"
   },
   {
    "duration": 42,
    "start_time": "2022-01-21T16:39:36.339Z"
   },
   {
    "duration": 38,
    "start_time": "2022-01-21T16:39:36.344Z"
   },
   {
    "duration": 34,
    "start_time": "2022-01-21T16:39:36.348Z"
   },
   {
    "duration": 30,
    "start_time": "2022-01-21T16:39:36.353Z"
   },
   {
    "duration": 17,
    "start_time": "2022-01-21T16:39:36.367Z"
   },
   {
    "duration": 13,
    "start_time": "2022-01-21T16:39:36.372Z"
   },
   {
    "duration": 9,
    "start_time": "2022-01-21T16:39:36.377Z"
   },
   {
    "duration": 4,
    "start_time": "2022-01-21T16:39:36.383Z"
   },
   {
    "duration": 1,
    "start_time": "2022-01-21T16:39:36.387Z"
   },
   {
    "duration": -2,
    "start_time": "2022-01-21T16:39:36.391Z"
   },
   {
    "duration": -5,
    "start_time": "2022-01-21T16:39:36.395Z"
   },
   {
    "duration": -14,
    "start_time": "2022-01-21T16:39:36.405Z"
   },
   {
    "duration": 195,
    "start_time": "2022-01-21T16:41:46.019Z"
   },
   {
    "duration": 196,
    "start_time": "2022-01-21T16:42:47.482Z"
   },
   {
    "duration": 245,
    "start_time": "2022-01-21T16:43:00.180Z"
   },
   {
    "duration": 8,
    "start_time": "2022-01-21T16:46:08.179Z"
   },
   {
    "duration": 20,
    "start_time": "2022-01-21T16:47:13.859Z"
   },
   {
    "duration": 619,
    "start_time": "2022-01-21T16:47:43.016Z"
   },
   {
    "duration": 2,
    "start_time": "2022-01-21T16:47:43.636Z"
   },
   {
    "duration": 193,
    "start_time": "2022-01-21T16:47:43.640Z"
   },
   {
    "duration": 25,
    "start_time": "2022-01-21T16:47:43.835Z"
   },
   {
    "duration": 3,
    "start_time": "2022-01-21T16:47:43.862Z"
   },
   {
    "duration": 11,
    "start_time": "2022-01-21T16:47:43.866Z"
   },
   {
    "duration": 36,
    "start_time": "2022-01-21T16:47:43.878Z"
   },
   {
    "duration": 8,
    "start_time": "2022-01-21T16:47:43.916Z"
   },
   {
    "duration": 3,
    "start_time": "2022-01-21T16:47:43.927Z"
   },
   {
    "duration": 6,
    "start_time": "2022-01-21T16:47:43.932Z"
   },
   {
    "duration": 11,
    "start_time": "2022-01-21T16:47:43.940Z"
   },
   {
    "duration": 4,
    "start_time": "2022-01-21T16:47:43.952Z"
   },
   {
    "duration": 4,
    "start_time": "2022-01-21T16:47:43.958Z"
   },
   {
    "duration": 7,
    "start_time": "2022-01-21T16:47:43.964Z"
   },
   {
    "duration": 4,
    "start_time": "2022-01-21T16:47:43.972Z"
   },
   {
    "duration": 21,
    "start_time": "2022-01-21T16:47:44.013Z"
   },
   {
    "duration": 2,
    "start_time": "2022-01-21T16:47:44.036Z"
   },
   {
    "duration": 7,
    "start_time": "2022-01-21T16:47:44.040Z"
   },
   {
    "duration": 6,
    "start_time": "2022-01-21T16:47:44.048Z"
   },
   {
    "duration": 7,
    "start_time": "2022-01-21T16:47:44.056Z"
   },
   {
    "duration": 4,
    "start_time": "2022-01-21T16:47:44.065Z"
   },
   {
    "duration": 8,
    "start_time": "2022-01-21T16:47:44.070Z"
   },
   {
    "duration": 6,
    "start_time": "2022-01-21T16:47:44.112Z"
   },
   {
    "duration": 75,
    "start_time": "2022-01-21T16:47:44.119Z"
   },
   {
    "duration": 17,
    "start_time": "2022-01-21T16:47:44.195Z"
   },
   {
    "duration": 8,
    "start_time": "2022-01-21T16:47:44.213Z"
   },
   {
    "duration": 6,
    "start_time": "2022-01-21T16:47:44.225Z"
   },
   {
    "duration": 6,
    "start_time": "2022-01-21T16:47:44.233Z"
   },
   {
    "duration": 4,
    "start_time": "2022-01-21T16:47:44.241Z"
   },
   {
    "duration": 16,
    "start_time": "2022-01-21T16:47:44.247Z"
   },
   {
    "duration": 1,
    "start_time": "2022-01-21T16:47:44.265Z"
   },
   {
    "duration": 5,
    "start_time": "2022-01-21T16:47:44.268Z"
   },
   {
    "duration": 41,
    "start_time": "2022-01-21T16:47:44.274Z"
   },
   {
    "duration": 5,
    "start_time": "2022-01-21T16:47:44.317Z"
   },
   {
    "duration": 23,
    "start_time": "2022-01-21T16:47:44.323Z"
   },
   {
    "duration": 5,
    "start_time": "2022-01-21T16:47:44.347Z"
   },
   {
    "duration": 25,
    "start_time": "2022-01-21T16:47:44.354Z"
   },
   {
    "duration": 491,
    "start_time": "2022-01-21T16:47:44.380Z"
   },
   {
    "duration": 5,
    "start_time": "2022-01-21T16:47:44.873Z"
   },
   {
    "duration": 39,
    "start_time": "2022-01-21T16:47:44.880Z"
   },
   {
    "duration": 528,
    "start_time": "2022-01-21T16:47:44.921Z"
   },
   {
    "duration": 421,
    "start_time": "2022-01-21T16:47:45.450Z"
   },
   {
    "duration": 402,
    "start_time": "2022-01-21T16:47:45.872Z"
   },
   {
    "duration": 210,
    "start_time": "2022-01-21T16:47:46.276Z"
   },
   {
    "duration": 1136,
    "start_time": "2022-01-21T16:47:46.488Z"
   },
   {
    "duration": 294,
    "start_time": "2022-01-21T16:47:47.625Z"
   },
   {
    "duration": 8,
    "start_time": "2022-01-21T16:47:47.921Z"
   },
   {
    "duration": 1537,
    "start_time": "2022-01-21T16:47:47.930Z"
   },
   {
    "duration": 522,
    "start_time": "2022-01-21T16:47:49.469Z"
   },
   {
    "duration": 996,
    "start_time": "2022-01-21T16:47:49.993Z"
   },
   {
    "duration": 29,
    "start_time": "2022-01-21T16:47:50.990Z"
   },
   {
    "duration": 200,
    "start_time": "2022-01-21T16:47:51.021Z"
   },
   {
    "duration": 190,
    "start_time": "2022-01-21T16:47:51.223Z"
   },
   {
    "duration": 2746,
    "start_time": "2022-01-21T16:47:51.415Z"
   },
   {
    "duration": 7,
    "start_time": "2022-01-21T16:47:54.163Z"
   },
   {
    "duration": 22,
    "start_time": "2022-01-21T16:47:54.172Z"
   },
   {
    "duration": 26,
    "start_time": "2022-01-21T16:47:54.195Z"
   },
   {
    "duration": 10,
    "start_time": "2022-01-21T16:47:54.222Z"
   },
   {
    "duration": 9,
    "start_time": "2022-01-21T16:47:54.233Z"
   },
   {
    "duration": 6,
    "start_time": "2022-01-21T16:47:54.244Z"
   },
   {
    "duration": 7,
    "start_time": "2022-01-21T16:47:54.252Z"
   },
   {
    "duration": 15,
    "start_time": "2022-01-21T16:47:54.261Z"
   },
   {
    "duration": 586,
    "start_time": "2022-01-21T16:47:54.313Z"
   },
   {
    "duration": 13,
    "start_time": "2022-01-21T16:47:54.901Z"
   },
   {
    "duration": 8,
    "start_time": "2022-01-21T16:47:54.916Z"
   },
   {
    "duration": 2073,
    "start_time": "2022-01-21T16:47:54.925Z"
   },
   {
    "duration": 4289,
    "start_time": "2022-01-21T16:47:57.000Z"
   },
   {
    "duration": 558,
    "start_time": "2022-01-21T16:48:32.736Z"
   },
   {
    "duration": 603,
    "start_time": "2022-01-21T16:48:40.536Z"
   },
   {
    "duration": 6,
    "start_time": "2022-01-21T16:49:51.856Z"
   },
   {
    "duration": 669,
    "start_time": "2022-01-22T09:09:55.841Z"
   },
   {
    "duration": 2,
    "start_time": "2022-01-22T09:09:56.512Z"
   },
   {
    "duration": 311,
    "start_time": "2022-01-22T09:09:56.515Z"
   },
   {
    "duration": 23,
    "start_time": "2022-01-22T09:09:56.827Z"
   },
   {
    "duration": 4,
    "start_time": "2022-01-22T09:09:56.851Z"
   },
   {
    "duration": 11,
    "start_time": "2022-01-22T09:09:56.856Z"
   },
   {
    "duration": 8,
    "start_time": "2022-01-22T09:09:56.868Z"
   },
   {
    "duration": 7,
    "start_time": "2022-01-22T09:09:56.877Z"
   },
   {
    "duration": 4,
    "start_time": "2022-01-22T09:09:56.886Z"
   },
   {
    "duration": 37,
    "start_time": "2022-01-22T09:09:56.892Z"
   },
   {
    "duration": 11,
    "start_time": "2022-01-22T09:09:56.931Z"
   },
   {
    "duration": 4,
    "start_time": "2022-01-22T09:09:56.944Z"
   },
   {
    "duration": 6,
    "start_time": "2022-01-22T09:09:56.949Z"
   },
   {
    "duration": 9,
    "start_time": "2022-01-22T09:09:56.956Z"
   },
   {
    "duration": 5,
    "start_time": "2022-01-22T09:09:56.966Z"
   },
   {
    "duration": 27,
    "start_time": "2022-01-22T09:09:56.973Z"
   },
   {
    "duration": 25,
    "start_time": "2022-01-22T09:09:57.002Z"
   },
   {
    "duration": 9,
    "start_time": "2022-01-22T09:09:57.029Z"
   },
   {
    "duration": 8,
    "start_time": "2022-01-22T09:09:57.040Z"
   },
   {
    "duration": 12,
    "start_time": "2022-01-22T09:09:57.050Z"
   },
   {
    "duration": 4,
    "start_time": "2022-01-22T09:09:57.064Z"
   },
   {
    "duration": 7,
    "start_time": "2022-01-22T09:09:57.069Z"
   },
   {
    "duration": 5,
    "start_time": "2022-01-22T09:09:57.078Z"
   },
   {
    "duration": 85,
    "start_time": "2022-01-22T09:09:57.084Z"
   },
   {
    "duration": 3,
    "start_time": "2022-01-22T09:09:57.171Z"
   },
   {
    "duration": 11,
    "start_time": "2022-01-22T09:09:57.175Z"
   },
   {
    "duration": 5,
    "start_time": "2022-01-22T09:09:57.190Z"
   },
   {
    "duration": 7,
    "start_time": "2022-01-22T09:09:57.197Z"
   },
   {
    "duration": 25,
    "start_time": "2022-01-22T09:09:57.206Z"
   },
   {
    "duration": 17,
    "start_time": "2022-01-22T09:09:57.233Z"
   },
   {
    "duration": 2,
    "start_time": "2022-01-22T09:09:57.252Z"
   },
   {
    "duration": 5,
    "start_time": "2022-01-22T09:09:57.256Z"
   },
   {
    "duration": 6,
    "start_time": "2022-01-22T09:09:57.262Z"
   },
   {
    "duration": 3,
    "start_time": "2022-01-22T09:09:57.269Z"
   },
   {
    "duration": 20,
    "start_time": "2022-01-22T09:09:57.274Z"
   },
   {
    "duration": 5,
    "start_time": "2022-01-22T09:09:57.328Z"
   },
   {
    "duration": 24,
    "start_time": "2022-01-22T09:09:57.335Z"
   },
   {
    "duration": 457,
    "start_time": "2022-01-22T09:09:57.361Z"
   },
   {
    "duration": 5,
    "start_time": "2022-01-22T09:09:57.827Z"
   },
   {
    "duration": 25,
    "start_time": "2022-01-22T09:09:57.833Z"
   },
   {
    "duration": 479,
    "start_time": "2022-01-22T09:09:57.859Z"
   },
   {
    "duration": 406,
    "start_time": "2022-01-22T09:09:58.339Z"
   },
   {
    "duration": 381,
    "start_time": "2022-01-22T09:09:58.746Z"
   },
   {
    "duration": 201,
    "start_time": "2022-01-22T09:09:59.128Z"
   },
   {
    "duration": 1039,
    "start_time": "2022-01-22T09:09:59.331Z"
   },
   {
    "duration": 293,
    "start_time": "2022-01-22T09:10:00.372Z"
   },
   {
    "duration": 9,
    "start_time": "2022-01-22T09:10:00.667Z"
   },
   {
    "duration": 1461,
    "start_time": "2022-01-22T09:10:00.678Z"
   },
   {
    "duration": 524,
    "start_time": "2022-01-22T09:10:02.141Z"
   },
   {
    "duration": 966,
    "start_time": "2022-01-22T09:10:02.667Z"
   },
   {
    "duration": 23,
    "start_time": "2022-01-22T09:10:03.635Z"
   },
   {
    "duration": 183,
    "start_time": "2022-01-22T09:10:03.659Z"
   },
   {
    "duration": 181,
    "start_time": "2022-01-22T09:10:03.844Z"
   },
   {
    "duration": 2376,
    "start_time": "2022-01-22T09:10:04.026Z"
   },
   {
    "duration": 7,
    "start_time": "2022-01-22T09:10:06.404Z"
   },
   {
    "duration": 29,
    "start_time": "2022-01-22T09:10:06.413Z"
   },
   {
    "duration": 9,
    "start_time": "2022-01-22T09:10:06.444Z"
   },
   {
    "duration": 10,
    "start_time": "2022-01-22T09:10:06.454Z"
   },
   {
    "duration": 10,
    "start_time": "2022-01-22T09:10:06.466Z"
   },
   {
    "duration": 6,
    "start_time": "2022-01-22T09:10:06.478Z"
   },
   {
    "duration": 7,
    "start_time": "2022-01-22T09:10:06.485Z"
   },
   {
    "duration": 42,
    "start_time": "2022-01-22T09:10:06.494Z"
   },
   {
    "duration": 539,
    "start_time": "2022-01-22T09:10:06.537Z"
   },
   {
    "duration": 7,
    "start_time": "2022-01-22T09:10:07.077Z"
   },
   {
    "duration": 10,
    "start_time": "2022-01-22T09:10:07.085Z"
   },
   {
    "duration": 2040,
    "start_time": "2022-01-22T09:10:07.096Z"
   },
   {
    "duration": 3927,
    "start_time": "2022-01-22T09:10:09.138Z"
   },
   {
    "duration": 106,
    "start_time": "2022-01-22T09:23:43.869Z"
   },
   {
    "duration": 122,
    "start_time": "2022-01-22T09:24:05.201Z"
   },
   {
    "duration": 105,
    "start_time": "2022-01-22T09:24:33.661Z"
   },
   {
    "duration": 115,
    "start_time": "2022-01-22T09:25:02.843Z"
   },
   {
    "duration": 124,
    "start_time": "2022-01-22T09:25:36.571Z"
   },
   {
    "duration": 4,
    "start_time": "2022-01-22T09:25:59.231Z"
   },
   {
    "duration": 364,
    "start_time": "2022-01-22T09:26:10.212Z"
   },
   {
    "duration": 109,
    "start_time": "2022-01-22T09:26:15.451Z"
   },
   {
    "duration": 5,
    "start_time": "2022-01-22T09:26:20.481Z"
   },
   {
    "duration": 113,
    "start_time": "2022-01-22T09:31:52.212Z"
   },
   {
    "duration": 118,
    "start_time": "2022-01-22T09:32:14.952Z"
   },
   {
    "duration": 3,
    "start_time": "2022-01-22T09:32:37.361Z"
   },
   {
    "duration": 113,
    "start_time": "2022-01-22T09:33:50.722Z"
   },
   {
    "duration": 347,
    "start_time": "2022-01-22T09:34:43.581Z"
   },
   {
    "duration": 1545,
    "start_time": "2022-01-22T09:34:52.879Z"
   },
   {
    "duration": 505,
    "start_time": "2022-01-22T09:37:05.762Z"
   },
   {
    "duration": 345,
    "start_time": "2022-01-22T09:37:15.032Z"
   },
   {
    "duration": 104,
    "start_time": "2022-01-22T09:37:52.562Z"
   },
   {
    "duration": 122,
    "start_time": "2022-01-22T09:38:11.333Z"
   },
   {
    "duration": 527,
    "start_time": "2022-01-22T09:38:29.551Z"
   },
   {
    "duration": 462,
    "start_time": "2022-01-22T09:48:36.112Z"
   },
   {
    "duration": 985,
    "start_time": "2022-01-22T09:49:41.451Z"
   },
   {
    "duration": 382,
    "start_time": "2022-01-22T09:54:58.205Z"
   },
   {
    "duration": 1056,
    "start_time": "2022-01-22T10:01:42.330Z"
   },
   {
    "duration": 1826,
    "start_time": "2022-01-22T10:03:27.101Z"
   },
   {
    "duration": 581,
    "start_time": "2022-01-22T10:04:54.894Z"
   },
   {
    "duration": 1767,
    "start_time": "2022-01-22T10:05:09.100Z"
   },
   {
    "duration": 1838,
    "start_time": "2022-01-22T10:05:16.362Z"
   },
   {
    "duration": 113,
    "start_time": "2022-01-22T10:07:11.981Z"
   },
   {
    "duration": 2070,
    "start_time": "2022-01-22T10:07:23.073Z"
   },
   {
    "duration": 670,
    "start_time": "2022-01-22T10:07:35.829Z"
   },
   {
    "duration": 2,
    "start_time": "2022-01-22T10:07:36.500Z"
   },
   {
    "duration": 275,
    "start_time": "2022-01-22T10:07:36.504Z"
   },
   {
    "duration": 21,
    "start_time": "2022-01-22T10:07:36.781Z"
   },
   {
    "duration": 7,
    "start_time": "2022-01-22T10:07:36.804Z"
   },
   {
    "duration": 17,
    "start_time": "2022-01-22T10:07:36.813Z"
   },
   {
    "duration": 7,
    "start_time": "2022-01-22T10:07:36.831Z"
   },
   {
    "duration": 7,
    "start_time": "2022-01-22T10:07:36.841Z"
   },
   {
    "duration": 3,
    "start_time": "2022-01-22T10:07:36.850Z"
   },
   {
    "duration": 5,
    "start_time": "2022-01-22T10:07:36.855Z"
   },
   {
    "duration": 13,
    "start_time": "2022-01-22T10:07:36.862Z"
   },
   {
    "duration": 4,
    "start_time": "2022-01-22T10:07:36.877Z"
   },
   {
    "duration": 7,
    "start_time": "2022-01-22T10:07:36.883Z"
   },
   {
    "duration": 39,
    "start_time": "2022-01-22T10:07:36.892Z"
   },
   {
    "duration": 5,
    "start_time": "2022-01-22T10:07:36.932Z"
   },
   {
    "duration": 23,
    "start_time": "2022-01-22T10:07:36.939Z"
   },
   {
    "duration": 2,
    "start_time": "2022-01-22T10:07:36.964Z"
   },
   {
    "duration": 7,
    "start_time": "2022-01-22T10:07:36.968Z"
   },
   {
    "duration": 5,
    "start_time": "2022-01-22T10:07:36.977Z"
   },
   {
    "duration": 9,
    "start_time": "2022-01-22T10:07:36.984Z"
   },
   {
    "duration": 36,
    "start_time": "2022-01-22T10:07:36.995Z"
   },
   {
    "duration": 7,
    "start_time": "2022-01-22T10:07:37.033Z"
   },
   {
    "duration": 6,
    "start_time": "2022-01-22T10:07:37.044Z"
   },
   {
    "duration": 94,
    "start_time": "2022-01-22T10:07:37.052Z"
   },
   {
    "duration": 5,
    "start_time": "2022-01-22T10:07:37.148Z"
   },
   {
    "duration": 10,
    "start_time": "2022-01-22T10:07:37.155Z"
   },
   {
    "duration": 7,
    "start_time": "2022-01-22T10:07:37.167Z"
   },
   {
    "duration": 9,
    "start_time": "2022-01-22T10:07:37.175Z"
   },
   {
    "duration": 7,
    "start_time": "2022-01-22T10:07:37.185Z"
   },
   {
    "duration": 18,
    "start_time": "2022-01-22T10:07:37.228Z"
   },
   {
    "duration": 2,
    "start_time": "2022-01-22T10:07:37.248Z"
   },
   {
    "duration": 7,
    "start_time": "2022-01-22T10:07:37.251Z"
   },
   {
    "duration": 7,
    "start_time": "2022-01-22T10:07:37.259Z"
   },
   {
    "duration": 5,
    "start_time": "2022-01-22T10:07:37.267Z"
   },
   {
    "duration": 19,
    "start_time": "2022-01-22T10:07:37.274Z"
   },
   {
    "duration": 4,
    "start_time": "2022-01-22T10:07:37.294Z"
   },
   {
    "duration": 49,
    "start_time": "2022-01-22T10:07:37.299Z"
   },
   {
    "duration": 504,
    "start_time": "2022-01-22T10:07:37.349Z"
   },
   {
    "duration": 5,
    "start_time": "2022-01-22T10:07:37.854Z"
   },
   {
    "duration": 28,
    "start_time": "2022-01-22T10:07:37.860Z"
   },
   {
    "duration": 485,
    "start_time": "2022-01-22T10:07:37.889Z"
   },
   {
    "duration": 392,
    "start_time": "2022-01-22T10:07:38.375Z"
   },
   {
    "duration": 364,
    "start_time": "2022-01-22T10:07:38.769Z"
   },
   {
    "duration": 188,
    "start_time": "2022-01-22T10:07:39.134Z"
   },
   {
    "duration": 1048,
    "start_time": "2022-01-22T10:07:39.326Z"
   },
   {
    "duration": 282,
    "start_time": "2022-01-22T10:07:40.375Z"
   },
   {
    "duration": 8,
    "start_time": "2022-01-22T10:07:40.659Z"
   },
   {
    "duration": 1466,
    "start_time": "2022-01-22T10:07:40.669Z"
   },
   {
    "duration": 523,
    "start_time": "2022-01-22T10:07:42.137Z"
   },
   {
    "duration": 967,
    "start_time": "2022-01-22T10:07:42.662Z"
   },
   {
    "duration": 23,
    "start_time": "2022-01-22T10:07:43.631Z"
   },
   {
    "duration": 181,
    "start_time": "2022-01-22T10:07:43.655Z"
   },
   {
    "duration": 177,
    "start_time": "2022-01-22T10:07:43.838Z"
   },
   {
    "duration": 2333,
    "start_time": "2022-01-22T10:07:44.016Z"
   },
   {
    "duration": 7,
    "start_time": "2022-01-22T10:07:46.350Z"
   },
   {
    "duration": 23,
    "start_time": "2022-01-22T10:07:46.359Z"
   },
   {
    "duration": 9,
    "start_time": "2022-01-22T10:07:46.383Z"
   },
   {
    "duration": 9,
    "start_time": "2022-01-22T10:07:46.393Z"
   },
   {
    "duration": 32,
    "start_time": "2022-01-22T10:07:46.403Z"
   },
   {
    "duration": 6,
    "start_time": "2022-01-22T10:07:46.437Z"
   },
   {
    "duration": 8,
    "start_time": "2022-01-22T10:07:46.445Z"
   },
   {
    "duration": 13,
    "start_time": "2022-01-22T10:07:46.454Z"
   },
   {
    "duration": 526,
    "start_time": "2022-01-22T10:07:46.468Z"
   },
   {
    "duration": 7,
    "start_time": "2022-01-22T10:07:46.996Z"
   },
   {
    "duration": 19,
    "start_time": "2022-01-22T10:07:47.004Z"
   },
   {
    "duration": 2050,
    "start_time": "2022-01-22T10:07:47.024Z"
   },
   {
    "duration": 3891,
    "start_time": "2022-01-22T10:07:49.075Z"
   },
   {
    "duration": 400,
    "start_time": "2022-01-22T10:11:50.060Z"
   },
   {
    "duration": 337,
    "start_time": "2022-01-22T10:12:04.340Z"
   },
   {
    "duration": 3685,
    "start_time": "2022-01-22T10:14:11.687Z"
   },
   {
    "duration": 3878,
    "start_time": "2022-01-22T10:14:52.462Z"
   },
   {
    "duration": 3822,
    "start_time": "2022-01-22T10:15:03.630Z"
   },
   {
    "duration": 531,
    "start_time": "2022-01-22T10:19:15.407Z"
   },
   {
    "duration": 1348,
    "start_time": "2022-01-22T10:19:32.057Z"
   },
   {
    "duration": 4023,
    "start_time": "2022-01-22T10:20:02.568Z"
   },
   {
    "duration": 1899,
    "start_time": "2022-01-22T10:38:59.520Z"
   },
   {
    "duration": 360,
    "start_time": "2022-01-22T10:39:12.258Z"
   },
   {
    "duration": 4,
    "start_time": "2022-01-22T10:39:41.163Z"
   },
   {
    "duration": 4,
    "start_time": "2022-01-22T10:39:48.109Z"
   },
   {
    "duration": 330,
    "start_time": "2022-01-22T10:40:22.240Z"
   },
   {
    "duration": 10,
    "start_time": "2022-01-22T10:40:43.440Z"
   },
   {
    "duration": 130,
    "start_time": "2022-01-22T10:46:26.068Z"
   },
   {
    "duration": 328,
    "start_time": "2022-01-22T10:46:49.190Z"
   },
   {
    "duration": 16,
    "start_time": "2022-01-22T10:47:21.007Z"
   },
   {
    "duration": 17,
    "start_time": "2022-01-22T10:47:41.167Z"
   },
   {
    "duration": 4284,
    "start_time": "2022-01-22T10:48:27.027Z"
   },
   {
    "duration": 4475,
    "start_time": "2022-01-22T10:51:26.508Z"
   },
   {
    "duration": 661,
    "start_time": "2022-01-22T10:51:44.207Z"
   },
   {
    "duration": 2,
    "start_time": "2022-01-22T10:51:44.870Z"
   },
   {
    "duration": 284,
    "start_time": "2022-01-22T10:51:44.873Z"
   },
   {
    "duration": 23,
    "start_time": "2022-01-22T10:51:45.159Z"
   },
   {
    "duration": 4,
    "start_time": "2022-01-22T10:51:45.183Z"
   },
   {
    "duration": 12,
    "start_time": "2022-01-22T10:51:45.188Z"
   },
   {
    "duration": 26,
    "start_time": "2022-01-22T10:51:45.202Z"
   },
   {
    "duration": 8,
    "start_time": "2022-01-22T10:51:45.229Z"
   },
   {
    "duration": 3,
    "start_time": "2022-01-22T10:51:45.239Z"
   },
   {
    "duration": 6,
    "start_time": "2022-01-22T10:51:45.244Z"
   },
   {
    "duration": 13,
    "start_time": "2022-01-22T10:51:45.251Z"
   },
   {
    "duration": 6,
    "start_time": "2022-01-22T10:51:45.266Z"
   },
   {
    "duration": 6,
    "start_time": "2022-01-22T10:51:45.273Z"
   },
   {
    "duration": 7,
    "start_time": "2022-01-22T10:51:45.280Z"
   },
   {
    "duration": 42,
    "start_time": "2022-01-22T10:51:45.289Z"
   },
   {
    "duration": 23,
    "start_time": "2022-01-22T10:51:45.332Z"
   },
   {
    "duration": 2,
    "start_time": "2022-01-22T10:51:45.357Z"
   },
   {
    "duration": 6,
    "start_time": "2022-01-22T10:51:45.361Z"
   },
   {
    "duration": 6,
    "start_time": "2022-01-22T10:51:45.369Z"
   },
   {
    "duration": 10,
    "start_time": "2022-01-22T10:51:45.376Z"
   },
   {
    "duration": 40,
    "start_time": "2022-01-22T10:51:45.388Z"
   },
   {
    "duration": 5,
    "start_time": "2022-01-22T10:51:45.429Z"
   },
   {
    "duration": 6,
    "start_time": "2022-01-22T10:51:45.436Z"
   },
   {
    "duration": 67,
    "start_time": "2022-01-22T10:51:45.443Z"
   },
   {
    "duration": 17,
    "start_time": "2022-01-22T10:51:45.511Z"
   },
   {
    "duration": 9,
    "start_time": "2022-01-22T10:51:45.530Z"
   },
   {
    "duration": 6,
    "start_time": "2022-01-22T10:51:45.542Z"
   },
   {
    "duration": 6,
    "start_time": "2022-01-22T10:51:45.550Z"
   },
   {
    "duration": 5,
    "start_time": "2022-01-22T10:51:45.557Z"
   },
   {
    "duration": 15,
    "start_time": "2022-01-22T10:51:45.563Z"
   },
   {
    "duration": 1,
    "start_time": "2022-01-22T10:51:45.580Z"
   },
   {
    "duration": 5,
    "start_time": "2022-01-22T10:51:45.583Z"
   },
   {
    "duration": 37,
    "start_time": "2022-01-22T10:51:45.590Z"
   },
   {
    "duration": 3,
    "start_time": "2022-01-22T10:51:45.628Z"
   },
   {
    "duration": 20,
    "start_time": "2022-01-22T10:51:45.633Z"
   },
   {
    "duration": 3,
    "start_time": "2022-01-22T10:51:45.655Z"
   },
   {
    "duration": 26,
    "start_time": "2022-01-22T10:51:45.660Z"
   },
   {
    "duration": 460,
    "start_time": "2022-01-22T10:51:45.687Z"
   },
   {
    "duration": 4,
    "start_time": "2022-01-22T10:51:46.149Z"
   },
   {
    "duration": 23,
    "start_time": "2022-01-22T10:51:46.154Z"
   },
   {
    "duration": 472,
    "start_time": "2022-01-22T10:51:46.179Z"
   },
   {
    "duration": 387,
    "start_time": "2022-01-22T10:51:46.653Z"
   },
   {
    "duration": 365,
    "start_time": "2022-01-22T10:51:47.042Z"
   },
   {
    "duration": 188,
    "start_time": "2022-01-22T10:51:47.409Z"
   },
   {
    "duration": 1037,
    "start_time": "2022-01-22T10:51:47.598Z"
   },
   {
    "duration": 290,
    "start_time": "2022-01-22T10:51:48.637Z"
   },
   {
    "duration": 9,
    "start_time": "2022-01-22T10:51:48.928Z"
   },
   {
    "duration": 1364,
    "start_time": "2022-01-22T10:51:48.938Z"
   },
   {
    "duration": 498,
    "start_time": "2022-01-22T10:51:50.304Z"
   },
   {
    "duration": 954,
    "start_time": "2022-01-22T10:51:50.804Z"
   },
   {
    "duration": 23,
    "start_time": "2022-01-22T10:51:51.760Z"
   },
   {
    "duration": 192,
    "start_time": "2022-01-22T10:51:51.785Z"
   },
   {
    "duration": 183,
    "start_time": "2022-01-22T10:51:51.978Z"
   },
   {
    "duration": 2407,
    "start_time": "2022-01-22T10:51:52.163Z"
   },
   {
    "duration": 9,
    "start_time": "2022-01-22T10:51:54.572Z"
   },
   {
    "duration": 20,
    "start_time": "2022-01-22T10:51:54.582Z"
   },
   {
    "duration": 29,
    "start_time": "2022-01-22T10:51:54.604Z"
   },
   {
    "duration": 10,
    "start_time": "2022-01-22T10:51:54.635Z"
   },
   {
    "duration": 10,
    "start_time": "2022-01-22T10:51:54.646Z"
   },
   {
    "duration": 7,
    "start_time": "2022-01-22T10:51:54.658Z"
   },
   {
    "duration": 8,
    "start_time": "2022-01-22T10:51:54.667Z"
   },
   {
    "duration": 55,
    "start_time": "2022-01-22T10:51:54.677Z"
   },
   {
    "duration": 543,
    "start_time": "2022-01-22T10:51:54.734Z"
   },
   {
    "duration": 7,
    "start_time": "2022-01-22T10:51:55.278Z"
   },
   {
    "duration": 7,
    "start_time": "2022-01-22T10:51:55.287Z"
   },
   {
    "duration": 1873,
    "start_time": "2022-01-22T10:51:55.296Z"
   },
   {
    "duration": 11,
    "start_time": "2022-01-22T10:51:57.171Z"
   },
   {
    "duration": 3765,
    "start_time": "2022-01-22T10:51:57.183Z"
   },
   {
    "duration": 640,
    "start_time": "2022-01-22T10:52:24.171Z"
   },
   {
    "duration": 2,
    "start_time": "2022-01-22T10:52:24.813Z"
   },
   {
    "duration": 316,
    "start_time": "2022-01-22T10:52:24.817Z"
   },
   {
    "duration": 22,
    "start_time": "2022-01-22T10:52:25.135Z"
   },
   {
    "duration": 3,
    "start_time": "2022-01-22T10:52:25.158Z"
   },
   {
    "duration": 10,
    "start_time": "2022-01-22T10:52:25.163Z"
   },
   {
    "duration": 8,
    "start_time": "2022-01-22T10:52:25.175Z"
   },
   {
    "duration": 8,
    "start_time": "2022-01-22T10:52:25.186Z"
   },
   {
    "duration": 33,
    "start_time": "2022-01-22T10:52:25.196Z"
   },
   {
    "duration": 6,
    "start_time": "2022-01-22T10:52:25.231Z"
   },
   {
    "duration": 11,
    "start_time": "2022-01-22T10:52:25.239Z"
   },
   {
    "duration": 5,
    "start_time": "2022-01-22T10:52:25.252Z"
   },
   {
    "duration": 6,
    "start_time": "2022-01-22T10:52:25.259Z"
   },
   {
    "duration": 7,
    "start_time": "2022-01-22T10:52:25.266Z"
   },
   {
    "duration": 5,
    "start_time": "2022-01-22T10:52:25.275Z"
   },
   {
    "duration": 66,
    "start_time": "2022-01-22T10:52:25.281Z"
   },
   {
    "duration": 3,
    "start_time": "2022-01-22T10:52:25.348Z"
   },
   {
    "duration": 9,
    "start_time": "2022-01-22T10:52:25.352Z"
   },
   {
    "duration": 4,
    "start_time": "2022-01-22T10:52:25.363Z"
   },
   {
    "duration": 8,
    "start_time": "2022-01-22T10:52:25.369Z"
   },
   {
    "duration": 5,
    "start_time": "2022-01-22T10:52:25.379Z"
   },
   {
    "duration": 10,
    "start_time": "2022-01-22T10:52:25.385Z"
   },
   {
    "duration": 32,
    "start_time": "2022-01-22T10:52:25.399Z"
   },
   {
    "duration": 70,
    "start_time": "2022-01-22T10:52:25.433Z"
   },
   {
    "duration": 4,
    "start_time": "2022-01-22T10:52:25.505Z"
   },
   {
    "duration": 7,
    "start_time": "2022-01-22T10:52:25.527Z"
   },
   {
    "duration": 6,
    "start_time": "2022-01-22T10:52:25.535Z"
   },
   {
    "duration": 7,
    "start_time": "2022-01-22T10:52:25.542Z"
   },
   {
    "duration": 5,
    "start_time": "2022-01-22T10:52:25.550Z"
   },
   {
    "duration": 19,
    "start_time": "2022-01-22T10:52:25.556Z"
   },
   {
    "duration": 3,
    "start_time": "2022-01-22T10:52:25.576Z"
   },
   {
    "duration": 6,
    "start_time": "2022-01-22T10:52:25.580Z"
   },
   {
    "duration": 40,
    "start_time": "2022-01-22T10:52:25.587Z"
   },
   {
    "duration": 4,
    "start_time": "2022-01-22T10:52:25.628Z"
   },
   {
    "duration": 21,
    "start_time": "2022-01-22T10:52:25.633Z"
   },
   {
    "duration": 4,
    "start_time": "2022-01-22T10:52:25.656Z"
   },
   {
    "duration": 24,
    "start_time": "2022-01-22T10:52:25.662Z"
   },
   {
    "duration": 501,
    "start_time": "2022-01-22T10:52:25.687Z"
   },
   {
    "duration": 5,
    "start_time": "2022-01-22T10:52:26.190Z"
   },
   {
    "duration": 31,
    "start_time": "2022-01-22T10:52:26.197Z"
   },
   {
    "duration": 469,
    "start_time": "2022-01-22T10:52:26.229Z"
   },
   {
    "duration": 386,
    "start_time": "2022-01-22T10:52:26.700Z"
   },
   {
    "duration": 360,
    "start_time": "2022-01-22T10:52:27.088Z"
   },
   {
    "duration": 194,
    "start_time": "2022-01-22T10:52:27.450Z"
   },
   {
    "duration": 1073,
    "start_time": "2022-01-22T10:52:27.646Z"
   },
   {
    "duration": 282,
    "start_time": "2022-01-22T10:52:28.720Z"
   },
   {
    "duration": 7,
    "start_time": "2022-01-22T10:52:29.004Z"
   },
   {
    "duration": 1384,
    "start_time": "2022-01-22T10:52:29.013Z"
   },
   {
    "duration": 502,
    "start_time": "2022-01-22T10:52:30.399Z"
   },
   {
    "duration": 940,
    "start_time": "2022-01-22T10:52:30.903Z"
   },
   {
    "duration": 22,
    "start_time": "2022-01-22T10:52:31.844Z"
   },
   {
    "duration": 180,
    "start_time": "2022-01-22T10:52:31.868Z"
   },
   {
    "duration": 177,
    "start_time": "2022-01-22T10:52:32.050Z"
   },
   {
    "duration": 2510,
    "start_time": "2022-01-22T10:52:32.228Z"
   },
   {
    "duration": 8,
    "start_time": "2022-01-22T10:52:34.740Z"
   },
   {
    "duration": 20,
    "start_time": "2022-01-22T10:52:34.750Z"
   },
   {
    "duration": 10,
    "start_time": "2022-01-22T10:52:34.771Z"
   },
   {
    "duration": 8,
    "start_time": "2022-01-22T10:52:34.783Z"
   },
   {
    "duration": 41,
    "start_time": "2022-01-22T10:52:34.792Z"
   },
   {
    "duration": 6,
    "start_time": "2022-01-22T10:52:34.835Z"
   },
   {
    "duration": 8,
    "start_time": "2022-01-22T10:52:34.843Z"
   },
   {
    "duration": 12,
    "start_time": "2022-01-22T10:52:34.853Z"
   },
   {
    "duration": 506,
    "start_time": "2022-01-22T10:52:34.867Z"
   },
   {
    "duration": 6,
    "start_time": "2022-01-22T10:52:35.375Z"
   },
   {
    "duration": 15,
    "start_time": "2022-01-22T10:52:35.382Z"
   },
   {
    "duration": 1831,
    "start_time": "2022-01-22T10:52:35.398Z"
   },
   {
    "duration": 3741,
    "start_time": "2022-01-22T10:52:37.231Z"
   },
   {
    "duration": 823,
    "start_time": "2022-01-23T03:47:40.035Z"
   },
   {
    "duration": 3,
    "start_time": "2022-01-23T03:47:40.860Z"
   },
   {
    "duration": 324,
    "start_time": "2022-01-23T03:47:40.866Z"
   },
   {
    "duration": 46,
    "start_time": "2022-01-23T03:47:41.192Z"
   },
   {
    "duration": 4,
    "start_time": "2022-01-23T03:47:41.240Z"
   },
   {
    "duration": 11,
    "start_time": "2022-01-23T03:47:41.247Z"
   },
   {
    "duration": 11,
    "start_time": "2022-01-23T03:47:41.260Z"
   },
   {
    "duration": 54,
    "start_time": "2022-01-23T03:47:41.273Z"
   },
   {
    "duration": 5,
    "start_time": "2022-01-23T03:47:41.330Z"
   },
   {
    "duration": 6,
    "start_time": "2022-01-23T03:47:41.337Z"
   },
   {
    "duration": 13,
    "start_time": "2022-01-23T03:47:41.345Z"
   },
   {
    "duration": 6,
    "start_time": "2022-01-23T03:47:41.360Z"
   },
   {
    "duration": 58,
    "start_time": "2022-01-23T03:47:41.368Z"
   },
   {
    "duration": 9,
    "start_time": "2022-01-23T03:47:41.428Z"
   },
   {
    "duration": 12,
    "start_time": "2022-01-23T03:47:41.439Z"
   },
   {
    "duration": 82,
    "start_time": "2022-01-23T03:47:41.453Z"
   },
   {
    "duration": 3,
    "start_time": "2022-01-23T03:47:41.537Z"
   },
   {
    "duration": 7,
    "start_time": "2022-01-23T03:47:41.542Z"
   },
   {
    "duration": 6,
    "start_time": "2022-01-23T03:47:41.551Z"
   },
   {
    "duration": 63,
    "start_time": "2022-01-23T03:47:41.560Z"
   },
   {
    "duration": 6,
    "start_time": "2022-01-23T03:47:41.626Z"
   },
   {
    "duration": 8,
    "start_time": "2022-01-23T03:47:41.634Z"
   },
   {
    "duration": 8,
    "start_time": "2022-01-23T03:47:41.647Z"
   },
   {
    "duration": 198,
    "start_time": "2022-01-23T03:47:41.659Z"
   },
   {
    "duration": 6,
    "start_time": "2022-01-23T03:47:41.859Z"
   },
   {
    "duration": 60,
    "start_time": "2022-01-23T03:47:41.867Z"
   },
   {
    "duration": 13,
    "start_time": "2022-01-23T03:47:41.930Z"
   },
   {
    "duration": 14,
    "start_time": "2022-01-23T03:47:41.946Z"
   },
   {
    "duration": 62,
    "start_time": "2022-01-23T03:47:41.963Z"
   },
   {
    "duration": 38,
    "start_time": "2022-01-23T03:47:42.028Z"
   },
   {
    "duration": 4,
    "start_time": "2022-01-23T03:47:42.124Z"
   },
   {
    "duration": 5,
    "start_time": "2022-01-23T03:47:42.131Z"
   },
   {
    "duration": 9,
    "start_time": "2022-01-23T03:47:42.139Z"
   },
   {
    "duration": 5,
    "start_time": "2022-01-23T03:47:42.151Z"
   },
   {
    "duration": 90,
    "start_time": "2022-01-23T03:47:42.159Z"
   },
   {
    "duration": 6,
    "start_time": "2022-01-23T03:47:42.252Z"
   },
   {
    "duration": 91,
    "start_time": "2022-01-23T03:47:42.260Z"
   },
   {
    "duration": 777,
    "start_time": "2022-01-23T03:47:42.353Z"
   },
   {
    "duration": 6,
    "start_time": "2022-01-23T03:47:43.133Z"
   },
   {
    "duration": 31,
    "start_time": "2022-01-23T03:47:43.141Z"
   },
   {
    "duration": 777,
    "start_time": "2022-01-23T03:47:43.175Z"
   },
   {
    "duration": 645,
    "start_time": "2022-01-23T03:47:43.955Z"
   },
   {
    "duration": 605,
    "start_time": "2022-01-23T03:47:44.603Z"
   },
   {
    "duration": 419,
    "start_time": "2022-01-23T03:47:45.210Z"
   },
   {
    "duration": 1717,
    "start_time": "2022-01-23T03:47:45.632Z"
   },
   {
    "duration": 445,
    "start_time": "2022-01-23T03:47:47.352Z"
   },
   {
    "duration": 24,
    "start_time": "2022-01-23T03:47:47.799Z"
   },
   {
    "duration": 2060,
    "start_time": "2022-01-23T03:47:47.825Z"
   },
   {
    "duration": 759,
    "start_time": "2022-01-23T03:47:49.888Z"
   },
   {
    "duration": 1340,
    "start_time": "2022-01-23T03:47:50.650Z"
   },
   {
    "duration": 56,
    "start_time": "2022-01-23T03:47:51.992Z"
   },
   {
    "duration": 297,
    "start_time": "2022-01-23T03:47:52.050Z"
   },
   {
    "duration": 290,
    "start_time": "2022-01-23T03:47:52.349Z"
   },
   {
    "duration": 3465,
    "start_time": "2022-01-23T03:47:52.642Z"
   },
   {
    "duration": 16,
    "start_time": "2022-01-23T03:47:56.109Z"
   },
   {
    "duration": 27,
    "start_time": "2022-01-23T03:47:56.128Z"
   },
   {
    "duration": 13,
    "start_time": "2022-01-23T03:47:56.157Z"
   },
   {
    "duration": 14,
    "start_time": "2022-01-23T03:47:56.172Z"
   },
   {
    "duration": 14,
    "start_time": "2022-01-23T03:47:56.224Z"
   },
   {
    "duration": 9,
    "start_time": "2022-01-23T03:47:56.240Z"
   },
   {
    "duration": 6953,
    "start_time": "2022-01-23T03:47:56.251Z"
   },
   {
    "duration": -14444691,
    "start_time": "2022-01-23T07:48:47.898Z"
   },
   {
    "duration": -14444699,
    "start_time": "2022-01-23T07:48:47.908Z"
   },
   {
    "duration": -14444709,
    "start_time": "2022-01-23T07:48:47.920Z"
   },
   {
    "duration": -14444714,
    "start_time": "2022-01-23T07:48:47.927Z"
   },
   {
    "duration": -14444717,
    "start_time": "2022-01-23T07:48:47.932Z"
   },
   {
    "duration": -14444719,
    "start_time": "2022-01-23T07:48:47.936Z"
   },
   {
    "duration": 8,
    "start_time": "2022-01-23T03:48:21.501Z"
   },
   {
    "duration": 1026,
    "start_time": "2022-01-23T03:48:34.258Z"
   },
   {
    "duration": 3,
    "start_time": "2022-01-23T03:48:35.286Z"
   },
   {
    "duration": 440,
    "start_time": "2022-01-23T03:48:35.324Z"
   },
   {
    "duration": 164,
    "start_time": "2022-01-23T03:48:35.767Z"
   },
   {
    "duration": 5,
    "start_time": "2022-01-23T03:48:35.934Z"
   },
   {
    "duration": 18,
    "start_time": "2022-01-23T03:48:35.941Z"
   },
   {
    "duration": 64,
    "start_time": "2022-01-23T03:48:35.963Z"
   },
   {
    "duration": 12,
    "start_time": "2022-01-23T03:48:36.029Z"
   },
   {
    "duration": 6,
    "start_time": "2022-01-23T03:48:36.043Z"
   },
   {
    "duration": 8,
    "start_time": "2022-01-23T03:48:36.051Z"
   },
   {
    "duration": 67,
    "start_time": "2022-01-23T03:48:36.061Z"
   },
   {
    "duration": 6,
    "start_time": "2022-01-23T03:48:36.131Z"
   },
   {
    "duration": 6,
    "start_time": "2022-01-23T03:48:36.139Z"
   },
   {
    "duration": 9,
    "start_time": "2022-01-23T03:48:36.147Z"
   },
   {
    "duration": 12,
    "start_time": "2022-01-23T03:48:36.158Z"
   },
   {
    "duration": 80,
    "start_time": "2022-01-23T03:48:36.172Z"
   },
   {
    "duration": 3,
    "start_time": "2022-01-23T03:48:36.254Z"
   },
   {
    "duration": 10,
    "start_time": "2022-01-23T03:48:36.259Z"
   },
   {
    "duration": 55,
    "start_time": "2022-01-23T03:48:36.271Z"
   },
   {
    "duration": 15,
    "start_time": "2022-01-23T03:48:36.329Z"
   },
   {
    "duration": 6,
    "start_time": "2022-01-23T03:48:36.346Z"
   },
   {
    "duration": 6,
    "start_time": "2022-01-23T03:48:36.358Z"
   },
   {
    "duration": 63,
    "start_time": "2022-01-23T03:48:36.368Z"
   },
   {
    "duration": 139,
    "start_time": "2022-01-23T03:48:36.433Z"
   },
   {
    "duration": 5,
    "start_time": "2022-01-23T03:48:36.575Z"
   },
   {
    "duration": 11,
    "start_time": "2022-01-23T03:48:36.582Z"
   },
   {
    "duration": 27,
    "start_time": "2022-01-23T03:48:36.596Z"
   },
   {
    "duration": 14,
    "start_time": "2022-01-23T03:48:36.625Z"
   },
   {
    "duration": 7,
    "start_time": "2022-01-23T03:48:36.641Z"
   },
   {
    "duration": 24,
    "start_time": "2022-01-23T03:48:36.651Z"
   },
   {
    "duration": 3,
    "start_time": "2022-01-23T03:48:36.677Z"
   },
   {
    "duration": 41,
    "start_time": "2022-01-23T03:48:36.683Z"
   },
   {
    "duration": 7,
    "start_time": "2022-01-23T03:48:36.726Z"
   },
   {
    "duration": 5,
    "start_time": "2022-01-23T03:48:36.735Z"
   },
   {
    "duration": 32,
    "start_time": "2022-01-23T03:48:36.742Z"
   },
   {
    "duration": 6,
    "start_time": "2022-01-23T03:48:36.776Z"
   },
   {
    "duration": 71,
    "start_time": "2022-01-23T03:48:36.784Z"
   },
   {
    "duration": 747,
    "start_time": "2022-01-23T03:48:36.858Z"
   },
   {
    "duration": 6,
    "start_time": "2022-01-23T03:48:37.607Z"
   },
   {
    "duration": 30,
    "start_time": "2022-01-23T03:48:37.624Z"
   },
   {
    "duration": 756,
    "start_time": "2022-01-23T03:48:37.656Z"
   },
   {
    "duration": 641,
    "start_time": "2022-01-23T03:48:38.415Z"
   },
   {
    "duration": 597,
    "start_time": "2022-01-23T03:48:39.059Z"
   },
   {
    "duration": 301,
    "start_time": "2022-01-23T03:48:39.659Z"
   },
   {
    "duration": 1688,
    "start_time": "2022-01-23T03:48:39.963Z"
   },
   {
    "duration": 452,
    "start_time": "2022-01-23T03:48:41.654Z"
   },
   {
    "duration": 20,
    "start_time": "2022-01-23T03:48:42.109Z"
   },
   {
    "duration": 2008,
    "start_time": "2022-01-23T03:48:42.132Z"
   },
   {
    "duration": 673,
    "start_time": "2022-01-23T03:48:44.142Z"
   },
   {
    "duration": 1306,
    "start_time": "2022-01-23T03:48:44.817Z"
   },
   {
    "duration": 36,
    "start_time": "2022-01-23T03:48:46.125Z"
   },
   {
    "duration": 283,
    "start_time": "2022-01-23T03:48:46.163Z"
   },
   {
    "duration": 281,
    "start_time": "2022-01-23T03:48:46.449Z"
   },
   {
    "duration": 3495,
    "start_time": "2022-01-23T03:48:46.732Z"
   },
   {
    "duration": 10,
    "start_time": "2022-01-23T03:48:50.229Z"
   },
   {
    "duration": 30,
    "start_time": "2022-01-23T03:48:50.242Z"
   },
   {
    "duration": 14,
    "start_time": "2022-01-23T03:48:50.274Z"
   },
   {
    "duration": 12,
    "start_time": "2022-01-23T03:48:50.323Z"
   },
   {
    "duration": 14,
    "start_time": "2022-01-23T03:48:50.337Z"
   },
   {
    "duration": 9,
    "start_time": "2022-01-23T03:48:50.353Z"
   },
   {
    "duration": 10,
    "start_time": "2022-01-23T03:48:50.364Z"
   },
   {
    "duration": 62,
    "start_time": "2022-01-23T03:48:50.377Z"
   },
   {
    "duration": 789,
    "start_time": "2022-01-23T03:48:50.442Z"
   },
   {
    "duration": 11,
    "start_time": "2022-01-23T03:48:51.234Z"
   },
   {
    "duration": 11,
    "start_time": "2022-01-23T03:48:51.247Z"
   },
   {
    "duration": 2968,
    "start_time": "2022-01-23T03:48:51.261Z"
   },
   {
    "duration": 5515,
    "start_time": "2022-01-23T03:48:54.235Z"
   },
   {
    "duration": 842,
    "start_time": "2022-01-23T03:49:56.103Z"
   },
   {
    "duration": 3,
    "start_time": "2022-01-23T03:49:56.947Z"
   },
   {
    "duration": 316,
    "start_time": "2022-01-23T03:49:56.953Z"
   },
   {
    "duration": 36,
    "start_time": "2022-01-23T03:49:57.272Z"
   },
   {
    "duration": 5,
    "start_time": "2022-01-23T03:49:57.324Z"
   },
   {
    "duration": 14,
    "start_time": "2022-01-23T03:49:57.331Z"
   },
   {
    "duration": 12,
    "start_time": "2022-01-23T03:49:57.347Z"
   },
   {
    "duration": 11,
    "start_time": "2022-01-23T03:49:57.363Z"
   },
   {
    "duration": 5,
    "start_time": "2022-01-23T03:49:57.376Z"
   },
   {
    "duration": 5,
    "start_time": "2022-01-23T03:49:57.424Z"
   },
   {
    "duration": 14,
    "start_time": "2022-01-23T03:49:57.432Z"
   },
   {
    "duration": 6,
    "start_time": "2022-01-23T03:49:57.449Z"
   },
   {
    "duration": 13,
    "start_time": "2022-01-23T03:49:57.457Z"
   },
   {
    "duration": 28,
    "start_time": "2022-01-23T03:49:57.472Z"
   },
   {
    "duration": 6,
    "start_time": "2022-01-23T03:49:57.524Z"
   },
   {
    "duration": 39,
    "start_time": "2022-01-23T03:49:57.532Z"
   },
   {
    "duration": 3,
    "start_time": "2022-01-23T03:49:57.573Z"
   },
   {
    "duration": 7,
    "start_time": "2022-01-23T03:49:57.578Z"
   },
   {
    "duration": 37,
    "start_time": "2022-01-23T03:49:57.587Z"
   },
   {
    "duration": 12,
    "start_time": "2022-01-23T03:49:57.626Z"
   },
   {
    "duration": 6,
    "start_time": "2022-01-23T03:49:57.640Z"
   },
   {
    "duration": 10,
    "start_time": "2022-01-23T03:49:57.648Z"
   },
   {
    "duration": 7,
    "start_time": "2022-01-23T03:49:57.664Z"
   },
   {
    "duration": 133,
    "start_time": "2022-01-23T03:49:57.675Z"
   },
   {
    "duration": 16,
    "start_time": "2022-01-23T03:49:57.810Z"
   },
   {
    "duration": 14,
    "start_time": "2022-01-23T03:49:57.828Z"
   },
   {
    "duration": 10,
    "start_time": "2022-01-23T03:49:57.845Z"
   },
   {
    "duration": 13,
    "start_time": "2022-01-23T03:49:57.858Z"
   },
   {
    "duration": 50,
    "start_time": "2022-01-23T03:49:57.873Z"
   },
   {
    "duration": 27,
    "start_time": "2022-01-23T03:49:57.926Z"
   },
   {
    "duration": 4,
    "start_time": "2022-01-23T03:49:57.956Z"
   },
   {
    "duration": 4,
    "start_time": "2022-01-23T03:49:57.963Z"
   },
   {
    "duration": 53,
    "start_time": "2022-01-23T03:49:57.970Z"
   },
   {
    "duration": 6,
    "start_time": "2022-01-23T03:49:58.026Z"
   },
   {
    "duration": 31,
    "start_time": "2022-01-23T03:49:58.035Z"
   },
   {
    "duration": 8,
    "start_time": "2022-01-23T03:49:58.069Z"
   },
   {
    "duration": 68,
    "start_time": "2022-01-23T03:49:58.079Z"
   },
   {
    "duration": 724,
    "start_time": "2022-01-23T03:49:58.150Z"
   },
   {
    "duration": 7,
    "start_time": "2022-01-23T03:49:58.876Z"
   },
   {
    "duration": 47,
    "start_time": "2022-01-23T03:49:58.885Z"
   },
   {
    "duration": 816,
    "start_time": "2022-01-23T03:49:58.934Z"
   },
   {
    "duration": 703,
    "start_time": "2022-01-23T03:49:59.752Z"
   },
   {
    "duration": 660,
    "start_time": "2022-01-23T03:50:00.457Z"
   },
   {
    "duration": 332,
    "start_time": "2022-01-23T03:50:01.124Z"
   },
   {
    "duration": 1876,
    "start_time": "2022-01-23T03:50:01.459Z"
   },
   {
    "duration": 458,
    "start_time": "2022-01-23T03:50:03.338Z"
   },
   {
    "duration": 11,
    "start_time": "2022-01-23T03:50:03.798Z"
   },
   {
    "duration": 2047,
    "start_time": "2022-01-23T03:50:03.824Z"
   },
   {
    "duration": 780,
    "start_time": "2022-01-23T03:50:05.874Z"
   },
   {
    "duration": 1458,
    "start_time": "2022-01-23T03:50:06.656Z"
   },
   {
    "duration": 45,
    "start_time": "2022-01-23T03:50:08.117Z"
   },
   {
    "duration": 314,
    "start_time": "2022-01-23T03:50:08.164Z"
   },
   {
    "duration": 308,
    "start_time": "2022-01-23T03:50:08.481Z"
   },
   {
    "duration": 3726,
    "start_time": "2022-01-23T03:50:08.791Z"
   },
   {
    "duration": 11,
    "start_time": "2022-01-23T03:50:12.519Z"
   },
   {
    "duration": 34,
    "start_time": "2022-01-23T03:50:12.533Z"
   },
   {
    "duration": 58,
    "start_time": "2022-01-23T03:50:12.570Z"
   },
   {
    "duration": 15,
    "start_time": "2022-01-23T03:50:12.631Z"
   },
   {
    "duration": 23,
    "start_time": "2022-01-23T03:50:12.649Z"
   },
   {
    "duration": 11,
    "start_time": "2022-01-23T03:50:12.676Z"
   },
   {
    "duration": 12,
    "start_time": "2022-01-23T03:50:12.724Z"
   },
   {
    "duration": 21,
    "start_time": "2022-01-23T03:50:12.739Z"
   },
   {
    "duration": 924,
    "start_time": "2022-01-23T03:50:12.762Z"
   },
   {
    "duration": 9,
    "start_time": "2022-01-23T03:50:13.689Z"
   },
   {
    "duration": 28,
    "start_time": "2022-01-23T03:50:13.700Z"
   },
   {
    "duration": 3287,
    "start_time": "2022-01-23T03:50:13.731Z"
   },
   {
    "duration": 6170,
    "start_time": "2022-01-23T03:50:17.023Z"
   },
   {
    "duration": 1292,
    "start_time": "2022-01-23T03:54:38.838Z"
   },
   {
    "duration": 3,
    "start_time": "2022-01-23T03:54:40.132Z"
   },
   {
    "duration": 385,
    "start_time": "2022-01-23T03:54:40.138Z"
   },
   {
    "duration": 35,
    "start_time": "2022-01-23T03:54:40.526Z"
   },
   {
    "duration": 6,
    "start_time": "2022-01-23T03:54:40.563Z"
   },
   {
    "duration": 55,
    "start_time": "2022-01-23T03:54:40.572Z"
   },
   {
    "duration": 14,
    "start_time": "2022-01-23T03:54:40.629Z"
   },
   {
    "duration": 12,
    "start_time": "2022-01-23T03:54:40.648Z"
   },
   {
    "duration": 6,
    "start_time": "2022-01-23T03:54:40.664Z"
   },
   {
    "duration": 53,
    "start_time": "2022-01-23T03:54:40.673Z"
   },
   {
    "duration": 15,
    "start_time": "2022-01-23T03:54:40.728Z"
   },
   {
    "duration": 7,
    "start_time": "2022-01-23T03:54:40.746Z"
   },
   {
    "duration": 14,
    "start_time": "2022-01-23T03:54:40.756Z"
   },
   {
    "duration": 12,
    "start_time": "2022-01-23T03:54:40.772Z"
   },
   {
    "duration": 6,
    "start_time": "2022-01-23T03:54:40.824Z"
   },
   {
    "duration": 40,
    "start_time": "2022-01-23T03:54:40.833Z"
   },
   {
    "duration": 4,
    "start_time": "2022-01-23T03:54:40.876Z"
   },
   {
    "duration": 7,
    "start_time": "2022-01-23T03:54:40.883Z"
   },
   {
    "duration": 6,
    "start_time": "2022-01-23T03:54:40.924Z"
   },
   {
    "duration": 11,
    "start_time": "2022-01-23T03:54:40.934Z"
   },
   {
    "duration": 8,
    "start_time": "2022-01-23T03:54:40.948Z"
   },
   {
    "duration": 9,
    "start_time": "2022-01-23T03:54:40.959Z"
   },
   {
    "duration": 8,
    "start_time": "2022-01-23T03:54:41.023Z"
   },
   {
    "duration": 106,
    "start_time": "2022-01-23T03:54:41.034Z"
   },
   {
    "duration": 5,
    "start_time": "2022-01-23T03:54:41.142Z"
   },
   {
    "duration": 11,
    "start_time": "2022-01-23T03:54:41.150Z"
   },
   {
    "duration": 7,
    "start_time": "2022-01-23T03:54:41.163Z"
   },
   {
    "duration": 16,
    "start_time": "2022-01-23T03:54:41.172Z"
   },
   {
    "duration": 35,
    "start_time": "2022-01-23T03:54:41.189Z"
   },
   {
    "duration": 23,
    "start_time": "2022-01-23T03:54:41.226Z"
   },
   {
    "duration": 3,
    "start_time": "2022-01-23T03:54:41.251Z"
   },
   {
    "duration": 4,
    "start_time": "2022-01-23T03:54:41.256Z"
   },
   {
    "duration": 7,
    "start_time": "2022-01-23T03:54:41.262Z"
   },
   {
    "duration": 6,
    "start_time": "2022-01-23T03:54:41.270Z"
   },
   {
    "duration": 70,
    "start_time": "2022-01-23T03:54:41.278Z"
   },
   {
    "duration": 5,
    "start_time": "2022-01-23T03:54:41.350Z"
   },
   {
    "duration": 34,
    "start_time": "2022-01-23T03:54:41.357Z"
   },
   {
    "duration": 719,
    "start_time": "2022-01-23T03:54:41.393Z"
   },
   {
    "duration": 11,
    "start_time": "2022-01-23T03:54:42.115Z"
   },
   {
    "duration": 27,
    "start_time": "2022-01-23T03:54:42.129Z"
   },
   {
    "duration": 739,
    "start_time": "2022-01-23T03:54:42.159Z"
   },
   {
    "duration": 662,
    "start_time": "2022-01-23T03:54:42.900Z"
   },
   {
    "duration": 599,
    "start_time": "2022-01-23T03:54:43.565Z"
   },
   {
    "duration": 302,
    "start_time": "2022-01-23T03:54:44.167Z"
   },
   {
    "duration": 1701,
    "start_time": "2022-01-23T03:54:44.471Z"
   },
   {
    "duration": 435,
    "start_time": "2022-01-23T03:54:46.174Z"
   },
   {
    "duration": 15,
    "start_time": "2022-01-23T03:54:46.611Z"
   },
   {
    "duration": 1945,
    "start_time": "2022-01-23T03:54:46.628Z"
   },
   {
    "duration": 728,
    "start_time": "2022-01-23T03:54:48.576Z"
   },
   {
    "duration": 1331,
    "start_time": "2022-01-23T03:54:49.306Z"
   },
   {
    "duration": 36,
    "start_time": "2022-01-23T03:54:50.639Z"
   },
   {
    "duration": 305,
    "start_time": "2022-01-23T03:54:50.677Z"
   },
   {
    "duration": 286,
    "start_time": "2022-01-23T03:54:50.984Z"
   },
   {
    "duration": 3407,
    "start_time": "2022-01-23T03:54:51.273Z"
   },
   {
    "duration": 10,
    "start_time": "2022-01-23T03:54:54.682Z"
   },
   {
    "duration": 42,
    "start_time": "2022-01-23T03:54:54.694Z"
   },
   {
    "duration": 14,
    "start_time": "2022-01-23T03:54:54.739Z"
   },
   {
    "duration": 13,
    "start_time": "2022-01-23T03:54:54.755Z"
   },
   {
    "duration": 14,
    "start_time": "2022-01-23T03:54:54.770Z"
   },
   {
    "duration": 45,
    "start_time": "2022-01-23T03:54:54.786Z"
   },
   {
    "duration": 9,
    "start_time": "2022-01-23T03:54:54.833Z"
   },
   {
    "duration": 22,
    "start_time": "2022-01-23T03:54:54.844Z"
   },
   {
    "duration": 904,
    "start_time": "2022-01-23T03:54:54.869Z"
   },
   {
    "duration": 8,
    "start_time": "2022-01-23T03:54:55.776Z"
   },
   {
    "duration": 12,
    "start_time": "2022-01-23T03:54:55.786Z"
   },
   {
    "duration": 3053,
    "start_time": "2022-01-23T03:54:55.800Z"
   },
   {
    "duration": 5670,
    "start_time": "2022-01-23T03:54:58.855Z"
   },
   {
    "duration": 811,
    "start_time": "2022-01-23T03:55:25.181Z"
   },
   {
    "duration": 3,
    "start_time": "2022-01-23T03:55:25.994Z"
   },
   {
    "duration": 320,
    "start_time": "2022-01-23T03:55:26.000Z"
   },
   {
    "duration": 37,
    "start_time": "2022-01-23T03:55:26.323Z"
   },
   {
    "duration": 7,
    "start_time": "2022-01-23T03:55:26.362Z"
   },
   {
    "duration": 18,
    "start_time": "2022-01-23T03:55:26.371Z"
   },
   {
    "duration": 39,
    "start_time": "2022-01-23T03:55:26.392Z"
   },
   {
    "duration": 11,
    "start_time": "2022-01-23T03:55:26.433Z"
   },
   {
    "duration": 6,
    "start_time": "2022-01-23T03:55:26.447Z"
   },
   {
    "duration": 9,
    "start_time": "2022-01-23T03:55:26.456Z"
   },
   {
    "duration": 56,
    "start_time": "2022-01-23T03:55:26.467Z"
   },
   {
    "duration": 7,
    "start_time": "2022-01-23T03:55:26.525Z"
   },
   {
    "duration": 6,
    "start_time": "2022-01-23T03:55:26.535Z"
   },
   {
    "duration": 9,
    "start_time": "2022-01-23T03:55:26.543Z"
   },
   {
    "duration": 6,
    "start_time": "2022-01-23T03:55:26.554Z"
   },
   {
    "duration": 74,
    "start_time": "2022-01-23T03:55:26.563Z"
   },
   {
    "duration": 3,
    "start_time": "2022-01-23T03:55:26.640Z"
   },
   {
    "duration": 14,
    "start_time": "2022-01-23T03:55:26.645Z"
   },
   {
    "duration": 6,
    "start_time": "2022-01-23T03:55:26.661Z"
   },
   {
    "duration": 14,
    "start_time": "2022-01-23T03:55:26.670Z"
   },
   {
    "duration": 6,
    "start_time": "2022-01-23T03:55:26.687Z"
   },
   {
    "duration": 8,
    "start_time": "2022-01-23T03:55:26.724Z"
   },
   {
    "duration": 8,
    "start_time": "2022-01-23T03:55:26.734Z"
   },
   {
    "duration": 127,
    "start_time": "2022-01-23T03:55:26.744Z"
   },
   {
    "duration": 6,
    "start_time": "2022-01-23T03:55:26.874Z"
   },
   {
    "duration": 20,
    "start_time": "2022-01-23T03:55:26.882Z"
   },
   {
    "duration": 21,
    "start_time": "2022-01-23T03:55:26.909Z"
   },
   {
    "duration": 11,
    "start_time": "2022-01-23T03:55:26.934Z"
   },
   {
    "duration": 7,
    "start_time": "2022-01-23T03:55:26.947Z"
   },
   {
    "duration": 25,
    "start_time": "2022-01-23T03:55:26.956Z"
   },
   {
    "duration": 40,
    "start_time": "2022-01-23T03:55:26.984Z"
   },
   {
    "duration": 5,
    "start_time": "2022-01-23T03:55:27.026Z"
   },
   {
    "duration": 7,
    "start_time": "2022-01-23T03:55:27.033Z"
   },
   {
    "duration": 4,
    "start_time": "2022-01-23T03:55:27.043Z"
   },
   {
    "duration": 32,
    "start_time": "2022-01-23T03:55:27.050Z"
   },
   {
    "duration": 39,
    "start_time": "2022-01-23T03:55:27.084Z"
   },
   {
    "duration": 35,
    "start_time": "2022-01-23T03:55:27.125Z"
   },
   {
    "duration": 790,
    "start_time": "2022-01-23T03:55:27.162Z"
   },
   {
    "duration": 7,
    "start_time": "2022-01-23T03:55:27.954Z"
   },
   {
    "duration": 30,
    "start_time": "2022-01-23T03:55:27.963Z"
   },
   {
    "duration": 876,
    "start_time": "2022-01-23T03:55:27.996Z"
   },
   {
    "duration": 662,
    "start_time": "2022-01-23T03:55:28.874Z"
   },
   {
    "duration": 910,
    "start_time": "2022-01-23T03:55:29.538Z"
   },
   {
    "duration": 355,
    "start_time": "2022-01-23T03:55:30.451Z"
   },
   {
    "duration": 1683,
    "start_time": "2022-01-23T03:55:30.808Z"
   },
   {
    "duration": 445,
    "start_time": "2022-01-23T03:55:32.493Z"
   },
   {
    "duration": 11,
    "start_time": "2022-01-23T03:55:32.941Z"
   },
   {
    "duration": 1970,
    "start_time": "2022-01-23T03:55:32.955Z"
   },
   {
    "duration": 724,
    "start_time": "2022-01-23T03:55:34.927Z"
   },
   {
    "duration": 1639,
    "start_time": "2022-01-23T03:55:35.654Z"
   },
   {
    "duration": 49,
    "start_time": "2022-01-23T03:55:37.295Z"
   },
   {
    "duration": 304,
    "start_time": "2022-01-23T03:55:37.346Z"
   },
   {
    "duration": 286,
    "start_time": "2022-01-23T03:55:37.653Z"
   },
   {
    "duration": 3438,
    "start_time": "2022-01-23T03:55:37.941Z"
   },
   {
    "duration": 10,
    "start_time": "2022-01-23T03:55:41.381Z"
   },
   {
    "duration": 45,
    "start_time": "2022-01-23T03:55:41.394Z"
   },
   {
    "duration": 14,
    "start_time": "2022-01-23T03:55:41.441Z"
   },
   {
    "duration": 20,
    "start_time": "2022-01-23T03:55:41.457Z"
   },
   {
    "duration": 46,
    "start_time": "2022-01-23T03:55:41.479Z"
   },
   {
    "duration": 9,
    "start_time": "2022-01-23T03:55:41.528Z"
   },
   {
    "duration": 8,
    "start_time": "2022-01-23T03:55:41.539Z"
   },
   {
    "duration": 20,
    "start_time": "2022-01-23T03:55:41.549Z"
   },
   {
    "duration": 927,
    "start_time": "2022-01-23T03:55:41.571Z"
   },
   {
    "duration": 9,
    "start_time": "2022-01-23T03:55:42.501Z"
   },
   {
    "duration": 9,
    "start_time": "2022-01-23T03:55:42.524Z"
   },
   {
    "duration": 2974,
    "start_time": "2022-01-23T03:55:42.536Z"
   },
   {
    "duration": 5564,
    "start_time": "2022-01-23T03:55:45.513Z"
   }
  ],
  "kernelspec": {
   "display_name": "Python 3 (ipykernel)",
   "language": "python",
   "name": "python3"
  },
  "language_info": {
   "codemirror_mode": {
    "name": "ipython",
    "version": 3
   },
   "file_extension": ".py",
   "mimetype": "text/x-python",
   "name": "python",
   "nbconvert_exporter": "python",
   "pygments_lexer": "ipython3",
   "version": "3.9.12"
  },
  "toc": {
   "base_numbering": 1,
   "nav_menu": {},
   "number_sections": false,
   "sideBar": true,
   "skip_h1_title": true,
   "title_cell": "Содержание",
   "title_sidebar": "Contents",
   "toc_cell": true,
   "toc_position": {
    "height": "calc(100% - 180px)",
    "left": "10px",
    "top": "150px",
    "width": "341px"
   },
   "toc_section_display": true,
   "toc_window_display": true
  }
 },
 "nbformat": 4,
 "nbformat_minor": 2
}
