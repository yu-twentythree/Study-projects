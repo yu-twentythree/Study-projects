{
 "cells": [
  {
   "cell_type": "markdown",
   "metadata": {},
   "source": [
    "# Исследование надёжности заёмщиков\n",
    "\n",
    "Заказчик — кредитный отдел банка. Нужно разобраться, влияет ли семейное положение и количество детей клиента на факт погашения кредита в срок. Входные данные от банка — статистика о платёжеспособности клиентов.\n",
    "\n",
    "Результаты исследования будут учтены при построении модели **кредитного скоринга** — специальной системы, которая оценивает способность потенциального заёмщика вернуть кредит банку."
   ]
  },
  {
   "cell_type": "markdown",
   "metadata": {},
   "source": [
    "## Шаг 1. Откройте файл с данными и изучите общую информацию"
   ]
  },
  {
   "cell_type": "code",
   "execution_count": 1,
   "metadata": {},
   "outputs": [],
   "source": [
    "# импорт библиотеки pandas\n",
    "import pandas as pd"
   ]
  },
  {
   "cell_type": "code",
   "execution_count": 2,
   "metadata": {},
   "outputs": [],
   "source": [
    "# чтение файла с данными и сохранение в data\n",
    "data = pd.read_csv('/datasets/data.csv')"
   ]
  },
  {
   "cell_type": "code",
   "execution_count": 3,
   "metadata": {},
   "outputs": [
    {
     "name": "stdout",
     "output_type": "stream",
     "text": [
      "<class 'pandas.core.frame.DataFrame'>\n",
      "RangeIndex: 21525 entries, 0 to 21524\n",
      "Data columns (total 12 columns):\n",
      "children            21525 non-null int64\n",
      "days_employed       19351 non-null float64\n",
      "dob_years           21525 non-null int64\n",
      "education           21525 non-null object\n",
      "education_id        21525 non-null int64\n",
      "family_status       21525 non-null object\n",
      "family_status_id    21525 non-null int64\n",
      "gender              21525 non-null object\n",
      "income_type         21525 non-null object\n",
      "debt                21525 non-null int64\n",
      "total_income        19351 non-null float64\n",
      "purpose             21525 non-null object\n",
      "dtypes: float64(2), int64(5), object(5)\n",
      "memory usage: 2.0+ MB\n"
     ]
    }
   ],
   "source": [
    "# получение общей информации о данных в таблице data\n",
    "data.info()"
   ]
  },
  {
   "cell_type": "code",
   "execution_count": 4,
   "metadata": {},
   "outputs": [
    {
     "data": {
      "text/html": [
       "<div>\n",
       "<style scoped>\n",
       "    .dataframe tbody tr th:only-of-type {\n",
       "        vertical-align: middle;\n",
       "    }\n",
       "\n",
       "    .dataframe tbody tr th {\n",
       "        vertical-align: top;\n",
       "    }\n",
       "\n",
       "    .dataframe thead th {\n",
       "        text-align: right;\n",
       "    }\n",
       "</style>\n",
       "<table border=\"1\" class=\"dataframe\">\n",
       "  <thead>\n",
       "    <tr style=\"text-align: right;\">\n",
       "      <th></th>\n",
       "      <th>children</th>\n",
       "      <th>days_employed</th>\n",
       "      <th>dob_years</th>\n",
       "      <th>education</th>\n",
       "      <th>education_id</th>\n",
       "      <th>family_status</th>\n",
       "      <th>family_status_id</th>\n",
       "      <th>gender</th>\n",
       "      <th>income_type</th>\n",
       "      <th>debt</th>\n",
       "      <th>total_income</th>\n",
       "      <th>purpose</th>\n",
       "    </tr>\n",
       "  </thead>\n",
       "  <tbody>\n",
       "    <tr>\n",
       "      <td>0</td>\n",
       "      <td>1</td>\n",
       "      <td>-8437.673028</td>\n",
       "      <td>42</td>\n",
       "      <td>высшее</td>\n",
       "      <td>0</td>\n",
       "      <td>женат / замужем</td>\n",
       "      <td>0</td>\n",
       "      <td>F</td>\n",
       "      <td>сотрудник</td>\n",
       "      <td>0</td>\n",
       "      <td>253875.639453</td>\n",
       "      <td>покупка жилья</td>\n",
       "    </tr>\n",
       "    <tr>\n",
       "      <td>1</td>\n",
       "      <td>1</td>\n",
       "      <td>-4024.803754</td>\n",
       "      <td>36</td>\n",
       "      <td>среднее</td>\n",
       "      <td>1</td>\n",
       "      <td>женат / замужем</td>\n",
       "      <td>0</td>\n",
       "      <td>F</td>\n",
       "      <td>сотрудник</td>\n",
       "      <td>0</td>\n",
       "      <td>112080.014102</td>\n",
       "      <td>приобретение автомобиля</td>\n",
       "    </tr>\n",
       "    <tr>\n",
       "      <td>2</td>\n",
       "      <td>0</td>\n",
       "      <td>-5623.422610</td>\n",
       "      <td>33</td>\n",
       "      <td>Среднее</td>\n",
       "      <td>1</td>\n",
       "      <td>женат / замужем</td>\n",
       "      <td>0</td>\n",
       "      <td>M</td>\n",
       "      <td>сотрудник</td>\n",
       "      <td>0</td>\n",
       "      <td>145885.952297</td>\n",
       "      <td>покупка жилья</td>\n",
       "    </tr>\n",
       "    <tr>\n",
       "      <td>3</td>\n",
       "      <td>3</td>\n",
       "      <td>-4124.747207</td>\n",
       "      <td>32</td>\n",
       "      <td>среднее</td>\n",
       "      <td>1</td>\n",
       "      <td>женат / замужем</td>\n",
       "      <td>0</td>\n",
       "      <td>M</td>\n",
       "      <td>сотрудник</td>\n",
       "      <td>0</td>\n",
       "      <td>267628.550329</td>\n",
       "      <td>дополнительное образование</td>\n",
       "    </tr>\n",
       "    <tr>\n",
       "      <td>4</td>\n",
       "      <td>0</td>\n",
       "      <td>340266.072047</td>\n",
       "      <td>53</td>\n",
       "      <td>среднее</td>\n",
       "      <td>1</td>\n",
       "      <td>гражданский брак</td>\n",
       "      <td>1</td>\n",
       "      <td>F</td>\n",
       "      <td>пенсионер</td>\n",
       "      <td>0</td>\n",
       "      <td>158616.077870</td>\n",
       "      <td>сыграть свадьбу</td>\n",
       "    </tr>\n",
       "  </tbody>\n",
       "</table>\n",
       "</div>"
      ],
      "text/plain": [
       "   children  days_employed  dob_years education  education_id  \\\n",
       "0         1   -8437.673028         42    высшее             0   \n",
       "1         1   -4024.803754         36   среднее             1   \n",
       "2         0   -5623.422610         33   Среднее             1   \n",
       "3         3   -4124.747207         32   среднее             1   \n",
       "4         0  340266.072047         53   среднее             1   \n",
       "\n",
       "      family_status  family_status_id gender income_type  debt   total_income  \\\n",
       "0   женат / замужем                 0      F   сотрудник     0  253875.639453   \n",
       "1   женат / замужем                 0      F   сотрудник     0  112080.014102   \n",
       "2   женат / замужем                 0      M   сотрудник     0  145885.952297   \n",
       "3   женат / замужем                 0      M   сотрудник     0  267628.550329   \n",
       "4  гражданский брак                 1      F   пенсионер     0  158616.077870   \n",
       "\n",
       "                      purpose  \n",
       "0               покупка жилья  \n",
       "1     приобретение автомобиля  \n",
       "2               покупка жилья  \n",
       "3  дополнительное образование  \n",
       "4             сыграть свадьбу  "
      ]
     },
     "execution_count": 4,
     "metadata": {},
     "output_type": "execute_result"
    }
   ],
   "source": [
    "# посмотрим как выглядят данные\n",
    "data.head()"
   ]
  },
  {
   "cell_type": "markdown",
   "metadata": {},
   "source": [
    "**Вывод**"
   ]
  },
  {
   "cell_type": "markdown",
   "metadata": {},
   "source": [
    "В таблице 12 столбцов. Тип данных в столбцах — int64, float64, object. По названию столбцов можно понять, что в таблице следущие данные:\n",
    "\n",
    "* children - количество детей\n",
    "* days_employed - дни трудового стажа\n",
    "* dob_years - возраст\n",
    "* education - образование\n",
    "* education_id - категории образования\n",
    "* family_status - семейное положение\n",
    "* family_status_id - категории семейного положения\n",
    "* gender - пол\n",
    "* income_type - тип получения дохода\n",
    "* debt - наличие кредита\n",
    "* total_income - ежемесячный доход\n",
    "* purpose - цель кредита\n",
    "\n",
    "\n",
    "Количество значений в столбцах различается. Значит, в данных есть пропущенные значения. Нужно это устранить. Названия колонок единообразны.\n",
    "\n",
    "Кроме того, из первых строк видно, что есть ошибки в значениях стажа. Далее рассмотрим, где еще есть ошибки."
   ]
  },
  {
   "cell_type": "markdown",
   "metadata": {},
   "source": [
    "## Шаг 2. Предобработка данных"
   ]
  },
  {
   "cell_type": "markdown",
   "metadata": {},
   "source": [
    "### Обработка пропусков"
   ]
  },
  {
   "cell_type": "code",
   "execution_count": 5,
   "metadata": {},
   "outputs": [
    {
     "data": {
      "text/plain": [
       "children               0\n",
       "days_employed       2174\n",
       "dob_years              0\n",
       "education              0\n",
       "education_id           0\n",
       "family_status          0\n",
       "family_status_id       0\n",
       "gender                 0\n",
       "income_type            0\n",
       "debt                   0\n",
       "total_income        2174\n",
       "purpose                0\n",
       "dtype: int64"
      ]
     },
     "execution_count": 5,
     "metadata": {},
     "output_type": "execute_result"
    }
   ],
   "source": [
    "# подсчёт пропусков\n",
    "data.isna().sum()"
   ]
  },
  {
   "cell_type": "markdown",
   "metadata": {},
   "source": [
    "Учитывая, что в данных есть ошибки заменим пропуски медианными значениями. "
   ]
  },
  {
   "cell_type": "code",
   "execution_count": 6,
   "metadata": {},
   "outputs": [
    {
     "data": {
      "text/plain": [
       "сотрудник          11119\n",
       "компаньон           5085\n",
       "пенсионер           3856\n",
       "госслужащий         1459\n",
       "безработный            2\n",
       "предприниматель        2\n",
       "в декрете              1\n",
       "студент                1\n",
       "Name: income_type, dtype: int64"
      ]
     },
     "execution_count": 6,
     "metadata": {},
     "output_type": "execute_result"
    }
   ],
   "source": [
    "# выделим категории занятости\n",
    "data['income_type'].value_counts()"
   ]
  },
  {
   "cell_type": "code",
   "execution_count": 7,
   "metadata": {},
   "outputs": [
    {
     "data": {
      "text/plain": [
       "0"
      ]
     },
     "execution_count": 7,
     "metadata": {},
     "output_type": "execute_result"
    }
   ],
   "source": [
    "data['total_income'] = data['total_income'].fillna(data.groupby('income_type')['total_income'].transform('median'))\n",
    "data['total_income'].isna().sum()"
   ]
  },
  {
   "cell_type": "code",
   "execution_count": 8,
   "metadata": {},
   "outputs": [
    {
     "data": {
      "text/plain": [
       "0"
      ]
     },
     "execution_count": 8,
     "metadata": {},
     "output_type": "execute_result"
    }
   ],
   "source": [
    "#в столбце стажа есть отрицательные значения, поменяем их на положительные\n",
    "data[data['days_employed'] <= 0]['days_employed'].count()\n",
    "\n",
    "data['days_employed'] = data['days_employed'].abs()\n",
    "\n",
    "#заменим пропуски на медианные значения\n",
    "data['days_employed']= data['days_employed'].fillna(data['days_employed'].median())\n",
    "\n",
    "data['days_employed'].isna().sum()"
   ]
  },
  {
   "cell_type": "code",
   "execution_count": 9,
   "metadata": {},
   "outputs": [
    {
     "data": {
      "text/plain": [
       "3450"
      ]
     },
     "execution_count": 9,
     "metadata": {},
     "output_type": "execute_result"
    }
   ],
   "source": [
    "data['years_employed'] = data['days_employed']/365\n",
    "\n",
    "days_employed_error_index = []\n",
    "days_employed_error = 0\n",
    "for i in range(len(data['years_employed'])):\n",
    "    if data.loc[i, 'years_employed'] >= (data.loc[i, 'dob_years']+14):\n",
    "        days_employed_error +=1\n",
    "        days_employed_error_index.append(i)\n",
    "        \n",
    "days_employed_error"
   ]
  },
  {
   "cell_type": "markdown",
   "metadata": {},
   "source": [
    "**Вывод**"
   ]
  },
  {
   "cell_type": "markdown",
   "metadata": {},
   "source": [
    "Выявили и заполнили пропуски в столбцах со стажем и доходом. \n",
    "\n",
    "\n",
    "Вместе с тем, значения столбца со стажем требуют дополнительной корректировки. 3450 значений больше возможной продолжительности стажа. "
   ]
  },
  {
   "cell_type": "markdown",
   "metadata": {},
   "source": [
    "### Замена типа данных"
   ]
  },
  {
   "cell_type": "code",
   "execution_count": 10,
   "metadata": {},
   "outputs": [
    {
     "name": "stdout",
     "output_type": "stream",
     "text": [
      "<class 'pandas.core.frame.DataFrame'>\n",
      "RangeIndex: 21525 entries, 0 to 21524\n",
      "Data columns (total 13 columns):\n",
      "children            21525 non-null int64\n",
      "days_employed       21525 non-null int64\n",
      "dob_years           21525 non-null int64\n",
      "education           21525 non-null object\n",
      "education_id        21525 non-null int64\n",
      "family_status       21525 non-null object\n",
      "family_status_id    21525 non-null int64\n",
      "gender              21525 non-null object\n",
      "income_type         21525 non-null object\n",
      "debt                21525 non-null int64\n",
      "total_income        21525 non-null float64\n",
      "purpose             21525 non-null object\n",
      "years_employed      21525 non-null float64\n",
      "dtypes: float64(2), int64(6), object(5)\n",
      "memory usage: 2.1+ MB\n"
     ]
    }
   ],
   "source": [
    "#поменям тип данных для стажа, переведем вещественный тип данных на целочисленный. \n",
    "#Стаж в днях, правильней, если значения будут целыми.\n",
    "\n",
    "data['days_employed'] = pd.to_numeric(data['days_employed'], errors = 'coerce')\n",
    "data['days_employed'] = data['days_employed'].astype('int')\n",
    "\n",
    "data['days_employed'].isna().sum()\n",
    "data.info()\n",
    "\n",
    "#сначала применим метод to_numeric() с параметром errors = 'coerce', \n",
    "#если возникнут ошибки, они будут заменины на Nan. А потом проверим есть ли пропуски."
   ]
  },
  {
   "cell_type": "code",
   "execution_count": 11,
   "metadata": {},
   "outputs": [
    {
     "name": "stdout",
     "output_type": "stream",
     "text": [
      "<class 'pandas.core.frame.DataFrame'>\n",
      "RangeIndex: 21525 entries, 0 to 21524\n",
      "Data columns (total 13 columns):\n",
      "children            21525 non-null int64\n",
      "days_employed       21525 non-null int64\n",
      "dob_years           21525 non-null int64\n",
      "education           21525 non-null object\n",
      "education_id        21525 non-null int64\n",
      "family_status       21525 non-null object\n",
      "family_status_id    21525 non-null int64\n",
      "gender              21525 non-null object\n",
      "income_type         21525 non-null object\n",
      "debt                21525 non-null int64\n",
      "total_income        21525 non-null float64\n",
      "purpose             21525 non-null object\n",
      "years_employed      21525 non-null int64\n",
      "dtypes: float64(1), int64(7), object(5)\n",
      "memory usage: 2.1+ MB\n"
     ]
    }
   ],
   "source": [
    "data['years_employed'] = pd.to_numeric(data['years_employed'], errors = 'coerce')\n",
    "data['years_employed'] = data['years_employed'].astype('int')\n",
    "\n",
    "data['years_employed'].isna().sum()\n",
    "data.info()"
   ]
  },
  {
   "cell_type": "markdown",
   "metadata": {},
   "source": [
    "**Вывод**"
   ]
  },
  {
   "cell_type": "markdown",
   "metadata": {},
   "source": [
    "В столбце «стаж в днях» перевели значение в целые числа, используя метод to numeric, который позволил в случае наличия ошибок , преобразовать их в Nan и не останавливать процесс замены типа данных. После применили метод astype. "
   ]
  },
  {
   "cell_type": "markdown",
   "metadata": {},
   "source": [
    "### Обработка дубликатов"
   ]
  },
  {
   "cell_type": "code",
   "execution_count": 12,
   "metadata": {},
   "outputs": [
    {
     "data": {
      "text/plain": [
       "среднее                13750\n",
       "высшее                  4718\n",
       "СРЕДНЕЕ                  772\n",
       "Среднее                  711\n",
       "неоконченное высшее      668\n",
       "ВЫСШЕЕ                   274\n",
       "Высшее                   268\n",
       "начальное                250\n",
       "Неоконченное высшее       47\n",
       "НЕОКОНЧЕННОЕ ВЫСШЕЕ       29\n",
       "НАЧАЛЬНОЕ                 17\n",
       "Начальное                 15\n",
       "ученая степень             4\n",
       "УЧЕНАЯ СТЕПЕНЬ             1\n",
       "Ученая степень             1\n",
       "Name: education, dtype: int64"
      ]
     },
     "execution_count": 12,
     "metadata": {},
     "output_type": "execute_result"
    }
   ],
   "source": [
    "# рассмотрим категирии образования\n",
    "data['education'].value_counts()"
   ]
  },
  {
   "cell_type": "code",
   "execution_count": 13,
   "metadata": {},
   "outputs": [
    {
     "data": {
      "text/plain": [
       "среднее                15233\n",
       "высшее                  5260\n",
       "неоконченное высшее      744\n",
       "начальное                282\n",
       "ученая степень             6\n",
       "Name: education, dtype: int64"
      ]
     },
     "execution_count": 13,
     "metadata": {},
     "output_type": "execute_result"
    }
   ],
   "source": [
    "# для удаления дубликатов поправим регистр и проверим еще раз категории\n",
    "data['education'] = data['education'].str.lower()\n",
    "data['education'].value_counts()"
   ]
  },
  {
   "cell_type": "code",
   "execution_count": 14,
   "metadata": {},
   "outputs": [
    {
     "data": {
      "text/plain": [
       "71"
      ]
     },
     "execution_count": 14,
     "metadata": {},
     "output_type": "execute_result"
    }
   ],
   "source": [
    "# проверим явные дубликаты\n",
    "data.duplicated().sum()"
   ]
  },
  {
   "cell_type": "code",
   "execution_count": 15,
   "metadata": {},
   "outputs": [
    {
     "data": {
      "text/plain": [
       "0"
      ]
     },
     "execution_count": 15,
     "metadata": {},
     "output_type": "execute_result"
    }
   ],
   "source": [
    "# удалим явные дубликаты и проверим\n",
    "data = data.drop_duplicates().reset_index(drop=True)\n",
    "data.duplicated().sum()"
   ]
  },
  {
   "cell_type": "code",
   "execution_count": 16,
   "metadata": {},
   "outputs": [
    {
     "data": {
      "text/plain": [
       "свадьба                                   791\n",
       "на проведение свадьбы                     768\n",
       "сыграть свадьбу                           765\n",
       "операции с недвижимостью                  675\n",
       "покупка коммерческой недвижимости         661\n",
       "операции с жильем                         652\n",
       "покупка жилья для сдачи                   651\n",
       "операции с коммерческой недвижимостью     650\n",
       "жилье                                     646\n",
       "покупка жилья                             646\n",
       "покупка жилья для семьи                   638\n",
       "строительство собственной недвижимости    635\n",
       "недвижимость                              633\n",
       "операции со своей недвижимостью           627\n",
       "строительство жилой недвижимости          624\n",
       "покупка недвижимости                      621\n",
       "покупка своего жилья                      620\n",
       "строительство недвижимости                619\n",
       "ремонт жилью                              607\n",
       "покупка жилой недвижимости                606\n",
       "на покупку своего автомобиля              505\n",
       "заняться высшим образованием              496\n",
       "автомобиль                                494\n",
       "сделка с подержанным автомобилем          486\n",
       "свой автомобиль                           478\n",
       "на покупку подержанного автомобиля        478\n",
       "автомобили                                478\n",
       "на покупку автомобиля                     471\n",
       "приобретение автомобиля                   461\n",
       "дополнительное образование                460\n",
       "сделка с автомобилем                      455\n",
       "высшее образование                        452\n",
       "образование                               447\n",
       "получение дополнительного образования     446\n",
       "получение образования                     442\n",
       "профильное образование                    436\n",
       "получение высшего образования             426\n",
       "заняться образованием                     408\n",
       "Name: purpose, dtype: int64"
      ]
     },
     "execution_count": 16,
     "metadata": {},
     "output_type": "execute_result"
    }
   ],
   "source": [
    "# оценим содержание data['purpose']\n",
    "data['purpose'].value_counts()"
   ]
  },
  {
   "cell_type": "code",
   "execution_count": 17,
   "metadata": {},
   "outputs": [
    {
     "name": "stdout",
     "output_type": "stream",
     "text": [
      "<class 'pandas.core.frame.DataFrame'>\n",
      "RangeIndex: 21454 entries, 0 to 21453\n",
      "Data columns (total 13 columns):\n",
      "children            21454 non-null int64\n",
      "days_employed       21454 non-null int64\n",
      "dob_years           21454 non-null int64\n",
      "education           21454 non-null object\n",
      "education_id        21454 non-null int64\n",
      "family_status       21454 non-null object\n",
      "family_status_id    21454 non-null int64\n",
      "gender              21454 non-null object\n",
      "income_type         21454 non-null object\n",
      "debt                21454 non-null int64\n",
      "total_income        21454 non-null float64\n",
      "purpose             21454 non-null object\n",
      "years_employed      21454 non-null int64\n",
      "dtypes: float64(1), int64(7), object(5)\n",
      "memory usage: 2.1+ MB\n"
     ]
    }
   ],
   "source": [
    "data.info()"
   ]
  },
  {
   "cell_type": "markdown",
   "metadata": {},
   "source": [
    "**Вывод**"
   ]
  },
  {
   "cell_type": "markdown",
   "metadata": {},
   "source": [
    "Для обработки дубликатов в столбце с образованием применили метод приведения всех букв к строчному регистру и метод drop duplicates. Также переназначили индексы. Это позволило удалить 71 дублирующую строку и количество различных значений сократить с 15 до 5."
   ]
  },
  {
   "cell_type": "markdown",
   "metadata": {},
   "source": [
    "### Лемматизация"
   ]
  },
  {
   "cell_type": "code",
   "execution_count": 18,
   "metadata": {},
   "outputs": [],
   "source": [
    "#импорт pymystem3 \n",
    "from pymystem3 import Mystem\n",
    "m = Mystem() "
   ]
  },
  {
   "cell_type": "code",
   "execution_count": 19,
   "metadata": {},
   "outputs": [],
   "source": [
    "# создадим новый столбец с леммами\n",
    "\n",
    "def lemmas_purpose(purpose):\n",
    "    lemmas = m.lemmatize(purpose)\n",
    "    return lemmas\n",
    "\n",
    "data['lemmas_purpose'] = data['purpose'].apply(lemmas_purpose)\n"
   ]
  },
  {
   "cell_type": "code",
   "execution_count": 20,
   "metadata": {},
   "outputs": [
    {
     "data": {
      "text/plain": [
       "[автомобиль, \\n]                                          972\n",
       "[свадьба, \\n]                                             791\n",
       "[на,  , проведение,  , свадьба, \\n]                       768\n",
       "[сыграть,  , свадьба, \\n]                                 765\n",
       "[операция,  , с,  , недвижимость, \\n]                     675\n",
       "[покупка,  , коммерческий,  , недвижимость, \\n]           661\n",
       "[операция,  , с,  , жилье, \\n]                            652\n",
       "[покупка,  , жилье,  , для,  , сдача, \\n]                 651\n",
       "[операция,  , с,  , коммерческий,  , недвижимость, \\n]    650\n",
       "[покупка,  , жилье, \\n]                                   646\n",
       "[жилье, \\n]                                               646\n",
       "[покупка,  , жилье,  , для,  , семья, \\n]                 638\n",
       "[строительство,  , собственный,  , недвижимость, \\n]      635\n",
       "[недвижимость, \\n]                                        633\n",
       "[операция,  , со,  , свой,  , недвижимость, \\n]           627\n",
       "[строительство,  , жилой,  , недвижимость, \\n]            624\n",
       "[покупка,  , недвижимость, \\n]                            621\n",
       "[покупка,  , свой,  , жилье, \\n]                          620\n",
       "[строительство,  , недвижимость, \\n]                      619\n",
       "[ремонт,  , жилье, \\n]                                    607\n",
       "[покупка,  , жилой,  , недвижимость, \\n]                  606\n",
       "[на,  , покупка,  , свой,  , автомобиль, \\n]              505\n",
       "[заниматься,  , высокий,  , образование, \\n]              496\n",
       "[сделка,  , с,  , подержанный,  , автомобиль, \\n]         486\n",
       "[свой,  , автомобиль, \\n]                                 478\n",
       "[на,  , покупка,  , подержать,  , автомобиль, \\n]         478\n",
       "[на,  , покупка,  , автомобиль, \\n]                       471\n",
       "[приобретение,  , автомобиль, \\n]                         461\n",
       "[дополнительный,  , образование, \\n]                      460\n",
       "[сделка,  , с,  , автомобиль, \\n]                         455\n",
       "[высокий,  , образование, \\n]                             452\n",
       "[образование, \\n]                                         447\n",
       "[получение,  , дополнительный,  , образование, \\n]        446\n",
       "[получение,  , образование, \\n]                           442\n",
       "[профильный,  , образование, \\n]                          436\n",
       "[получение,  , высокий,  , образование, \\n]               426\n",
       "[заниматься,  , образование, \\n]                          408\n",
       "Name: lemmas_purpose, dtype: int64"
      ]
     },
     "execution_count": 20,
     "metadata": {},
     "output_type": "execute_result"
    }
   ],
   "source": [
    "# выделим категории для лемм целей кредита\n",
    "data['lemmas_purpose'].value_counts()"
   ]
  },
  {
   "cell_type": "code",
   "execution_count": 21,
   "metadata": {},
   "outputs": [
    {
     "data": {
      "text/plain": [
       "0    недвижимость\n",
       "1      автомобиль\n",
       "2    недвижимость\n",
       "3     образование\n",
       "4         свадьба\n",
       "Name: lemmas_cat, dtype: object"
      ]
     },
     "execution_count": 21,
     "metadata": {},
     "output_type": "execute_result"
    }
   ],
   "source": [
    "# напишем фунукцию для создания нового столбца с категориями целей кредита\n",
    "def lemmas_cat(purpose_lemmas):\n",
    "    \n",
    "        if 'образование' in purpose_lemmas:\n",
    "            return 'образование'\n",
    "        if 'автомобиль' in purpose_lemmas:\n",
    "            return 'автомобиль'\n",
    "        if ('жилье' or 'недвижимость') in purpose_lemmas:\n",
    "            return 'недвижимость'\n",
    "        if 'свадьба' in purpose_lemmas:\n",
    "            return 'свадьба'\n",
    "        \n",
    "data['lemmas_cat'] = data['lemmas_purpose'].apply(lemmas_cat)\n",
    "data['lemmas_cat'].head()"
   ]
  },
  {
   "cell_type": "code",
   "execution_count": 22,
   "metadata": {},
   "outputs": [
    {
     "data": {
      "text/plain": [
       "недвижимость    4460\n",
       "автомобиль      4306\n",
       "образование     4013\n",
       "свадьба         2324\n",
       "Name: lemmas_cat, dtype: int64"
      ]
     },
     "execution_count": 22,
     "metadata": {},
     "output_type": "execute_result"
    }
   ],
   "source": [
    "# подсчитаем категории целей кредита\n",
    "data['lemmas_cat'].value_counts()"
   ]
  },
  {
   "cell_type": "markdown",
   "metadata": {},
   "source": [
    "**Вывод**"
   ]
  },
  {
   "cell_type": "markdown",
   "metadata": {},
   "source": [
    "Среди изучаемых данных можно выделить 4 основные цели кредита: на недвижимость, автомобиль, образование и свадьбу. Причём на недвижимость кредит берут почти в 2 раза чаще, чем на свадьбу. "
   ]
  },
  {
   "cell_type": "markdown",
   "metadata": {},
   "source": [
    "### Категоризация данных"
   ]
  },
  {
   "cell_type": "code",
   "execution_count": 23,
   "metadata": {
    "scrolled": true
   },
   "outputs": [
    {
     "data": {
      "text/plain": [
       " 0     14091\n",
       " 1      4808\n",
       " 2      2052\n",
       " 3       330\n",
       " 20       76\n",
       "-1        47\n",
       " 4        41\n",
       " 5         9\n",
       "Name: children, dtype: int64"
      ]
     },
     "execution_count": 23,
     "metadata": {},
     "output_type": "execute_result"
    }
   ],
   "source": [
    "# выделим категории в зависимости от количества детей\n",
    "data['children'].value_counts()"
   ]
  },
  {
   "cell_type": "code",
   "execution_count": 24,
   "metadata": {},
   "outputs": [
    {
     "data": {
      "text/plain": [
       "0    14091\n",
       "1     4855\n",
       "2     2128\n",
       "3      330\n",
       "4       41\n",
       "5        9\n",
       "Name: children, dtype: int64"
      ]
     },
     "execution_count": 24,
     "metadata": {},
     "output_type": "execute_result"
    }
   ],
   "source": [
    "# переведем отрицательные значения в положительные, а количество 20 заменим на 2\n",
    "\n",
    "data['children'] = data['children'].abs()\n",
    "# data.loc[data.loc[:, 'children'] == 20]['children'] = 2\n",
    "data['children'] = data['children'].replace(20, 2)\n",
    "# проверим выполнение \n",
    "data['children'].value_counts()"
   ]
  },
  {
   "cell_type": "code",
   "execution_count": 25,
   "metadata": {},
   "outputs": [
    {
     "data": {
      "text/html": [
       "<div>\n",
       "<style scoped>\n",
       "    .dataframe tbody tr th:only-of-type {\n",
       "        vertical-align: middle;\n",
       "    }\n",
       "\n",
       "    .dataframe tbody tr th {\n",
       "        vertical-align: top;\n",
       "    }\n",
       "\n",
       "    .dataframe thead tr th {\n",
       "        text-align: left;\n",
       "    }\n",
       "\n",
       "    .dataframe thead tr:last-of-type th {\n",
       "        text-align: right;\n",
       "    }\n",
       "</style>\n",
       "<table border=\"1\" class=\"dataframe\">\n",
       "  <thead>\n",
       "    <tr>\n",
       "      <th></th>\n",
       "      <th colspan=\"2\" halign=\"left\">debt</th>\n",
       "    </tr>\n",
       "    <tr>\n",
       "      <th></th>\n",
       "      <th>count</th>\n",
       "      <th>mean</th>\n",
       "    </tr>\n",
       "    <tr>\n",
       "      <th>children</th>\n",
       "      <th></th>\n",
       "      <th></th>\n",
       "    </tr>\n",
       "  </thead>\n",
       "  <tbody>\n",
       "    <tr>\n",
       "      <td>0</td>\n",
       "      <td>14091</td>\n",
       "      <td>0.075438</td>\n",
       "    </tr>\n",
       "    <tr>\n",
       "      <td>1</td>\n",
       "      <td>4855</td>\n",
       "      <td>0.091658</td>\n",
       "    </tr>\n",
       "    <tr>\n",
       "      <td>2</td>\n",
       "      <td>2128</td>\n",
       "      <td>0.094925</td>\n",
       "    </tr>\n",
       "    <tr>\n",
       "      <td>3</td>\n",
       "      <td>330</td>\n",
       "      <td>0.081818</td>\n",
       "    </tr>\n",
       "    <tr>\n",
       "      <td>4</td>\n",
       "      <td>41</td>\n",
       "      <td>0.097561</td>\n",
       "    </tr>\n",
       "    <tr>\n",
       "      <td>5</td>\n",
       "      <td>9</td>\n",
       "      <td>0.000000</td>\n",
       "    </tr>\n",
       "  </tbody>\n",
       "</table>\n",
       "</div>"
      ],
      "text/plain": [
       "           debt          \n",
       "          count      mean\n",
       "children                 \n",
       "0         14091  0.075438\n",
       "1          4855  0.091658\n",
       "2          2128  0.094925\n",
       "3           330  0.081818\n",
       "4            41  0.097561\n",
       "5             9  0.000000"
      ]
     },
     "execution_count": 25,
     "metadata": {},
     "output_type": "execute_result"
    }
   ],
   "source": [
    "# создадим таблицу для оценки количества наблюдений \n",
    "# и среднего значения категорий количества детей\n",
    "data.groupby('children').agg({'debt':['count', 'mean']})"
   ]
  },
  {
   "cell_type": "code",
   "execution_count": 26,
   "metadata": {},
   "outputs": [],
   "source": [
    "# напишем функцию для создания столбца с категориями для наличия детей\n",
    "def child(children_number):\n",
    "    if children_number == 0:\n",
    "        return 0\n",
    "    return 1\n",
    "\n",
    "data['children_id'] = data['children'].apply(child)"
   ]
  },
  {
   "cell_type": "code",
   "execution_count": 27,
   "metadata": {},
   "outputs": [
    {
     "name": "stdout",
     "output_type": "stream",
     "text": [
      "<class 'pandas.core.frame.DataFrame'>\n",
      "RangeIndex: 21454 entries, 0 to 21453\n",
      "Data columns (total 16 columns):\n",
      "children            21454 non-null int64\n",
      "days_employed       21454 non-null int64\n",
      "dob_years           21454 non-null int64\n",
      "education           21454 non-null object\n",
      "education_id        21454 non-null int64\n",
      "family_status       21454 non-null object\n",
      "family_status_id    21454 non-null int64\n",
      "gender              21454 non-null object\n",
      "income_type         21454 non-null object\n",
      "debt                21454 non-null int64\n",
      "total_income        21454 non-null float64\n",
      "purpose             21454 non-null object\n",
      "years_employed      21454 non-null int64\n",
      "lemmas_purpose      21454 non-null object\n",
      "lemmas_cat          15103 non-null object\n",
      "children_id         21454 non-null int64\n",
      "dtypes: float64(1), int64(8), object(7)\n",
      "memory usage: 2.6+ MB\n"
     ]
    }
   ],
   "source": [
    "data['children_id'] = (data['children'] > 0).astype(int)\n",
    "\n",
    "data.info()"
   ]
  },
  {
   "cell_type": "code",
   "execution_count": 28,
   "metadata": {},
   "outputs": [
    {
     "data": {
      "text/html": [
       "<div>\n",
       "<style scoped>\n",
       "    .dataframe tbody tr th:only-of-type {\n",
       "        vertical-align: middle;\n",
       "    }\n",
       "\n",
       "    .dataframe tbody tr th {\n",
       "        vertical-align: top;\n",
       "    }\n",
       "\n",
       "    .dataframe thead tr th {\n",
       "        text-align: left;\n",
       "    }\n",
       "\n",
       "    .dataframe thead tr:last-of-type th {\n",
       "        text-align: right;\n",
       "    }\n",
       "</style>\n",
       "<table border=\"1\" class=\"dataframe\">\n",
       "  <thead>\n",
       "    <tr>\n",
       "      <th></th>\n",
       "      <th colspan=\"2\" halign=\"left\">debt</th>\n",
       "    </tr>\n",
       "    <tr>\n",
       "      <th></th>\n",
       "      <th>count</th>\n",
       "      <th>mean</th>\n",
       "    </tr>\n",
       "    <tr>\n",
       "      <th>children_id</th>\n",
       "      <th></th>\n",
       "      <th></th>\n",
       "    </tr>\n",
       "  </thead>\n",
       "  <tbody>\n",
       "    <tr>\n",
       "      <td>0</td>\n",
       "      <td>14091</td>\n",
       "      <td>0.075438</td>\n",
       "    </tr>\n",
       "    <tr>\n",
       "      <td>1</td>\n",
       "      <td>7363</td>\n",
       "      <td>0.092082</td>\n",
       "    </tr>\n",
       "  </tbody>\n",
       "</table>\n",
       "</div>"
      ],
      "text/plain": [
       "              debt          \n",
       "             count      mean\n",
       "children_id                 \n",
       "0            14091  0.075438\n",
       "1             7363  0.092082"
      ]
     },
     "execution_count": 28,
     "metadata": {},
     "output_type": "execute_result"
    }
   ],
   "source": [
    "# создадим таблицу для оценки количества наблюдений \n",
    "# и среднего значения категорий наличия детей\n",
    "data.groupby('children_id').agg({'debt':['count', 'mean']})"
   ]
  },
  {
   "cell_type": "code",
   "execution_count": 29,
   "metadata": {},
   "outputs": [
    {
     "data": {
      "text/html": [
       "<div>\n",
       "<style scoped>\n",
       "    .dataframe tbody tr th:only-of-type {\n",
       "        vertical-align: middle;\n",
       "    }\n",
       "\n",
       "    .dataframe tbody tr th {\n",
       "        vertical-align: top;\n",
       "    }\n",
       "\n",
       "    .dataframe thead tr th {\n",
       "        text-align: left;\n",
       "    }\n",
       "\n",
       "    .dataframe thead tr:last-of-type th {\n",
       "        text-align: right;\n",
       "    }\n",
       "</style>\n",
       "<table border=\"1\" class=\"dataframe\">\n",
       "  <thead>\n",
       "    <tr>\n",
       "      <th></th>\n",
       "      <th colspan=\"2\" halign=\"left\">debt</th>\n",
       "    </tr>\n",
       "    <tr>\n",
       "      <th></th>\n",
       "      <th>count</th>\n",
       "      <th>mean</th>\n",
       "    </tr>\n",
       "    <tr>\n",
       "      <th>family_status</th>\n",
       "      <th></th>\n",
       "      <th></th>\n",
       "    </tr>\n",
       "  </thead>\n",
       "  <tbody>\n",
       "    <tr>\n",
       "      <td>Не женат / не замужем</td>\n",
       "      <td>2810</td>\n",
       "      <td>0.097509</td>\n",
       "    </tr>\n",
       "    <tr>\n",
       "      <td>в разводе</td>\n",
       "      <td>1195</td>\n",
       "      <td>0.071130</td>\n",
       "    </tr>\n",
       "    <tr>\n",
       "      <td>вдовец / вдова</td>\n",
       "      <td>959</td>\n",
       "      <td>0.065693</td>\n",
       "    </tr>\n",
       "    <tr>\n",
       "      <td>гражданский брак</td>\n",
       "      <td>4151</td>\n",
       "      <td>0.093471</td>\n",
       "    </tr>\n",
       "    <tr>\n",
       "      <td>женат / замужем</td>\n",
       "      <td>12339</td>\n",
       "      <td>0.075452</td>\n",
       "    </tr>\n",
       "  </tbody>\n",
       "</table>\n",
       "</div>"
      ],
      "text/plain": [
       "                        debt          \n",
       "                       count      mean\n",
       "family_status                         \n",
       "Не женат / не замужем   2810  0.097509\n",
       "в разводе               1195  0.071130\n",
       "вдовец / вдова           959  0.065693\n",
       "гражданский брак        4151  0.093471\n",
       "женат / замужем        12339  0.075452"
      ]
     },
     "execution_count": 29,
     "metadata": {},
     "output_type": "execute_result"
    }
   ],
   "source": [
    "# создадим таблицу для оценки количества наблюдений \n",
    "# и среднего значения категорий семейного положения\n",
    "data.groupby('family_status').agg({'debt':['count', 'mean']})"
   ]
  },
  {
   "cell_type": "code",
   "execution_count": 30,
   "metadata": {},
   "outputs": [],
   "source": [
    "# напишем функцию для создания столбца с категориями для семейного положения\n",
    "def family(status):\n",
    "    if status == 'женат / замужем':\n",
    "        return 1\n",
    "#     if status == 'гражданский брак':\n",
    "#         return 1\n",
    "    return 0\n",
    "\n",
    "data['status_id'] = data['family_status'].apply(family)"
   ]
  },
  {
   "cell_type": "code",
   "execution_count": 31,
   "metadata": {},
   "outputs": [],
   "source": [
    "data['status_id'] = (data['children'] > 0).astype(int)"
   ]
  },
  {
   "cell_type": "code",
   "execution_count": 32,
   "metadata": {},
   "outputs": [
    {
     "name": "stdout",
     "output_type": "stream",
     "text": [
      "<class 'pandas.core.frame.DataFrame'>\n",
      "RangeIndex: 21454 entries, 0 to 21453\n",
      "Data columns (total 17 columns):\n",
      "children            21454 non-null int64\n",
      "days_employed       21454 non-null int64\n",
      "dob_years           21454 non-null int64\n",
      "education           21454 non-null object\n",
      "education_id        21454 non-null int64\n",
      "family_status       21454 non-null object\n",
      "family_status_id    21454 non-null int64\n",
      "gender              21454 non-null object\n",
      "income_type         21454 non-null object\n",
      "debt                21454 non-null int64\n",
      "total_income        21454 non-null float64\n",
      "purpose             21454 non-null object\n",
      "years_employed      21454 non-null int64\n",
      "lemmas_purpose      21454 non-null object\n",
      "lemmas_cat          15103 non-null object\n",
      "children_id         21454 non-null int64\n",
      "status_id           21454 non-null int64\n",
      "dtypes: float64(1), int64(9), object(7)\n",
      "memory usage: 2.8+ MB\n"
     ]
    }
   ],
   "source": [
    "data.info()"
   ]
  },
  {
   "cell_type": "code",
   "execution_count": 33,
   "metadata": {},
   "outputs": [
    {
     "data": {
      "text/html": [
       "<div>\n",
       "<style scoped>\n",
       "    .dataframe tbody tr th:only-of-type {\n",
       "        vertical-align: middle;\n",
       "    }\n",
       "\n",
       "    .dataframe tbody tr th {\n",
       "        vertical-align: top;\n",
       "    }\n",
       "\n",
       "    .dataframe thead tr th {\n",
       "        text-align: left;\n",
       "    }\n",
       "\n",
       "    .dataframe thead tr:last-of-type th {\n",
       "        text-align: right;\n",
       "    }\n",
       "</style>\n",
       "<table border=\"1\" class=\"dataframe\">\n",
       "  <thead>\n",
       "    <tr>\n",
       "      <th></th>\n",
       "      <th colspan=\"2\" halign=\"left\">debt</th>\n",
       "    </tr>\n",
       "    <tr>\n",
       "      <th></th>\n",
       "      <th>count</th>\n",
       "      <th>mean</th>\n",
       "    </tr>\n",
       "    <tr>\n",
       "      <th>status_id</th>\n",
       "      <th></th>\n",
       "      <th></th>\n",
       "    </tr>\n",
       "  </thead>\n",
       "  <tbody>\n",
       "    <tr>\n",
       "      <td>0</td>\n",
       "      <td>14091</td>\n",
       "      <td>0.075438</td>\n",
       "    </tr>\n",
       "    <tr>\n",
       "      <td>1</td>\n",
       "      <td>7363</td>\n",
       "      <td>0.092082</td>\n",
       "    </tr>\n",
       "  </tbody>\n",
       "</table>\n",
       "</div>"
      ],
      "text/plain": [
       "            debt          \n",
       "           count      mean\n",
       "status_id                 \n",
       "0          14091  0.075438\n",
       "1           7363  0.092082"
      ]
     },
     "execution_count": 33,
     "metadata": {},
     "output_type": "execute_result"
    }
   ],
   "source": [
    "# создадим таблицу для оценки количества наблюдений \n",
    "# и среднего значения категорий для семейного положения\n",
    "data.groupby('status_id').agg({'debt':['count', 'mean']})"
   ]
  },
  {
   "cell_type": "code",
   "execution_count": 34,
   "metadata": {},
   "outputs": [
    {
     "data": {
      "text/html": [
       "<div>\n",
       "<style scoped>\n",
       "    .dataframe tbody tr th:only-of-type {\n",
       "        vertical-align: middle;\n",
       "    }\n",
       "\n",
       "    .dataframe tbody tr th {\n",
       "        vertical-align: top;\n",
       "    }\n",
       "\n",
       "    .dataframe thead th {\n",
       "        text-align: right;\n",
       "    }\n",
       "</style>\n",
       "<table border=\"1\" class=\"dataframe\">\n",
       "  <thead>\n",
       "    <tr style=\"text-align: right;\">\n",
       "      <th></th>\n",
       "      <th>total_income</th>\n",
       "    </tr>\n",
       "  </thead>\n",
       "  <tbody>\n",
       "    <tr>\n",
       "      <td>min</td>\n",
       "      <td>2.066726e+04</td>\n",
       "    </tr>\n",
       "    <tr>\n",
       "      <td>max</td>\n",
       "      <td>2.265604e+06</td>\n",
       "    </tr>\n",
       "    <tr>\n",
       "      <td>mean</td>\n",
       "      <td>1.653201e+05</td>\n",
       "    </tr>\n",
       "    <tr>\n",
       "      <td>median</td>\n",
       "      <td>1.425944e+05</td>\n",
       "    </tr>\n",
       "  </tbody>\n",
       "</table>\n",
       "</div>"
      ],
      "text/plain": [
       "        total_income\n",
       "min     2.066726e+04\n",
       "max     2.265604e+06\n",
       "mean    1.653201e+05\n",
       "median  1.425944e+05"
      ]
     },
     "execution_count": 34,
     "metadata": {},
     "output_type": "execute_result"
    }
   ],
   "source": [
    "# создадим таблицу для оценки значений ежемесячного дохода\n",
    "data.agg({'total_income':['min', 'max', 'mean', 'median']})"
   ]
  },
  {
   "cell_type": "code",
   "execution_count": 35,
   "metadata": {},
   "outputs": [
    {
     "data": {
      "image/png": "[encoded data removed]",
      "text/plain": [
       "<Figure size 432x288 with 1 Axes>"
      ]
     },
     "metadata": {
      "needs_background": "light"
     },
     "output_type": "display_data"
    }
   ],
   "source": [
    "# посмотрим как распределяются значения\n",
    "import matplotlib.pyplot as plt\n",
    "\n",
    "plt.scatter(x= data['total_income'], y=data['debt'])\n",
    "plt.show()\n"
   ]
  },
  {
   "cell_type": "code",
   "execution_count": 36,
   "metadata": {},
   "outputs": [
    {
     "data": {
      "text/plain": [
       "11052    1.286281e+06\n",
       "15234    1.350246e+06\n",
       "18306    1.427934e+06\n",
       "18321    1.551153e+06\n",
       "17460    1.597613e+06\n",
       "17137    1.711309e+06\n",
       "20742    1.715018e+06\n",
       "9159     1.726276e+06\n",
       "19548    2.200852e+06\n",
       "12390    2.265604e+06\n",
       "Name: total_income, dtype: float64"
      ]
     },
     "execution_count": 36,
     "metadata": {},
     "output_type": "execute_result"
    }
   ],
   "source": [
    "# посмотрим на 2 самых больших значения\n",
    "data['total_income'].sort_values().tail(10)"
   ]
  },
  {
   "cell_type": "code",
   "execution_count": 37,
   "metadata": {},
   "outputs": [],
   "source": [
    "# удалим 2 самых больших значения\n",
    "data = data.drop([19548])\n",
    "data = data.drop([12390])\n",
    "data = data.reset_index(drop = True)\n"
   ]
  },
  {
   "cell_type": "code",
   "execution_count": 38,
   "metadata": {},
   "outputs": [
    {
     "data": {
      "image/png": "[encoded data removed]",
      "text/plain": [
       "<Figure size 432x288 with 1 Axes>"
      ]
     },
     "metadata": {
      "needs_background": "light"
     },
     "output_type": "display_data"
    }
   ],
   "source": [
    "# проверим как распределяются значения \n",
    "plt.scatter(x= data['total_income'], y=data['debt'])\n",
    "plt.show()"
   ]
  },
  {
   "cell_type": "code",
   "execution_count": 39,
   "metadata": {},
   "outputs": [],
   "source": [
    "# напишем функцию для создания столбца с категориями для ежемесячного дохода\n",
    "def income_id(income):\n",
    "    if income <= 500000:\n",
    "        return 1\n",
    "    if income <= 1000000:\n",
    "        return 2\n",
    "    return 3\n",
    "\n",
    "data['income_id'] = data['total_income'].apply(income_id)"
   ]
  },
  {
   "cell_type": "code",
   "execution_count": 40,
   "metadata": {},
   "outputs": [
    {
     "data": {
      "text/html": [
       "<div>\n",
       "<style scoped>\n",
       "    .dataframe tbody tr th:only-of-type {\n",
       "        vertical-align: middle;\n",
       "    }\n",
       "\n",
       "    .dataframe tbody tr th {\n",
       "        vertical-align: top;\n",
       "    }\n",
       "\n",
       "    .dataframe thead tr th {\n",
       "        text-align: left;\n",
       "    }\n",
       "\n",
       "    .dataframe thead tr:last-of-type th {\n",
       "        text-align: right;\n",
       "    }\n",
       "</style>\n",
       "<table border=\"1\" class=\"dataframe\">\n",
       "  <thead>\n",
       "    <tr>\n",
       "      <th></th>\n",
       "      <th colspan=\"2\" halign=\"left\">debt</th>\n",
       "    </tr>\n",
       "    <tr>\n",
       "      <th></th>\n",
       "      <th>count</th>\n",
       "      <th>mean</th>\n",
       "    </tr>\n",
       "    <tr>\n",
       "      <th>income_id</th>\n",
       "      <th></th>\n",
       "      <th></th>\n",
       "    </tr>\n",
       "  </thead>\n",
       "  <tbody>\n",
       "    <tr>\n",
       "      <td>1</td>\n",
       "      <td>21232</td>\n",
       "      <td>0.081339</td>\n",
       "    </tr>\n",
       "    <tr>\n",
       "      <td>2</td>\n",
       "      <td>197</td>\n",
       "      <td>0.060914</td>\n",
       "    </tr>\n",
       "    <tr>\n",
       "      <td>3</td>\n",
       "      <td>23</td>\n",
       "      <td>0.043478</td>\n",
       "    </tr>\n",
       "  </tbody>\n",
       "</table>\n",
       "</div>"
      ],
      "text/plain": [
       "            debt          \n",
       "           count      mean\n",
       "income_id                 \n",
       "1          21232  0.081339\n",
       "2            197  0.060914\n",
       "3             23  0.043478"
      ]
     },
     "execution_count": 40,
     "metadata": {},
     "output_type": "execute_result"
    }
   ],
   "source": [
    "# создадим таблицу для оценки количества наблюдений и среднего значения категорий \n",
    "data.groupby('income_id').agg({'debt':['count', 'mean']})"
   ]
  },
  {
   "cell_type": "code",
   "execution_count": 41,
   "metadata": {},
   "outputs": [
    {
     "data": {
      "text/html": [
       "<div>\n",
       "<style scoped>\n",
       "    .dataframe tbody tr th:only-of-type {\n",
       "        vertical-align: middle;\n",
       "    }\n",
       "\n",
       "    .dataframe tbody tr th {\n",
       "        vertical-align: top;\n",
       "    }\n",
       "\n",
       "    .dataframe thead tr th {\n",
       "        text-align: left;\n",
       "    }\n",
       "\n",
       "    .dataframe thead tr:last-of-type th {\n",
       "        text-align: right;\n",
       "    }\n",
       "</style>\n",
       "<table border=\"1\" class=\"dataframe\">\n",
       "  <thead>\n",
       "    <tr>\n",
       "      <th></th>\n",
       "      <th colspan=\"2\" halign=\"left\">debt</th>\n",
       "    </tr>\n",
       "    <tr>\n",
       "      <th></th>\n",
       "      <th>count</th>\n",
       "      <th>mean</th>\n",
       "    </tr>\n",
       "    <tr>\n",
       "      <th>lemmas_cat</th>\n",
       "      <th></th>\n",
       "      <th></th>\n",
       "    </tr>\n",
       "  </thead>\n",
       "  <tbody>\n",
       "    <tr>\n",
       "      <td>автомобиль</td>\n",
       "      <td>4306</td>\n",
       "      <td>0.093590</td>\n",
       "    </tr>\n",
       "    <tr>\n",
       "      <td>недвижимость</td>\n",
       "      <td>4459</td>\n",
       "      <td>0.069074</td>\n",
       "    </tr>\n",
       "    <tr>\n",
       "      <td>образование</td>\n",
       "      <td>4013</td>\n",
       "      <td>0.092200</td>\n",
       "    </tr>\n",
       "    <tr>\n",
       "      <td>свадьба</td>\n",
       "      <td>2324</td>\n",
       "      <td>0.080034</td>\n",
       "    </tr>\n",
       "  </tbody>\n",
       "</table>\n",
       "</div>"
      ],
      "text/plain": [
       "              debt          \n",
       "             count      mean\n",
       "lemmas_cat                  \n",
       "автомобиль    4306  0.093590\n",
       "недвижимость  4459  0.069074\n",
       "образование   4013  0.092200\n",
       "свадьба       2324  0.080034"
      ]
     },
     "execution_count": 41,
     "metadata": {},
     "output_type": "execute_result"
    }
   ],
   "source": [
    "# создадим таблицу для оценки количества наблюдений \n",
    "# и среднего значения категорий  целей кредита\n",
    "data.groupby('lemmas_cat').agg({'debt':['count', 'mean']})"
   ]
  },
  {
   "cell_type": "markdown",
   "metadata": {},
   "source": [
    "**Вывод**"
   ]
  },
  {
   "cell_type": "markdown",
   "metadata": {},
   "source": [
    "Выделили категории для столбцов с наличием детей, семейным статусом и доходом. Использовали метод agg для создания сводной таблицы по указанным значениям. Кроме того, для оценки распределения значений дохода, создали график. "
   ]
  },
  {
   "cell_type": "markdown",
   "metadata": {},
   "source": [
    "## Шаг 3. Ответьте на вопросы"
   ]
  },
  {
   "cell_type": "markdown",
   "metadata": {},
   "source": [
    "- Есть ли зависимость между наличием детей и возвратом кредита в срок?"
   ]
  },
  {
   "cell_type": "markdown",
   "metadata": {},
   "source": [
    "Если рассматривать наличие детей (вне зависимости от их количества), то , учитывая расчёты, смогли погасить кредит больше людей без детей  (92,5%). Для людей С детьми - этот показатель чуть ниже - 90,8%. Но количество наблюдений в данной выборке для людей с детьми почти в 2 раза меньше. Возможно результаты были бы другими. \n",
    "\n",
    "Если рассматривать в отдельности показатели по количеству детей, то однозначного вывод сделать не получается из-за того, что различаются количества наблюдений. Так, например, для семьи с 5 детьми кредит был погашён во всех случаях, а с 4ми в 91%.\n",
    "\n"
   ]
  },
  {
   "cell_type": "markdown",
   "metadata": {},
   "source": [
    "**Вывод**"
   ]
  },
  {
   "cell_type": "markdown",
   "metadata": {},
   "source": [
    "Считаю, что однозначно утверждать , что зависимость существует, нельзя. По данному набору наблюдений можно заметить, что смогли погасить кредит больше людей без детей. \n"
   ]
  },
  {
   "cell_type": "markdown",
   "metadata": {},
   "source": [
    "- Есть ли зависимость между семейным положением и возвратом кредита в срок?"
   ]
  },
  {
   "cell_type": "markdown",
   "metadata": {},
   "source": [
    "В официальном браке смогли во время погасить кредит в 92,5%, тогда как в остальных случаях погашение кредита составило 91,2%. Интересно, что больше всего погасили кредит вдовцы/вдовы - в 93,4%, а холостые люди - в 90,3%.\n"
   ]
  },
  {
   "cell_type": "markdown",
   "metadata": {},
   "source": [
    "**Вывод**"
   ]
  },
  {
   "cell_type": "markdown",
   "metadata": {},
   "source": [
    "Зависимость погашения кредита от семейного положения не очевидна. Разница вероятности погашения кредита между разными категориями 2-3%. "
   ]
  },
  {
   "cell_type": "markdown",
   "metadata": {},
   "source": [
    "- Есть ли зависимость между уровнем дохода и возвратом кредита в срок?"
   ]
  },
  {
   "cell_type": "markdown",
   "metadata": {},
   "source": [
    "Разделив ежемесячные доходы на 3 категории: до 500 тыс. ₽, до 1 млн. ₽ и выше , процент погашения кредита повышается с увеличением дохода: 91,9%, 93,9%, 95,7% соответственно "
   ]
  },
  {
   "cell_type": "markdown",
   "metadata": {},
   "source": [
    "**Вывод**"
   ]
  },
  {
   "cell_type": "markdown",
   "metadata": {},
   "source": [
    "С увеличением дохода процент погашения кредита повышается в пределах 4%"
   ]
  },
  {
   "cell_type": "markdown",
   "metadata": {},
   "source": [
    "- Как разные цели кредита влияют на его возврат в срок?"
   ]
  },
  {
   "cell_type": "markdown",
   "metadata": {},
   "source": [
    "В зависимости от целей кредита процент погашения отличается, но в пределах 3%. Автокредиты погашали реже всего в 90,7%, почти также как и кредиты на образование (90,7%). "
   ]
  },
  {
   "cell_type": "markdown",
   "metadata": {},
   "source": [
    "**Вывод**"
   ]
  },
  {
   "cell_type": "markdown",
   "metadata": {},
   "source": [
    "Кредит на цели, связанные с недвижимостью (покупка, строительство, ремонт и др.), погашается в большем числе случаев.  "
   ]
  },
  {
   "cell_type": "markdown",
   "metadata": {},
   "source": [
    "## Шаг 4. Общий вывод"
   ]
  },
  {
   "cell_type": "markdown",
   "metadata": {},
   "source": [
    "В рамках данного проекта изучили массив данных с информациях о заёмщиках. Обработали данные: заполнили пропуски, удалили дубликаты, выделили категории. Данные операции позволили сделать вывод о зависимости отдельных условий на погашение кредита. В частности, наибольшее влияние на погошенин кредита имеет доход , а не количество детей и семейный статус.\n"
   ]
  },
  {
   "cell_type": "code",
   "execution_count": null,
   "metadata": {},
   "outputs": [],
   "source": []
  }
 ],
 "metadata": {
  "ExecuteTimeLog": [
   {
    "duration": 523,
    "start_time": "2021-12-18T08:17:04.426Z"
   },
   {
    "duration": 79,
    "start_time": "2021-12-18T08:17:05.580Z"
   },
   {
    "duration": 12,
    "start_time": "2021-12-18T08:17:06.649Z"
   },
   {
    "duration": 19,
    "start_time": "2021-12-18T08:28:12.903Z"
   },
   {
    "duration": 13,
    "start_time": "2021-12-18T08:28:32.384Z"
   },
   {
    "duration": 12,
    "start_time": "2021-12-18T08:31:16.249Z"
   },
   {
    "duration": 9,
    "start_time": "2021-12-18T08:50:31.542Z"
   },
   {
    "duration": 76,
    "start_time": "2021-12-18T09:15:25.214Z"
   },
   {
    "duration": 245,
    "start_time": "2021-12-18T09:29:30.081Z"
   },
   {
    "duration": 8,
    "start_time": "2021-12-18T09:29:38.583Z"
   },
   {
    "duration": 16,
    "start_time": "2021-12-18T09:43:08.827Z"
   },
   {
    "duration": 15,
    "start_time": "2021-12-18T09:44:04.601Z"
   },
   {
    "duration": 4,
    "start_time": "2021-12-18T09:45:47.199Z"
   },
   {
    "duration": 7,
    "start_time": "2021-12-18T09:46:11.329Z"
   },
   {
    "duration": 55,
    "start_time": "2021-12-18T09:47:16.129Z"
   },
   {
    "duration": 3126,
    "start_time": "2021-12-18T09:47:23.858Z"
   },
   {
    "duration": 66,
    "start_time": "2021-12-18T10:01:03.284Z"
   },
   {
    "duration": 59,
    "start_time": "2021-12-18T10:01:15.386Z"
   },
   {
    "duration": 62,
    "start_time": "2021-12-18T10:01:24.998Z"
   },
   {
    "duration": 60,
    "start_time": "2021-12-18T10:01:51.611Z"
   },
   {
    "duration": 4720,
    "start_time": "2021-12-18T10:02:11.017Z"
   },
   {
    "duration": 4430,
    "start_time": "2021-12-18T10:02:21.546Z"
   },
   {
    "duration": 3274,
    "start_time": "2021-12-18T10:04:52.567Z"
   },
   {
    "duration": 3731,
    "start_time": "2021-12-18T10:05:17.609Z"
   },
   {
    "duration": 9,
    "start_time": "2021-12-18T10:07:02.793Z"
   },
   {
    "duration": 9,
    "start_time": "2021-12-18T10:07:24.977Z"
   },
   {
    "duration": 25,
    "start_time": "2021-12-18T10:08:27.199Z"
   },
   {
    "duration": 25,
    "start_time": "2021-12-18T10:08:39.061Z"
   },
   {
    "duration": 24,
    "start_time": "2021-12-18T10:08:53.437Z"
   },
   {
    "duration": 23,
    "start_time": "2021-12-18T10:09:11.698Z"
   },
   {
    "duration": 23,
    "start_time": "2021-12-18T10:09:23.206Z"
   },
   {
    "duration": 23,
    "start_time": "2021-12-18T10:09:32.785Z"
   },
   {
    "duration": 24,
    "start_time": "2021-12-18T10:09:47.012Z"
   },
   {
    "duration": 23,
    "start_time": "2021-12-18T10:11:39.323Z"
   },
   {
    "duration": 25,
    "start_time": "2021-12-18T10:12:45.243Z"
   },
   {
    "duration": 25,
    "start_time": "2021-12-18T10:12:57.284Z"
   },
   {
    "duration": 24,
    "start_time": "2021-12-18T10:14:06.237Z"
   },
   {
    "duration": 25,
    "start_time": "2021-12-18T10:14:27.254Z"
   },
   {
    "duration": 8,
    "start_time": "2021-12-18T10:14:55.830Z"
   },
   {
    "duration": 8,
    "start_time": "2021-12-18T10:15:13.245Z"
   },
   {
    "duration": 190,
    "start_time": "2021-12-18T10:28:32.916Z"
   },
   {
    "duration": 169,
    "start_time": "2021-12-18T10:29:11.218Z"
   },
   {
    "duration": 61,
    "start_time": "2021-12-18T10:30:40.111Z"
   },
   {
    "duration": 214,
    "start_time": "2021-12-18T10:30:51.437Z"
   },
   {
    "duration": 188,
    "start_time": "2021-12-18T10:32:22.847Z"
   },
   {
    "duration": 185,
    "start_time": "2021-12-18T10:33:03.067Z"
   },
   {
    "duration": 197,
    "start_time": "2021-12-18T10:33:07.415Z"
   },
   {
    "duration": 172,
    "start_time": "2021-12-18T10:33:42.266Z"
   },
   {
    "duration": 171,
    "start_time": "2021-12-18T10:34:19.444Z"
   },
   {
    "duration": 65,
    "start_time": "2021-12-18T10:49:12.994Z"
   },
   {
    "duration": 238,
    "start_time": "2021-12-18T10:49:16.609Z"
   },
   {
    "duration": 252,
    "start_time": "2021-12-18T10:50:03.120Z"
   },
   {
    "duration": 258,
    "start_time": "2021-12-18T10:50:18.005Z"
   },
   {
    "duration": 198,
    "start_time": "2021-12-18T10:51:05.471Z"
   },
   {
    "duration": 197,
    "start_time": "2021-12-18T10:51:26.589Z"
   },
   {
    "duration": 184,
    "start_time": "2021-12-18T10:52:10.432Z"
   },
   {
    "duration": 243,
    "start_time": "2021-12-18T10:52:43.294Z"
   },
   {
    "duration": 229,
    "start_time": "2021-12-18T10:52:55.028Z"
   },
   {
    "duration": 240,
    "start_time": "2021-12-18T10:53:01.083Z"
   },
   {
    "duration": 33026,
    "start_time": "2021-12-18T10:57:43.666Z"
   },
   {
    "duration": 171,
    "start_time": "2021-12-18T11:09:08.833Z"
   },
   {
    "duration": 6,
    "start_time": "2021-12-18T11:10:19.073Z"
   },
   {
    "duration": 287,
    "start_time": "2021-12-18T11:10:39.760Z"
   },
   {
    "duration": 10,
    "start_time": "2021-12-18T11:10:48.852Z"
   },
   {
    "duration": 8,
    "start_time": "2021-12-18T11:11:04.879Z"
   },
   {
    "duration": 10,
    "start_time": "2021-12-18T11:11:14.430Z"
   },
   {
    "duration": 9,
    "start_time": "2021-12-18T11:11:38.837Z"
   },
   {
    "duration": 63,
    "start_time": "2021-12-18T11:14:23.879Z"
   },
   {
    "duration": 8,
    "start_time": "2021-12-18T11:14:28.801Z"
   },
   {
    "duration": 10,
    "start_time": "2021-12-18T11:14:38.204Z"
   },
   {
    "duration": 4,
    "start_time": "2021-12-18T11:15:01.901Z"
   },
   {
    "duration": 12,
    "start_time": "2021-12-18T15:42:11.064Z"
   },
   {
    "duration": 274,
    "start_time": "2021-12-18T15:42:35.872Z"
   },
   {
    "duration": 298,
    "start_time": "2021-12-18T15:43:16.190Z"
   },
   {
    "duration": 293,
    "start_time": "2021-12-18T15:48:47.520Z"
   },
   {
    "duration": 200,
    "start_time": "2021-12-18T15:53:01.212Z"
   },
   {
    "duration": 173,
    "start_time": "2021-12-18T15:53:11.629Z"
   },
   {
    "duration": 176,
    "start_time": "2021-12-18T15:53:24.242Z"
   },
   {
    "duration": 14,
    "start_time": "2021-12-18T15:53:33.480Z"
   },
   {
    "duration": 199,
    "start_time": "2021-12-18T16:27:12.011Z"
   },
   {
    "duration": 175,
    "start_time": "2021-12-18T16:27:29.314Z"
   },
   {
    "duration": 180,
    "start_time": "2021-12-18T16:28:45.275Z"
   },
   {
    "duration": 512,
    "start_time": "2021-12-18T17:05:17.558Z"
   },
   {
    "duration": 51,
    "start_time": "2021-12-18T17:05:18.072Z"
   },
   {
    "duration": 12,
    "start_time": "2021-12-18T17:05:18.125Z"
   },
   {
    "duration": 21,
    "start_time": "2021-12-18T17:05:18.139Z"
   },
   {
    "duration": 30,
    "start_time": "2021-12-18T17:05:18.162Z"
   },
   {
    "duration": 7,
    "start_time": "2021-12-18T17:05:18.194Z"
   },
   {
    "duration": 18,
    "start_time": "2021-12-18T17:05:18.203Z"
   },
   {
    "duration": 33,
    "start_time": "2021-12-18T17:07:29.651Z"
   },
   {
    "duration": 8,
    "start_time": "2021-12-18T17:08:01.019Z"
   },
   {
    "duration": -5,
    "start_time": "2021-12-18T18:55:44.464Z"
   },
   {
    "duration": -11,
    "start_time": "2021-12-18T18:55:44.471Z"
   },
   {
    "duration": 789,
    "start_time": "2021-12-18T18:55:44.583Z"
   },
   {
    "duration": 74,
    "start_time": "2021-12-18T18:55:45.374Z"
   },
   {
    "duration": 19,
    "start_time": "2021-12-18T18:55:45.451Z"
   },
   {
    "duration": 28,
    "start_time": "2021-12-18T18:55:45.473Z"
   },
   {
    "duration": 13,
    "start_time": "2021-12-18T18:55:45.504Z"
   },
   {
    "duration": 10,
    "start_time": "2021-12-18T18:55:45.520Z"
   },
   {
    "duration": 58,
    "start_time": "2021-12-18T18:55:45.532Z"
   },
   {
    "duration": 18,
    "start_time": "2021-12-18T18:57:12.197Z"
   },
   {
    "duration": 6,
    "start_time": "2021-12-18T18:57:28.614Z"
   },
   {
    "duration": 370,
    "start_time": "2021-12-18T18:58:20.728Z"
   },
   {
    "duration": 267,
    "start_time": "2021-12-18T18:59:06.775Z"
   },
   {
    "duration": 237,
    "start_time": "2021-12-18T18:59:36.704Z"
   },
   {
    "duration": 243,
    "start_time": "2021-12-18T18:59:50.382Z"
   },
   {
    "duration": 251,
    "start_time": "2021-12-18T18:59:55.960Z"
   },
   {
    "duration": 361,
    "start_time": "2021-12-18T19:00:03.485Z"
   },
   {
    "duration": 237,
    "start_time": "2021-12-18T19:00:09.306Z"
   },
   {
    "duration": 270,
    "start_time": "2021-12-18T19:00:12.864Z"
   },
   {
    "duration": 365,
    "start_time": "2021-12-18T19:00:18.420Z"
   },
   {
    "duration": 202,
    "start_time": "2021-12-18T19:00:25.113Z"
   },
   {
    "duration": 802,
    "start_time": "2021-12-18T19:00:31.655Z"
   },
   {
    "duration": 299,
    "start_time": "2021-12-18T19:00:37.191Z"
   },
   {
    "duration": 245,
    "start_time": "2021-12-18T19:00:54.921Z"
   },
   {
    "duration": 7792,
    "start_time": "2021-12-18T19:01:41.355Z"
   },
   {
    "duration": 6,
    "start_time": "2021-12-18T19:07:30.893Z"
   },
   {
    "duration": 8,
    "start_time": "2021-12-18T19:07:53.421Z"
   },
   {
    "duration": 8,
    "start_time": "2021-12-18T19:08:03.783Z"
   },
   {
    "duration": 276,
    "start_time": "2021-12-18T19:08:36.808Z"
   },
   {
    "duration": 5,
    "start_time": "2021-12-18T19:09:23.682Z"
   },
   {
    "duration": 7,
    "start_time": "2021-12-18T19:09:29.491Z"
   },
   {
    "duration": 366,
    "start_time": "2021-12-18T19:10:30.242Z"
   },
   {
    "duration": 269,
    "start_time": "2021-12-18T19:10:47.544Z"
   },
   {
    "duration": 243,
    "start_time": "2021-12-18T19:11:33.052Z"
   },
   {
    "duration": 312,
    "start_time": "2021-12-18T19:12:00.312Z"
   },
   {
    "duration": 273,
    "start_time": "2021-12-18T19:12:08.304Z"
   },
   {
    "duration": 328,
    "start_time": "2021-12-18T19:14:22.936Z"
   },
   {
    "duration": 272,
    "start_time": "2021-12-18T19:14:44.711Z"
   },
   {
    "duration": 5024,
    "start_time": "2021-12-18T19:15:06.788Z"
   },
   {
    "duration": 7,
    "start_time": "2021-12-18T19:17:02.600Z"
   },
   {
    "duration": 267,
    "start_time": "2021-12-18T19:17:09.621Z"
   },
   {
    "duration": 7,
    "start_time": "2021-12-18T19:18:22.960Z"
   },
   {
    "duration": 7,
    "start_time": "2021-12-18T19:18:34.930Z"
   },
   {
    "duration": 630,
    "start_time": "2021-12-18T19:18:45.875Z"
   },
   {
    "duration": 54,
    "start_time": "2021-12-18T19:18:46.506Z"
   },
   {
    "duration": 21,
    "start_time": "2021-12-18T19:18:46.562Z"
   },
   {
    "duration": 17,
    "start_time": "2021-12-18T19:18:46.588Z"
   },
   {
    "duration": 12,
    "start_time": "2021-12-18T19:18:46.607Z"
   },
   {
    "duration": 7,
    "start_time": "2021-12-18T19:18:46.621Z"
   },
   {
    "duration": 53,
    "start_time": "2021-12-18T19:18:46.629Z"
   },
   {
    "duration": 6,
    "start_time": "2021-12-18T19:18:46.684Z"
   },
   {
    "duration": 10,
    "start_time": "2021-12-18T19:19:06.116Z"
   },
   {
    "duration": 9,
    "start_time": "2021-12-18T19:21:17.198Z"
   },
   {
    "duration": 581,
    "start_time": "2021-12-18T19:34:55.201Z"
   },
   {
    "duration": 51,
    "start_time": "2021-12-18T19:34:55.784Z"
   },
   {
    "duration": 10,
    "start_time": "2021-12-18T19:34:55.837Z"
   },
   {
    "duration": 19,
    "start_time": "2021-12-18T19:34:55.849Z"
   },
   {
    "duration": 13,
    "start_time": "2021-12-18T19:34:55.869Z"
   },
   {
    "duration": 8,
    "start_time": "2021-12-18T19:34:55.884Z"
   },
   {
    "duration": 4,
    "start_time": "2021-12-18T19:34:55.893Z"
   },
   {
    "duration": 99,
    "start_time": "2021-12-18T19:34:55.898Z"
   },
   {
    "duration": 269,
    "start_time": "2021-12-18T19:48:38.044Z"
   },
   {
    "duration": 205,
    "start_time": "2021-12-18T19:49:05.586Z"
   },
   {
    "duration": 69,
    "start_time": "2021-12-18T19:49:10.679Z"
   },
   {
    "duration": 336,
    "start_time": "2021-12-18T19:53:18.212Z"
   },
   {
    "duration": 258,
    "start_time": "2021-12-18T19:54:03.248Z"
   },
   {
    "duration": 16,
    "start_time": "2021-12-18T19:54:57.879Z"
   },
   {
    "duration": 23,
    "start_time": "2021-12-18T19:55:17.092Z"
   },
   {
    "duration": 24,
    "start_time": "2021-12-18T19:56:19.158Z"
   },
   {
    "duration": 645,
    "start_time": "2021-12-18T19:56:36.287Z"
   },
   {
    "duration": 59,
    "start_time": "2021-12-18T19:56:36.934Z"
   },
   {
    "duration": 13,
    "start_time": "2021-12-18T19:56:37.001Z"
   },
   {
    "duration": 18,
    "start_time": "2021-12-18T19:56:37.016Z"
   },
   {
    "duration": 34,
    "start_time": "2021-12-18T19:56:37.035Z"
   },
   {
    "duration": 10,
    "start_time": "2021-12-18T19:56:37.071Z"
   },
   {
    "duration": 7,
    "start_time": "2021-12-18T19:56:37.082Z"
   },
   {
    "duration": 8,
    "start_time": "2021-12-18T19:56:37.091Z"
   },
   {
    "duration": 5,
    "start_time": "2021-12-18T19:56:37.101Z"
   },
   {
    "duration": 20,
    "start_time": "2021-12-18T19:56:37.108Z"
   },
   {
    "duration": 212,
    "start_time": "2021-12-18T19:57:24.514Z"
   },
   {
    "duration": 17,
    "start_time": "2021-12-18T19:57:27.816Z"
   },
   {
    "duration": 27,
    "start_time": "2021-12-18T19:58:01.770Z"
   },
   {
    "duration": 86,
    "start_time": "2021-12-18T19:58:23.044Z"
   },
   {
    "duration": 206,
    "start_time": "2021-12-18T19:58:25.105Z"
   },
   {
    "duration": 35,
    "start_time": "2021-12-18T19:58:27.263Z"
   },
   {
    "duration": 670,
    "start_time": "2021-12-18T20:01:47.789Z"
   },
   {
    "duration": 61,
    "start_time": "2021-12-18T20:01:48.461Z"
   },
   {
    "duration": 13,
    "start_time": "2021-12-18T20:01:48.524Z"
   },
   {
    "duration": 34,
    "start_time": "2021-12-18T20:01:48.540Z"
   },
   {
    "duration": 14,
    "start_time": "2021-12-18T20:01:48.576Z"
   },
   {
    "duration": 8,
    "start_time": "2021-12-18T20:01:48.592Z"
   },
   {
    "duration": 5,
    "start_time": "2021-12-18T20:01:48.601Z"
   },
   {
    "duration": 29,
    "start_time": "2021-12-18T20:01:48.608Z"
   },
   {
    "duration": 20,
    "start_time": "2021-12-18T20:02:18.178Z"
   },
   {
    "duration": 25,
    "start_time": "2021-12-18T20:02:29.509Z"
   },
   {
    "duration": 413,
    "start_time": "2021-12-18T20:04:31.056Z"
   },
   {
    "duration": 24,
    "start_time": "2021-12-18T20:06:08.867Z"
   },
   {
    "duration": 15,
    "start_time": "2021-12-18T20:06:29.293Z"
   },
   {
    "duration": 6,
    "start_time": "2021-12-18T20:18:37.828Z"
   },
   {
    "duration": 8,
    "start_time": "2021-12-18T20:18:50.975Z"
   },
   {
    "duration": 87,
    "start_time": "2021-12-18T20:23:58.806Z"
   },
   {
    "duration": 267,
    "start_time": "2021-12-18T20:24:16.081Z"
   },
   {
    "duration": 372,
    "start_time": "2021-12-18T20:25:20.677Z"
   },
   {
    "duration": 418,
    "start_time": "2021-12-18T20:25:56.237Z"
   },
   {
    "duration": 265,
    "start_time": "2021-12-18T20:26:50.410Z"
   },
   {
    "duration": 293,
    "start_time": "2021-12-18T20:29:05.160Z"
   },
   {
    "duration": 260,
    "start_time": "2021-12-18T20:29:54.412Z"
   },
   {
    "duration": 276,
    "start_time": "2021-12-18T20:32:28.541Z"
   },
   {
    "duration": 284,
    "start_time": "2021-12-18T20:33:00.619Z"
   },
   {
    "duration": 294,
    "start_time": "2021-12-18T20:35:46.475Z"
   },
   {
    "duration": 96,
    "start_time": "2021-12-18T20:36:00.089Z"
   },
   {
    "duration": 789,
    "start_time": "2021-12-18T20:36:13.108Z"
   },
   {
    "duration": 7075,
    "start_time": "2021-12-18T20:36:24.559Z"
   },
   {
    "duration": 7459,
    "start_time": "2021-12-18T20:36:32.769Z"
   },
   {
    "duration": 791,
    "start_time": "2021-12-18T20:37:00.721Z"
   },
   {
    "duration": 738,
    "start_time": "2021-12-18T20:42:45.852Z"
   },
   {
    "duration": 868,
    "start_time": "2021-12-18T20:43:30.547Z"
   },
   {
    "duration": 884,
    "start_time": "2021-12-18T20:43:45.214Z"
   },
   {
    "duration": 800,
    "start_time": "2021-12-18T20:45:13.084Z"
   },
   {
    "duration": 573,
    "start_time": "2021-12-18T20:46:30.065Z"
   },
   {
    "duration": 1191,
    "start_time": "2021-12-18T20:46:56.473Z"
   },
   {
    "duration": 1201,
    "start_time": "2021-12-18T20:47:12.984Z"
   },
   {
    "duration": 1271,
    "start_time": "2021-12-18T20:49:01.337Z"
   },
   {
    "duration": 1269,
    "start_time": "2021-12-18T20:50:22.113Z"
   },
   {
    "duration": 1303,
    "start_time": "2021-12-18T20:51:54.382Z"
   },
   {
    "duration": 1343,
    "start_time": "2021-12-18T20:52:34.221Z"
   },
   {
    "duration": 1204,
    "start_time": "2021-12-18T20:53:45.113Z"
   },
   {
    "duration": 1183,
    "start_time": "2021-12-18T20:54:06.213Z"
   },
   {
    "duration": 1185,
    "start_time": "2021-12-18T20:54:17.827Z"
   },
   {
    "duration": 1181,
    "start_time": "2021-12-18T20:55:10.099Z"
   },
   {
    "duration": 1188,
    "start_time": "2021-12-18T20:55:38.035Z"
   },
   {
    "duration": 1346,
    "start_time": "2021-12-18T20:56:25.935Z"
   },
   {
    "duration": 1466,
    "start_time": "2021-12-18T20:56:30.541Z"
   },
   {
    "duration": 1238,
    "start_time": "2021-12-18T20:57:42.644Z"
   },
   {
    "duration": 1237,
    "start_time": "2021-12-18T20:57:53.878Z"
   },
   {
    "duration": 1237,
    "start_time": "2021-12-18T20:58:22.088Z"
   },
   {
    "duration": 1123,
    "start_time": "2021-12-18T20:59:03.290Z"
   },
   {
    "duration": 1350,
    "start_time": "2021-12-18T20:59:18.129Z"
   },
   {
    "duration": 1196,
    "start_time": "2021-12-18T20:59:25.938Z"
   },
   {
    "duration": 797,
    "start_time": "2021-12-19T08:09:47.093Z"
   },
   {
    "duration": 64,
    "start_time": "2021-12-19T08:09:47.893Z"
   },
   {
    "duration": 20,
    "start_time": "2021-12-19T08:09:47.960Z"
   },
   {
    "duration": 50,
    "start_time": "2021-12-19T08:09:47.984Z"
   },
   {
    "duration": 27,
    "start_time": "2021-12-19T08:09:48.037Z"
   },
   {
    "duration": 16,
    "start_time": "2021-12-19T08:09:48.068Z"
   },
   {
    "duration": 398,
    "start_time": "2021-12-19T08:09:48.086Z"
   },
   {
    "duration": -60,
    "start_time": "2021-12-19T08:09:48.547Z"
   },
   {
    "duration": 6034,
    "start_time": "2021-12-19T08:10:04.765Z"
   },
   {
    "duration": 5249,
    "start_time": "2021-12-19T08:10:21.334Z"
   },
   {
    "duration": 7022,
    "start_time": "2021-12-19T08:10:28.765Z"
   },
   {
    "duration": 10,
    "start_time": "2021-12-19T08:11:00.702Z"
   },
   {
    "duration": 9,
    "start_time": "2021-12-19T08:28:35.595Z"
   },
   {
    "duration": 151,
    "start_time": "2021-12-19T09:12:39.834Z"
   },
   {
    "duration": 737,
    "start_time": "2021-12-19T09:13:04.653Z"
   },
   {
    "duration": 65,
    "start_time": "2021-12-19T09:13:05.393Z"
   },
   {
    "duration": 14,
    "start_time": "2021-12-19T09:13:05.462Z"
   },
   {
    "duration": 27,
    "start_time": "2021-12-19T09:13:05.479Z"
   },
   {
    "duration": 11,
    "start_time": "2021-12-19T09:13:05.509Z"
   },
   {
    "duration": 46,
    "start_time": "2021-12-19T09:13:05.522Z"
   },
   {
    "duration": 13,
    "start_time": "2021-12-19T09:13:05.571Z"
   },
   {
    "duration": 17,
    "start_time": "2021-12-19T09:13:05.587Z"
   },
   {
    "duration": 186,
    "start_time": "2021-12-19T09:13:05.607Z"
   },
   {
    "duration": 370,
    "start_time": "2021-12-19T09:14:48.650Z"
   },
   {
    "duration": 5,
    "start_time": "2021-12-19T09:15:41.745Z"
   },
   {
    "duration": 314,
    "start_time": "2021-12-19T09:16:05.091Z"
   },
   {
    "duration": 6,
    "start_time": "2021-12-19T09:16:34.885Z"
   },
   {
    "duration": 9,
    "start_time": "2021-12-19T09:17:04.447Z"
   },
   {
    "duration": 19,
    "start_time": "2021-12-19T09:18:28.388Z"
   },
   {
    "duration": 9,
    "start_time": "2021-12-19T09:21:15.356Z"
   },
   {
    "duration": 9,
    "start_time": "2021-12-19T09:22:04.618Z"
   },
   {
    "duration": 10,
    "start_time": "2021-12-19T09:22:30.006Z"
   },
   {
    "duration": 278,
    "start_time": "2021-12-19T09:23:10.136Z"
   },
   {
    "duration": 26,
    "start_time": "2021-12-19T09:23:56.642Z"
   },
   {
    "duration": 23,
    "start_time": "2021-12-19T09:24:24.838Z"
   },
   {
    "duration": 8,
    "start_time": "2021-12-19T09:24:49.417Z"
   },
   {
    "duration": 10,
    "start_time": "2021-12-19T09:25:01.332Z"
   },
   {
    "duration": 8,
    "start_time": "2021-12-19T09:25:20.777Z"
   },
   {
    "duration": 11,
    "start_time": "2021-12-19T09:25:36.326Z"
   },
   {
    "duration": 11,
    "start_time": "2021-12-19T09:26:07.236Z"
   },
   {
    "duration": 25,
    "start_time": "2021-12-19T09:27:27.641Z"
   },
   {
    "duration": 24,
    "start_time": "2021-12-19T09:27:39.385Z"
   },
   {
    "duration": 22,
    "start_time": "2021-12-19T09:27:48.347Z"
   },
   {
    "duration": 23,
    "start_time": "2021-12-19T09:27:56.425Z"
   },
   {
    "duration": 39,
    "start_time": "2021-12-19T09:28:45.269Z"
   },
   {
    "duration": 51,
    "start_time": "2021-12-19T09:29:26.188Z"
   },
   {
    "duration": 23,
    "start_time": "2021-12-19T09:29:50.437Z"
   },
   {
    "duration": 48,
    "start_time": "2021-12-19T09:33:09.869Z"
   },
   {
    "duration": 42,
    "start_time": "2021-12-19T09:33:17.259Z"
   },
   {
    "duration": 42,
    "start_time": "2021-12-19T09:34:36.671Z"
   },
   {
    "duration": 10,
    "start_time": "2021-12-19T09:34:43.528Z"
   },
   {
    "duration": 14,
    "start_time": "2021-12-19T09:37:22.601Z"
   },
   {
    "duration": 313,
    "start_time": "2021-12-19T09:37:24.207Z"
   },
   {
    "duration": 296,
    "start_time": "2021-12-19T09:38:28.737Z"
   },
   {
    "duration": 285,
    "start_time": "2021-12-19T09:39:18.390Z"
   },
   {
    "duration": 291,
    "start_time": "2021-12-19T09:41:44.901Z"
   },
   {
    "duration": 109,
    "start_time": "2021-12-19T09:53:14.313Z"
   },
   {
    "duration": 8323,
    "start_time": "2021-12-19T09:53:18.960Z"
   },
   {
    "duration": 7856,
    "start_time": "2021-12-19T09:55:44.257Z"
   },
   {
    "duration": 7667,
    "start_time": "2021-12-19T09:59:41.589Z"
   },
   {
    "duration": 11156,
    "start_time": "2021-12-19T10:01:42.283Z"
   },
   {
    "duration": 11780,
    "start_time": "2021-12-19T10:02:08.597Z"
   },
   {
    "duration": 55,
    "start_time": "2021-12-19T10:03:35.121Z"
   },
   {
    "duration": 786,
    "start_time": "2021-12-19T10:03:41.627Z"
   },
   {
    "duration": 68,
    "start_time": "2021-12-19T10:03:42.416Z"
   },
   {
    "duration": 15,
    "start_time": "2021-12-19T10:03:42.487Z"
   },
   {
    "duration": 27,
    "start_time": "2021-12-19T10:03:42.505Z"
   },
   {
    "duration": 38,
    "start_time": "2021-12-19T10:03:42.534Z"
   },
   {
    "duration": 21,
    "start_time": "2021-12-19T10:03:42.575Z"
   },
   {
    "duration": 20,
    "start_time": "2021-12-19T10:03:42.599Z"
   },
   {
    "duration": 15,
    "start_time": "2021-12-19T10:03:42.623Z"
   },
   {
    "duration": 36,
    "start_time": "2021-12-19T10:03:42.641Z"
   },
   {
    "duration": 27,
    "start_time": "2021-12-19T10:03:42.679Z"
   },
   {
    "duration": 18,
    "start_time": "2021-12-19T10:03:42.709Z"
   },
   {
    "duration": 37,
    "start_time": "2021-12-19T10:03:42.730Z"
   },
   {
    "duration": 40,
    "start_time": "2021-12-19T10:03:42.770Z"
   },
   {
    "duration": 59,
    "start_time": "2021-12-19T10:03:42.812Z"
   },
   {
    "duration": 11,
    "start_time": "2021-12-19T10:03:42.874Z"
   },
   {
    "duration": 28,
    "start_time": "2021-12-19T10:03:42.887Z"
   },
   {
    "duration": 52914,
    "start_time": "2021-12-19T10:03:42.918Z"
   },
   {
    "duration": 7,
    "start_time": "2021-12-19T10:04:35.835Z"
   },
   {
    "duration": 26,
    "start_time": "2021-12-19T10:04:51.266Z"
   },
   {
    "duration": 71,
    "start_time": "2021-12-19T10:05:42.115Z"
   },
   {
    "duration": 731,
    "start_time": "2021-12-19T10:05:49.690Z"
   },
   {
    "duration": 68,
    "start_time": "2021-12-19T10:05:50.424Z"
   },
   {
    "duration": 16,
    "start_time": "2021-12-19T10:05:50.496Z"
   },
   {
    "duration": 47,
    "start_time": "2021-12-19T10:05:50.516Z"
   },
   {
    "duration": 15,
    "start_time": "2021-12-19T10:05:50.565Z"
   },
   {
    "duration": 10,
    "start_time": "2021-12-19T10:05:50.583Z"
   },
   {
    "duration": 9,
    "start_time": "2021-12-19T10:05:50.596Z"
   },
   {
    "duration": 57,
    "start_time": "2021-12-19T10:05:50.607Z"
   },
   {
    "duration": 18,
    "start_time": "2021-12-19T10:05:50.668Z"
   },
   {
    "duration": 7,
    "start_time": "2021-12-19T10:05:50.689Z"
   },
   {
    "duration": 10,
    "start_time": "2021-12-19T10:05:50.698Z"
   },
   {
    "duration": 60,
    "start_time": "2021-12-19T10:05:50.711Z"
   },
   {
    "duration": 26,
    "start_time": "2021-12-19T10:05:50.773Z"
   },
   {
    "duration": 69,
    "start_time": "2021-12-19T10:05:50.801Z"
   },
   {
    "duration": 9,
    "start_time": "2021-12-19T10:05:50.873Z"
   },
   {
    "duration": 11,
    "start_time": "2021-12-19T10:05:50.885Z"
   },
   {
    "duration": 50468,
    "start_time": "2021-12-19T10:05:50.898Z"
   },
   {
    "duration": 18,
    "start_time": "2021-12-19T10:06:41.368Z"
   },
   {
    "duration": 477,
    "start_time": "2021-12-19T10:08:21.326Z"
   },
   {
    "duration": 13,
    "start_time": "2021-12-19T10:10:08.892Z"
   },
   {
    "duration": 10,
    "start_time": "2021-12-19T10:11:25.828Z"
   },
   {
    "duration": 779,
    "start_time": "2021-12-19T12:06:39.696Z"
   },
   {
    "duration": 174,
    "start_time": "2021-12-19T12:06:40.484Z"
   },
   {
    "duration": 45,
    "start_time": "2021-12-19T12:06:40.676Z"
   },
   {
    "duration": 98,
    "start_time": "2021-12-19T12:06:40.740Z"
   },
   {
    "duration": 35,
    "start_time": "2021-12-19T12:06:40.851Z"
   },
   {
    "duration": 44,
    "start_time": "2021-12-19T12:06:40.895Z"
   },
   {
    "duration": 11,
    "start_time": "2021-12-19T12:06:40.941Z"
   },
   {
    "duration": 19,
    "start_time": "2021-12-19T12:06:40.957Z"
   },
   {
    "duration": 25,
    "start_time": "2021-12-19T12:06:40.979Z"
   },
   {
    "duration": 9,
    "start_time": "2021-12-19T12:06:41.006Z"
   },
   {
    "duration": 9,
    "start_time": "2021-12-19T12:06:41.017Z"
   },
   {
    "duration": 25,
    "start_time": "2021-12-19T12:06:41.064Z"
   },
   {
    "duration": 27,
    "start_time": "2021-12-19T12:06:41.091Z"
   },
   {
    "duration": 79,
    "start_time": "2021-12-19T12:06:41.120Z"
   },
   {
    "duration": 10,
    "start_time": "2021-12-19T12:06:41.201Z"
   },
   {
    "duration": 29,
    "start_time": "2021-12-19T12:06:41.214Z"
   },
   {
    "duration": 52709,
    "start_time": "2021-12-19T12:06:41.246Z"
   },
   {
    "duration": 20,
    "start_time": "2021-12-19T12:07:33.958Z"
   },
   {
    "duration": 14,
    "start_time": "2021-12-19T12:07:33.981Z"
   },
   {
    "duration": 2135,
    "start_time": "2021-12-19T12:21:12.255Z"
   },
   {
    "duration": 2491,
    "start_time": "2021-12-19T12:21:58.580Z"
   },
   {
    "duration": 1357,
    "start_time": "2021-12-19T12:22:13.069Z"
   },
   {
    "duration": 608,
    "start_time": "2021-12-19T12:22:51.068Z"
   },
   {
    "duration": 603,
    "start_time": "2021-12-19T12:22:59.166Z"
   },
   {
    "duration": 582,
    "start_time": "2021-12-19T12:23:11.957Z"
   },
   {
    "duration": 27,
    "start_time": "2021-12-19T12:24:42.005Z"
   },
   {
    "duration": 19,
    "start_time": "2021-12-19T12:25:10.571Z"
   },
   {
    "duration": 2171,
    "start_time": "2021-12-19T12:25:50.288Z"
   },
   {
    "duration": 26,
    "start_time": "2021-12-19T12:25:59.446Z"
   },
   {
    "duration": 9,
    "start_time": "2021-12-19T12:26:23.045Z"
   },
   {
    "duration": 20,
    "start_time": "2021-12-19T12:26:44.224Z"
   },
   {
    "duration": 17,
    "start_time": "2021-12-19T12:26:46.707Z"
   },
   {
    "duration": 9284,
    "start_time": "2021-12-19T12:41:42.984Z"
   },
   {
    "duration": 3050,
    "start_time": "2021-12-19T12:43:14.598Z"
   },
   {
    "duration": 11,
    "start_time": "2021-12-19T12:43:21.717Z"
   },
   {
    "duration": 19,
    "start_time": "2021-12-19T12:50:38.025Z"
   },
   {
    "duration": 20,
    "start_time": "2021-12-19T12:51:08.132Z"
   },
   {
    "duration": 19,
    "start_time": "2021-12-19T12:57:40.002Z"
   },
   {
    "duration": 709,
    "start_time": "2021-12-19T16:11:26.020Z"
   },
   {
    "duration": 64,
    "start_time": "2021-12-19T16:11:26.732Z"
   },
   {
    "duration": 15,
    "start_time": "2021-12-19T16:11:26.799Z"
   },
   {
    "duration": 27,
    "start_time": "2021-12-19T16:11:26.817Z"
   },
   {
    "duration": 13,
    "start_time": "2021-12-19T16:11:26.862Z"
   },
   {
    "duration": 12,
    "start_time": "2021-12-19T16:11:26.877Z"
   },
   {
    "duration": 12,
    "start_time": "2021-12-19T16:11:26.891Z"
   },
   {
    "duration": 58,
    "start_time": "2021-12-19T16:11:26.908Z"
   },
   {
    "duration": 20,
    "start_time": "2021-12-19T16:11:26.970Z"
   },
   {
    "duration": 9,
    "start_time": "2021-12-19T16:11:26.993Z"
   },
   {
    "duration": 10,
    "start_time": "2021-12-19T16:11:27.004Z"
   },
   {
    "duration": 66,
    "start_time": "2021-12-19T16:11:27.017Z"
   },
   {
    "duration": 24,
    "start_time": "2021-12-19T16:11:27.086Z"
   },
   {
    "duration": 67,
    "start_time": "2021-12-19T16:11:27.112Z"
   },
   {
    "duration": 9,
    "start_time": "2021-12-19T16:11:27.182Z"
   },
   {
    "duration": 11,
    "start_time": "2021-12-19T16:11:27.193Z"
   },
   {
    "duration": 54099,
    "start_time": "2021-12-19T16:11:27.207Z"
   },
   {
    "duration": 20,
    "start_time": "2021-12-19T16:12:21.308Z"
   },
   {
    "duration": 34,
    "start_time": "2021-12-19T16:12:21.331Z"
   },
   {
    "duration": 20,
    "start_time": "2021-12-19T16:12:21.367Z"
   },
   {
    "duration": 11,
    "start_time": "2021-12-19T16:12:21.389Z"
   },
   {
    "duration": 12,
    "start_time": "2021-12-19T16:12:21.402Z"
   },
   {
    "duration": 56,
    "start_time": "2021-12-19T16:12:21.419Z"
   },
   {
    "duration": 20,
    "start_time": "2021-12-19T16:12:21.478Z"
   },
   {
    "duration": 15,
    "start_time": "2021-12-19T18:46:55.042Z"
   },
   {
    "duration": 6,
    "start_time": "2021-12-19T18:47:26.972Z"
   },
   {
    "duration": 476,
    "start_time": "2021-12-19T18:48:02.979Z"
   },
   {
    "duration": 32,
    "start_time": "2021-12-19T18:48:29.753Z"
   },
   {
    "duration": 19,
    "start_time": "2021-12-19T18:49:59.660Z"
   },
   {
    "duration": 16,
    "start_time": "2021-12-19T18:54:10.145Z"
   },
   {
    "duration": 21,
    "start_time": "2021-12-19T18:54:33.877Z"
   },
   {
    "duration": 298,
    "start_time": "2021-12-19T18:58:25.525Z"
   },
   {
    "duration": 292,
    "start_time": "2021-12-19T18:58:34.350Z"
   },
   {
    "duration": 318,
    "start_time": "2021-12-19T18:59:06.151Z"
   },
   {
    "duration": 530,
    "start_time": "2021-12-19T18:59:16.814Z"
   },
   {
    "duration": 1384,
    "start_time": "2021-12-19T18:59:35.033Z"
   },
   {
    "duration": 942,
    "start_time": "2021-12-19T18:59:51.463Z"
   },
   {
    "duration": 297,
    "start_time": "2021-12-19T19:00:07.810Z"
   },
   {
    "duration": 303,
    "start_time": "2021-12-19T19:00:22.200Z"
   },
   {
    "duration": 4823,
    "start_time": "2021-12-19T19:00:41.623Z"
   },
   {
    "duration": 296,
    "start_time": "2021-12-19T19:01:21.642Z"
   },
   {
    "duration": 20,
    "start_time": "2021-12-19T19:03:11.309Z"
   },
   {
    "duration": 14,
    "start_time": "2021-12-19T19:04:35.513Z"
   },
   {
    "duration": 22,
    "start_time": "2021-12-19T19:04:39.843Z"
   },
   {
    "duration": 25,
    "start_time": "2021-12-19T19:07:32.728Z"
   },
   {
    "duration": 25,
    "start_time": "2021-12-19T19:07:35.483Z"
   },
   {
    "duration": 17,
    "start_time": "2021-12-19T19:07:39.193Z"
   },
   {
    "duration": 26,
    "start_time": "2021-12-19T19:15:09.509Z"
   },
   {
    "duration": 835,
    "start_time": "2021-12-19T19:20:02.657Z"
   },
   {
    "duration": 1054,
    "start_time": "2021-12-19T19:22:43.870Z"
   },
   {
    "duration": 400,
    "start_time": "2021-12-19T19:23:17.462Z"
   },
   {
    "duration": 628,
    "start_time": "2021-12-19T19:23:27.102Z"
   },
   {
    "duration": 364,
    "start_time": "2021-12-19T19:28:37.575Z"
   },
   {
    "duration": 338,
    "start_time": "2021-12-19T19:32:37.033Z"
   },
   {
    "duration": 323,
    "start_time": "2021-12-19T19:33:03.306Z"
   },
   {
    "duration": 296,
    "start_time": "2021-12-19T19:33:20.786Z"
   },
   {
    "duration": 7445,
    "start_time": "2021-12-19T19:34:11.746Z"
   },
   {
    "duration": 587,
    "start_time": "2021-12-19T19:36:17.187Z"
   },
   {
    "duration": 298,
    "start_time": "2021-12-19T19:37:06.202Z"
   },
   {
    "duration": 296,
    "start_time": "2021-12-19T19:37:45.226Z"
   },
   {
    "duration": 7576,
    "start_time": "2021-12-19T19:38:09.773Z"
   },
   {
    "duration": 717,
    "start_time": "2021-12-19T19:40:42.549Z"
   },
   {
    "duration": 6,
    "start_time": "2021-12-19T19:41:03.328Z"
   },
   {
    "duration": 12,
    "start_time": "2021-12-19T19:41:22.172Z"
   },
   {
    "duration": 896,
    "start_time": "2021-12-19T19:41:36.136Z"
   },
   {
    "duration": 550,
    "start_time": "2021-12-19T19:45:15.326Z"
   },
   {
    "duration": 9,
    "start_time": "2021-12-19T20:01:50.914Z"
   },
   {
    "duration": 12,
    "start_time": "2021-12-19T20:04:00.484Z"
   },
   {
    "duration": 13,
    "start_time": "2021-12-19T20:04:18.902Z"
   },
   {
    "duration": 678,
    "start_time": "2021-12-19T20:11:43.710Z"
   },
   {
    "duration": 930,
    "start_time": "2021-12-19T20:13:11.871Z"
   },
   {
    "duration": 516,
    "start_time": "2021-12-19T20:13:36.152Z"
   },
   {
    "duration": 13,
    "start_time": "2021-12-19T20:13:42.039Z"
   },
   {
    "duration": 12,
    "start_time": "2021-12-19T20:14:06.050Z"
   },
   {
    "duration": 40,
    "start_time": "2021-12-19T20:18:30.094Z"
   },
   {
    "duration": 69,
    "start_time": "2021-12-19T20:19:00.426Z"
   },
   {
    "duration": 18,
    "start_time": "2021-12-19T20:19:25.258Z"
   },
   {
    "duration": 699,
    "start_time": "2021-12-19T20:19:57.212Z"
   },
   {
    "duration": 1294,
    "start_time": "2021-12-19T20:20:20.666Z"
   },
   {
    "duration": 945,
    "start_time": "2021-12-19T20:22:20.038Z"
   },
   {
    "duration": 986,
    "start_time": "2021-12-19T20:22:34.309Z"
   },
   {
    "duration": 86,
    "start_time": "2021-12-19T20:22:35.297Z"
   },
   {
    "duration": 22,
    "start_time": "2021-12-19T20:22:35.388Z"
   },
   {
    "duration": 57,
    "start_time": "2021-12-19T20:22:35.413Z"
   },
   {
    "duration": 22,
    "start_time": "2021-12-19T20:22:35.473Z"
   },
   {
    "duration": 10,
    "start_time": "2021-12-19T20:22:35.497Z"
   },
   {
    "duration": 53,
    "start_time": "2021-12-19T20:22:35.510Z"
   },
   {
    "duration": 21,
    "start_time": "2021-12-19T20:22:35.566Z"
   },
   {
    "duration": 26,
    "start_time": "2021-12-19T20:22:35.593Z"
   },
   {
    "duration": 41,
    "start_time": "2021-12-19T20:22:35.623Z"
   },
   {
    "duration": 11,
    "start_time": "2021-12-19T20:22:35.667Z"
   },
   {
    "duration": 25,
    "start_time": "2021-12-19T20:22:35.681Z"
   },
   {
    "duration": 74,
    "start_time": "2021-12-19T20:22:35.708Z"
   },
   {
    "duration": 79,
    "start_time": "2021-12-19T20:22:35.786Z"
   },
   {
    "duration": 15,
    "start_time": "2021-12-19T20:22:35.868Z"
   },
   {
    "duration": 10,
    "start_time": "2021-12-19T20:22:35.886Z"
   },
   {
    "duration": 58992,
    "start_time": "2021-12-19T20:22:35.899Z"
   },
   {
    "duration": 20,
    "start_time": "2021-12-19T20:23:34.894Z"
   },
   {
    "duration": 20,
    "start_time": "2021-12-19T20:23:34.917Z"
   },
   {
    "duration": 37,
    "start_time": "2021-12-19T20:23:34.940Z"
   },
   {
    "duration": 19,
    "start_time": "2021-12-19T20:23:34.980Z"
   },
   {
    "duration": 35,
    "start_time": "2021-12-19T20:23:35.002Z"
   },
   {
    "duration": 28,
    "start_time": "2021-12-19T20:23:35.040Z"
   },
   {
    "duration": 24,
    "start_time": "2021-12-19T20:23:35.070Z"
   },
   {
    "duration": 22,
    "start_time": "2021-12-19T20:23:35.096Z"
   },
   {
    "duration": 54,
    "start_time": "2021-12-19T20:23:35.121Z"
   },
   {
    "duration": 25,
    "start_time": "2021-12-19T20:23:35.182Z"
   },
   {
    "duration": 15,
    "start_time": "2021-12-19T20:23:35.210Z"
   },
   {
    "duration": 1018,
    "start_time": "2021-12-19T20:23:35.228Z"
   },
   {
    "duration": 20,
    "start_time": "2021-12-19T20:23:36.249Z"
   },
   {
    "duration": 23,
    "start_time": "2021-12-19T20:23:36.271Z"
   },
   {
    "duration": 14,
    "start_time": "2021-12-19T20:23:36.297Z"
   },
   {
    "duration": 10,
    "start_time": "2021-12-19T20:23:36.314Z"
   },
   {
    "duration": 706,
    "start_time": "2021-12-19T20:24:26.829Z"
   },
   {
    "duration": 5,
    "start_time": "2021-12-19T20:36:33.088Z"
   },
   {
    "duration": 27,
    "start_time": "2021-12-19T20:37:09.878Z"
   },
   {
    "duration": 21,
    "start_time": "2021-12-19T20:37:51.994Z"
   },
   {
    "duration": 20,
    "start_time": "2021-12-19T20:39:18.793Z"
   },
   {
    "duration": 830,
    "start_time": "2021-12-20T09:55:12.242Z"
   },
   {
    "duration": 67,
    "start_time": "2021-12-20T09:55:13.074Z"
   },
   {
    "duration": 15,
    "start_time": "2021-12-20T09:55:13.144Z"
   },
   {
    "duration": 25,
    "start_time": "2021-12-20T09:55:13.162Z"
   },
   {
    "duration": 12,
    "start_time": "2021-12-20T09:55:13.189Z"
   },
   {
    "duration": 9,
    "start_time": "2021-12-20T09:55:13.204Z"
   },
   {
    "duration": 46,
    "start_time": "2021-12-20T09:55:13.215Z"
   },
   {
    "duration": 16,
    "start_time": "2021-12-20T09:55:13.263Z"
   },
   {
    "duration": 17,
    "start_time": "2021-12-20T09:55:13.285Z"
   },
   {
    "duration": 7,
    "start_time": "2021-12-20T09:55:13.305Z"
   },
   {
    "duration": 65,
    "start_time": "2021-12-20T09:55:13.315Z"
   },
   {
    "duration": 10,
    "start_time": "2021-12-20T09:55:13.384Z"
   },
   {
    "duration": 33,
    "start_time": "2021-12-20T09:55:13.396Z"
   },
   {
    "duration": 23,
    "start_time": "2021-12-20T09:55:13.459Z"
   },
   {
    "duration": 41,
    "start_time": "2021-12-20T09:55:13.484Z"
   },
   {
    "duration": 33,
    "start_time": "2021-12-20T09:55:13.528Z"
   },
   {
    "duration": 27,
    "start_time": "2021-12-20T09:55:13.563Z"
   },
   {
    "duration": 2830,
    "start_time": "2021-12-20T09:55:13.592Z"
   },
   {
    "duration": -5,
    "start_time": "2021-12-20T09:55:16.432Z"
   },
   {
    "duration": -7,
    "start_time": "2021-12-20T09:55:16.435Z"
   },
   {
    "duration": -9,
    "start_time": "2021-12-20T09:55:16.439Z"
   },
   {
    "duration": -10,
    "start_time": "2021-12-20T09:55:16.442Z"
   },
   {
    "duration": -12,
    "start_time": "2021-12-20T09:55:16.445Z"
   },
   {
    "duration": -13,
    "start_time": "2021-12-20T09:55:16.448Z"
   },
   {
    "duration": -14,
    "start_time": "2021-12-20T09:55:16.451Z"
   },
   {
    "duration": -15,
    "start_time": "2021-12-20T09:55:16.454Z"
   },
   {
    "duration": -16,
    "start_time": "2021-12-20T09:55:16.457Z"
   },
   {
    "duration": -18,
    "start_time": "2021-12-20T09:55:16.460Z"
   },
   {
    "duration": -19,
    "start_time": "2021-12-20T09:55:16.463Z"
   },
   {
    "duration": -20,
    "start_time": "2021-12-20T09:55:16.466Z"
   },
   {
    "duration": -21,
    "start_time": "2021-12-20T09:55:16.469Z"
   },
   {
    "duration": -23,
    "start_time": "2021-12-20T09:55:16.472Z"
   },
   {
    "duration": -23,
    "start_time": "2021-12-20T09:55:16.474Z"
   },
   {
    "duration": -30,
    "start_time": "2021-12-20T09:55:16.483Z"
   },
   {
    "duration": -34,
    "start_time": "2021-12-20T09:55:16.488Z"
   },
   {
    "duration": 1647,
    "start_time": "2021-12-20T10:11:17.651Z"
   },
   {
    "duration": 11,
    "start_time": "2021-12-20T10:11:36.108Z"
   },
   {
    "duration": 4,
    "start_time": "2021-12-20T10:11:43.337Z"
   },
   {
    "duration": 11676,
    "start_time": "2021-12-20T10:16:49.965Z"
   },
   {
    "duration": 2611,
    "start_time": "2021-12-20T10:17:11.905Z"
   },
   {
    "duration": 1507,
    "start_time": "2021-12-20T10:18:47.536Z"
   },
   {
    "duration": 1502,
    "start_time": "2021-12-20T10:20:52.786Z"
   },
   {
    "duration": 1512,
    "start_time": "2021-12-20T10:21:11.275Z"
   },
   {
    "duration": 397,
    "start_time": "2021-12-20T10:21:32.931Z"
   },
   {
    "duration": 372,
    "start_time": "2021-12-20T10:22:12.761Z"
   },
   {
    "duration": 730,
    "start_time": "2021-12-20T10:22:33.320Z"
   },
   {
    "duration": 870,
    "start_time": "2021-12-20T10:22:41.454Z"
   },
   {
    "duration": 139,
    "start_time": "2021-12-20T10:23:05.372Z"
   },
   {
    "duration": 534,
    "start_time": "2021-12-20T10:23:15.183Z"
   },
   {
    "duration": 17,
    "start_time": "2021-12-20T10:35:17.884Z"
   },
   {
    "duration": 395,
    "start_time": "2021-12-20T10:37:33.183Z"
   },
   {
    "duration": 14140,
    "start_time": "2021-12-20T10:38:00.203Z"
   },
   {
    "duration": 896,
    "start_time": "2021-12-20T10:39:49.120Z"
   },
   {
    "duration": 71,
    "start_time": "2021-12-20T10:39:50.019Z"
   },
   {
    "duration": 16,
    "start_time": "2021-12-20T10:39:50.093Z"
   },
   {
    "duration": 51,
    "start_time": "2021-12-20T10:39:50.113Z"
   },
   {
    "duration": 13,
    "start_time": "2021-12-20T10:39:50.166Z"
   },
   {
    "duration": 10,
    "start_time": "2021-12-20T10:39:50.182Z"
   },
   {
    "duration": 11,
    "start_time": "2021-12-20T10:39:50.195Z"
   },
   {
    "duration": 48,
    "start_time": "2021-12-20T10:39:50.212Z"
   },
   {
    "duration": 19,
    "start_time": "2021-12-20T10:39:50.264Z"
   },
   {
    "duration": 7,
    "start_time": "2021-12-20T10:39:50.287Z"
   },
   {
    "duration": 24,
    "start_time": "2021-12-20T10:39:50.296Z"
   },
   {
    "duration": 43,
    "start_time": "2021-12-20T10:39:50.322Z"
   },
   {
    "duration": 32,
    "start_time": "2021-12-20T10:39:50.367Z"
   },
   {
    "duration": 20,
    "start_time": "2021-12-20T10:39:50.401Z"
   },
   {
    "duration": 67,
    "start_time": "2021-12-20T10:39:50.423Z"
   },
   {
    "duration": 10,
    "start_time": "2021-12-20T10:39:50.492Z"
   },
   {
    "duration": 20,
    "start_time": "2021-12-20T10:39:50.505Z"
   },
   {
    "duration": 31,
    "start_time": "2021-12-20T10:39:50.528Z"
   },
   {
    "duration": 1679,
    "start_time": "2021-12-20T10:39:50.562Z"
   },
   {
    "duration": -36,
    "start_time": "2021-12-20T10:39:52.281Z"
   },
   {
    "duration": -44,
    "start_time": "2021-12-20T10:39:52.290Z"
   },
   {
    "duration": -47,
    "start_time": "2021-12-20T10:39:52.295Z"
   },
   {
    "duration": -50,
    "start_time": "2021-12-20T10:39:52.299Z"
   },
   {
    "duration": -52,
    "start_time": "2021-12-20T10:39:52.303Z"
   },
   {
    "duration": -54,
    "start_time": "2021-12-20T10:39:52.306Z"
   },
   {
    "duration": -56,
    "start_time": "2021-12-20T10:39:52.310Z"
   },
   {
    "duration": -60,
    "start_time": "2021-12-20T10:39:52.315Z"
   },
   {
    "duration": -61,
    "start_time": "2021-12-20T10:39:52.318Z"
   },
   {
    "duration": -62,
    "start_time": "2021-12-20T10:39:52.320Z"
   },
   {
    "duration": -63,
    "start_time": "2021-12-20T10:39:52.323Z"
   },
   {
    "duration": -64,
    "start_time": "2021-12-20T10:39:52.325Z"
   },
   {
    "duration": -64,
    "start_time": "2021-12-20T10:39:52.327Z"
   },
   {
    "duration": -66,
    "start_time": "2021-12-20T10:39:52.330Z"
   },
   {
    "duration": -68,
    "start_time": "2021-12-20T10:39:52.333Z"
   },
   {
    "duration": -69,
    "start_time": "2021-12-20T10:39:52.336Z"
   },
   {
    "duration": -70,
    "start_time": "2021-12-20T10:39:52.339Z"
   },
   {
    "duration": 1589,
    "start_time": "2021-12-20T11:26:19.579Z"
   },
   {
    "duration": 3874,
    "start_time": "2021-12-20T11:31:21.215Z"
   },
   {
    "duration": 950,
    "start_time": "2021-12-20T11:32:59.804Z"
   },
   {
    "duration": 2346,
    "start_time": "2021-12-20T11:37:06.597Z"
   },
   {
    "duration": 4435,
    "start_time": "2021-12-20T11:39:29.363Z"
   },
   {
    "duration": 875,
    "start_time": "2021-12-20T11:39:41.029Z"
   },
   {
    "duration": 69,
    "start_time": "2021-12-20T11:39:41.908Z"
   },
   {
    "duration": 16,
    "start_time": "2021-12-20T11:39:41.980Z"
   },
   {
    "duration": 33,
    "start_time": "2021-12-20T11:39:41.999Z"
   },
   {
    "duration": 32,
    "start_time": "2021-12-20T11:39:42.034Z"
   },
   {
    "duration": 40,
    "start_time": "2021-12-20T11:39:42.068Z"
   },
   {
    "duration": 23,
    "start_time": "2021-12-20T11:39:42.110Z"
   },
   {
    "duration": 25,
    "start_time": "2021-12-20T11:39:42.135Z"
   },
   {
    "duration": 32,
    "start_time": "2021-12-20T11:39:42.164Z"
   },
   {
    "duration": 9,
    "start_time": "2021-12-20T11:39:42.199Z"
   },
   {
    "duration": 29,
    "start_time": "2021-12-20T11:39:42.210Z"
   },
   {
    "duration": 21,
    "start_time": "2021-12-20T11:39:42.242Z"
   },
   {
    "duration": 62,
    "start_time": "2021-12-20T11:39:42.266Z"
   },
   {
    "duration": 20,
    "start_time": "2021-12-20T11:39:42.332Z"
   },
   {
    "duration": 38,
    "start_time": "2021-12-20T11:39:42.354Z"
   },
   {
    "duration": 10,
    "start_time": "2021-12-20T11:39:42.395Z"
   },
   {
    "duration": 41,
    "start_time": "2021-12-20T11:39:42.407Z"
   },
   {
    "duration": 17,
    "start_time": "2021-12-20T11:39:42.451Z"
   },
   {
    "duration": 3444,
    "start_time": "2021-12-20T11:39:42.470Z"
   },
   {
    "duration": -24,
    "start_time": "2021-12-20T11:39:45.941Z"
   },
   {
    "duration": -27,
    "start_time": "2021-12-20T11:39:45.946Z"
   },
   {
    "duration": -30,
    "start_time": "2021-12-20T11:39:45.951Z"
   },
   {
    "duration": -33,
    "start_time": "2021-12-20T11:39:45.955Z"
   },
   {
    "duration": -34,
    "start_time": "2021-12-20T11:39:45.958Z"
   },
   {
    "duration": -37,
    "start_time": "2021-12-20T11:39:45.962Z"
   },
   {
    "duration": -37,
    "start_time": "2021-12-20T11:39:45.964Z"
   },
   {
    "duration": -38,
    "start_time": "2021-12-20T11:39:45.967Z"
   },
   {
    "duration": -38,
    "start_time": "2021-12-20T11:39:45.969Z"
   },
   {
    "duration": -40,
    "start_time": "2021-12-20T11:39:45.972Z"
   },
   {
    "duration": -41,
    "start_time": "2021-12-20T11:39:45.975Z"
   },
   {
    "duration": -42,
    "start_time": "2021-12-20T11:39:45.978Z"
   },
   {
    "duration": -43,
    "start_time": "2021-12-20T11:39:45.980Z"
   },
   {
    "duration": -50,
    "start_time": "2021-12-20T11:39:45.989Z"
   },
   {
    "duration": -52,
    "start_time": "2021-12-20T11:39:45.993Z"
   },
   {
    "duration": -53,
    "start_time": "2021-12-20T11:39:45.996Z"
   },
   {
    "duration": -55,
    "start_time": "2021-12-20T11:39:45.999Z"
   },
   {
    "duration": 1902,
    "start_time": "2021-12-20T11:43:24.175Z"
   },
   {
    "duration": 5,
    "start_time": "2021-12-20T11:49:14.736Z"
   },
   {
    "duration": 1859,
    "start_time": "2021-12-20T11:49:32.336Z"
   },
   {
    "duration": 2538,
    "start_time": "2021-12-20T11:49:52.649Z"
   },
   {
    "duration": 17,
    "start_time": "2021-12-20T11:50:01.358Z"
   },
   {
    "duration": 794,
    "start_time": "2021-12-20T11:52:58.429Z"
   },
   {
    "duration": 68,
    "start_time": "2021-12-20T11:52:59.226Z"
   },
   {
    "duration": 16,
    "start_time": "2021-12-20T11:52:59.297Z"
   },
   {
    "duration": 46,
    "start_time": "2021-12-20T11:52:59.316Z"
   },
   {
    "duration": 13,
    "start_time": "2021-12-20T11:52:59.364Z"
   },
   {
    "duration": 9,
    "start_time": "2021-12-20T11:52:59.380Z"
   },
   {
    "duration": 15,
    "start_time": "2021-12-20T11:52:59.392Z"
   },
   {
    "duration": 50,
    "start_time": "2021-12-20T11:52:59.409Z"
   },
   {
    "duration": 19,
    "start_time": "2021-12-20T11:52:59.463Z"
   },
   {
    "duration": 10,
    "start_time": "2021-12-20T11:52:59.486Z"
   },
   {
    "duration": 17,
    "start_time": "2021-12-20T11:52:59.499Z"
   },
   {
    "duration": 46,
    "start_time": "2021-12-20T11:52:59.518Z"
   },
   {
    "duration": 28,
    "start_time": "2021-12-20T11:52:59.566Z"
   },
   {
    "duration": 30,
    "start_time": "2021-12-20T11:52:59.596Z"
   },
   {
    "duration": 75,
    "start_time": "2021-12-20T11:52:59.629Z"
   },
   {
    "duration": 11,
    "start_time": "2021-12-20T11:52:59.707Z"
   },
   {
    "duration": 46,
    "start_time": "2021-12-20T11:52:59.720Z"
   },
   {
    "duration": 10,
    "start_time": "2021-12-20T11:52:59.768Z"
   },
   {
    "duration": 5267,
    "start_time": "2021-12-20T11:52:59.781Z"
   },
   {
    "duration": 3,
    "start_time": "2021-12-20T11:53:05.060Z"
   },
   {
    "duration": 9640,
    "start_time": "2021-12-20T11:53:05.066Z"
   },
   {
    "duration": -91,
    "start_time": "2021-12-20T11:53:14.801Z"
   },
   {
    "duration": -90,
    "start_time": "2021-12-20T11:53:14.805Z"
   },
   {
    "duration": -90,
    "start_time": "2021-12-20T11:53:14.807Z"
   },
   {
    "duration": -90,
    "start_time": "2021-12-20T11:53:14.810Z"
   },
   {
    "duration": -90,
    "start_time": "2021-12-20T11:53:14.812Z"
   },
   {
    "duration": -90,
    "start_time": "2021-12-20T11:53:14.814Z"
   },
   {
    "duration": -91,
    "start_time": "2021-12-20T11:53:14.817Z"
   },
   {
    "duration": -93,
    "start_time": "2021-12-20T11:53:14.821Z"
   },
   {
    "duration": -94,
    "start_time": "2021-12-20T11:53:14.825Z"
   },
   {
    "duration": -96,
    "start_time": "2021-12-20T11:53:14.829Z"
   },
   {
    "duration": -96,
    "start_time": "2021-12-20T11:53:14.832Z"
   },
   {
    "duration": -96,
    "start_time": "2021-12-20T11:53:14.834Z"
   },
   {
    "duration": -97,
    "start_time": "2021-12-20T11:53:14.837Z"
   },
   {
    "duration": -97,
    "start_time": "2021-12-20T11:53:14.839Z"
   },
   {
    "duration": -98,
    "start_time": "2021-12-20T11:53:14.842Z"
   },
   {
    "duration": 71,
    "start_time": "2021-12-20T11:53:27.821Z"
   },
   {
    "duration": 25,
    "start_time": "2021-12-20T11:53:54.575Z"
   },
   {
    "duration": 11,
    "start_time": "2021-12-20T11:54:01.496Z"
   },
   {
    "duration": 864,
    "start_time": "2021-12-20T11:54:10.484Z"
   },
   {
    "duration": 68,
    "start_time": "2021-12-20T11:54:11.351Z"
   },
   {
    "duration": 14,
    "start_time": "2021-12-20T11:54:11.422Z"
   },
   {
    "duration": 44,
    "start_time": "2021-12-20T11:54:11.439Z"
   },
   {
    "duration": 15,
    "start_time": "2021-12-20T11:54:11.486Z"
   },
   {
    "duration": 10,
    "start_time": "2021-12-20T11:54:11.504Z"
   },
   {
    "duration": 49,
    "start_time": "2021-12-20T11:54:11.517Z"
   },
   {
    "duration": 15,
    "start_time": "2021-12-20T11:54:11.570Z"
   },
   {
    "duration": 21,
    "start_time": "2021-12-20T11:54:11.588Z"
   },
   {
    "duration": 50,
    "start_time": "2021-12-20T11:54:11.611Z"
   },
   {
    "duration": 15,
    "start_time": "2021-12-20T11:54:11.664Z"
   },
   {
    "duration": 10,
    "start_time": "2021-12-20T11:54:11.683Z"
   },
   {
    "duration": 63,
    "start_time": "2021-12-20T11:54:11.695Z"
   },
   {
    "duration": 26,
    "start_time": "2021-12-20T11:54:11.761Z"
   },
   {
    "duration": 43,
    "start_time": "2021-12-20T11:54:11.789Z"
   },
   {
    "duration": 10,
    "start_time": "2021-12-20T11:54:11.860Z"
   },
   {
    "duration": 17,
    "start_time": "2021-12-20T11:54:11.872Z"
   },
   {
    "duration": 6,
    "start_time": "2021-12-20T11:54:11.892Z"
   },
   {
    "duration": 5538,
    "start_time": "2021-12-20T11:54:11.900Z"
   },
   {
    "duration": 46,
    "start_time": "2021-12-20T11:54:17.441Z"
   },
   {
    "duration": 24,
    "start_time": "2021-12-20T11:54:17.489Z"
   },
   {
    "duration": 14,
    "start_time": "2021-12-20T11:54:17.515Z"
   },
   {
    "duration": 24,
    "start_time": "2021-12-20T11:54:17.558Z"
   },
   {
    "duration": 14,
    "start_time": "2021-12-20T11:54:17.585Z"
   },
   {
    "duration": 19,
    "start_time": "2021-12-20T11:54:17.602Z"
   },
   {
    "duration": 31,
    "start_time": "2021-12-20T11:54:17.660Z"
   },
   {
    "duration": 26,
    "start_time": "2021-12-20T11:54:17.694Z"
   },
   {
    "duration": 49,
    "start_time": "2021-12-20T11:54:17.723Z"
   },
   {
    "duration": 12,
    "start_time": "2021-12-20T11:54:17.775Z"
   },
   {
    "duration": 808,
    "start_time": "2021-12-20T11:54:17.790Z"
   },
   {
    "duration": 11,
    "start_time": "2021-12-20T11:54:18.601Z"
   },
   {
    "duration": 20,
    "start_time": "2021-12-20T11:54:18.614Z"
   },
   {
    "duration": 734,
    "start_time": "2021-12-20T11:54:18.636Z"
   },
   {
    "duration": 16,
    "start_time": "2021-12-20T11:54:19.373Z"
   },
   {
    "duration": 23,
    "start_time": "2021-12-20T11:54:19.392Z"
   },
   {
    "duration": 46,
    "start_time": "2021-12-20T11:54:19.418Z"
   },
   {
    "duration": 18,
    "start_time": "2021-12-20T11:57:10.990Z"
   },
   {
    "duration": 12,
    "start_time": "2021-12-20T11:58:19.125Z"
   },
   {
    "duration": 14,
    "start_time": "2021-12-20T12:07:07.512Z"
   },
   {
    "duration": 10,
    "start_time": "2021-12-20T12:07:15.026Z"
   },
   {
    "duration": 5044,
    "start_time": "2021-12-20T12:07:25.582Z"
   },
   {
    "duration": 5329,
    "start_time": "2021-12-20T12:07:44.309Z"
   },
   {
    "duration": 728,
    "start_time": "2021-12-20T12:08:23.704Z"
   },
   {
    "duration": 67,
    "start_time": "2021-12-20T12:08:24.435Z"
   },
   {
    "duration": 14,
    "start_time": "2021-12-20T12:08:24.505Z"
   },
   {
    "duration": 44,
    "start_time": "2021-12-20T12:08:24.522Z"
   },
   {
    "duration": 13,
    "start_time": "2021-12-20T12:08:24.569Z"
   },
   {
    "duration": 10,
    "start_time": "2021-12-20T12:08:24.584Z"
   },
   {
    "duration": 11,
    "start_time": "2021-12-20T12:08:24.597Z"
   },
   {
    "duration": 55,
    "start_time": "2021-12-20T12:08:24.611Z"
   },
   {
    "duration": 19,
    "start_time": "2021-12-20T12:08:24.670Z"
   },
   {
    "duration": 10,
    "start_time": "2021-12-20T12:08:24.693Z"
   },
   {
    "duration": 53,
    "start_time": "2021-12-20T12:08:24.706Z"
   },
   {
    "duration": 10,
    "start_time": "2021-12-20T12:08:24.762Z"
   },
   {
    "duration": 27,
    "start_time": "2021-12-20T12:08:24.774Z"
   },
   {
    "duration": 31,
    "start_time": "2021-12-20T12:08:24.803Z"
   },
   {
    "duration": 69,
    "start_time": "2021-12-20T12:08:24.836Z"
   },
   {
    "duration": 10,
    "start_time": "2021-12-20T12:08:24.907Z"
   },
   {
    "duration": 41,
    "start_time": "2021-12-20T12:08:24.920Z"
   },
   {
    "duration": 17,
    "start_time": "2021-12-20T12:08:24.964Z"
   },
   {
    "duration": 4996,
    "start_time": "2021-12-20T12:08:24.984Z"
   },
   {
    "duration": 40,
    "start_time": "2021-12-20T12:08:29.984Z"
   },
   {
    "duration": 49,
    "start_time": "2021-12-20T12:08:30.026Z"
   },
   {
    "duration": 12,
    "start_time": "2021-12-20T12:08:30.077Z"
   },
   {
    "duration": 30,
    "start_time": "2021-12-20T12:08:30.091Z"
   },
   {
    "duration": 39,
    "start_time": "2021-12-20T12:08:30.124Z"
   },
   {
    "duration": 28,
    "start_time": "2021-12-20T12:08:30.166Z"
   },
   {
    "duration": 20,
    "start_time": "2021-12-20T12:08:30.196Z"
   },
   {
    "duration": 15,
    "start_time": "2021-12-20T12:08:30.221Z"
   },
   {
    "duration": 43,
    "start_time": "2021-12-20T12:08:30.239Z"
   },
   {
    "duration": 11,
    "start_time": "2021-12-20T12:08:30.284Z"
   },
   {
    "duration": 812,
    "start_time": "2021-12-20T12:08:30.298Z"
   },
   {
    "duration": 11,
    "start_time": "2021-12-20T12:08:31.112Z"
   },
   {
    "duration": 42,
    "start_time": "2021-12-20T12:08:31.125Z"
   },
   {
    "duration": 715,
    "start_time": "2021-12-20T12:08:31.170Z"
   },
   {
    "duration": 17,
    "start_time": "2021-12-20T12:08:31.887Z"
   },
   {
    "duration": 25,
    "start_time": "2021-12-20T12:08:31.906Z"
   },
   {
    "duration": 38,
    "start_time": "2021-12-20T12:08:31.933Z"
   },
   {
    "duration": 659,
    "start_time": "2021-12-20T19:42:01.433Z"
   },
   {
    "duration": 483,
    "start_time": "2021-12-20T19:42:23.683Z"
   },
   {
    "duration": 2836,
    "start_time": "2021-12-20T19:45:55.460Z"
   },
   {
    "duration": 588,
    "start_time": "2021-12-20T19:46:53.723Z"
   },
   {
    "duration": 371,
    "start_time": "2021-12-20T19:47:04.069Z"
   },
   {
    "duration": 9724,
    "start_time": "2021-12-20T19:47:21.122Z"
   },
   {
    "duration": 41,
    "start_time": "2021-12-20T19:47:55.333Z"
   },
   {
    "duration": 136,
    "start_time": "2021-12-20T20:08:54.401Z"
   },
   {
    "duration": 1049,
    "start_time": "2021-12-20T20:10:26.350Z"
   },
   {
    "duration": 69,
    "start_time": "2021-12-20T20:10:27.402Z"
   },
   {
    "duration": 15,
    "start_time": "2021-12-20T20:10:27.474Z"
   },
   {
    "duration": 28,
    "start_time": "2021-12-20T20:10:27.492Z"
   },
   {
    "duration": 39,
    "start_time": "2021-12-20T20:10:27.522Z"
   },
   {
    "duration": 12,
    "start_time": "2021-12-20T20:10:27.564Z"
   },
   {
    "duration": 13,
    "start_time": "2021-12-20T20:10:27.579Z"
   },
   {
    "duration": 15,
    "start_time": "2021-12-20T20:10:27.597Z"
   },
   {
    "duration": 491,
    "start_time": "2021-12-20T20:10:27.660Z"
   },
   {
    "duration": 23,
    "start_time": "2021-12-20T20:10:28.154Z"
   },
   {
    "duration": 10,
    "start_time": "2021-12-20T20:10:28.180Z"
   },
   {
    "duration": 27,
    "start_time": "2021-12-20T20:10:28.192Z"
   },
   {
    "duration": 64,
    "start_time": "2021-12-20T20:10:28.222Z"
   },
   {
    "duration": 79,
    "start_time": "2021-12-20T20:10:28.289Z"
   },
   {
    "duration": 9,
    "start_time": "2021-12-20T20:10:28.371Z"
   },
   {
    "duration": 16,
    "start_time": "2021-12-20T20:10:28.383Z"
   },
   {
    "duration": 10,
    "start_time": "2021-12-20T20:10:28.401Z"
   },
   {
    "duration": 5486,
    "start_time": "2021-12-20T20:10:28.413Z"
   },
   {
    "duration": 39,
    "start_time": "2021-12-20T20:10:33.902Z"
   },
   {
    "duration": 26,
    "start_time": "2021-12-20T20:10:33.959Z"
   },
   {
    "duration": 10,
    "start_time": "2021-12-20T20:10:33.987Z"
   },
   {
    "duration": 9,
    "start_time": "2021-12-20T20:10:33.999Z"
   },
   {
    "duration": 50,
    "start_time": "2021-12-20T20:10:34.014Z"
   },
   {
    "duration": 28,
    "start_time": "2021-12-20T20:10:34.067Z"
   },
   {
    "duration": 26,
    "start_time": "2021-12-20T20:10:34.098Z"
   },
   {
    "duration": 50,
    "start_time": "2021-12-20T20:10:34.126Z"
   },
   {
    "duration": 19,
    "start_time": "2021-12-20T20:10:34.178Z"
   },
   {
    "duration": 15,
    "start_time": "2021-12-20T20:10:34.200Z"
   },
   {
    "duration": 55,
    "start_time": "2021-12-20T20:10:34.217Z"
   },
   {
    "duration": 14,
    "start_time": "2021-12-20T20:10:34.275Z"
   },
   {
    "duration": 1000,
    "start_time": "2021-12-20T20:10:34.292Z"
   },
   {
    "duration": 11,
    "start_time": "2021-12-20T20:10:35.295Z"
   },
   {
    "duration": 28,
    "start_time": "2021-12-20T20:10:35.309Z"
   },
   {
    "duration": 767,
    "start_time": "2021-12-20T20:10:35.340Z"
   },
   {
    "duration": 18,
    "start_time": "2021-12-20T20:10:36.110Z"
   },
   {
    "duration": 40,
    "start_time": "2021-12-20T20:10:36.131Z"
   },
   {
    "duration": 19,
    "start_time": "2021-12-20T20:10:36.173Z"
   },
   {
    "duration": 545,
    "start_time": "2021-12-21T14:32:23.562Z"
   },
   {
    "duration": 49,
    "start_time": "2021-12-21T14:32:24.109Z"
   },
   {
    "duration": 10,
    "start_time": "2021-12-21T14:32:24.160Z"
   },
   {
    "duration": 17,
    "start_time": "2021-12-21T14:32:24.172Z"
   },
   {
    "duration": 18,
    "start_time": "2021-12-21T14:32:24.191Z"
   },
   {
    "duration": 6,
    "start_time": "2021-12-21T14:32:24.211Z"
   },
   {
    "duration": 10,
    "start_time": "2021-12-21T14:32:24.219Z"
   },
   {
    "duration": 8,
    "start_time": "2021-12-21T14:32:24.232Z"
   },
   {
    "duration": 283,
    "start_time": "2021-12-21T14:32:24.242Z"
   },
   {
    "duration": 14,
    "start_time": "2021-12-21T14:32:24.527Z"
   },
   {
    "duration": 7,
    "start_time": "2021-12-21T14:32:24.543Z"
   },
   {
    "duration": 18,
    "start_time": "2021-12-21T14:32:24.551Z"
   },
   {
    "duration": 48,
    "start_time": "2021-12-21T14:32:24.571Z"
   },
   {
    "duration": 31,
    "start_time": "2021-12-21T14:32:24.620Z"
   },
   {
    "duration": 9,
    "start_time": "2021-12-21T14:32:24.653Z"
   },
   {
    "duration": 24,
    "start_time": "2021-12-21T14:32:24.664Z"
   },
   {
    "duration": 16,
    "start_time": "2021-12-21T14:32:24.690Z"
   },
   {
    "duration": 3568,
    "start_time": "2021-12-21T14:32:24.708Z"
   },
   {
    "duration": 36,
    "start_time": "2021-12-21T14:32:28.278Z"
   },
   {
    "duration": 16,
    "start_time": "2021-12-21T14:32:28.315Z"
   },
   {
    "duration": 6,
    "start_time": "2021-12-21T14:32:28.332Z"
   },
   {
    "duration": 7,
    "start_time": "2021-12-21T14:32:28.340Z"
   },
   {
    "duration": 8,
    "start_time": "2021-12-21T14:32:28.351Z"
   },
   {
    "duration": 49,
    "start_time": "2021-12-21T14:32:28.362Z"
   },
   {
    "duration": 12,
    "start_time": "2021-12-21T14:32:28.413Z"
   },
   {
    "duration": 15,
    "start_time": "2021-12-21T14:32:28.427Z"
   },
   {
    "duration": 12,
    "start_time": "2021-12-21T14:32:28.444Z"
   },
   {
    "duration": 12,
    "start_time": "2021-12-21T14:32:28.457Z"
   },
   {
    "duration": 45,
    "start_time": "2021-12-21T14:32:28.470Z"
   },
   {
    "duration": 10,
    "start_time": "2021-12-21T14:32:28.517Z"
   },
   {
    "duration": 547,
    "start_time": "2021-12-21T14:32:28.528Z"
   },
   {
    "duration": 8,
    "start_time": "2021-12-21T14:32:29.077Z"
   },
   {
    "duration": 27,
    "start_time": "2021-12-21T14:32:29.087Z"
   },
   {
    "duration": 674,
    "start_time": "2021-12-21T14:32:29.116Z"
   },
   {
    "duration": 19,
    "start_time": "2021-12-21T14:32:29.793Z"
   },
   {
    "duration": 39,
    "start_time": "2021-12-21T14:32:29.816Z"
   },
   {
    "duration": 17,
    "start_time": "2021-12-21T14:32:29.857Z"
   },
   {
    "duration": 5,
    "start_time": "2021-12-21T14:38:52.334Z"
   },
   {
    "duration": 4,
    "start_time": "2021-12-21T14:38:55.230Z"
   },
   {
    "duration": 14,
    "start_time": "2021-12-21T14:42:15.924Z"
   },
   {
    "duration": 6,
    "start_time": "2021-12-21T14:46:31.418Z"
   },
   {
    "duration": 802,
    "start_time": "2021-12-22T14:38:26.732Z"
   },
   {
    "duration": 69,
    "start_time": "2021-12-22T14:38:27.537Z"
   },
   {
    "duration": 17,
    "start_time": "2021-12-22T14:38:29.070Z"
   },
   {
    "duration": 27,
    "start_time": "2021-12-22T14:38:31.774Z"
   },
   {
    "duration": 12,
    "start_time": "2021-12-22T14:38:41.492Z"
   },
   {
    "duration": 10,
    "start_time": "2021-12-22T14:38:46.350Z"
   },
   {
    "duration": 16,
    "start_time": "2021-12-22T14:38:51.582Z"
   },
   {
    "duration": 13,
    "start_time": "2021-12-22T14:39:30.089Z"
   },
   {
    "duration": 13,
    "start_time": "2021-12-22T14:47:19.032Z"
   },
   {
    "duration": 508,
    "start_time": "2021-12-22T14:47:24.637Z"
   },
   {
    "duration": 29,
    "start_time": "2021-12-22T14:49:03.852Z"
   },
   {
    "duration": 20,
    "start_time": "2021-12-22T14:49:13.085Z"
   },
   {
    "duration": 10,
    "start_time": "2021-12-22T14:54:03.080Z"
   },
   {
    "duration": 24,
    "start_time": "2021-12-22T14:54:07.329Z"
   },
   {
    "duration": 28,
    "start_time": "2021-12-22T14:54:09.232Z"
   },
   {
    "duration": 53,
    "start_time": "2021-12-22T14:54:17.956Z"
   },
   {
    "duration": 11,
    "start_time": "2021-12-22T14:54:23.201Z"
   },
   {
    "duration": 20,
    "start_time": "2021-12-22T14:54:26.688Z"
   },
   {
    "duration": 10,
    "start_time": "2021-12-22T14:54:34.174Z"
   },
   {
    "duration": 4658,
    "start_time": "2021-12-22T14:54:34.805Z"
   },
   {
    "duration": 36,
    "start_time": "2021-12-22T14:54:41.779Z"
   },
   {
    "duration": 23,
    "start_time": "2021-12-22T14:54:47.653Z"
   },
   {
    "duration": 10,
    "start_time": "2021-12-22T14:54:50.374Z"
   },
   {
    "duration": 8,
    "start_time": "2021-12-22T14:54:55.621Z"
   },
   {
    "duration": 15,
    "start_time": "2021-12-22T14:55:00.069Z"
   },
   {
    "duration": 23,
    "start_time": "2021-12-22T14:55:04.766Z"
   },
   {
    "duration": 16,
    "start_time": "2021-12-22T14:55:07.671Z"
   },
   {
    "duration": 21,
    "start_time": "2021-12-22T14:55:10.608Z"
   },
   {
    "duration": 123,
    "start_time": "2021-12-22T14:58:30.913Z"
   },
   {
    "duration": 16,
    "start_time": "2021-12-22T14:58:40.617Z"
   },
   {
    "duration": 18,
    "start_time": "2021-12-22T14:58:48.183Z"
   },
   {
    "duration": 15,
    "start_time": "2021-12-22T14:59:05.122Z"
   },
   {
    "duration": 15,
    "start_time": "2021-12-22T20:37:23.803Z"
   },
   {
    "duration": 5,
    "start_time": "2021-12-22T20:37:25.215Z"
   },
   {
    "duration": 21,
    "start_time": "2021-12-22T20:37:42.700Z"
   },
   {
    "duration": 788,
    "start_time": "2021-12-22T20:41:08.238Z"
   },
   {
    "duration": 69,
    "start_time": "2021-12-22T20:41:09.029Z"
   },
   {
    "duration": 18,
    "start_time": "2021-12-22T20:41:09.101Z"
   },
   {
    "duration": 52,
    "start_time": "2021-12-22T20:41:09.122Z"
   },
   {
    "duration": 15,
    "start_time": "2021-12-22T20:41:09.178Z"
   },
   {
    "duration": 12,
    "start_time": "2021-12-22T20:41:09.196Z"
   },
   {
    "duration": 54,
    "start_time": "2021-12-22T20:41:09.210Z"
   },
   {
    "duration": 14,
    "start_time": "2021-12-22T20:41:09.268Z"
   },
   {
    "duration": 517,
    "start_time": "2021-12-22T20:41:09.286Z"
   },
   {
    "duration": 21,
    "start_time": "2021-12-22T20:41:09.805Z"
   },
   {
    "duration": 40,
    "start_time": "2021-12-22T20:41:09.829Z"
   },
   {
    "duration": 10,
    "start_time": "2021-12-22T20:41:09.871Z"
   },
   {
    "duration": 23,
    "start_time": "2021-12-22T20:41:09.884Z"
   },
   {
    "duration": 54,
    "start_time": "2021-12-22T20:41:09.910Z"
   },
   {
    "duration": 45,
    "start_time": "2021-12-22T20:41:09.967Z"
   },
   {
    "duration": 10,
    "start_time": "2021-12-22T20:41:10.015Z"
   },
   {
    "duration": 43,
    "start_time": "2021-12-22T20:41:10.027Z"
   },
   {
    "duration": 7,
    "start_time": "2021-12-22T20:41:10.073Z"
   },
   {
    "duration": 4670,
    "start_time": "2021-12-22T20:41:10.082Z"
   },
   {
    "duration": 36,
    "start_time": "2021-12-22T20:41:14.763Z"
   },
   {
    "duration": 22,
    "start_time": "2021-12-22T20:41:14.801Z"
   },
   {
    "duration": 36,
    "start_time": "2021-12-22T20:41:14.826Z"
   },
   {
    "duration": 8,
    "start_time": "2021-12-22T20:41:14.867Z"
   },
   {
    "duration": 12,
    "start_time": "2021-12-22T20:41:14.878Z"
   },
   {
    "duration": 27,
    "start_time": "2021-12-22T20:41:14.893Z"
   },
   {
    "duration": 44,
    "start_time": "2021-12-22T20:41:14.922Z"
   },
   {
    "duration": 23,
    "start_time": "2021-12-22T20:41:14.968Z"
   },
   {
    "duration": 18,
    "start_time": "2021-12-22T20:41:14.993Z"
   },
   {
    "duration": 56,
    "start_time": "2021-12-22T20:41:15.013Z"
   },
   {
    "duration": 15,
    "start_time": "2021-12-22T20:41:15.072Z"
   },
   {
    "duration": 7,
    "start_time": "2021-12-22T20:41:15.089Z"
   },
   {
    "duration": 20,
    "start_time": "2021-12-22T20:41:15.098Z"
   },
   {
    "duration": 46,
    "start_time": "2021-12-22T20:41:15.120Z"
   },
   {
    "duration": 13,
    "start_time": "2021-12-22T20:41:15.168Z"
   },
   {
    "duration": 826,
    "start_time": "2021-12-22T20:41:15.183Z"
   },
   {
    "duration": 10,
    "start_time": "2021-12-22T20:41:16.012Z"
   },
   {
    "duration": 38,
    "start_time": "2021-12-22T20:41:16.025Z"
   },
   {
    "duration": 699,
    "start_time": "2021-12-22T20:41:16.066Z"
   },
   {
    "duration": 16,
    "start_time": "2021-12-22T20:41:16.768Z"
   },
   {
    "duration": 20,
    "start_time": "2021-12-22T20:41:16.787Z"
   },
   {
    "duration": 18,
    "start_time": "2021-12-22T20:41:16.810Z"
   }
  ],
  "kernelspec": {
   "display_name": "Python 3 (ipykernel)",
   "language": "python",
   "name": "python3"
  },
  "language_info": {
   "codemirror_mode": {
    "name": "ipython",
    "version": 3
   },
   "file_extension": ".py",
   "mimetype": "text/x-python",
   "name": "python",
   "nbconvert_exporter": "python",
   "pygments_lexer": "ipython3",
   "version": "3.9.12"
  },
  "toc": {
   "base_numbering": 1,
   "nav_menu": {},
   "number_sections": false,
   "sideBar": true,
   "skip_h1_title": true,
   "title_cell": "Table of Contents",
   "title_sidebar": "Contents",
   "toc_cell": false,
   "toc_position": {
    "height": "calc(100% - 180px)",
    "left": "10px",
    "top": "150px",
    "width": "288px"
   },
   "toc_section_display": true,
   "toc_window_display": true
  }
 },
 "nbformat": 4,
 "nbformat_minor": 2
}
