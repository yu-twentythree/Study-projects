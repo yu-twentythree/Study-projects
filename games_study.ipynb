{
 "cells": [
  {
   "cell_type": "markdown",
   "metadata": {},
   "source": [
    "# Анализ популярности компьютерных игр"
   ]
  },
  {
   "cell_type": "markdown",
   "metadata": {},
   "source": [
    "По данным до 2016 года необходимо спрогнозировать какие игры будут популярны в 2017-м. Из открытых источников доступны исторические данные о продажах игр, оценки пользователей и экспертов, жанры и платформы (например, Xbox или PlayStation)."
   ]
  },
  {
   "cell_type": "markdown",
   "metadata": {},
   "source": [
    "## Изучение данных из файла"
   ]
  },
  {
   "cell_type": "markdown",
   "metadata": {},
   "source": [
    "### Обзор данных"
   ]
  },
  {
   "cell_type": "code",
   "execution_count": 1,
   "metadata": {},
   "outputs": [],
   "source": [
    "# импорт библиотеки pandas, matplotlib, numpy, scipy\n",
    "import pandas as pd\n",
    "import matplotlib.pyplot as plt\n",
    "import numpy as np\n",
    "from scipy import stats as st\n",
    "import seaborn as sns\n",
    "\n",
    "pd.set_option('display.float_format', '{:,.2f}'.format)"
   ]
  },
  {
   "cell_type": "code",
   "execution_count": 2,
   "metadata": {},
   "outputs": [
    {
     "name": "stdout",
     "output_type": "stream",
     "text": [
      "<class 'pandas.core.frame.DataFrame'>\n",
      "RangeIndex: 16715 entries, 0 to 16714\n",
      "Data columns (total 11 columns):\n",
      " #   Column           Non-Null Count  Dtype  \n",
      "---  ------           --------------  -----  \n",
      " 0   Name             16713 non-null  object \n",
      " 1   Platform         16715 non-null  object \n",
      " 2   Year_of_Release  16446 non-null  float64\n",
      " 3   Genre            16713 non-null  object \n",
      " 4   NA_sales         16715 non-null  float64\n",
      " 5   EU_sales         16715 non-null  float64\n",
      " 6   JP_sales         16715 non-null  float64\n",
      " 7   Other_sales      16715 non-null  float64\n",
      " 8   Critic_Score     8137 non-null   float64\n",
      " 9   User_Score       10014 non-null  object \n",
      " 10  Rating           9949 non-null   object \n",
      "dtypes: float64(6), object(5)\n",
      "memory usage: 1.4+ MB\n"
     ]
    }
   ],
   "source": [
    "# чтение файла с данными и сохранение в data\n",
    "try: games = pd.read_csv('/datasets/games.csv') \n",
    "except: games = pd.read_csv('games.csv')\n",
    "# получение общей информации о данных в таблице\n",
    "games.info()"
   ]
  },
  {
   "cell_type": "markdown",
   "metadata": {},
   "source": [
    "**Описание данных**\n",
    "* Name — название игры\n",
    "* Platform — платформа\n",
    "* Year_of_Release — год выпуска\n",
    "* Genre — жанр игры\n",
    "* NA_sales — продажи в Северной Америке (миллионы проданных копий)\n",
    "* EU_sales — продажи в Европе (миллионы проданных копий)\n",
    "* JP_sales — продажи в Японии (миллионы проданных копий)\n",
    "* Other_sales — продажи в других странах (миллионы проданных копий)\n",
    "* Critic_Score — оценка критиков (максимум 100)\n",
    "* User_Score — оценка пользователей (максимум 10)\n",
    "* Rating — рейтинг от организации ESRB\n"
   ]
  },
  {
   "cell_type": "code",
   "execution_count": 3,
   "metadata": {},
   "outputs": [
    {
     "data": {
      "text/html": [
       "<div>\n",
       "<style scoped>\n",
       "    .dataframe tbody tr th:only-of-type {\n",
       "        vertical-align: middle;\n",
       "    }\n",
       "\n",
       "    .dataframe tbody tr th {\n",
       "        vertical-align: top;\n",
       "    }\n",
       "\n",
       "    .dataframe thead th {\n",
       "        text-align: right;\n",
       "    }\n",
       "</style>\n",
       "<table border=\"1\" class=\"dataframe\">\n",
       "  <thead>\n",
       "    <tr style=\"text-align: right;\">\n",
       "      <th></th>\n",
       "      <th>Name</th>\n",
       "      <th>Platform</th>\n",
       "      <th>Year_of_Release</th>\n",
       "      <th>Genre</th>\n",
       "      <th>NA_sales</th>\n",
       "      <th>EU_sales</th>\n",
       "      <th>JP_sales</th>\n",
       "      <th>Other_sales</th>\n",
       "      <th>Critic_Score</th>\n",
       "      <th>User_Score</th>\n",
       "      <th>Rating</th>\n",
       "    </tr>\n",
       "  </thead>\n",
       "  <tbody>\n",
       "    <tr>\n",
       "      <th>0</th>\n",
       "      <td>Wii Sports</td>\n",
       "      <td>Wii</td>\n",
       "      <td>2,006.00</td>\n",
       "      <td>Sports</td>\n",
       "      <td>41.36</td>\n",
       "      <td>28.96</td>\n",
       "      <td>3.77</td>\n",
       "      <td>8.45</td>\n",
       "      <td>76.00</td>\n",
       "      <td>8</td>\n",
       "      <td>E</td>\n",
       "    </tr>\n",
       "    <tr>\n",
       "      <th>1</th>\n",
       "      <td>Super Mario Bros.</td>\n",
       "      <td>NES</td>\n",
       "      <td>1,985.00</td>\n",
       "      <td>Platform</td>\n",
       "      <td>29.08</td>\n",
       "      <td>3.58</td>\n",
       "      <td>6.81</td>\n",
       "      <td>0.77</td>\n",
       "      <td>NaN</td>\n",
       "      <td>NaN</td>\n",
       "      <td>NaN</td>\n",
       "    </tr>\n",
       "    <tr>\n",
       "      <th>2</th>\n",
       "      <td>Mario Kart Wii</td>\n",
       "      <td>Wii</td>\n",
       "      <td>2,008.00</td>\n",
       "      <td>Racing</td>\n",
       "      <td>15.68</td>\n",
       "      <td>12.76</td>\n",
       "      <td>3.79</td>\n",
       "      <td>3.29</td>\n",
       "      <td>82.00</td>\n",
       "      <td>8.3</td>\n",
       "      <td>E</td>\n",
       "    </tr>\n",
       "    <tr>\n",
       "      <th>3</th>\n",
       "      <td>Wii Sports Resort</td>\n",
       "      <td>Wii</td>\n",
       "      <td>2,009.00</td>\n",
       "      <td>Sports</td>\n",
       "      <td>15.61</td>\n",
       "      <td>10.93</td>\n",
       "      <td>3.28</td>\n",
       "      <td>2.95</td>\n",
       "      <td>80.00</td>\n",
       "      <td>8</td>\n",
       "      <td>E</td>\n",
       "    </tr>\n",
       "    <tr>\n",
       "      <th>4</th>\n",
       "      <td>Pokemon Red/Pokemon Blue</td>\n",
       "      <td>GB</td>\n",
       "      <td>1,996.00</td>\n",
       "      <td>Role-Playing</td>\n",
       "      <td>11.27</td>\n",
       "      <td>8.89</td>\n",
       "      <td>10.22</td>\n",
       "      <td>1.00</td>\n",
       "      <td>NaN</td>\n",
       "      <td>NaN</td>\n",
       "      <td>NaN</td>\n",
       "    </tr>\n",
       "  </tbody>\n",
       "</table>\n",
       "</div>"
      ],
      "text/plain": [
       "                       Name Platform  Year_of_Release         Genre  NA_sales  \\\n",
       "0                Wii Sports      Wii         2,006.00        Sports     41.36   \n",
       "1         Super Mario Bros.      NES         1,985.00      Platform     29.08   \n",
       "2            Mario Kart Wii      Wii         2,008.00        Racing     15.68   \n",
       "3         Wii Sports Resort      Wii         2,009.00        Sports     15.61   \n",
       "4  Pokemon Red/Pokemon Blue       GB         1,996.00  Role-Playing     11.27   \n",
       "\n",
       "   EU_sales  JP_sales  Other_sales  Critic_Score User_Score Rating  \n",
       "0     28.96      3.77         8.45         76.00          8      E  \n",
       "1      3.58      6.81         0.77           NaN        NaN    NaN  \n",
       "2     12.76      3.79         3.29         82.00        8.3      E  \n",
       "3     10.93      3.28         2.95         80.00          8      E  \n",
       "4      8.89     10.22         1.00           NaN        NaN    NaN  "
      ]
     },
     "execution_count": 3,
     "metadata": {},
     "output_type": "execute_result"
    }
   ],
   "source": [
    "# посмотрим как выглядят данные\n",
    "games.head()"
   ]
  },
  {
   "cell_type": "code",
   "execution_count": 4,
   "metadata": {},
   "outputs": [
    {
     "data": {
      "text/plain": [
       "PS2     2161\n",
       "DS      2151\n",
       "PS3     1331\n",
       "Wii     1320\n",
       "X360    1262\n",
       "PSP     1209\n",
       "PS      1197\n",
       "PC       974\n",
       "XB       824\n",
       "GBA      822\n",
       "GC       556\n",
       "3DS      520\n",
       "PSV      430\n",
       "PS4      392\n",
       "N64      319\n",
       "XOne     247\n",
       "SNES     239\n",
       "SAT      173\n",
       "WiiU     147\n",
       "2600     133\n",
       "NES       98\n",
       "GB        98\n",
       "DC        52\n",
       "GEN       29\n",
       "NG        12\n",
       "SCD        6\n",
       "WS         6\n",
       "3DO        3\n",
       "TG16       2\n",
       "GG         1\n",
       "PCFX       1\n",
       "Name: Platform, dtype: int64"
      ]
     },
     "execution_count": 4,
     "metadata": {},
     "output_type": "execute_result"
    }
   ],
   "source": [
    "# какие есть платформы\n",
    "games['Platform'].value_counts()"
   ]
  },
  {
   "cell_type": "code",
   "execution_count": 5,
   "metadata": {},
   "outputs": [
    {
     "data": {
      "text/plain": [
       "2,008.00    1427\n",
       "2,009.00    1426\n",
       "2,010.00    1255\n",
       "2,007.00    1197\n",
       "2,011.00    1136\n",
       "2,006.00    1006\n",
       "2,005.00     939\n",
       "2,002.00     829\n",
       "2,003.00     775\n",
       "2,004.00     762\n",
       "2,012.00     653\n",
       "2,015.00     606\n",
       "2,014.00     581\n",
       "2,013.00     544\n",
       "2,016.00     502\n",
       "2,001.00     482\n",
       "1,998.00     379\n",
       "2,000.00     350\n",
       "1,999.00     338\n",
       "1,997.00     289\n",
       "1,996.00     263\n",
       "1,995.00     219\n",
       "1,994.00     121\n",
       "1,993.00      62\n",
       "1,981.00      46\n",
       "1,992.00      43\n",
       "1,991.00      41\n",
       "1,982.00      36\n",
       "1,986.00      21\n",
       "1,989.00      17\n",
       "1,983.00      17\n",
       "1,990.00      16\n",
       "1,987.00      16\n",
       "1,988.00      15\n",
       "1,985.00      14\n",
       "1,984.00      14\n",
       "1,980.00       9\n",
       "Name: Year_of_Release, dtype: int64"
      ]
     },
     "execution_count": 5,
     "metadata": {},
     "output_type": "execute_result"
    }
   ],
   "source": [
    "# посмотрим годы выпуска\n",
    "games['Year_of_Release'].value_counts()"
   ]
  },
  {
   "cell_type": "code",
   "execution_count": 6,
   "metadata": {},
   "outputs": [
    {
     "data": {
      "text/plain": [
       "Action          3369\n",
       "Sports          2348\n",
       "Misc            1750\n",
       "Role-Playing    1498\n",
       "Shooter         1323\n",
       "Adventure       1303\n",
       "Racing          1249\n",
       "Platform         888\n",
       "Simulation       873\n",
       "Fighting         849\n",
       "Strategy         683\n",
       "Puzzle           580\n",
       "Name: Genre, dtype: int64"
      ]
     },
     "execution_count": 6,
     "metadata": {},
     "output_type": "execute_result"
    }
   ],
   "source": [
    "# посмотрим жанры\n",
    "games['Genre'].value_counts()"
   ]
  },
  {
   "cell_type": "code",
   "execution_count": 7,
   "metadata": {},
   "outputs": [
    {
     "data": {
      "text/plain": [
       "E       3990\n",
       "T       2961\n",
       "M       1563\n",
       "E10+    1420\n",
       "EC         8\n",
       "K-A        3\n",
       "RP         3\n",
       "AO         1\n",
       "Name: Rating, dtype: int64"
      ]
     },
     "execution_count": 7,
     "metadata": {},
     "output_type": "execute_result"
    }
   ],
   "source": [
    "# посмотрим рейтинг\n",
    "games['Rating'].value_counts()"
   ]
  },
  {
   "cell_type": "code",
   "execution_count": 8,
   "metadata": {},
   "outputs": [
    {
     "data": {
      "text/plain": [
       "Index(['Name', 'Platform', 'Year_of_Release', 'Genre', 'NA_sales', 'EU_sales',\n",
       "       'JP_sales', 'Other_sales', 'Critic_Score', 'User_Score', 'Rating'],\n",
       "      dtype='object')"
      ]
     },
     "execution_count": 8,
     "metadata": {},
     "output_type": "execute_result"
    }
   ],
   "source": [
    "# проверим названия колонок\n",
    "games.columns"
   ]
  },
  {
   "cell_type": "code",
   "execution_count": 9,
   "metadata": {},
   "outputs": [
    {
     "data": {
      "text/plain": [
       "0"
      ]
     },
     "execution_count": 9,
     "metadata": {},
     "output_type": "execute_result"
    }
   ],
   "source": [
    "# проверим явные дубликаты\n",
    "games.duplicated().sum()"
   ]
  },
  {
   "cell_type": "markdown",
   "metadata": {},
   "source": [
    "### Вывод"
   ]
  },
  {
   "cell_type": "markdown",
   "metadata": {},
   "source": [
    "Перед нами данные о продажах игр c 1980 до 2016 гг. Записи составлены о **16715 играх** на **31 платформе**. Кроме названия и платформы, имеется информация о продажах, оценках, рейтинге.\n",
    "\n",
    "По превым оценкам данных можно отметить: \n",
    " - После 1993 года количество игр резко увеличивается, а с 2012 сокращается. \n",
    " - Больше всего игр выпущено для платформы PS2 и DS\n",
    "\n",
    "Есть пропуски. Дубликаты не выявлены.\n",
    "\n",
    "Для подготовки данных необходимо:\n",
    "\n",
    "* Заменить названия столбцов (привести к нижнему регистру)\n",
    "* Преобразуйте данные в нужные типы: год выпуска,  оценка критиков в int\n",
    "* Обработать пропуски: в столбцах с названием, платформой, годом выпуска, жанром, оценках и рейтинге \n"
   ]
  },
  {
   "cell_type": "markdown",
   "metadata": {},
   "source": [
    "## Предобработка данных"
   ]
  },
  {
   "cell_type": "markdown",
   "metadata": {},
   "source": [
    "### Стиль заголовков"
   ]
  },
  {
   "cell_type": "code",
   "execution_count": 10,
   "metadata": {},
   "outputs": [
    {
     "data": {
      "text/plain": [
       "Index(['name', 'platform', 'year_of_release', 'genre', 'na_sales', 'eu_sales',\n",
       "       'jp_sales', 'other_sales', 'critic_score', 'user_score', 'rating'],\n",
       "      dtype='object')"
      ]
     },
     "execution_count": 10,
     "metadata": {},
     "output_type": "execute_result"
    }
   ],
   "source": [
    "# поправим название столбцов\n",
    "games.columns = games.columns.str.lower()\n",
    "\n",
    "# проверим название столбца\n",
    "games.columns"
   ]
  },
  {
   "cell_type": "markdown",
   "metadata": {},
   "source": [
    "### Пропуски значений и замена типа данных"
   ]
  },
  {
   "cell_type": "code",
   "execution_count": 11,
   "metadata": {},
   "outputs": [
    {
     "data": {
      "text/plain": [
       "name                  0\n",
       "platform              0\n",
       "year_of_release       0\n",
       "genre                 0\n",
       "na_sales              0\n",
       "eu_sales              0\n",
       "jp_sales              0\n",
       "other_sales           0\n",
       "critic_score       8461\n",
       "user_score         6605\n",
       "rating             6676\n",
       "dtype: int64"
      ]
     },
     "execution_count": 11,
     "metadata": {},
     "output_type": "execute_result"
    }
   ],
   "source": [
    "# удалим 2 строки без названия и жанра и пропуски в year_of_release\n",
    "games.dropna(subset = ['name', 'year_of_release'], inplace = True)\n",
    "games = games.reset_index(drop=True)\n",
    "games.isna().sum()"
   ]
  },
  {
   "cell_type": "code",
   "execution_count": 12,
   "metadata": {},
   "outputs": [],
   "source": [
    "# переведем в int\n",
    "games['year_of_release'] = games['year_of_release'].astype('int')"
   ]
  },
  {
   "cell_type": "code",
   "execution_count": 13,
   "metadata": {},
   "outputs": [
    {
     "data": {
      "text/plain": [
       "8461"
      ]
     },
     "execution_count": 13,
     "metadata": {},
     "output_type": "execute_result"
    }
   ],
   "source": [
    "# проверим количество пропусков в critic_score\n",
    "games['critic_score'].isna().sum()"
   ]
  },
  {
   "cell_type": "code",
   "execution_count": 14,
   "metadata": {},
   "outputs": [
    {
     "data": {
      "text/plain": [
       "6605"
      ]
     },
     "execution_count": 14,
     "metadata": {},
     "output_type": "execute_result"
    }
   ],
   "source": [
    "# проверим количество пропусков в user_score\n",
    "games['user_score'].isna().sum()"
   ]
  },
  {
   "cell_type": "code",
   "execution_count": 15,
   "metadata": {},
   "outputs": [
    {
     "data": {
      "text/plain": [
       "array(['8', nan, '8.3', '8.5', '6.6', '8.4', '8.6', '7.7', '6.3', '7.4',\n",
       "       '8.2', '9', '7.9', '8.1', '8.7', '7.1', '3.4', '5.3', '4.8', '3.2',\n",
       "       '8.9', '6.4', '7.8', '7.5', '2.6', '7.2', '9.2', '7', '7.3', '4.3',\n",
       "       '7.6', '5.7', '5', '9.1', '6.5', 'tbd', '8.8', '6.9', '9.4', '6.8',\n",
       "       '6.1', '6.7', '5.4', '4', '4.9', '4.5', '9.3', '6.2', '4.2', '6',\n",
       "       '3.7', '4.1', '5.8', '5.6', '5.5', '4.4', '4.6', '5.9', '3.9',\n",
       "       '3.1', '2.9', '5.2', '3.3', '4.7', '5.1', '3.5', '2.5', '1.9', '3',\n",
       "       '2.7', '2.2', '2', '9.5', '2.1', '3.6', '2.8', '1.8', '3.8', '0',\n",
       "       '1.6', '9.6', '2.4', '1.7', '1.1', '0.3', '1.5', '0.7', '1.2',\n",
       "       '2.3', '0.5', '1.3', '0.2', '0.6', '1.4', '0.9', '1', '9.7'],\n",
       "      dtype=object)"
      ]
     },
     "execution_count": 15,
     "metadata": {},
     "output_type": "execute_result"
    }
   ],
   "source": [
    "# посмотрим какие значения у user_score\n",
    "games['user_score'].unique()"
   ]
  },
  {
   "cell_type": "code",
   "execution_count": 16,
   "metadata": {},
   "outputs": [
    {
     "data": {
      "text/html": [
       "<div>\n",
       "<style scoped>\n",
       "    .dataframe tbody tr th:only-of-type {\n",
       "        vertical-align: middle;\n",
       "    }\n",
       "\n",
       "    .dataframe tbody tr th {\n",
       "        vertical-align: top;\n",
       "    }\n",
       "\n",
       "    .dataframe thead th {\n",
       "        text-align: right;\n",
       "    }\n",
       "</style>\n",
       "<table border=\"1\" class=\"dataframe\">\n",
       "  <thead>\n",
       "    <tr style=\"text-align: right;\">\n",
       "      <th></th>\n",
       "      <th>name</th>\n",
       "      <th>platform</th>\n",
       "      <th>year_of_release</th>\n",
       "      <th>genre</th>\n",
       "      <th>na_sales</th>\n",
       "      <th>eu_sales</th>\n",
       "      <th>jp_sales</th>\n",
       "      <th>other_sales</th>\n",
       "      <th>critic_score</th>\n",
       "      <th>user_score</th>\n",
       "      <th>rating</th>\n",
       "    </tr>\n",
       "  </thead>\n",
       "  <tbody>\n",
       "    <tr>\n",
       "      <th>119</th>\n",
       "      <td>Zumba Fitness</td>\n",
       "      <td>Wii</td>\n",
       "      <td>2010</td>\n",
       "      <td>Sports</td>\n",
       "      <td>3.45</td>\n",
       "      <td>2.59</td>\n",
       "      <td>0.00</td>\n",
       "      <td>0.66</td>\n",
       "      <td>NaN</td>\n",
       "      <td>tbd</td>\n",
       "      <td>E</td>\n",
       "    </tr>\n",
       "    <tr>\n",
       "      <th>300</th>\n",
       "      <td>Namco Museum: 50th Anniversary</td>\n",
       "      <td>PS2</td>\n",
       "      <td>2005</td>\n",
       "      <td>Misc</td>\n",
       "      <td>2.08</td>\n",
       "      <td>1.35</td>\n",
       "      <td>0.00</td>\n",
       "      <td>0.54</td>\n",
       "      <td>61.00</td>\n",
       "      <td>tbd</td>\n",
       "      <td>E10+</td>\n",
       "    </tr>\n",
       "    <tr>\n",
       "      <th>516</th>\n",
       "      <td>Zumba Fitness 2</td>\n",
       "      <td>Wii</td>\n",
       "      <td>2011</td>\n",
       "      <td>Sports</td>\n",
       "      <td>1.51</td>\n",
       "      <td>1.03</td>\n",
       "      <td>0.00</td>\n",
       "      <td>0.27</td>\n",
       "      <td>NaN</td>\n",
       "      <td>tbd</td>\n",
       "      <td>T</td>\n",
       "    </tr>\n",
       "    <tr>\n",
       "      <th>639</th>\n",
       "      <td>uDraw Studio</td>\n",
       "      <td>Wii</td>\n",
       "      <td>2010</td>\n",
       "      <td>Misc</td>\n",
       "      <td>1.65</td>\n",
       "      <td>0.57</td>\n",
       "      <td>0.00</td>\n",
       "      <td>0.20</td>\n",
       "      <td>71.00</td>\n",
       "      <td>tbd</td>\n",
       "      <td>E</td>\n",
       "    </tr>\n",
       "    <tr>\n",
       "      <th>709</th>\n",
       "      <td>Just Dance Kids</td>\n",
       "      <td>Wii</td>\n",
       "      <td>2010</td>\n",
       "      <td>Misc</td>\n",
       "      <td>1.52</td>\n",
       "      <td>0.54</td>\n",
       "      <td>0.00</td>\n",
       "      <td>0.18</td>\n",
       "      <td>NaN</td>\n",
       "      <td>tbd</td>\n",
       "      <td>E</td>\n",
       "    </tr>\n",
       "  </tbody>\n",
       "</table>\n",
       "</div>"
      ],
      "text/plain": [
       "                               name platform  year_of_release   genre  \\\n",
       "119                   Zumba Fitness      Wii             2010  Sports   \n",
       "300  Namco Museum: 50th Anniversary      PS2             2005    Misc   \n",
       "516                 Zumba Fitness 2      Wii             2011  Sports   \n",
       "639                    uDraw Studio      Wii             2010    Misc   \n",
       "709                 Just Dance Kids      Wii             2010    Misc   \n",
       "\n",
       "     na_sales  eu_sales  jp_sales  other_sales  critic_score user_score rating  \n",
       "119      3.45      2.59      0.00         0.66           NaN        tbd      E  \n",
       "300      2.08      1.35      0.00         0.54         61.00        tbd   E10+  \n",
       "516      1.51      1.03      0.00         0.27           NaN        tbd      T  \n",
       "639      1.65      0.57      0.00         0.20         71.00        tbd      E  \n",
       "709      1.52      0.54      0.00         0.18           NaN        tbd      E  "
      ]
     },
     "execution_count": 16,
     "metadata": {},
     "output_type": "execute_result"
    }
   ],
   "source": [
    "# посмотрим на строки с tbd\n",
    "games[games['user_score'] == 'tbd'].head()"
   ]
  },
  {
   "cell_type": "code",
   "execution_count": 17,
   "metadata": {},
   "outputs": [
    {
     "data": {
      "text/plain": [
       "8981"
      ]
     },
     "execution_count": 17,
     "metadata": {},
     "output_type": "execute_result"
    }
   ],
   "source": [
    "# заменим на пропуски 'tbd'\n",
    "games['user_score'] = pd.to_numeric(games['user_score'], errors='coerce')\n",
    "games = games.reset_index(drop=True)\n",
    "games['user_score'].isna().sum()"
   ]
  },
  {
   "cell_type": "code",
   "execution_count": 18,
   "metadata": {},
   "outputs": [
    {
     "data": {
      "text/html": [
       "<div>\n",
       "<style scoped>\n",
       "    .dataframe tbody tr th:only-of-type {\n",
       "        vertical-align: middle;\n",
       "    }\n",
       "\n",
       "    .dataframe tbody tr th {\n",
       "        vertical-align: top;\n",
       "    }\n",
       "\n",
       "    .dataframe thead th {\n",
       "        text-align: right;\n",
       "    }\n",
       "</style>\n",
       "<table border=\"1\" class=\"dataframe\">\n",
       "  <thead>\n",
       "    <tr style=\"text-align: right;\">\n",
       "      <th></th>\n",
       "      <th>critic_score</th>\n",
       "      <th>user_score</th>\n",
       "      <th>rating</th>\n",
       "      <th>name</th>\n",
       "    </tr>\n",
       "    <tr>\n",
       "      <th>platform</th>\n",
       "      <th></th>\n",
       "      <th></th>\n",
       "      <th></th>\n",
       "      <th></th>\n",
       "    </tr>\n",
       "  </thead>\n",
       "  <tbody>\n",
       "    <tr>\n",
       "      <th>2600</th>\n",
       "      <td>0</td>\n",
       "      <td>0</td>\n",
       "      <td>0</td>\n",
       "      <td>116</td>\n",
       "    </tr>\n",
       "    <tr>\n",
       "      <th>3DO</th>\n",
       "      <td>0</td>\n",
       "      <td>0</td>\n",
       "      <td>0</td>\n",
       "      <td>3</td>\n",
       "    </tr>\n",
       "    <tr>\n",
       "      <th>3DS</th>\n",
       "      <td>166</td>\n",
       "      <td>171</td>\n",
       "      <td>223</td>\n",
       "      <td>512</td>\n",
       "    </tr>\n",
       "    <tr>\n",
       "      <th>DC</th>\n",
       "      <td>14</td>\n",
       "      <td>14</td>\n",
       "      <td>14</td>\n",
       "      <td>52</td>\n",
       "    </tr>\n",
       "    <tr>\n",
       "      <th>DS</th>\n",
       "      <td>708</td>\n",
       "      <td>512</td>\n",
       "      <td>1255</td>\n",
       "      <td>2121</td>\n",
       "    </tr>\n",
       "    <tr>\n",
       "      <th>GB</th>\n",
       "      <td>0</td>\n",
       "      <td>0</td>\n",
       "      <td>0</td>\n",
       "      <td>97</td>\n",
       "    </tr>\n",
       "    <tr>\n",
       "      <th>GBA</th>\n",
       "      <td>430</td>\n",
       "      <td>251</td>\n",
       "      <td>514</td>\n",
       "      <td>811</td>\n",
       "    </tr>\n",
       "    <tr>\n",
       "      <th>GC</th>\n",
       "      <td>437</td>\n",
       "      <td>357</td>\n",
       "      <td>457</td>\n",
       "      <td>542</td>\n",
       "    </tr>\n",
       "    <tr>\n",
       "      <th>GEN</th>\n",
       "      <td>0</td>\n",
       "      <td>0</td>\n",
       "      <td>0</td>\n",
       "      <td>27</td>\n",
       "    </tr>\n",
       "    <tr>\n",
       "      <th>GG</th>\n",
       "      <td>0</td>\n",
       "      <td>0</td>\n",
       "      <td>0</td>\n",
       "      <td>1</td>\n",
       "    </tr>\n",
       "    <tr>\n",
       "      <th>N64</th>\n",
       "      <td>0</td>\n",
       "      <td>0</td>\n",
       "      <td>0</td>\n",
       "      <td>316</td>\n",
       "    </tr>\n",
       "    <tr>\n",
       "      <th>NES</th>\n",
       "      <td>0</td>\n",
       "      <td>0</td>\n",
       "      <td>0</td>\n",
       "      <td>98</td>\n",
       "    </tr>\n",
       "    <tr>\n",
       "      <th>NG</th>\n",
       "      <td>0</td>\n",
       "      <td>0</td>\n",
       "      <td>0</td>\n",
       "      <td>12</td>\n",
       "    </tr>\n",
       "    <tr>\n",
       "      <th>PC</th>\n",
       "      <td>699</td>\n",
       "      <td>755</td>\n",
       "      <td>757</td>\n",
       "      <td>957</td>\n",
       "    </tr>\n",
       "    <tr>\n",
       "      <th>PCFX</th>\n",
       "      <td>0</td>\n",
       "      <td>0</td>\n",
       "      <td>0</td>\n",
       "      <td>1</td>\n",
       "    </tr>\n",
       "    <tr>\n",
       "      <th>PS</th>\n",
       "      <td>196</td>\n",
       "      <td>159</td>\n",
       "      <td>204</td>\n",
       "      <td>1190</td>\n",
       "    </tr>\n",
       "    <tr>\n",
       "      <th>PS2</th>\n",
       "      <td>1275</td>\n",
       "      <td>1220</td>\n",
       "      <td>1456</td>\n",
       "      <td>2127</td>\n",
       "    </tr>\n",
       "    <tr>\n",
       "      <th>PS3</th>\n",
       "      <td>804</td>\n",
       "      <td>861</td>\n",
       "      <td>935</td>\n",
       "      <td>1306</td>\n",
       "    </tr>\n",
       "    <tr>\n",
       "      <th>PS4</th>\n",
       "      <td>252</td>\n",
       "      <td>257</td>\n",
       "      <td>255</td>\n",
       "      <td>392</td>\n",
       "    </tr>\n",
       "    <tr>\n",
       "      <th>PSP</th>\n",
       "      <td>456</td>\n",
       "      <td>418</td>\n",
       "      <td>536</td>\n",
       "      <td>1193</td>\n",
       "    </tr>\n",
       "    <tr>\n",
       "      <th>PSV</th>\n",
       "      <td>119</td>\n",
       "      <td>142</td>\n",
       "      <td>150</td>\n",
       "      <td>429</td>\n",
       "    </tr>\n",
       "    <tr>\n",
       "      <th>SAT</th>\n",
       "      <td>0</td>\n",
       "      <td>0</td>\n",
       "      <td>0</td>\n",
       "      <td>173</td>\n",
       "    </tr>\n",
       "    <tr>\n",
       "      <th>SCD</th>\n",
       "      <td>0</td>\n",
       "      <td>0</td>\n",
       "      <td>0</td>\n",
       "      <td>6</td>\n",
       "    </tr>\n",
       "    <tr>\n",
       "      <th>SNES</th>\n",
       "      <td>0</td>\n",
       "      <td>0</td>\n",
       "      <td>0</td>\n",
       "      <td>239</td>\n",
       "    </tr>\n",
       "    <tr>\n",
       "      <th>TG16</th>\n",
       "      <td>0</td>\n",
       "      <td>0</td>\n",
       "      <td>0</td>\n",
       "      <td>2</td>\n",
       "    </tr>\n",
       "    <tr>\n",
       "      <th>WS</th>\n",
       "      <td>0</td>\n",
       "      <td>0</td>\n",
       "      <td>0</td>\n",
       "      <td>6</td>\n",
       "    </tr>\n",
       "    <tr>\n",
       "      <th>Wii</th>\n",
       "      <td>568</td>\n",
       "      <td>548</td>\n",
       "      <td>977</td>\n",
       "      <td>1286</td>\n",
       "    </tr>\n",
       "    <tr>\n",
       "      <th>WiiU</th>\n",
       "      <td>90</td>\n",
       "      <td>100</td>\n",
       "      <td>105</td>\n",
       "      <td>147</td>\n",
       "    </tr>\n",
       "    <tr>\n",
       "      <th>X360</th>\n",
       "      <td>894</td>\n",
       "      <td>945</td>\n",
       "      <td>1030</td>\n",
       "      <td>1232</td>\n",
       "    </tr>\n",
       "    <tr>\n",
       "      <th>XB</th>\n",
       "      <td>706</td>\n",
       "      <td>571</td>\n",
       "      <td>714</td>\n",
       "      <td>803</td>\n",
       "    </tr>\n",
       "    <tr>\n",
       "      <th>XOne</th>\n",
       "      <td>169</td>\n",
       "      <td>182</td>\n",
       "      <td>186</td>\n",
       "      <td>247</td>\n",
       "    </tr>\n",
       "  </tbody>\n",
       "</table>\n",
       "</div>"
      ],
      "text/plain": [
       "          critic_score  user_score  rating  name\n",
       "platform                                        \n",
       "2600                 0           0       0   116\n",
       "3DO                  0           0       0     3\n",
       "3DS                166         171     223   512\n",
       "DC                  14          14      14    52\n",
       "DS                 708         512    1255  2121\n",
       "GB                   0           0       0    97\n",
       "GBA                430         251     514   811\n",
       "GC                 437         357     457   542\n",
       "GEN                  0           0       0    27\n",
       "GG                   0           0       0     1\n",
       "N64                  0           0       0   316\n",
       "NES                  0           0       0    98\n",
       "NG                   0           0       0    12\n",
       "PC                 699         755     757   957\n",
       "PCFX                 0           0       0     1\n",
       "PS                 196         159     204  1190\n",
       "PS2               1275        1220    1456  2127\n",
       "PS3                804         861     935  1306\n",
       "PS4                252         257     255   392\n",
       "PSP                456         418     536  1193\n",
       "PSV                119         142     150   429\n",
       "SAT                  0           0       0   173\n",
       "SCD                  0           0       0     6\n",
       "SNES                 0           0       0   239\n",
       "TG16                 0           0       0     2\n",
       "WS                   0           0       0     6\n",
       "Wii                568         548     977  1286\n",
       "WiiU                90         100     105   147\n",
       "X360               894         945    1030  1232\n",
       "XB                 706         571     714   803\n",
       "XOne               169         182     186   247"
      ]
     },
     "execution_count": 18,
     "metadata": {},
     "output_type": "execute_result"
    }
   ],
   "source": [
    "# Посмоторим группировку по платформе\n",
    "games.loc[:, ['platform', 'critic_score', 'user_score', 'rating', 'name']].groupby('platform').count()"
   ]
  },
  {
   "cell_type": "code",
   "execution_count": 19,
   "metadata": {},
   "outputs": [
    {
     "data": {
      "text/html": [
       "<div>\n",
       "<style scoped>\n",
       "    .dataframe tbody tr th:only-of-type {\n",
       "        vertical-align: middle;\n",
       "    }\n",
       "\n",
       "    .dataframe tbody tr th {\n",
       "        vertical-align: top;\n",
       "    }\n",
       "\n",
       "    .dataframe thead th {\n",
       "        text-align: right;\n",
       "    }\n",
       "</style>\n",
       "<table border=\"1\" class=\"dataframe\">\n",
       "  <thead>\n",
       "    <tr style=\"text-align: right;\">\n",
       "      <th></th>\n",
       "      <th>critic_score</th>\n",
       "      <th>user_score</th>\n",
       "      <th>rating</th>\n",
       "      <th>name</th>\n",
       "    </tr>\n",
       "    <tr>\n",
       "      <th>year_of_release</th>\n",
       "      <th></th>\n",
       "      <th></th>\n",
       "      <th></th>\n",
       "      <th></th>\n",
       "    </tr>\n",
       "  </thead>\n",
       "  <tbody>\n",
       "    <tr>\n",
       "      <th>1980</th>\n",
       "      <td>0</td>\n",
       "      <td>0</td>\n",
       "      <td>0</td>\n",
       "      <td>9</td>\n",
       "    </tr>\n",
       "    <tr>\n",
       "      <th>1981</th>\n",
       "      <td>0</td>\n",
       "      <td>0</td>\n",
       "      <td>0</td>\n",
       "      <td>46</td>\n",
       "    </tr>\n",
       "    <tr>\n",
       "      <th>1982</th>\n",
       "      <td>0</td>\n",
       "      <td>0</td>\n",
       "      <td>0</td>\n",
       "      <td>36</td>\n",
       "    </tr>\n",
       "    <tr>\n",
       "      <th>1983</th>\n",
       "      <td>0</td>\n",
       "      <td>0</td>\n",
       "      <td>0</td>\n",
       "      <td>17</td>\n",
       "    </tr>\n",
       "    <tr>\n",
       "      <th>1984</th>\n",
       "      <td>0</td>\n",
       "      <td>0</td>\n",
       "      <td>0</td>\n",
       "      <td>14</td>\n",
       "    </tr>\n",
       "    <tr>\n",
       "      <th>1985</th>\n",
       "      <td>1</td>\n",
       "      <td>1</td>\n",
       "      <td>1</td>\n",
       "      <td>14</td>\n",
       "    </tr>\n",
       "    <tr>\n",
       "      <th>1986</th>\n",
       "      <td>0</td>\n",
       "      <td>0</td>\n",
       "      <td>0</td>\n",
       "      <td>21</td>\n",
       "    </tr>\n",
       "    <tr>\n",
       "      <th>1987</th>\n",
       "      <td>0</td>\n",
       "      <td>0</td>\n",
       "      <td>0</td>\n",
       "      <td>16</td>\n",
       "    </tr>\n",
       "    <tr>\n",
       "      <th>1988</th>\n",
       "      <td>1</td>\n",
       "      <td>1</td>\n",
       "      <td>1</td>\n",
       "      <td>15</td>\n",
       "    </tr>\n",
       "    <tr>\n",
       "      <th>1989</th>\n",
       "      <td>0</td>\n",
       "      <td>0</td>\n",
       "      <td>0</td>\n",
       "      <td>17</td>\n",
       "    </tr>\n",
       "    <tr>\n",
       "      <th>1990</th>\n",
       "      <td>0</td>\n",
       "      <td>0</td>\n",
       "      <td>0</td>\n",
       "      <td>16</td>\n",
       "    </tr>\n",
       "    <tr>\n",
       "      <th>1991</th>\n",
       "      <td>0</td>\n",
       "      <td>0</td>\n",
       "      <td>0</td>\n",
       "      <td>41</td>\n",
       "    </tr>\n",
       "    <tr>\n",
       "      <th>1992</th>\n",
       "      <td>1</td>\n",
       "      <td>1</td>\n",
       "      <td>2</td>\n",
       "      <td>43</td>\n",
       "    </tr>\n",
       "    <tr>\n",
       "      <th>1993</th>\n",
       "      <td>0</td>\n",
       "      <td>0</td>\n",
       "      <td>0</td>\n",
       "      <td>60</td>\n",
       "    </tr>\n",
       "    <tr>\n",
       "      <th>1994</th>\n",
       "      <td>1</td>\n",
       "      <td>1</td>\n",
       "      <td>1</td>\n",
       "      <td>121</td>\n",
       "    </tr>\n",
       "    <tr>\n",
       "      <th>1995</th>\n",
       "      <td>0</td>\n",
       "      <td>0</td>\n",
       "      <td>0</td>\n",
       "      <td>219</td>\n",
       "    </tr>\n",
       "    <tr>\n",
       "      <th>1996</th>\n",
       "      <td>8</td>\n",
       "      <td>8</td>\n",
       "      <td>7</td>\n",
       "      <td>263</td>\n",
       "    </tr>\n",
       "    <tr>\n",
       "      <th>1997</th>\n",
       "      <td>17</td>\n",
       "      <td>18</td>\n",
       "      <td>19</td>\n",
       "      <td>289</td>\n",
       "    </tr>\n",
       "    <tr>\n",
       "      <th>1998</th>\n",
       "      <td>28</td>\n",
       "      <td>31</td>\n",
       "      <td>32</td>\n",
       "      <td>379</td>\n",
       "    </tr>\n",
       "    <tr>\n",
       "      <th>1999</th>\n",
       "      <td>39</td>\n",
       "      <td>31</td>\n",
       "      <td>42</td>\n",
       "      <td>338</td>\n",
       "    </tr>\n",
       "    <tr>\n",
       "      <th>2000</th>\n",
       "      <td>143</td>\n",
       "      <td>107</td>\n",
       "      <td>148</td>\n",
       "      <td>350</td>\n",
       "    </tr>\n",
       "    <tr>\n",
       "      <th>2001</th>\n",
       "      <td>326</td>\n",
       "      <td>257</td>\n",
       "      <td>339</td>\n",
       "      <td>482</td>\n",
       "    </tr>\n",
       "    <tr>\n",
       "      <th>2002</th>\n",
       "      <td>627</td>\n",
       "      <td>464</td>\n",
       "      <td>655</td>\n",
       "      <td>829</td>\n",
       "    </tr>\n",
       "    <tr>\n",
       "      <th>2003</th>\n",
       "      <td>585</td>\n",
       "      <td>516</td>\n",
       "      <td>613</td>\n",
       "      <td>775</td>\n",
       "    </tr>\n",
       "    <tr>\n",
       "      <th>2004</th>\n",
       "      <td>561</td>\n",
       "      <td>489</td>\n",
       "      <td>598</td>\n",
       "      <td>762</td>\n",
       "    </tr>\n",
       "    <tr>\n",
       "      <th>2005</th>\n",
       "      <td>655</td>\n",
       "      <td>583</td>\n",
       "      <td>706</td>\n",
       "      <td>939</td>\n",
       "    </tr>\n",
       "    <tr>\n",
       "      <th>2006</th>\n",
       "      <td>620</td>\n",
       "      <td>552</td>\n",
       "      <td>678</td>\n",
       "      <td>1006</td>\n",
       "    </tr>\n",
       "    <tr>\n",
       "      <th>2007</th>\n",
       "      <td>692</td>\n",
       "      <td>629</td>\n",
       "      <td>821</td>\n",
       "      <td>1197</td>\n",
       "    </tr>\n",
       "    <tr>\n",
       "      <th>2008</th>\n",
       "      <td>715</td>\n",
       "      <td>661</td>\n",
       "      <td>981</td>\n",
       "      <td>1427</td>\n",
       "    </tr>\n",
       "    <tr>\n",
       "      <th>2009</th>\n",
       "      <td>651</td>\n",
       "      <td>614</td>\n",
       "      <td>1011</td>\n",
       "      <td>1426</td>\n",
       "    </tr>\n",
       "    <tr>\n",
       "      <th>2010</th>\n",
       "      <td>500</td>\n",
       "      <td>467</td>\n",
       "      <td>799</td>\n",
       "      <td>1255</td>\n",
       "    </tr>\n",
       "    <tr>\n",
       "      <th>2011</th>\n",
       "      <td>500</td>\n",
       "      <td>501</td>\n",
       "      <td>703</td>\n",
       "      <td>1136</td>\n",
       "    </tr>\n",
       "    <tr>\n",
       "      <th>2012</th>\n",
       "      <td>321</td>\n",
       "      <td>339</td>\n",
       "      <td>355</td>\n",
       "      <td>653</td>\n",
       "    </tr>\n",
       "    <tr>\n",
       "      <th>2013</th>\n",
       "      <td>273</td>\n",
       "      <td>304</td>\n",
       "      <td>316</td>\n",
       "      <td>544</td>\n",
       "    </tr>\n",
       "    <tr>\n",
       "      <th>2014</th>\n",
       "      <td>261</td>\n",
       "      <td>329</td>\n",
       "      <td>345</td>\n",
       "      <td>581</td>\n",
       "    </tr>\n",
       "    <tr>\n",
       "      <th>2015</th>\n",
       "      <td>225</td>\n",
       "      <td>297</td>\n",
       "      <td>315</td>\n",
       "      <td>606</td>\n",
       "    </tr>\n",
       "    <tr>\n",
       "      <th>2016</th>\n",
       "      <td>232</td>\n",
       "      <td>262</td>\n",
       "      <td>280</td>\n",
       "      <td>502</td>\n",
       "    </tr>\n",
       "  </tbody>\n",
       "</table>\n",
       "</div>"
      ],
      "text/plain": [
       "                 critic_score  user_score  rating  name\n",
       "year_of_release                                        \n",
       "1980                        0           0       0     9\n",
       "1981                        0           0       0    46\n",
       "1982                        0           0       0    36\n",
       "1983                        0           0       0    17\n",
       "1984                        0           0       0    14\n",
       "1985                        1           1       1    14\n",
       "1986                        0           0       0    21\n",
       "1987                        0           0       0    16\n",
       "1988                        1           1       1    15\n",
       "1989                        0           0       0    17\n",
       "1990                        0           0       0    16\n",
       "1991                        0           0       0    41\n",
       "1992                        1           1       2    43\n",
       "1993                        0           0       0    60\n",
       "1994                        1           1       1   121\n",
       "1995                        0           0       0   219\n",
       "1996                        8           8       7   263\n",
       "1997                       17          18      19   289\n",
       "1998                       28          31      32   379\n",
       "1999                       39          31      42   338\n",
       "2000                      143         107     148   350\n",
       "2001                      326         257     339   482\n",
       "2002                      627         464     655   829\n",
       "2003                      585         516     613   775\n",
       "2004                      561         489     598   762\n",
       "2005                      655         583     706   939\n",
       "2006                      620         552     678  1006\n",
       "2007                      692         629     821  1197\n",
       "2008                      715         661     981  1427\n",
       "2009                      651         614    1011  1426\n",
       "2010                      500         467     799  1255\n",
       "2011                      500         501     703  1136\n",
       "2012                      321         339     355   653\n",
       "2013                      273         304     316   544\n",
       "2014                      261         329     345   581\n",
       "2015                      225         297     315   606\n",
       "2016                      232         262     280   502"
      ]
     },
     "execution_count": 19,
     "metadata": {},
     "output_type": "execute_result"
    }
   ],
   "source": [
    "# Посмоторим группировку по году\n",
    "games.loc[:, ['year_of_release', 'critic_score', 'user_score', 'rating', 'name']].groupby('year_of_release').count()"
   ]
  },
  {
   "cell_type": "code",
   "execution_count": 20,
   "metadata": {},
   "outputs": [
    {
     "data": {
      "text/html": [
       "<div>\n",
       "<style scoped>\n",
       "    .dataframe tbody tr th:only-of-type {\n",
       "        vertical-align: middle;\n",
       "    }\n",
       "\n",
       "    .dataframe tbody tr th {\n",
       "        vertical-align: top;\n",
       "    }\n",
       "\n",
       "    .dataframe thead th {\n",
       "        text-align: right;\n",
       "    }\n",
       "</style>\n",
       "<table border=\"1\" class=\"dataframe\">\n",
       "  <thead>\n",
       "    <tr style=\"text-align: right;\">\n",
       "      <th></th>\n",
       "      <th>critic_score</th>\n",
       "      <th>name</th>\n",
       "      <th>rating</th>\n",
       "      <th>user_score</th>\n",
       "    </tr>\n",
       "    <tr>\n",
       "      <th>year_of_release</th>\n",
       "      <th></th>\n",
       "      <th></th>\n",
       "      <th></th>\n",
       "      <th></th>\n",
       "    </tr>\n",
       "  </thead>\n",
       "  <tbody>\n",
       "    <tr>\n",
       "      <th>1980</th>\n",
       "      <td>0</td>\n",
       "      <td>9</td>\n",
       "      <td>0</td>\n",
       "      <td>0</td>\n",
       "    </tr>\n",
       "    <tr>\n",
       "      <th>1981</th>\n",
       "      <td>0</td>\n",
       "      <td>46</td>\n",
       "      <td>0</td>\n",
       "      <td>0</td>\n",
       "    </tr>\n",
       "    <tr>\n",
       "      <th>1982</th>\n",
       "      <td>0</td>\n",
       "      <td>36</td>\n",
       "      <td>0</td>\n",
       "      <td>0</td>\n",
       "    </tr>\n",
       "    <tr>\n",
       "      <th>1983</th>\n",
       "      <td>0</td>\n",
       "      <td>17</td>\n",
       "      <td>0</td>\n",
       "      <td>0</td>\n",
       "    </tr>\n",
       "    <tr>\n",
       "      <th>1984</th>\n",
       "      <td>0</td>\n",
       "      <td>14</td>\n",
       "      <td>0</td>\n",
       "      <td>0</td>\n",
       "    </tr>\n",
       "    <tr>\n",
       "      <th>1985</th>\n",
       "      <td>1</td>\n",
       "      <td>14</td>\n",
       "      <td>1</td>\n",
       "      <td>1</td>\n",
       "    </tr>\n",
       "    <tr>\n",
       "      <th>1986</th>\n",
       "      <td>0</td>\n",
       "      <td>21</td>\n",
       "      <td>0</td>\n",
       "      <td>0</td>\n",
       "    </tr>\n",
       "    <tr>\n",
       "      <th>1987</th>\n",
       "      <td>0</td>\n",
       "      <td>16</td>\n",
       "      <td>0</td>\n",
       "      <td>0</td>\n",
       "    </tr>\n",
       "    <tr>\n",
       "      <th>1988</th>\n",
       "      <td>1</td>\n",
       "      <td>14</td>\n",
       "      <td>1</td>\n",
       "      <td>1</td>\n",
       "    </tr>\n",
       "    <tr>\n",
       "      <th>1989</th>\n",
       "      <td>0</td>\n",
       "      <td>7</td>\n",
       "      <td>0</td>\n",
       "      <td>0</td>\n",
       "    </tr>\n",
       "    <tr>\n",
       "      <th>1990</th>\n",
       "      <td>0</td>\n",
       "      <td>9</td>\n",
       "      <td>0</td>\n",
       "      <td>0</td>\n",
       "    </tr>\n",
       "    <tr>\n",
       "      <th>1991</th>\n",
       "      <td>0</td>\n",
       "      <td>8</td>\n",
       "      <td>0</td>\n",
       "      <td>0</td>\n",
       "    </tr>\n",
       "    <tr>\n",
       "      <th>1992</th>\n",
       "      <td>1</td>\n",
       "      <td>15</td>\n",
       "      <td>2</td>\n",
       "      <td>1</td>\n",
       "    </tr>\n",
       "    <tr>\n",
       "      <th>1993</th>\n",
       "      <td>0</td>\n",
       "      <td>14</td>\n",
       "      <td>0</td>\n",
       "      <td>0</td>\n",
       "    </tr>\n",
       "    <tr>\n",
       "      <th>1994</th>\n",
       "      <td>1</td>\n",
       "      <td>46</td>\n",
       "      <td>1</td>\n",
       "      <td>1</td>\n",
       "    </tr>\n",
       "    <tr>\n",
       "      <th>1995</th>\n",
       "      <td>0</td>\n",
       "      <td>109</td>\n",
       "      <td>0</td>\n",
       "      <td>0</td>\n",
       "    </tr>\n",
       "    <tr>\n",
       "      <th>1996</th>\n",
       "      <td>8</td>\n",
       "      <td>171</td>\n",
       "      <td>7</td>\n",
       "      <td>8</td>\n",
       "    </tr>\n",
       "    <tr>\n",
       "      <th>1997</th>\n",
       "      <td>17</td>\n",
       "      <td>194</td>\n",
       "      <td>19</td>\n",
       "      <td>18</td>\n",
       "    </tr>\n",
       "    <tr>\n",
       "      <th>1998</th>\n",
       "      <td>28</td>\n",
       "      <td>263</td>\n",
       "      <td>32</td>\n",
       "      <td>31</td>\n",
       "    </tr>\n",
       "    <tr>\n",
       "      <th>1999</th>\n",
       "      <td>39</td>\n",
       "      <td>221</td>\n",
       "      <td>42</td>\n",
       "      <td>31</td>\n",
       "    </tr>\n",
       "    <tr>\n",
       "      <th>2000</th>\n",
       "      <td>143</td>\n",
       "      <td>271</td>\n",
       "      <td>148</td>\n",
       "      <td>107</td>\n",
       "    </tr>\n",
       "    <tr>\n",
       "      <th>2001</th>\n",
       "      <td>326</td>\n",
       "      <td>461</td>\n",
       "      <td>339</td>\n",
       "      <td>257</td>\n",
       "    </tr>\n",
       "    <tr>\n",
       "      <th>2002</th>\n",
       "      <td>627</td>\n",
       "      <td>828</td>\n",
       "      <td>655</td>\n",
       "      <td>464</td>\n",
       "    </tr>\n",
       "    <tr>\n",
       "      <th>2003</th>\n",
       "      <td>585</td>\n",
       "      <td>775</td>\n",
       "      <td>613</td>\n",
       "      <td>516</td>\n",
       "    </tr>\n",
       "    <tr>\n",
       "      <th>2004</th>\n",
       "      <td>561</td>\n",
       "      <td>762</td>\n",
       "      <td>598</td>\n",
       "      <td>489</td>\n",
       "    </tr>\n",
       "    <tr>\n",
       "      <th>2005</th>\n",
       "      <td>655</td>\n",
       "      <td>939</td>\n",
       "      <td>706</td>\n",
       "      <td>583</td>\n",
       "    </tr>\n",
       "    <tr>\n",
       "      <th>2006</th>\n",
       "      <td>620</td>\n",
       "      <td>1006</td>\n",
       "      <td>678</td>\n",
       "      <td>552</td>\n",
       "    </tr>\n",
       "    <tr>\n",
       "      <th>2007</th>\n",
       "      <td>692</td>\n",
       "      <td>1197</td>\n",
       "      <td>821</td>\n",
       "      <td>629</td>\n",
       "    </tr>\n",
       "    <tr>\n",
       "      <th>2008</th>\n",
       "      <td>715</td>\n",
       "      <td>1427</td>\n",
       "      <td>981</td>\n",
       "      <td>661</td>\n",
       "    </tr>\n",
       "    <tr>\n",
       "      <th>2009</th>\n",
       "      <td>651</td>\n",
       "      <td>1426</td>\n",
       "      <td>1011</td>\n",
       "      <td>614</td>\n",
       "    </tr>\n",
       "    <tr>\n",
       "      <th>2010</th>\n",
       "      <td>500</td>\n",
       "      <td>1255</td>\n",
       "      <td>799</td>\n",
       "      <td>467</td>\n",
       "    </tr>\n",
       "    <tr>\n",
       "      <th>2011</th>\n",
       "      <td>500</td>\n",
       "      <td>1136</td>\n",
       "      <td>703</td>\n",
       "      <td>501</td>\n",
       "    </tr>\n",
       "    <tr>\n",
       "      <th>2012</th>\n",
       "      <td>321</td>\n",
       "      <td>653</td>\n",
       "      <td>355</td>\n",
       "      <td>339</td>\n",
       "    </tr>\n",
       "    <tr>\n",
       "      <th>2013</th>\n",
       "      <td>273</td>\n",
       "      <td>544</td>\n",
       "      <td>316</td>\n",
       "      <td>304</td>\n",
       "    </tr>\n",
       "    <tr>\n",
       "      <th>2014</th>\n",
       "      <td>261</td>\n",
       "      <td>581</td>\n",
       "      <td>345</td>\n",
       "      <td>329</td>\n",
       "    </tr>\n",
       "    <tr>\n",
       "      <th>2015</th>\n",
       "      <td>225</td>\n",
       "      <td>606</td>\n",
       "      <td>315</td>\n",
       "      <td>297</td>\n",
       "    </tr>\n",
       "    <tr>\n",
       "      <th>2016</th>\n",
       "      <td>232</td>\n",
       "      <td>502</td>\n",
       "      <td>280</td>\n",
       "      <td>262</td>\n",
       "    </tr>\n",
       "  </tbody>\n",
       "</table>\n",
       "</div>"
      ],
      "text/plain": [
       "                 critic_score  name  rating  user_score\n",
       "year_of_release                                        \n",
       "1980                        0     9       0           0\n",
       "1981                        0    46       0           0\n",
       "1982                        0    36       0           0\n",
       "1983                        0    17       0           0\n",
       "1984                        0    14       0           0\n",
       "1985                        1    14       1           1\n",
       "1986                        0    21       0           0\n",
       "1987                        0    16       0           0\n",
       "1988                        1    14       1           1\n",
       "1989                        0     7       0           0\n",
       "1990                        0     9       0           0\n",
       "1991                        0     8       0           0\n",
       "1992                        1    15       2           1\n",
       "1993                        0    14       0           0\n",
       "1994                        1    46       1           1\n",
       "1995                        0   109       0           0\n",
       "1996                        8   171       7           8\n",
       "1997                       17   194      19          18\n",
       "1998                       28   263      32          31\n",
       "1999                       39   221      42          31\n",
       "2000                      143   271     148         107\n",
       "2001                      326   461     339         257\n",
       "2002                      627   828     655         464\n",
       "2003                      585   775     613         516\n",
       "2004                      561   762     598         489\n",
       "2005                      655   939     706         583\n",
       "2006                      620  1006     678         552\n",
       "2007                      692  1197     821         629\n",
       "2008                      715  1427     981         661\n",
       "2009                      651  1426    1011         614\n",
       "2010                      500  1255     799         467\n",
       "2011                      500  1136     703         501\n",
       "2012                      321   653     355         339\n",
       "2013                      273   544     316         304\n",
       "2014                      261   581     345         329\n",
       "2015                      225   606     315         297\n",
       "2016                      232   502     280         262"
      ]
     },
     "execution_count": 20,
     "metadata": {},
     "output_type": "execute_result"
    }
   ],
   "source": [
    "# Посмоторим группировку по году, исключив платформы без оценок\n",
    "no_score_list = (\"WS\", \"GB\", \"N64\", \"SAT\", \"SNES\")\n",
    "games.query('platform not in @no_score_list').pivot_table(\n",
    "    index= 'year_of_release', \n",
    "    values = ('name', 'critic_score', 'user_score', 'rating'), \n",
    "    aggfunc = ('count')\n",
    ")"
   ]
  },
  {
   "cell_type": "markdown",
   "metadata": {},
   "source": [
    "### Новые столбцы"
   ]
  },
  {
   "cell_type": "code",
   "execution_count": 21,
   "metadata": {},
   "outputs": [],
   "source": [
    "# Посчитаем суммарные продажи во всех регионах и запишим их в отдельный столбец\n",
    "games['total_sales'] = games[['na_sales','eu_sales','jp_sales', 'other_sales']].sum(axis=1)"
   ]
  },
  {
   "cell_type": "code",
   "execution_count": 22,
   "metadata": {},
   "outputs": [
    {
     "data": {
      "text/html": [
       "<div>\n",
       "<style scoped>\n",
       "    .dataframe tbody tr th:only-of-type {\n",
       "        vertical-align: middle;\n",
       "    }\n",
       "\n",
       "    .dataframe tbody tr th {\n",
       "        vertical-align: top;\n",
       "    }\n",
       "\n",
       "    .dataframe thead th {\n",
       "        text-align: right;\n",
       "    }\n",
       "</style>\n",
       "<table border=\"1\" class=\"dataframe\">\n",
       "  <thead>\n",
       "    <tr style=\"text-align: right;\">\n",
       "      <th></th>\n",
       "      <th>name</th>\n",
       "      <th>platform</th>\n",
       "      <th>year_of_release</th>\n",
       "      <th>genre</th>\n",
       "      <th>na_sales</th>\n",
       "      <th>eu_sales</th>\n",
       "      <th>jp_sales</th>\n",
       "      <th>other_sales</th>\n",
       "      <th>critic_score</th>\n",
       "      <th>user_score</th>\n",
       "      <th>rating</th>\n",
       "      <th>total_sales</th>\n",
       "    </tr>\n",
       "  </thead>\n",
       "  <tbody>\n",
       "    <tr>\n",
       "      <th>0</th>\n",
       "      <td>Wii Sports</td>\n",
       "      <td>Wii</td>\n",
       "      <td>2006</td>\n",
       "      <td>Sports</td>\n",
       "      <td>41.36</td>\n",
       "      <td>28.96</td>\n",
       "      <td>3.77</td>\n",
       "      <td>8.45</td>\n",
       "      <td>76.00</td>\n",
       "      <td>8.00</td>\n",
       "      <td>E</td>\n",
       "      <td>82.54</td>\n",
       "    </tr>\n",
       "    <tr>\n",
       "      <th>1</th>\n",
       "      <td>Super Mario Bros.</td>\n",
       "      <td>NES</td>\n",
       "      <td>1985</td>\n",
       "      <td>Platform</td>\n",
       "      <td>29.08</td>\n",
       "      <td>3.58</td>\n",
       "      <td>6.81</td>\n",
       "      <td>0.77</td>\n",
       "      <td>NaN</td>\n",
       "      <td>NaN</td>\n",
       "      <td>NaN</td>\n",
       "      <td>40.24</td>\n",
       "    </tr>\n",
       "    <tr>\n",
       "      <th>2</th>\n",
       "      <td>Mario Kart Wii</td>\n",
       "      <td>Wii</td>\n",
       "      <td>2008</td>\n",
       "      <td>Racing</td>\n",
       "      <td>15.68</td>\n",
       "      <td>12.76</td>\n",
       "      <td>3.79</td>\n",
       "      <td>3.29</td>\n",
       "      <td>82.00</td>\n",
       "      <td>8.30</td>\n",
       "      <td>E</td>\n",
       "      <td>35.52</td>\n",
       "    </tr>\n",
       "    <tr>\n",
       "      <th>3</th>\n",
       "      <td>Wii Sports Resort</td>\n",
       "      <td>Wii</td>\n",
       "      <td>2009</td>\n",
       "      <td>Sports</td>\n",
       "      <td>15.61</td>\n",
       "      <td>10.93</td>\n",
       "      <td>3.28</td>\n",
       "      <td>2.95</td>\n",
       "      <td>80.00</td>\n",
       "      <td>8.00</td>\n",
       "      <td>E</td>\n",
       "      <td>32.77</td>\n",
       "    </tr>\n",
       "    <tr>\n",
       "      <th>4</th>\n",
       "      <td>Pokemon Red/Pokemon Blue</td>\n",
       "      <td>GB</td>\n",
       "      <td>1996</td>\n",
       "      <td>Role-Playing</td>\n",
       "      <td>11.27</td>\n",
       "      <td>8.89</td>\n",
       "      <td>10.22</td>\n",
       "      <td>1.00</td>\n",
       "      <td>NaN</td>\n",
       "      <td>NaN</td>\n",
       "      <td>NaN</td>\n",
       "      <td>31.38</td>\n",
       "    </tr>\n",
       "    <tr>\n",
       "      <th>5</th>\n",
       "      <td>Tetris</td>\n",
       "      <td>GB</td>\n",
       "      <td>1989</td>\n",
       "      <td>Puzzle</td>\n",
       "      <td>23.20</td>\n",
       "      <td>2.26</td>\n",
       "      <td>4.22</td>\n",
       "      <td>0.58</td>\n",
       "      <td>NaN</td>\n",
       "      <td>NaN</td>\n",
       "      <td>NaN</td>\n",
       "      <td>30.26</td>\n",
       "    </tr>\n",
       "    <tr>\n",
       "      <th>6</th>\n",
       "      <td>New Super Mario Bros.</td>\n",
       "      <td>DS</td>\n",
       "      <td>2006</td>\n",
       "      <td>Platform</td>\n",
       "      <td>11.28</td>\n",
       "      <td>9.14</td>\n",
       "      <td>6.50</td>\n",
       "      <td>2.88</td>\n",
       "      <td>89.00</td>\n",
       "      <td>8.50</td>\n",
       "      <td>E</td>\n",
       "      <td>29.80</td>\n",
       "    </tr>\n",
       "    <tr>\n",
       "      <th>7</th>\n",
       "      <td>Wii Play</td>\n",
       "      <td>Wii</td>\n",
       "      <td>2006</td>\n",
       "      <td>Misc</td>\n",
       "      <td>13.96</td>\n",
       "      <td>9.18</td>\n",
       "      <td>2.93</td>\n",
       "      <td>2.84</td>\n",
       "      <td>58.00</td>\n",
       "      <td>6.60</td>\n",
       "      <td>E</td>\n",
       "      <td>28.91</td>\n",
       "    </tr>\n",
       "    <tr>\n",
       "      <th>8</th>\n",
       "      <td>New Super Mario Bros. Wii</td>\n",
       "      <td>Wii</td>\n",
       "      <td>2009</td>\n",
       "      <td>Platform</td>\n",
       "      <td>14.44</td>\n",
       "      <td>6.94</td>\n",
       "      <td>4.70</td>\n",
       "      <td>2.24</td>\n",
       "      <td>87.00</td>\n",
       "      <td>8.40</td>\n",
       "      <td>E</td>\n",
       "      <td>28.32</td>\n",
       "    </tr>\n",
       "    <tr>\n",
       "      <th>9</th>\n",
       "      <td>Duck Hunt</td>\n",
       "      <td>NES</td>\n",
       "      <td>1984</td>\n",
       "      <td>Shooter</td>\n",
       "      <td>26.93</td>\n",
       "      <td>0.63</td>\n",
       "      <td>0.28</td>\n",
       "      <td>0.47</td>\n",
       "      <td>NaN</td>\n",
       "      <td>NaN</td>\n",
       "      <td>NaN</td>\n",
       "      <td>28.31</td>\n",
       "    </tr>\n",
       "  </tbody>\n",
       "</table>\n",
       "</div>"
      ],
      "text/plain": [
       "                        name platform  year_of_release         genre  \\\n",
       "0                 Wii Sports      Wii             2006        Sports   \n",
       "1          Super Mario Bros.      NES             1985      Platform   \n",
       "2             Mario Kart Wii      Wii             2008        Racing   \n",
       "3          Wii Sports Resort      Wii             2009        Sports   \n",
       "4   Pokemon Red/Pokemon Blue       GB             1996  Role-Playing   \n",
       "5                     Tetris       GB             1989        Puzzle   \n",
       "6      New Super Mario Bros.       DS             2006      Platform   \n",
       "7                   Wii Play      Wii             2006          Misc   \n",
       "8  New Super Mario Bros. Wii      Wii             2009      Platform   \n",
       "9                  Duck Hunt      NES             1984       Shooter   \n",
       "\n",
       "   na_sales  eu_sales  jp_sales  other_sales  critic_score  user_score rating  \\\n",
       "0     41.36     28.96      3.77         8.45         76.00        8.00      E   \n",
       "1     29.08      3.58      6.81         0.77           NaN         NaN    NaN   \n",
       "2     15.68     12.76      3.79         3.29         82.00        8.30      E   \n",
       "3     15.61     10.93      3.28         2.95         80.00        8.00      E   \n",
       "4     11.27      8.89     10.22         1.00           NaN         NaN    NaN   \n",
       "5     23.20      2.26      4.22         0.58           NaN         NaN    NaN   \n",
       "6     11.28      9.14      6.50         2.88         89.00        8.50      E   \n",
       "7     13.96      9.18      2.93         2.84         58.00        6.60      E   \n",
       "8     14.44      6.94      4.70         2.24         87.00        8.40      E   \n",
       "9     26.93      0.63      0.28         0.47           NaN         NaN    NaN   \n",
       "\n",
       "   total_sales  \n",
       "0        82.54  \n",
       "1        40.24  \n",
       "2        35.52  \n",
       "3        32.77  \n",
       "4        31.38  \n",
       "5        30.26  \n",
       "6        29.80  \n",
       "7        28.91  \n",
       "8        28.32  \n",
       "9        28.31  "
      ]
     },
     "execution_count": 22,
     "metadata": {},
     "output_type": "execute_result"
    }
   ],
   "source": [
    "# посмотим топ продаж\n",
    "games.sort_values(by = 'total_sales', ascending = False).head(10)"
   ]
  },
  {
   "cell_type": "markdown",
   "metadata": {},
   "source": [
    "### Вывод"
   ]
  },
  {
   "cell_type": "markdown",
   "metadata": {},
   "source": [
    "Пропуски в year_of_release (265) заменили на 0, подразумевая, что год не известен. Также преобразовали в int.\n",
    "\n",
    "В столбцах critic_score и user_score много пропущенных значений, отбросить их пока нельзя. Кроме того, в user_score есть значения tbd, что скорее всего означает: \"будет определено позднее\", значит тоже данных нет. \n",
    "\n",
    "Для 14 платформ из 31 нет данных по оценкам и рейтингу. Кроме того, почти оценки отсутствуют для выпуска до 1996 года. Если убрать пропуски по платформам, для которых оценок нет, все равно остаются пропуски. Для анализа оценок лучше сделать выборку по годам.\n",
    "\n",
    "В топ 10 кассовых игр вошли игры на платформах Wii и Nintendo про Марио и спорт."
   ]
  },
  {
   "cell_type": "markdown",
   "metadata": {},
   "source": [
    "## Анализ данных"
   ]
  },
  {
   "cell_type": "markdown",
   "metadata": {},
   "source": [
    "**Выпуск игр по годам**"
   ]
  },
  {
   "cell_type": "code",
   "execution_count": 23,
   "metadata": {},
   "outputs": [
    {
     "data": {
      "text/plain": [
       "year_of_release\n",
       "1980       9\n",
       "1981      46\n",
       "1982      36\n",
       "1983      17\n",
       "1984      14\n",
       "1985      14\n",
       "1986      21\n",
       "1987      16\n",
       "1988      15\n",
       "1989      17\n",
       "1990      16\n",
       "1991      41\n",
       "1992      43\n",
       "1993      60\n",
       "1994     121\n",
       "1995     219\n",
       "1996     263\n",
       "1997     289\n",
       "1998     379\n",
       "1999     338\n",
       "2000     350\n",
       "2001     482\n",
       "2002     829\n",
       "2003     775\n",
       "2004     762\n",
       "2005     939\n",
       "2006    1006\n",
       "2007    1197\n",
       "2008    1427\n",
       "2009    1426\n",
       "2010    1255\n",
       "2011    1136\n",
       "2012     653\n",
       "2013     544\n",
       "2014     581\n",
       "2015     606\n",
       "2016     502\n",
       "Name: name, dtype: int64"
      ]
     },
     "execution_count": 23,
     "metadata": {},
     "output_type": "execute_result"
    }
   ],
   "source": [
    "# Посмотрите, сколько игр выпускалось в разные годы\n",
    "games.groupby('year_of_release')['name'].count()"
   ]
  },
  {
   "cell_type": "markdown",
   "metadata": {},
   "source": [
    "**Вывод**: Как отмечалось ранее, после 1993 года количество игр резко увеличивается, а с 2012 сокращается. Возможно, это связано с сокращением числа платформ и обновлением старого поколения. Для анализа и планирования наиболее важный период с 2012 года, когда в целом менялась индустрия игр. "
   ]
  },
  {
   "cell_type": "markdown",
   "metadata": {},
   "source": [
    "**Топовые платформы**"
   ]
  },
  {
   "cell_type": "code",
   "execution_count": 24,
   "metadata": {},
   "outputs": [
    {
     "data": {
      "text/plain": [
       "platform\n",
       "PS2    1,233.56\n",
       "X360     961.24\n",
       "PS3      931.34\n",
       "Wii      891.18\n",
       "DS       802.78\n",
       "PS       727.58\n",
       "PS4      314.14\n",
       "GBA      312.88\n",
       "PSP      289.53\n",
       "3DS      257.81\n",
       "Name: total_sales, dtype: float64"
      ]
     },
     "execution_count": 24,
     "metadata": {},
     "output_type": "execute_result"
    }
   ],
   "source": [
    "# Выберем платформы с наибольшими суммарными продажами \n",
    "games.groupby('platform')['total_sales'].sum().sort_values(ascending = False).head(10)"
   ]
  },
  {
   "cell_type": "code",
   "execution_count": 25,
   "metadata": {},
   "outputs": [
    {
     "data": {
      "text/html": [
       "<div>\n",
       "<style scoped>\n",
       "    .dataframe tbody tr th:only-of-type {\n",
       "        vertical-align: middle;\n",
       "    }\n",
       "\n",
       "    .dataframe tbody tr th {\n",
       "        vertical-align: top;\n",
       "    }\n",
       "\n",
       "    .dataframe thead th {\n",
       "        text-align: right;\n",
       "    }\n",
       "</style>\n",
       "<table border=\"1\" class=\"dataframe\">\n",
       "  <thead>\n",
       "    <tr style=\"text-align: right;\">\n",
       "      <th>platform</th>\n",
       "      <th>3DS</th>\n",
       "      <th>DS</th>\n",
       "      <th>GBA</th>\n",
       "      <th>PS</th>\n",
       "      <th>PS2</th>\n",
       "      <th>PS3</th>\n",
       "      <th>PS4</th>\n",
       "      <th>PSP</th>\n",
       "      <th>Wii</th>\n",
       "      <th>X360</th>\n",
       "    </tr>\n",
       "    <tr>\n",
       "      <th>year_of_release</th>\n",
       "      <th></th>\n",
       "      <th></th>\n",
       "      <th></th>\n",
       "      <th></th>\n",
       "      <th></th>\n",
       "      <th></th>\n",
       "      <th></th>\n",
       "      <th></th>\n",
       "      <th></th>\n",
       "      <th></th>\n",
       "    </tr>\n",
       "  </thead>\n",
       "  <tbody>\n",
       "    <tr>\n",
       "      <th>1985</th>\n",
       "      <td>NaN</td>\n",
       "      <td>0.02</td>\n",
       "      <td>NaN</td>\n",
       "      <td>NaN</td>\n",
       "      <td>NaN</td>\n",
       "      <td>NaN</td>\n",
       "      <td>NaN</td>\n",
       "      <td>NaN</td>\n",
       "      <td>NaN</td>\n",
       "      <td>NaN</td>\n",
       "    </tr>\n",
       "    <tr>\n",
       "      <th>1994</th>\n",
       "      <td>NaN</td>\n",
       "      <td>NaN</td>\n",
       "      <td>NaN</td>\n",
       "      <td>6.03</td>\n",
       "      <td>NaN</td>\n",
       "      <td>NaN</td>\n",
       "      <td>NaN</td>\n",
       "      <td>NaN</td>\n",
       "      <td>NaN</td>\n",
       "      <td>NaN</td>\n",
       "    </tr>\n",
       "    <tr>\n",
       "      <th>1995</th>\n",
       "      <td>NaN</td>\n",
       "      <td>NaN</td>\n",
       "      <td>NaN</td>\n",
       "      <td>35.96</td>\n",
       "      <td>NaN</td>\n",
       "      <td>NaN</td>\n",
       "      <td>NaN</td>\n",
       "      <td>NaN</td>\n",
       "      <td>NaN</td>\n",
       "      <td>NaN</td>\n",
       "    </tr>\n",
       "    <tr>\n",
       "      <th>1996</th>\n",
       "      <td>NaN</td>\n",
       "      <td>NaN</td>\n",
       "      <td>NaN</td>\n",
       "      <td>94.70</td>\n",
       "      <td>NaN</td>\n",
       "      <td>NaN</td>\n",
       "      <td>NaN</td>\n",
       "      <td>NaN</td>\n",
       "      <td>NaN</td>\n",
       "      <td>NaN</td>\n",
       "    </tr>\n",
       "    <tr>\n",
       "      <th>1997</th>\n",
       "      <td>NaN</td>\n",
       "      <td>NaN</td>\n",
       "      <td>NaN</td>\n",
       "      <td>136.17</td>\n",
       "      <td>NaN</td>\n",
       "      <td>NaN</td>\n",
       "      <td>NaN</td>\n",
       "      <td>NaN</td>\n",
       "      <td>NaN</td>\n",
       "      <td>NaN</td>\n",
       "    </tr>\n",
       "    <tr>\n",
       "      <th>1998</th>\n",
       "      <td>NaN</td>\n",
       "      <td>NaN</td>\n",
       "      <td>NaN</td>\n",
       "      <td>169.49</td>\n",
       "      <td>NaN</td>\n",
       "      <td>NaN</td>\n",
       "      <td>NaN</td>\n",
       "      <td>NaN</td>\n",
       "      <td>NaN</td>\n",
       "      <td>NaN</td>\n",
       "    </tr>\n",
       "    <tr>\n",
       "      <th>1999</th>\n",
       "      <td>NaN</td>\n",
       "      <td>NaN</td>\n",
       "      <td>NaN</td>\n",
       "      <td>144.53</td>\n",
       "      <td>NaN</td>\n",
       "      <td>NaN</td>\n",
       "      <td>NaN</td>\n",
       "      <td>NaN</td>\n",
       "      <td>NaN</td>\n",
       "      <td>NaN</td>\n",
       "    </tr>\n",
       "    <tr>\n",
       "      <th>2000</th>\n",
       "      <td>NaN</td>\n",
       "      <td>NaN</td>\n",
       "      <td>0.07</td>\n",
       "      <td>96.37</td>\n",
       "      <td>39.17</td>\n",
       "      <td>NaN</td>\n",
       "      <td>NaN</td>\n",
       "      <td>NaN</td>\n",
       "      <td>NaN</td>\n",
       "      <td>NaN</td>\n",
       "    </tr>\n",
       "    <tr>\n",
       "      <th>2001</th>\n",
       "      <td>NaN</td>\n",
       "      <td>NaN</td>\n",
       "      <td>61.53</td>\n",
       "      <td>35.59</td>\n",
       "      <td>166.43</td>\n",
       "      <td>NaN</td>\n",
       "      <td>NaN</td>\n",
       "      <td>NaN</td>\n",
       "      <td>NaN</td>\n",
       "      <td>NaN</td>\n",
       "    </tr>\n",
       "    <tr>\n",
       "      <th>2002</th>\n",
       "      <td>NaN</td>\n",
       "      <td>NaN</td>\n",
       "      <td>74.16</td>\n",
       "      <td>6.67</td>\n",
       "      <td>205.38</td>\n",
       "      <td>NaN</td>\n",
       "      <td>NaN</td>\n",
       "      <td>NaN</td>\n",
       "      <td>NaN</td>\n",
       "      <td>NaN</td>\n",
       "    </tr>\n",
       "    <tr>\n",
       "      <th>2003</th>\n",
       "      <td>NaN</td>\n",
       "      <td>NaN</td>\n",
       "      <td>56.67</td>\n",
       "      <td>2.07</td>\n",
       "      <td>184.31</td>\n",
       "      <td>NaN</td>\n",
       "      <td>NaN</td>\n",
       "      <td>NaN</td>\n",
       "      <td>NaN</td>\n",
       "      <td>NaN</td>\n",
       "    </tr>\n",
       "    <tr>\n",
       "      <th>2004</th>\n",
       "      <td>NaN</td>\n",
       "      <td>17.27</td>\n",
       "      <td>77.91</td>\n",
       "      <td>NaN</td>\n",
       "      <td>211.81</td>\n",
       "      <td>NaN</td>\n",
       "      <td>NaN</td>\n",
       "      <td>7.06</td>\n",
       "      <td>NaN</td>\n",
       "      <td>NaN</td>\n",
       "    </tr>\n",
       "    <tr>\n",
       "      <th>2005</th>\n",
       "      <td>NaN</td>\n",
       "      <td>130.14</td>\n",
       "      <td>33.86</td>\n",
       "      <td>NaN</td>\n",
       "      <td>160.66</td>\n",
       "      <td>NaN</td>\n",
       "      <td>NaN</td>\n",
       "      <td>43.84</td>\n",
       "      <td>NaN</td>\n",
       "      <td>8.25</td>\n",
       "    </tr>\n",
       "    <tr>\n",
       "      <th>2006</th>\n",
       "      <td>NaN</td>\n",
       "      <td>119.81</td>\n",
       "      <td>5.28</td>\n",
       "      <td>NaN</td>\n",
       "      <td>103.42</td>\n",
       "      <td>20.96</td>\n",
       "      <td>NaN</td>\n",
       "      <td>55.32</td>\n",
       "      <td>137.15</td>\n",
       "      <td>51.62</td>\n",
       "    </tr>\n",
       "    <tr>\n",
       "      <th>2007</th>\n",
       "      <td>NaN</td>\n",
       "      <td>146.94</td>\n",
       "      <td>3.40</td>\n",
       "      <td>NaN</td>\n",
       "      <td>75.99</td>\n",
       "      <td>73.19</td>\n",
       "      <td>NaN</td>\n",
       "      <td>46.93</td>\n",
       "      <td>152.77</td>\n",
       "      <td>95.41</td>\n",
       "    </tr>\n",
       "    <tr>\n",
       "      <th>2008</th>\n",
       "      <td>NaN</td>\n",
       "      <td>145.31</td>\n",
       "      <td>NaN</td>\n",
       "      <td>NaN</td>\n",
       "      <td>53.90</td>\n",
       "      <td>118.52</td>\n",
       "      <td>NaN</td>\n",
       "      <td>34.55</td>\n",
       "      <td>171.32</td>\n",
       "      <td>135.26</td>\n",
       "    </tr>\n",
       "    <tr>\n",
       "      <th>2009</th>\n",
       "      <td>NaN</td>\n",
       "      <td>119.54</td>\n",
       "      <td>NaN</td>\n",
       "      <td>NaN</td>\n",
       "      <td>26.40</td>\n",
       "      <td>130.93</td>\n",
       "      <td>NaN</td>\n",
       "      <td>37.78</td>\n",
       "      <td>206.97</td>\n",
       "      <td>120.29</td>\n",
       "    </tr>\n",
       "    <tr>\n",
       "      <th>2010</th>\n",
       "      <td>NaN</td>\n",
       "      <td>85.02</td>\n",
       "      <td>NaN</td>\n",
       "      <td>NaN</td>\n",
       "      <td>5.64</td>\n",
       "      <td>142.17</td>\n",
       "      <td>NaN</td>\n",
       "      <td>35.04</td>\n",
       "      <td>127.95</td>\n",
       "      <td>170.03</td>\n",
       "    </tr>\n",
       "    <tr>\n",
       "      <th>2011</th>\n",
       "      <td>63.20</td>\n",
       "      <td>26.18</td>\n",
       "      <td>NaN</td>\n",
       "      <td>NaN</td>\n",
       "      <td>0.45</td>\n",
       "      <td>156.78</td>\n",
       "      <td>NaN</td>\n",
       "      <td>17.82</td>\n",
       "      <td>59.65</td>\n",
       "      <td>143.84</td>\n",
       "    </tr>\n",
       "    <tr>\n",
       "      <th>2012</th>\n",
       "      <td>51.36</td>\n",
       "      <td>11.01</td>\n",
       "      <td>NaN</td>\n",
       "      <td>NaN</td>\n",
       "      <td>NaN</td>\n",
       "      <td>107.36</td>\n",
       "      <td>NaN</td>\n",
       "      <td>7.69</td>\n",
       "      <td>21.71</td>\n",
       "      <td>99.74</td>\n",
       "    </tr>\n",
       "    <tr>\n",
       "      <th>2013</th>\n",
       "      <td>56.57</td>\n",
       "      <td>1.54</td>\n",
       "      <td>NaN</td>\n",
       "      <td>NaN</td>\n",
       "      <td>NaN</td>\n",
       "      <td>113.25</td>\n",
       "      <td>25.99</td>\n",
       "      <td>3.14</td>\n",
       "      <td>8.59</td>\n",
       "      <td>88.58</td>\n",
       "    </tr>\n",
       "    <tr>\n",
       "      <th>2014</th>\n",
       "      <td>43.76</td>\n",
       "      <td>NaN</td>\n",
       "      <td>NaN</td>\n",
       "      <td>NaN</td>\n",
       "      <td>NaN</td>\n",
       "      <td>47.76</td>\n",
       "      <td>100.00</td>\n",
       "      <td>0.24</td>\n",
       "      <td>3.75</td>\n",
       "      <td>34.74</td>\n",
       "    </tr>\n",
       "    <tr>\n",
       "      <th>2015</th>\n",
       "      <td>27.78</td>\n",
       "      <td>NaN</td>\n",
       "      <td>NaN</td>\n",
       "      <td>NaN</td>\n",
       "      <td>NaN</td>\n",
       "      <td>16.82</td>\n",
       "      <td>118.90</td>\n",
       "      <td>0.12</td>\n",
       "      <td>1.14</td>\n",
       "      <td>11.96</td>\n",
       "    </tr>\n",
       "    <tr>\n",
       "      <th>2016</th>\n",
       "      <td>15.14</td>\n",
       "      <td>NaN</td>\n",
       "      <td>NaN</td>\n",
       "      <td>NaN</td>\n",
       "      <td>NaN</td>\n",
       "      <td>3.60</td>\n",
       "      <td>69.25</td>\n",
       "      <td>NaN</td>\n",
       "      <td>0.18</td>\n",
       "      <td>1.52</td>\n",
       "    </tr>\n",
       "  </tbody>\n",
       "</table>\n",
       "</div>"
      ],
      "text/plain": [
       "platform          3DS     DS   GBA     PS    PS2    PS3    PS4   PSP    Wii  \\\n",
       "year_of_release                                                               \n",
       "1985              NaN   0.02   NaN    NaN    NaN    NaN    NaN   NaN    NaN   \n",
       "1994              NaN    NaN   NaN   6.03    NaN    NaN    NaN   NaN    NaN   \n",
       "1995              NaN    NaN   NaN  35.96    NaN    NaN    NaN   NaN    NaN   \n",
       "1996              NaN    NaN   NaN  94.70    NaN    NaN    NaN   NaN    NaN   \n",
       "1997              NaN    NaN   NaN 136.17    NaN    NaN    NaN   NaN    NaN   \n",
       "1998              NaN    NaN   NaN 169.49    NaN    NaN    NaN   NaN    NaN   \n",
       "1999              NaN    NaN   NaN 144.53    NaN    NaN    NaN   NaN    NaN   \n",
       "2000              NaN    NaN  0.07  96.37  39.17    NaN    NaN   NaN    NaN   \n",
       "2001              NaN    NaN 61.53  35.59 166.43    NaN    NaN   NaN    NaN   \n",
       "2002              NaN    NaN 74.16   6.67 205.38    NaN    NaN   NaN    NaN   \n",
       "2003              NaN    NaN 56.67   2.07 184.31    NaN    NaN   NaN    NaN   \n",
       "2004              NaN  17.27 77.91    NaN 211.81    NaN    NaN  7.06    NaN   \n",
       "2005              NaN 130.14 33.86    NaN 160.66    NaN    NaN 43.84    NaN   \n",
       "2006              NaN 119.81  5.28    NaN 103.42  20.96    NaN 55.32 137.15   \n",
       "2007              NaN 146.94  3.40    NaN  75.99  73.19    NaN 46.93 152.77   \n",
       "2008              NaN 145.31   NaN    NaN  53.90 118.52    NaN 34.55 171.32   \n",
       "2009              NaN 119.54   NaN    NaN  26.40 130.93    NaN 37.78 206.97   \n",
       "2010              NaN  85.02   NaN    NaN   5.64 142.17    NaN 35.04 127.95   \n",
       "2011            63.20  26.18   NaN    NaN   0.45 156.78    NaN 17.82  59.65   \n",
       "2012            51.36  11.01   NaN    NaN    NaN 107.36    NaN  7.69  21.71   \n",
       "2013            56.57   1.54   NaN    NaN    NaN 113.25  25.99  3.14   8.59   \n",
       "2014            43.76    NaN   NaN    NaN    NaN  47.76 100.00  0.24   3.75   \n",
       "2015            27.78    NaN   NaN    NaN    NaN  16.82 118.90  0.12   1.14   \n",
       "2016            15.14    NaN   NaN    NaN    NaN   3.60  69.25   NaN   0.18   \n",
       "\n",
       "platform          X360  \n",
       "year_of_release         \n",
       "1985               NaN  \n",
       "1994               NaN  \n",
       "1995               NaN  \n",
       "1996               NaN  \n",
       "1997               NaN  \n",
       "1998               NaN  \n",
       "1999               NaN  \n",
       "2000               NaN  \n",
       "2001               NaN  \n",
       "2002               NaN  \n",
       "2003               NaN  \n",
       "2004               NaN  \n",
       "2005              8.25  \n",
       "2006             51.62  \n",
       "2007             95.41  \n",
       "2008            135.26  \n",
       "2009            120.29  \n",
       "2010            170.03  \n",
       "2011            143.84  \n",
       "2012             99.74  \n",
       "2013             88.58  \n",
       "2014             34.74  \n",
       "2015             11.96  \n",
       "2016              1.52  "
      ]
     },
     "execution_count": 25,
     "metadata": {},
     "output_type": "execute_result"
    }
   ],
   "source": [
    "# построим распределение по годам для топовых платформ\n",
    "top_sales_platform = games.groupby('platform')['total_sales'].sum().sort_values(ascending = False).head(10).index\n",
    "games.query('platform in @top_sales_platform').pivot_table(\n",
    "    index = 'year_of_release', columns = 'platform', values = ('total_sales'), aggfunc = 'sum')"
   ]
  },
  {
   "cell_type": "code",
   "execution_count": 26,
   "metadata": {},
   "outputs": [
    {
     "data": {
      "image/png": "[encoded data removed]",
      "text/plain": [
       "<Figure size 432x288 with 2 Axes>"
      ]
     },
     "metadata": {
      "needs_background": "light"
     },
     "output_type": "display_data"
    }
   ],
   "source": [
    "sns.heatmap(games.query('platform in @top_sales_platform').pivot_table(\n",
    "    index = 'year_of_release', columns = 'platform', values = ('total_sales'), aggfunc = 'sum'))\n",
    "plt.show()"
   ]
  },
  {
   "cell_type": "markdown",
   "metadata": {},
   "source": [
    "**Вывод**: Среди лидеров по продажам такие платформы: PS2, X360, Wii, PS3, DS, PS, GBA, PS4, PSP, XB.\n",
    "\n",
    "Стоит отметить, что это платформы разных поколений, и некоторые уже не работают. Средний срок обновления - 5-8 лет. Для исследования будут интересны те, которые еще используются.\n"
   ]
  },
  {
   "cell_type": "markdown",
   "metadata": {},
   "source": [
    "* **Актуальный период**"
   ]
  },
  {
   "cell_type": "code",
   "execution_count": 27,
   "metadata": {},
   "outputs": [
    {
     "data": {
      "text/html": [
       "<div>\n",
       "<style scoped>\n",
       "    .dataframe tbody tr th:only-of-type {\n",
       "        vertical-align: middle;\n",
       "    }\n",
       "\n",
       "    .dataframe tbody tr th {\n",
       "        vertical-align: top;\n",
       "    }\n",
       "\n",
       "    .dataframe thead th {\n",
       "        text-align: right;\n",
       "    }\n",
       "</style>\n",
       "<table border=\"1\" class=\"dataframe\">\n",
       "  <thead>\n",
       "    <tr style=\"text-align: right;\">\n",
       "      <th>year_of_release</th>\n",
       "      <th>2005</th>\n",
       "      <th>2006</th>\n",
       "      <th>2007</th>\n",
       "      <th>2008</th>\n",
       "      <th>2009</th>\n",
       "      <th>2010</th>\n",
       "      <th>2011</th>\n",
       "      <th>2012</th>\n",
       "      <th>2013</th>\n",
       "      <th>2014</th>\n",
       "      <th>2015</th>\n",
       "      <th>2016</th>\n",
       "    </tr>\n",
       "    <tr>\n",
       "      <th>platform</th>\n",
       "      <th></th>\n",
       "      <th></th>\n",
       "      <th></th>\n",
       "      <th></th>\n",
       "      <th></th>\n",
       "      <th></th>\n",
       "      <th></th>\n",
       "      <th></th>\n",
       "      <th></th>\n",
       "      <th></th>\n",
       "      <th></th>\n",
       "      <th></th>\n",
       "    </tr>\n",
       "  </thead>\n",
       "  <tbody>\n",
       "    <tr>\n",
       "      <th>3DS</th>\n",
       "      <td>NaN</td>\n",
       "      <td>NaN</td>\n",
       "      <td>NaN</td>\n",
       "      <td>NaN</td>\n",
       "      <td>NaN</td>\n",
       "      <td>NaN</td>\n",
       "      <td>116.00</td>\n",
       "      <td>93.00</td>\n",
       "      <td>91.00</td>\n",
       "      <td>80.00</td>\n",
       "      <td>86.00</td>\n",
       "      <td>46.00</td>\n",
       "    </tr>\n",
       "    <tr>\n",
       "      <th>DC</th>\n",
       "      <td>NaN</td>\n",
       "      <td>NaN</td>\n",
       "      <td>1.00</td>\n",
       "      <td>1.00</td>\n",
       "      <td>NaN</td>\n",
       "      <td>NaN</td>\n",
       "      <td>NaN</td>\n",
       "      <td>NaN</td>\n",
       "      <td>NaN</td>\n",
       "      <td>NaN</td>\n",
       "      <td>NaN</td>\n",
       "      <td>NaN</td>\n",
       "    </tr>\n",
       "    <tr>\n",
       "      <th>DS</th>\n",
       "      <td>118.00</td>\n",
       "      <td>201.00</td>\n",
       "      <td>376.00</td>\n",
       "      <td>492.00</td>\n",
       "      <td>403.00</td>\n",
       "      <td>323.00</td>\n",
       "      <td>153.00</td>\n",
       "      <td>23.00</td>\n",
       "      <td>8.00</td>\n",
       "      <td>NaN</td>\n",
       "      <td>NaN</td>\n",
       "      <td>NaN</td>\n",
       "    </tr>\n",
       "    <tr>\n",
       "      <th>GBA</th>\n",
       "      <td>135.00</td>\n",
       "      <td>39.00</td>\n",
       "      <td>6.00</td>\n",
       "      <td>NaN</td>\n",
       "      <td>NaN</td>\n",
       "      <td>NaN</td>\n",
       "      <td>NaN</td>\n",
       "      <td>NaN</td>\n",
       "      <td>NaN</td>\n",
       "      <td>NaN</td>\n",
       "      <td>NaN</td>\n",
       "      <td>NaN</td>\n",
       "    </tr>\n",
       "    <tr>\n",
       "      <th>GC</th>\n",
       "      <td>97.00</td>\n",
       "      <td>40.00</td>\n",
       "      <td>4.00</td>\n",
       "      <td>NaN</td>\n",
       "      <td>NaN</td>\n",
       "      <td>NaN</td>\n",
       "      <td>NaN</td>\n",
       "      <td>NaN</td>\n",
       "      <td>NaN</td>\n",
       "      <td>NaN</td>\n",
       "      <td>NaN</td>\n",
       "      <td>NaN</td>\n",
       "    </tr>\n",
       "    <tr>\n",
       "      <th>PC</th>\n",
       "      <td>37.00</td>\n",
       "      <td>52.00</td>\n",
       "      <td>62.00</td>\n",
       "      <td>76.00</td>\n",
       "      <td>107.00</td>\n",
       "      <td>90.00</td>\n",
       "      <td>139.00</td>\n",
       "      <td>61.00</td>\n",
       "      <td>38.00</td>\n",
       "      <td>47.00</td>\n",
       "      <td>50.00</td>\n",
       "      <td>54.00</td>\n",
       "    </tr>\n",
       "    <tr>\n",
       "      <th>PS2</th>\n",
       "      <td>260.00</td>\n",
       "      <td>259.00</td>\n",
       "      <td>214.00</td>\n",
       "      <td>191.00</td>\n",
       "      <td>96.00</td>\n",
       "      <td>38.00</td>\n",
       "      <td>7.00</td>\n",
       "      <td>NaN</td>\n",
       "      <td>NaN</td>\n",
       "      <td>NaN</td>\n",
       "      <td>NaN</td>\n",
       "      <td>NaN</td>\n",
       "    </tr>\n",
       "    <tr>\n",
       "      <th>PS3</th>\n",
       "      <td>NaN</td>\n",
       "      <td>27.00</td>\n",
       "      <td>90.00</td>\n",
       "      <td>138.00</td>\n",
       "      <td>162.00</td>\n",
       "      <td>181.00</td>\n",
       "      <td>215.00</td>\n",
       "      <td>148.00</td>\n",
       "      <td>126.00</td>\n",
       "      <td>108.00</td>\n",
       "      <td>73.00</td>\n",
       "      <td>38.00</td>\n",
       "    </tr>\n",
       "    <tr>\n",
       "      <th>PS4</th>\n",
       "      <td>NaN</td>\n",
       "      <td>NaN</td>\n",
       "      <td>NaN</td>\n",
       "      <td>NaN</td>\n",
       "      <td>NaN</td>\n",
       "      <td>NaN</td>\n",
       "      <td>NaN</td>\n",
       "      <td>NaN</td>\n",
       "      <td>16.00</td>\n",
       "      <td>75.00</td>\n",
       "      <td>137.00</td>\n",
       "      <td>164.00</td>\n",
       "    </tr>\n",
       "    <tr>\n",
       "      <th>PSP</th>\n",
       "      <td>95.00</td>\n",
       "      <td>189.00</td>\n",
       "      <td>133.00</td>\n",
       "      <td>100.00</td>\n",
       "      <td>161.00</td>\n",
       "      <td>188.00</td>\n",
       "      <td>139.00</td>\n",
       "      <td>106.00</td>\n",
       "      <td>54.00</td>\n",
       "      <td>10.00</td>\n",
       "      <td>3.00</td>\n",
       "      <td>NaN</td>\n",
       "    </tr>\n",
       "    <tr>\n",
       "      <th>PSV</th>\n",
       "      <td>NaN</td>\n",
       "      <td>NaN</td>\n",
       "      <td>NaN</td>\n",
       "      <td>NaN</td>\n",
       "      <td>NaN</td>\n",
       "      <td>NaN</td>\n",
       "      <td>18.00</td>\n",
       "      <td>53.00</td>\n",
       "      <td>63.00</td>\n",
       "      <td>100.00</td>\n",
       "      <td>110.00</td>\n",
       "      <td>85.00</td>\n",
       "    </tr>\n",
       "    <tr>\n",
       "      <th>Wii</th>\n",
       "      <td>NaN</td>\n",
       "      <td>44.00</td>\n",
       "      <td>185.00</td>\n",
       "      <td>282.00</td>\n",
       "      <td>325.00</td>\n",
       "      <td>253.00</td>\n",
       "      <td>143.00</td>\n",
       "      <td>31.00</td>\n",
       "      <td>12.00</td>\n",
       "      <td>6.00</td>\n",
       "      <td>4.00</td>\n",
       "      <td>1.00</td>\n",
       "    </tr>\n",
       "    <tr>\n",
       "      <th>WiiU</th>\n",
       "      <td>NaN</td>\n",
       "      <td>NaN</td>\n",
       "      <td>NaN</td>\n",
       "      <td>NaN</td>\n",
       "      <td>NaN</td>\n",
       "      <td>NaN</td>\n",
       "      <td>NaN</td>\n",
       "      <td>32.00</td>\n",
       "      <td>42.00</td>\n",
       "      <td>31.00</td>\n",
       "      <td>28.00</td>\n",
       "      <td>14.00</td>\n",
       "    </tr>\n",
       "    <tr>\n",
       "      <th>X360</th>\n",
       "      <td>18.00</td>\n",
       "      <td>93.00</td>\n",
       "      <td>123.00</td>\n",
       "      <td>146.00</td>\n",
       "      <td>172.00</td>\n",
       "      <td>182.00</td>\n",
       "      <td>206.00</td>\n",
       "      <td>106.00</td>\n",
       "      <td>75.00</td>\n",
       "      <td>63.00</td>\n",
       "      <td>35.00</td>\n",
       "      <td>13.00</td>\n",
       "    </tr>\n",
       "    <tr>\n",
       "      <th>XB</th>\n",
       "      <td>179.00</td>\n",
       "      <td>62.00</td>\n",
       "      <td>3.00</td>\n",
       "      <td>1.00</td>\n",
       "      <td>NaN</td>\n",
       "      <td>NaN</td>\n",
       "      <td>NaN</td>\n",
       "      <td>NaN</td>\n",
       "      <td>NaN</td>\n",
       "      <td>NaN</td>\n",
       "      <td>NaN</td>\n",
       "      <td>NaN</td>\n",
       "    </tr>\n",
       "    <tr>\n",
       "      <th>XOne</th>\n",
       "      <td>NaN</td>\n",
       "      <td>NaN</td>\n",
       "      <td>NaN</td>\n",
       "      <td>NaN</td>\n",
       "      <td>NaN</td>\n",
       "      <td>NaN</td>\n",
       "      <td>NaN</td>\n",
       "      <td>NaN</td>\n",
       "      <td>19.00</td>\n",
       "      <td>61.00</td>\n",
       "      <td>80.00</td>\n",
       "      <td>87.00</td>\n",
       "    </tr>\n",
       "  </tbody>\n",
       "</table>\n",
       "</div>"
      ],
      "text/plain": [
       "year_of_release   2005   2006   2007   2008   2009   2010   2011   2012  \\\n",
       "platform                                                                  \n",
       "3DS                NaN    NaN    NaN    NaN    NaN    NaN 116.00  93.00   \n",
       "DC                 NaN    NaN   1.00   1.00    NaN    NaN    NaN    NaN   \n",
       "DS              118.00 201.00 376.00 492.00 403.00 323.00 153.00  23.00   \n",
       "GBA             135.00  39.00   6.00    NaN    NaN    NaN    NaN    NaN   \n",
       "GC               97.00  40.00   4.00    NaN    NaN    NaN    NaN    NaN   \n",
       "PC               37.00  52.00  62.00  76.00 107.00  90.00 139.00  61.00   \n",
       "PS2             260.00 259.00 214.00 191.00  96.00  38.00   7.00    NaN   \n",
       "PS3                NaN  27.00  90.00 138.00 162.00 181.00 215.00 148.00   \n",
       "PS4                NaN    NaN    NaN    NaN    NaN    NaN    NaN    NaN   \n",
       "PSP              95.00 189.00 133.00 100.00 161.00 188.00 139.00 106.00   \n",
       "PSV                NaN    NaN    NaN    NaN    NaN    NaN  18.00  53.00   \n",
       "Wii                NaN  44.00 185.00 282.00 325.00 253.00 143.00  31.00   \n",
       "WiiU               NaN    NaN    NaN    NaN    NaN    NaN    NaN  32.00   \n",
       "X360             18.00  93.00 123.00 146.00 172.00 182.00 206.00 106.00   \n",
       "XB              179.00  62.00   3.00   1.00    NaN    NaN    NaN    NaN   \n",
       "XOne               NaN    NaN    NaN    NaN    NaN    NaN    NaN    NaN   \n",
       "\n",
       "year_of_release   2013   2014   2015   2016  \n",
       "platform                                     \n",
       "3DS              91.00  80.00  86.00  46.00  \n",
       "DC                 NaN    NaN    NaN    NaN  \n",
       "DS                8.00    NaN    NaN    NaN  \n",
       "GBA                NaN    NaN    NaN    NaN  \n",
       "GC                 NaN    NaN    NaN    NaN  \n",
       "PC               38.00  47.00  50.00  54.00  \n",
       "PS2                NaN    NaN    NaN    NaN  \n",
       "PS3             126.00 108.00  73.00  38.00  \n",
       "PS4              16.00  75.00 137.00 164.00  \n",
       "PSP              54.00  10.00   3.00    NaN  \n",
       "PSV              63.00 100.00 110.00  85.00  \n",
       "Wii              12.00   6.00   4.00   1.00  \n",
       "WiiU             42.00  31.00  28.00  14.00  \n",
       "X360             75.00  63.00  35.00  13.00  \n",
       "XB                 NaN    NaN    NaN    NaN  \n",
       "XOne             19.00  61.00  80.00  87.00  "
      ]
     },
     "execution_count": 27,
     "metadata": {},
     "output_type": "execute_result"
    }
   ],
   "source": [
    "# отберем платформы с продажами после 2005\n",
    "games.query('year_of_release >= 2005').pivot_table(\n",
    "    index = 'platform', columns = 'year_of_release', values = ('name'), aggfunc = 'count')"
   ]
  },
  {
   "cell_type": "code",
   "execution_count": 28,
   "metadata": {},
   "outputs": [
    {
     "data": {
      "text/html": [
       "<div>\n",
       "<style scoped>\n",
       "    .dataframe tbody tr th:only-of-type {\n",
       "        vertical-align: middle;\n",
       "    }\n",
       "\n",
       "    .dataframe tbody tr th {\n",
       "        vertical-align: top;\n",
       "    }\n",
       "\n",
       "    .dataframe thead th {\n",
       "        text-align: right;\n",
       "    }\n",
       "</style>\n",
       "<table border=\"1\" class=\"dataframe\">\n",
       "  <thead>\n",
       "    <tr style=\"text-align: right;\">\n",
       "      <th>year_of_release</th>\n",
       "      <th>2012</th>\n",
       "      <th>2013</th>\n",
       "      <th>2014</th>\n",
       "      <th>2015</th>\n",
       "      <th>2016</th>\n",
       "    </tr>\n",
       "    <tr>\n",
       "      <th>platform</th>\n",
       "      <th></th>\n",
       "      <th></th>\n",
       "      <th></th>\n",
       "      <th></th>\n",
       "      <th></th>\n",
       "    </tr>\n",
       "  </thead>\n",
       "  <tbody>\n",
       "    <tr>\n",
       "      <th>3DS</th>\n",
       "      <td>93.00</td>\n",
       "      <td>91.00</td>\n",
       "      <td>80.00</td>\n",
       "      <td>86.00</td>\n",
       "      <td>46.00</td>\n",
       "    </tr>\n",
       "    <tr>\n",
       "      <th>PC</th>\n",
       "      <td>61.00</td>\n",
       "      <td>38.00</td>\n",
       "      <td>47.00</td>\n",
       "      <td>50.00</td>\n",
       "      <td>54.00</td>\n",
       "    </tr>\n",
       "    <tr>\n",
       "      <th>PS3</th>\n",
       "      <td>148.00</td>\n",
       "      <td>126.00</td>\n",
       "      <td>108.00</td>\n",
       "      <td>73.00</td>\n",
       "      <td>38.00</td>\n",
       "    </tr>\n",
       "    <tr>\n",
       "      <th>PS4</th>\n",
       "      <td>NaN</td>\n",
       "      <td>16.00</td>\n",
       "      <td>75.00</td>\n",
       "      <td>137.00</td>\n",
       "      <td>164.00</td>\n",
       "    </tr>\n",
       "    <tr>\n",
       "      <th>PSV</th>\n",
       "      <td>53.00</td>\n",
       "      <td>63.00</td>\n",
       "      <td>100.00</td>\n",
       "      <td>110.00</td>\n",
       "      <td>85.00</td>\n",
       "    </tr>\n",
       "    <tr>\n",
       "      <th>Wii</th>\n",
       "      <td>31.00</td>\n",
       "      <td>12.00</td>\n",
       "      <td>6.00</td>\n",
       "      <td>4.00</td>\n",
       "      <td>1.00</td>\n",
       "    </tr>\n",
       "    <tr>\n",
       "      <th>WiiU</th>\n",
       "      <td>32.00</td>\n",
       "      <td>42.00</td>\n",
       "      <td>31.00</td>\n",
       "      <td>28.00</td>\n",
       "      <td>14.00</td>\n",
       "    </tr>\n",
       "    <tr>\n",
       "      <th>X360</th>\n",
       "      <td>106.00</td>\n",
       "      <td>75.00</td>\n",
       "      <td>63.00</td>\n",
       "      <td>35.00</td>\n",
       "      <td>13.00</td>\n",
       "    </tr>\n",
       "    <tr>\n",
       "      <th>XOne</th>\n",
       "      <td>NaN</td>\n",
       "      <td>19.00</td>\n",
       "      <td>61.00</td>\n",
       "      <td>80.00</td>\n",
       "      <td>87.00</td>\n",
       "    </tr>\n",
       "  </tbody>\n",
       "</table>\n",
       "</div>"
      ],
      "text/plain": [
       "year_of_release   2012   2013   2014   2015   2016\n",
       "platform                                          \n",
       "3DS              93.00  91.00  80.00  86.00  46.00\n",
       "PC               61.00  38.00  47.00  50.00  54.00\n",
       "PS3             148.00 126.00 108.00  73.00  38.00\n",
       "PS4                NaN  16.00  75.00 137.00 164.00\n",
       "PSV              53.00  63.00 100.00 110.00  85.00\n",
       "Wii              31.00  12.00   6.00   4.00   1.00\n",
       "WiiU             32.00  42.00  31.00  28.00  14.00\n",
       "X360            106.00  75.00  63.00  35.00  13.00\n",
       "XOne               NaN  19.00  61.00  80.00  87.00"
      ]
     },
     "execution_count": 28,
     "metadata": {},
     "output_type": "execute_result"
    }
   ],
   "source": [
    "# отберем платформы с продажами после 2011\n",
    "games.query('(year_of_release >= 2012) and (platform not in (\"DS\",\"PSP\"))').pivot_table(\n",
    "    index = 'platform', columns = 'year_of_release', values = ('name'), aggfunc = 'count')"
   ]
  },
  {
   "cell_type": "code",
   "execution_count": 29,
   "metadata": {},
   "outputs": [
    {
     "data": {
      "text/plain": [
       "Series([], Name: platform, dtype: float64)"
      ]
     },
     "execution_count": 29,
     "metadata": {},
     "output_type": "execute_result"
    }
   ],
   "source": [
    "# посмотрим, какой объем продаж для неизвестного года\n",
    "games.query('year_of_release == 0')['platform'].value_counts('total_sales')"
   ]
  },
  {
   "cell_type": "code",
   "execution_count": 30,
   "metadata": {},
   "outputs": [
    {
     "data": {
      "text/html": [
       "<div>\n",
       "<style scoped>\n",
       "    .dataframe tbody tr th:only-of-type {\n",
       "        vertical-align: middle;\n",
       "    }\n",
       "\n",
       "    .dataframe tbody tr th {\n",
       "        vertical-align: top;\n",
       "    }\n",
       "\n",
       "    .dataframe thead th {\n",
       "        text-align: right;\n",
       "    }\n",
       "</style>\n",
       "<table border=\"1\" class=\"dataframe\">\n",
       "  <thead>\n",
       "    <tr style=\"text-align: right;\">\n",
       "      <th>year_of_release</th>\n",
       "      <th>2012</th>\n",
       "      <th>2013</th>\n",
       "      <th>2014</th>\n",
       "      <th>2015</th>\n",
       "      <th>2016</th>\n",
       "    </tr>\n",
       "    <tr>\n",
       "      <th>platform</th>\n",
       "      <th></th>\n",
       "      <th></th>\n",
       "      <th></th>\n",
       "      <th></th>\n",
       "      <th></th>\n",
       "    </tr>\n",
       "  </thead>\n",
       "  <tbody>\n",
       "    <tr>\n",
       "      <th>3DS</th>\n",
       "      <td>51.36</td>\n",
       "      <td>56.57</td>\n",
       "      <td>43.76</td>\n",
       "      <td>27.78</td>\n",
       "      <td>15.14</td>\n",
       "    </tr>\n",
       "    <tr>\n",
       "      <th>PC</th>\n",
       "      <td>23.22</td>\n",
       "      <td>12.38</td>\n",
       "      <td>13.28</td>\n",
       "      <td>8.52</td>\n",
       "      <td>5.25</td>\n",
       "    </tr>\n",
       "    <tr>\n",
       "      <th>PS3</th>\n",
       "      <td>107.36</td>\n",
       "      <td>113.25</td>\n",
       "      <td>47.76</td>\n",
       "      <td>16.82</td>\n",
       "      <td>3.60</td>\n",
       "    </tr>\n",
       "    <tr>\n",
       "      <th>PS4</th>\n",
       "      <td>NaN</td>\n",
       "      <td>25.99</td>\n",
       "      <td>100.00</td>\n",
       "      <td>118.90</td>\n",
       "      <td>69.25</td>\n",
       "    </tr>\n",
       "    <tr>\n",
       "      <th>PSV</th>\n",
       "      <td>16.19</td>\n",
       "      <td>10.59</td>\n",
       "      <td>11.90</td>\n",
       "      <td>6.25</td>\n",
       "      <td>4.25</td>\n",
       "    </tr>\n",
       "    <tr>\n",
       "      <th>Wii</th>\n",
       "      <td>21.71</td>\n",
       "      <td>8.59</td>\n",
       "      <td>3.75</td>\n",
       "      <td>1.14</td>\n",
       "      <td>0.18</td>\n",
       "    </tr>\n",
       "    <tr>\n",
       "      <th>WiiU</th>\n",
       "      <td>17.56</td>\n",
       "      <td>21.65</td>\n",
       "      <td>22.03</td>\n",
       "      <td>16.35</td>\n",
       "      <td>4.60</td>\n",
       "    </tr>\n",
       "    <tr>\n",
       "      <th>X360</th>\n",
       "      <td>99.74</td>\n",
       "      <td>88.58</td>\n",
       "      <td>34.74</td>\n",
       "      <td>11.96</td>\n",
       "      <td>1.52</td>\n",
       "    </tr>\n",
       "    <tr>\n",
       "      <th>XOne</th>\n",
       "      <td>NaN</td>\n",
       "      <td>18.96</td>\n",
       "      <td>54.07</td>\n",
       "      <td>60.14</td>\n",
       "      <td>26.15</td>\n",
       "    </tr>\n",
       "  </tbody>\n",
       "</table>\n",
       "</div>"
      ],
      "text/plain": [
       "year_of_release   2012   2013   2014   2015  2016\n",
       "platform                                         \n",
       "3DS              51.36  56.57  43.76  27.78 15.14\n",
       "PC               23.22  12.38  13.28   8.52  5.25\n",
       "PS3             107.36 113.25  47.76  16.82  3.60\n",
       "PS4                NaN  25.99 100.00 118.90 69.25\n",
       "PSV              16.19  10.59  11.90   6.25  4.25\n",
       "Wii              21.71   8.59   3.75   1.14  0.18\n",
       "WiiU             17.56  21.65  22.03  16.35  4.60\n",
       "X360             99.74  88.58  34.74  11.96  1.52\n",
       "XOne               NaN  18.96  54.07  60.14 26.15"
      ]
     },
     "execution_count": 30,
     "metadata": {},
     "output_type": "execute_result"
    }
   ],
   "source": [
    "# вычислим продажи для рассматриывемого периода\n",
    "games.query('(year_of_release >= 2012) and (platform not in (\"DS\",\"PSP\"))').pivot_table(\n",
    "    index = 'platform', columns = 'year_of_release', values = ('total_sales'), aggfunc = 'sum')"
   ]
  },
  {
   "cell_type": "code",
   "execution_count": 31,
   "metadata": {},
   "outputs": [
    {
     "data": {
      "text/plain": [
       "array([2013, 2015, 2012, 2014, 2016])"
      ]
     },
     "execution_count": 31,
     "metadata": {},
     "output_type": "execute_result"
    }
   ],
   "source": [
    "# отберем года\n",
    "years = games.query('year_of_release >= 2012')['year_of_release'].unique()\n",
    "years"
   ]
  },
  {
   "cell_type": "code",
   "execution_count": 32,
   "metadata": {},
   "outputs": [
    {
     "data": {
      "image/png": "[encoded data removed]",
      "text/plain": [
       "<Figure size 720x504 with 1 Axes>"
      ]
     },
     "metadata": {
      "needs_background": "light"
     },
     "output_type": "display_data"
    }
   ],
   "source": [
    "# построим график продаж\n",
    "games.query('(year_of_release >= 2012) and (platform not in (\"DS\",\"PSP\"))').pivot_table(\n",
    "    index = 'year_of_release', columns = 'platform', values = ('total_sales'), aggfunc = 'sum').plot(figsize = (10,7))\n",
    "plt.title('Продажи с 2012 года, млн. копий')\n",
    "plt.grid(True)\n",
    "plt.xticks(years)\n",
    "plt.show()"
   ]
  },
  {
   "cell_type": "code",
   "execution_count": 33,
   "metadata": {},
   "outputs": [
    {
     "name": "stdout",
     "output_type": "stream",
     "text": [
      "<class 'pandas.core.frame.DataFrame'>\n",
      "Int64Index: 2682 entries, 16 to 16443\n",
      "Data columns (total 12 columns):\n",
      " #   Column           Non-Null Count  Dtype  \n",
      "---  ------           --------------  -----  \n",
      " 0   name             2682 non-null   object \n",
      " 1   platform         2682 non-null   object \n",
      " 2   year_of_release  2682 non-null   int64  \n",
      " 3   genre            2682 non-null   object \n",
      " 4   na_sales         2682 non-null   float64\n",
      " 5   eu_sales         2682 non-null   float64\n",
      " 6   jp_sales         2682 non-null   float64\n",
      " 7   other_sales      2682 non-null   float64\n",
      " 8   critic_score     1310 non-null   float64\n",
      " 9   user_score       1524 non-null   float64\n",
      " 10  rating           1589 non-null   object \n",
      " 11  total_sales      2682 non-null   float64\n",
      "dtypes: float64(7), int64(1), object(4)\n",
      "memory usage: 272.4+ KB\n"
     ]
    }
   ],
   "source": [
    "# выделим отдельный датасет для актуального периода и действующими платформами\n",
    "actual_games = games.query('(year_of_release >= 2012) and (platform not in (\"DS\",\"PSP\"))')\n",
    "actual_games.info()"
   ]
  },
  {
   "cell_type": "code",
   "execution_count": 34,
   "metadata": {},
   "outputs": [
    {
     "data": {
      "text/html": [
       "<div>\n",
       "<style scoped>\n",
       "    .dataframe tbody tr th:only-of-type {\n",
       "        vertical-align: middle;\n",
       "    }\n",
       "\n",
       "    .dataframe tbody tr th {\n",
       "        vertical-align: top;\n",
       "    }\n",
       "\n",
       "    .dataframe thead th {\n",
       "        text-align: right;\n",
       "    }\n",
       "</style>\n",
       "<table border=\"1\" class=\"dataframe\">\n",
       "  <thead>\n",
       "    <tr style=\"text-align: right;\">\n",
       "      <th>year_of_release</th>\n",
       "      <th>2012</th>\n",
       "      <th>2013</th>\n",
       "      <th>2014</th>\n",
       "      <th>2015</th>\n",
       "      <th>2016</th>\n",
       "    </tr>\n",
       "    <tr>\n",
       "      <th>platform</th>\n",
       "      <th></th>\n",
       "      <th></th>\n",
       "      <th></th>\n",
       "      <th></th>\n",
       "      <th></th>\n",
       "    </tr>\n",
       "  </thead>\n",
       "  <tbody>\n",
       "    <tr>\n",
       "      <th>3DS</th>\n",
       "      <td>51.36</td>\n",
       "      <td>56.57</td>\n",
       "      <td>43.76</td>\n",
       "      <td>27.78</td>\n",
       "      <td>15.14</td>\n",
       "    </tr>\n",
       "    <tr>\n",
       "      <th>PS4</th>\n",
       "      <td>NaN</td>\n",
       "      <td>25.99</td>\n",
       "      <td>100.00</td>\n",
       "      <td>118.90</td>\n",
       "      <td>69.25</td>\n",
       "    </tr>\n",
       "    <tr>\n",
       "      <th>XOne</th>\n",
       "      <td>NaN</td>\n",
       "      <td>18.96</td>\n",
       "      <td>54.07</td>\n",
       "      <td>60.14</td>\n",
       "      <td>26.15</td>\n",
       "    </tr>\n",
       "  </tbody>\n",
       "</table>\n",
       "</div>"
      ],
      "text/plain": [
       "year_of_release  2012  2013   2014   2015  2016\n",
       "platform                                       \n",
       "3DS             51.36 56.57  43.76  27.78 15.14\n",
       "PS4               NaN 25.99 100.00 118.90 69.25\n",
       "XOne              NaN 18.96  54.07  60.14 26.15"
      ]
     },
     "execution_count": 34,
     "metadata": {},
     "output_type": "execute_result"
    }
   ],
   "source": [
    "# исходя из графика, отберем 3 лидера рынка\n",
    "lider_list = ['PS4', 'XOne', '3DS']\n",
    "# оценим их продажи\n",
    "actual_games.query('platform in @lider_list').pivot_table(\n",
    "    index = 'platform', columns = 'year_of_release', values = ('total_sales'), aggfunc = 'sum')"
   ]
  },
  {
   "cell_type": "code",
   "execution_count": 35,
   "metadata": {},
   "outputs": [
    {
     "data": {
      "text/html": [
       "<div>\n",
       "<style scoped>\n",
       "    .dataframe tbody tr th:only-of-type {\n",
       "        vertical-align: middle;\n",
       "    }\n",
       "\n",
       "    .dataframe tbody tr th {\n",
       "        vertical-align: top;\n",
       "    }\n",
       "\n",
       "    .dataframe thead th {\n",
       "        text-align: right;\n",
       "    }\n",
       "</style>\n",
       "<table border=\"1\" class=\"dataframe\">\n",
       "  <thead>\n",
       "    <tr style=\"text-align: right;\">\n",
       "      <th>platform</th>\n",
       "      <th>3DS</th>\n",
       "      <th>PS4</th>\n",
       "      <th>XOne</th>\n",
       "    </tr>\n",
       "    <tr>\n",
       "      <th>year_of_release</th>\n",
       "      <th></th>\n",
       "      <th></th>\n",
       "      <th></th>\n",
       "    </tr>\n",
       "  </thead>\n",
       "  <tbody>\n",
       "    <tr>\n",
       "      <th>2012</th>\n",
       "      <td>51.36</td>\n",
       "      <td>NaN</td>\n",
       "      <td>NaN</td>\n",
       "    </tr>\n",
       "    <tr>\n",
       "      <th>2013</th>\n",
       "      <td>56.57</td>\n",
       "      <td>25.99</td>\n",
       "      <td>18.96</td>\n",
       "    </tr>\n",
       "    <tr>\n",
       "      <th>2014</th>\n",
       "      <td>43.76</td>\n",
       "      <td>100.00</td>\n",
       "      <td>54.07</td>\n",
       "    </tr>\n",
       "    <tr>\n",
       "      <th>2015</th>\n",
       "      <td>27.78</td>\n",
       "      <td>118.90</td>\n",
       "      <td>60.14</td>\n",
       "    </tr>\n",
       "    <tr>\n",
       "      <th>2016</th>\n",
       "      <td>15.14</td>\n",
       "      <td>69.25</td>\n",
       "      <td>26.15</td>\n",
       "    </tr>\n",
       "  </tbody>\n",
       "</table>\n",
       "</div>"
      ],
      "text/plain": [
       "platform          3DS    PS4  XOne\n",
       "year_of_release                   \n",
       "2012            51.36    NaN   NaN\n",
       "2013            56.57  25.99 18.96\n",
       "2014            43.76 100.00 54.07\n",
       "2015            27.78 118.90 60.14\n",
       "2016            15.14  69.25 26.15"
      ]
     },
     "execution_count": 35,
     "metadata": {},
     "output_type": "execute_result"
    }
   ],
   "source": [
    "actual_games.query('(platform in @lider_list)').pivot_table(\n",
    "    index = 'year_of_release', columns = 'platform', values = ('total_sales'), aggfunc = 'sum')"
   ]
  },
  {
   "cell_type": "code",
   "execution_count": 36,
   "metadata": {},
   "outputs": [
    {
     "data": {
      "image/png": "[encoded data removed]",
      "text/plain": [
       "<Figure size 432x288 with 1 Axes>"
      ]
     },
     "metadata": {
      "needs_background": "light"
     },
     "output_type": "display_data"
    }
   ],
   "source": [
    "sns.boxplot(data = (actual_games.query('platform in @lider_list')), x = 'platform', y = 'total_sales')\n",
    "plt.title('Диаграмма размаха для продаж трех платформ')\n",
    "plt.show()"
   ]
  },
  {
   "cell_type": "code",
   "execution_count": 37,
   "metadata": {},
   "outputs": [
    {
     "data": {
      "text/plain": [
       "PS3     493\n",
       "PSV     411\n",
       "3DS     396\n",
       "PS4     392\n",
       "X360    292\n",
       "PC      250\n",
       "XOne    247\n",
       "WiiU    147\n",
       "Wii      54\n",
       "Name: platform, dtype: int64"
      ]
     },
     "execution_count": 37,
     "metadata": {},
     "output_type": "execute_result"
    }
   ],
   "source": [
    "# посмотрим распределение игр по платформам для данного периода\n",
    "actual_games['platform'].value_counts()"
   ]
  },
  {
   "cell_type": "markdown",
   "metadata": {},
   "source": [
    "**Вывод**: Как видно из первой таблицы, период, который охватит действующте платформы (кроме DS и PSP, они относятся еще к предыдущему поколению), начинается с 2012 года. \n",
    "\n",
    "Кроме того, стоит отметить, что данные, год которых не известен (заменили на 0), содержат не существенный объем данных по актуальным платформам.\n",
    "\n",
    "Возможно за 2016 год собраны еще не все данные, и поэтому наблюдается падение продаж для всех платформ. Но все таки можно выделить 3 наиболее популярные: PS4, XOne, 3DS. \n",
    "\n",
    "По диаграмме размаха можно сделать следующие выводы:\n",
    "- продажи у PS4 значительно выше, чем у 3DS и XOne\n",
    "- медиана у 3DS и XOne находится примерно на одном уровне - около 35 млн. копий\n",
    "- распределение у 3DS и XOne больше похоже на нормальное\n",
    "- распределение у PS4 смещено, что говорит о выбрасах с меньшей стороны"
   ]
  },
  {
   "cell_type": "markdown",
   "metadata": {},
   "source": [
    "### Игры и оценки"
   ]
  },
  {
   "cell_type": "code",
   "execution_count": 38,
   "metadata": {},
   "outputs": [
    {
     "name": "stdout",
     "output_type": "stream",
     "text": [
      "<class 'pandas.core.frame.DataFrame'>\n",
      "RangeIndex: 239 entries, 0 to 238\n",
      "Data columns (total 12 columns):\n",
      " #   Column           Non-Null Count  Dtype  \n",
      "---  ------           --------------  -----  \n",
      " 0   name             239 non-null    object \n",
      " 1   platform         239 non-null    object \n",
      " 2   year_of_release  239 non-null    int64  \n",
      " 3   genre            239 non-null    object \n",
      " 4   na_sales         239 non-null    float64\n",
      " 5   eu_sales         239 non-null    float64\n",
      " 6   jp_sales         239 non-null    float64\n",
      " 7   other_sales      239 non-null    float64\n",
      " 8   critic_score     239 non-null    float64\n",
      " 9   user_score       239 non-null    float64\n",
      " 10  rating           239 non-null    object \n",
      " 11  total_sales      239 non-null    float64\n",
      "dtypes: float64(7), int64(1), object(4)\n",
      "memory usage: 22.5+ KB\n"
     ]
    }
   ],
   "source": [
    "# выделим датасет только для PS4\n",
    "# удалим пропуски, для выявления взаимосвязи замена на средние значения могут искозить результаты\n",
    "ps4 = actual_games.query('platform == \"PS4\"')\n",
    "ps4 = ps4.dropna().reset_index(drop = True)\n",
    "ps4['user_score'] = pd.to_numeric(ps4['user_score'], errors='coerce')\n",
    "ps4 = ps4.dropna().reset_index(drop = True)\n",
    "ps4.info()"
   ]
  },
  {
   "cell_type": "code",
   "execution_count": 39,
   "metadata": {},
   "outputs": [
    {
     "data": {
      "text/plain": [
       "count   2,682.00\n",
       "mean        0.53\n",
       "std         1.28\n",
       "min         0.01\n",
       "25%         0.04\n",
       "50%         0.14\n",
       "75%         0.47\n",
       "max        21.05\n",
       "Name: total_sales, dtype: float64"
      ]
     },
     "execution_count": 39,
     "metadata": {},
     "output_type": "execute_result"
    }
   ],
   "source": [
    "actual_games['total_sales'].describe()"
   ]
  },
  {
   "cell_type": "code",
   "execution_count": 40,
   "metadata": {},
   "outputs": [
    {
     "name": "stderr",
     "output_type": "stream",
     "text": [
      "/Users/yuliaanikeeva/opt/anaconda3/lib/python3.9/site-packages/seaborn/_decorators.py:36: FutureWarning: Pass the following variable as a keyword arg: x. From version 0.12, the only valid positional argument will be `data`, and passing other arguments without an explicit keyword will result in an error or misinterpretation.\n",
      "  warnings.warn(\n"
     ]
    },
    {
     "data": {
      "text/plain": [
       "<AxesSubplot:xlabel='total_sales'>"
      ]
     },
     "execution_count": 40,
     "metadata": {},
     "output_type": "execute_result"
    },
    {
     "data": {
      "image/png": "[encoded data removed]",
      "text/plain": [
       "<Figure size 432x288 with 1 Axes>"
      ]
     },
     "metadata": {
      "needs_background": "light"
     },
     "output_type": "display_data"
    }
   ],
   "source": [
    "sns.boxplot(actual_games['total_sales'])"
   ]
  },
  {
   "cell_type": "code",
   "execution_count": 41,
   "metadata": {},
   "outputs": [
    {
     "data": {
      "text/html": [
       "<div>\n",
       "<style scoped>\n",
       "    .dataframe tbody tr th:only-of-type {\n",
       "        vertical-align: middle;\n",
       "    }\n",
       "\n",
       "    .dataframe tbody tr th {\n",
       "        vertical-align: top;\n",
       "    }\n",
       "\n",
       "    .dataframe thead th {\n",
       "        text-align: right;\n",
       "    }\n",
       "</style>\n",
       "<table border=\"1\" class=\"dataframe\">\n",
       "  <thead>\n",
       "    <tr style=\"text-align: right;\">\n",
       "      <th></th>\n",
       "      <th>critic_score</th>\n",
       "      <th>user_score</th>\n",
       "      <th>total_sales</th>\n",
       "    </tr>\n",
       "  </thead>\n",
       "  <tbody>\n",
       "    <tr>\n",
       "      <th>critic_score</th>\n",
       "      <td>1.00</td>\n",
       "      <td>0.65</td>\n",
       "      <td>0.31</td>\n",
       "    </tr>\n",
       "    <tr>\n",
       "      <th>user_score</th>\n",
       "      <td>0.65</td>\n",
       "      <td>1.00</td>\n",
       "      <td>0.03</td>\n",
       "    </tr>\n",
       "    <tr>\n",
       "      <th>total_sales</th>\n",
       "      <td>0.31</td>\n",
       "      <td>0.03</td>\n",
       "      <td>1.00</td>\n",
       "    </tr>\n",
       "  </tbody>\n",
       "</table>\n",
       "</div>"
      ],
      "text/plain": [
       "              critic_score  user_score  total_sales\n",
       "critic_score          1.00        0.65         0.31\n",
       "user_score            0.65        1.00         0.03\n",
       "total_sales           0.31        0.03         1.00"
      ]
     },
     "execution_count": 41,
     "metadata": {},
     "output_type": "execute_result"
    }
   ],
   "source": [
    "# посмотрим корреляцию между столбцами для PS4\n",
    "ps4.loc[:, [ \n",
    "        'critic_score', \n",
    "        'user_score', \n",
    "        'total_sales'\n",
    "    ]].query('total_sales < 1.5').corr()"
   ]
  },
  {
   "cell_type": "code",
   "execution_count": 42,
   "metadata": {},
   "outputs": [
    {
     "data": {
      "image/png": "[encoded data removed]",
      "text/plain": [
       "<Figure size 432x288 with 9 Axes>"
      ]
     },
     "metadata": {
      "needs_background": "light"
     },
     "output_type": "display_data"
    }
   ],
   "source": [
    "# прстроим матрицу диаграмм рассеяния\n",
    "pd.plotting.scatter_matrix(\n",
    "    ps4.loc[:, [ \n",
    "        'critic_score', \n",
    "        'user_score', \n",
    "        'total_sales'\n",
    "    ]].query('total_sales < 1.5'))\n",
    "plt.show()"
   ]
  },
  {
   "cell_type": "markdown",
   "metadata": {},
   "source": [
    "**Вывод по PS4**: по полученным матрицам корреляций и диаграмм рассеяния можно сделать вывод, что влияния на продажи отзывы пользователей не оказывают, а оценки критиков лишь в малой степени. "
   ]
  },
  {
   "cell_type": "code",
   "execution_count": 43,
   "metadata": {},
   "outputs": [
    {
     "name": "stdout",
     "output_type": "stream",
     "text": [
      "<class 'pandas.core.frame.DataFrame'>\n",
      "RangeIndex: 159 entries, 0 to 158\n",
      "Data columns (total 12 columns):\n",
      " #   Column           Non-Null Count  Dtype  \n",
      "---  ------           --------------  -----  \n",
      " 0   name             159 non-null    object \n",
      " 1   platform         159 non-null    object \n",
      " 2   year_of_release  159 non-null    int64  \n",
      " 3   genre            159 non-null    object \n",
      " 4   na_sales         159 non-null    float64\n",
      " 5   eu_sales         159 non-null    float64\n",
      " 6   jp_sales         159 non-null    float64\n",
      " 7   other_sales      159 non-null    float64\n",
      " 8   critic_score     159 non-null    float64\n",
      " 9   user_score       159 non-null    float64\n",
      " 10  rating           159 non-null    object \n",
      " 11  total_sales      159 non-null    float64\n",
      "dtypes: float64(7), int64(1), object(4)\n",
      "memory usage: 15.0+ KB\n"
     ]
    }
   ],
   "source": [
    "# выделим датасет только для XOne\n",
    "# удалим пропуски, для выявления взаимосвязи замена на средние значения могут искозить результаты\n",
    "xone = actual_games.query('platform == \"XOne\"')\n",
    "xone = xone.dropna().reset_index(drop = True)\n",
    "xone['user_score'] = pd.to_numeric(xone['user_score'], errors='coerce')\n",
    "xone = xone.dropna().reset_index(drop = True)\n",
    "xone.info()"
   ]
  },
  {
   "cell_type": "code",
   "execution_count": 44,
   "metadata": {},
   "outputs": [
    {
     "data": {
      "text/html": [
       "<div>\n",
       "<style scoped>\n",
       "    .dataframe tbody tr th:only-of-type {\n",
       "        vertical-align: middle;\n",
       "    }\n",
       "\n",
       "    .dataframe tbody tr th {\n",
       "        vertical-align: top;\n",
       "    }\n",
       "\n",
       "    .dataframe thead th {\n",
       "        text-align: right;\n",
       "    }\n",
       "</style>\n",
       "<table border=\"1\" class=\"dataframe\">\n",
       "  <thead>\n",
       "    <tr style=\"text-align: right;\">\n",
       "      <th></th>\n",
       "      <th>critic_score</th>\n",
       "      <th>user_score</th>\n",
       "      <th>total_sales</th>\n",
       "    </tr>\n",
       "  </thead>\n",
       "  <tbody>\n",
       "    <tr>\n",
       "      <th>critic_score</th>\n",
       "      <td>1.00</td>\n",
       "      <td>0.57</td>\n",
       "      <td>0.41</td>\n",
       "    </tr>\n",
       "    <tr>\n",
       "      <th>user_score</th>\n",
       "      <td>0.57</td>\n",
       "      <td>1.00</td>\n",
       "      <td>0.09</td>\n",
       "    </tr>\n",
       "    <tr>\n",
       "      <th>total_sales</th>\n",
       "      <td>0.41</td>\n",
       "      <td>0.09</td>\n",
       "      <td>1.00</td>\n",
       "    </tr>\n",
       "  </tbody>\n",
       "</table>\n",
       "</div>"
      ],
      "text/plain": [
       "              critic_score  user_score  total_sales\n",
       "critic_score          1.00        0.57         0.41\n",
       "user_score            0.57        1.00         0.09\n",
       "total_sales           0.41        0.09         1.00"
      ]
     },
     "execution_count": 44,
     "metadata": {},
     "output_type": "execute_result"
    }
   ],
   "source": [
    "# посмотрим корреляцию между столбцами для XOne\n",
    "xone.loc[:, [ \n",
    "        'critic_score', \n",
    "        'user_score', \n",
    "        'total_sales'\n",
    "    ]].query('total_sales < 1.5').corr()"
   ]
  },
  {
   "cell_type": "code",
   "execution_count": 45,
   "metadata": {},
   "outputs": [
    {
     "data": {
      "image/png": "[encoded data removed]",
      "text/plain": [
       "<Figure size 432x288 with 9 Axes>"
      ]
     },
     "metadata": {
      "needs_background": "light"
     },
     "output_type": "display_data"
    }
   ],
   "source": [
    "# прстроим матрицу диаграмм рассеяния\n",
    "pd.plotting.scatter_matrix(\n",
    "    xone.loc[:, [ \n",
    "        'critic_score', \n",
    "        'user_score', \n",
    "        'total_sales'\n",
    "    ]].query('total_sales < 1.5'))\n",
    "plt.show()"
   ]
  },
  {
   "cell_type": "markdown",
   "metadata": {},
   "source": [
    "**Вывод по XOne**: так же как и в случае с PS4 отзывы пользователей не влияниют на продажи, а оценки критиков лишь в малой степени. "
   ]
  },
  {
   "cell_type": "code",
   "execution_count": 46,
   "metadata": {},
   "outputs": [
    {
     "name": "stdout",
     "output_type": "stream",
     "text": [
      "<class 'pandas.core.frame.DataFrame'>\n",
      "RangeIndex: 100 entries, 0 to 99\n",
      "Data columns (total 12 columns):\n",
      " #   Column           Non-Null Count  Dtype  \n",
      "---  ------           --------------  -----  \n",
      " 0   name             100 non-null    object \n",
      " 1   platform         100 non-null    object \n",
      " 2   year_of_release  100 non-null    int64  \n",
      " 3   genre            100 non-null    object \n",
      " 4   na_sales         100 non-null    float64\n",
      " 5   eu_sales         100 non-null    float64\n",
      " 6   jp_sales         100 non-null    float64\n",
      " 7   other_sales      100 non-null    float64\n",
      " 8   critic_score     100 non-null    float64\n",
      " 9   user_score       100 non-null    float64\n",
      " 10  rating           100 non-null    object \n",
      " 11  total_sales      100 non-null    float64\n",
      "dtypes: float64(7), int64(1), object(4)\n",
      "memory usage: 9.5+ KB\n"
     ]
    },
    {
     "data": {
      "text/plain": [
       "None"
      ]
     },
     "metadata": {},
     "output_type": "display_data"
    }
   ],
   "source": [
    "# выделим датасет только для DS3\n",
    "# удалим пропуски, для выявления взаимосвязи замена на средние значения могут искозить результаты\n",
    "ds3 = actual_games.query('platform == \"3DS\"')\n",
    "ds3 = ds3.dropna().reset_index(drop = True)\n",
    "ds3['user_score'] = pd.to_numeric(ds3['user_score'], errors='coerce')\n",
    "ds3 = ds3.dropna().reset_index(drop = True)\n",
    "display(ds3.info())"
   ]
  },
  {
   "cell_type": "code",
   "execution_count": 47,
   "metadata": {},
   "outputs": [
    {
     "data": {
      "text/html": [
       "<div>\n",
       "<style scoped>\n",
       "    .dataframe tbody tr th:only-of-type {\n",
       "        vertical-align: middle;\n",
       "    }\n",
       "\n",
       "    .dataframe tbody tr th {\n",
       "        vertical-align: top;\n",
       "    }\n",
       "\n",
       "    .dataframe thead th {\n",
       "        text-align: right;\n",
       "    }\n",
       "</style>\n",
       "<table border=\"1\" class=\"dataframe\">\n",
       "  <thead>\n",
       "    <tr style=\"text-align: right;\">\n",
       "      <th></th>\n",
       "      <th>critic_score</th>\n",
       "      <th>user_score</th>\n",
       "      <th>total_sales</th>\n",
       "    </tr>\n",
       "  </thead>\n",
       "  <tbody>\n",
       "    <tr>\n",
       "      <th>critic_score</th>\n",
       "      <td>1.00</td>\n",
       "      <td>0.70</td>\n",
       "      <td>0.21</td>\n",
       "    </tr>\n",
       "    <tr>\n",
       "      <th>user_score</th>\n",
       "      <td>0.70</td>\n",
       "      <td>1.00</td>\n",
       "      <td>0.17</td>\n",
       "    </tr>\n",
       "    <tr>\n",
       "      <th>total_sales</th>\n",
       "      <td>0.21</td>\n",
       "      <td>0.17</td>\n",
       "      <td>1.00</td>\n",
       "    </tr>\n",
       "  </tbody>\n",
       "</table>\n",
       "</div>"
      ],
      "text/plain": [
       "              critic_score  user_score  total_sales\n",
       "critic_score          1.00        0.70         0.21\n",
       "user_score            0.70        1.00         0.17\n",
       "total_sales           0.21        0.17         1.00"
      ]
     },
     "execution_count": 47,
     "metadata": {},
     "output_type": "execute_result"
    }
   ],
   "source": [
    "ds3.loc[:, [\n",
    "        'critic_score', \n",
    "        'user_score', \n",
    "        'total_sales'\n",
    "    ]].query('total_sales < 1.5').corr()"
   ]
  },
  {
   "cell_type": "code",
   "execution_count": 48,
   "metadata": {},
   "outputs": [
    {
     "data": {
      "image/png": "[encoded data removed]",
      "text/plain": [
       "<Figure size 432x288 with 9 Axes>"
      ]
     },
     "metadata": {
      "needs_background": "light"
     },
     "output_type": "display_data"
    }
   ],
   "source": [
    "# прстроим матрицу диаграмм рассеяния\n",
    "pd.plotting.scatter_matrix(\n",
    "    ds3.loc[:, [\n",
    "        'critic_score', \n",
    "        'user_score', \n",
    "        'total_sales'\n",
    "    ]].query('total_sales < 1.5'))\n",
    "plt.show()"
   ]
  },
  {
   "cell_type": "markdown",
   "metadata": {},
   "source": [
    "***Вывод по DS3***: отзывы пользователей и оценки критиков лишь в малой степени влияют на продажи. "
   ]
  },
  {
   "cell_type": "markdown",
   "metadata": {},
   "source": [
    "**Вывод по платформам**: для платформ можно отметить схожую ситуаци, когда отзывы и оценки не имеют значительного влияния на продажи"
   ]
  },
  {
   "cell_type": "markdown",
   "metadata": {},
   "source": [
    "### Игры и жанры"
   ]
  },
  {
   "cell_type": "code",
   "execution_count": 49,
   "metadata": {},
   "outputs": [
    {
     "data": {
      "text/html": [
       "<div>\n",
       "<style scoped>\n",
       "    .dataframe tbody tr th:only-of-type {\n",
       "        vertical-align: middle;\n",
       "    }\n",
       "\n",
       "    .dataframe tbody tr th {\n",
       "        vertical-align: top;\n",
       "    }\n",
       "\n",
       "    .dataframe thead th {\n",
       "        text-align: right;\n",
       "    }\n",
       "</style>\n",
       "<table border=\"1\" class=\"dataframe\">\n",
       "  <thead>\n",
       "    <tr style=\"text-align: right;\">\n",
       "      <th></th>\n",
       "      <th>count</th>\n",
       "      <th>sum</th>\n",
       "    </tr>\n",
       "    <tr>\n",
       "      <th>genre</th>\n",
       "      <th></th>\n",
       "      <th></th>\n",
       "    </tr>\n",
       "  </thead>\n",
       "  <tbody>\n",
       "    <tr>\n",
       "      <th>Action</th>\n",
       "      <td>953</td>\n",
       "      <td>435.54</td>\n",
       "    </tr>\n",
       "    <tr>\n",
       "      <th>Shooter</th>\n",
       "      <td>235</td>\n",
       "      <td>304.73</td>\n",
       "    </tr>\n",
       "    <tr>\n",
       "      <th>Role-Playing</th>\n",
       "      <td>339</td>\n",
       "      <td>180.91</td>\n",
       "    </tr>\n",
       "    <tr>\n",
       "      <th>Sports</th>\n",
       "      <td>256</td>\n",
       "      <td>179.55</td>\n",
       "    </tr>\n",
       "    <tr>\n",
       "      <th>Misc</th>\n",
       "      <td>180</td>\n",
       "      <td>84.15</td>\n",
       "    </tr>\n",
       "    <tr>\n",
       "      <th>Platform</th>\n",
       "      <td>83</td>\n",
       "      <td>60.31</td>\n",
       "    </tr>\n",
       "    <tr>\n",
       "      <th>Racing</th>\n",
       "      <td>115</td>\n",
       "      <td>53.50</td>\n",
       "    </tr>\n",
       "    <tr>\n",
       "      <th>Fighting</th>\n",
       "      <td>105</td>\n",
       "      <td>44.13</td>\n",
       "    </tr>\n",
       "    <tr>\n",
       "      <th>Simulation</th>\n",
       "      <td>78</td>\n",
       "      <td>34.85</td>\n",
       "    </tr>\n",
       "    <tr>\n",
       "      <th>Adventure</th>\n",
       "      <td>247</td>\n",
       "      <td>27.70</td>\n",
       "    </tr>\n",
       "    <tr>\n",
       "      <th>Strategy</th>\n",
       "      <td>67</td>\n",
       "      <td>12.63</td>\n",
       "    </tr>\n",
       "    <tr>\n",
       "      <th>Puzzle</th>\n",
       "      <td>24</td>\n",
       "      <td>4.79</td>\n",
       "    </tr>\n",
       "  </tbody>\n",
       "</table>\n",
       "</div>"
      ],
      "text/plain": [
       "              count    sum\n",
       "genre                     \n",
       "Action          953 435.54\n",
       "Shooter         235 304.73\n",
       "Role-Playing    339 180.91\n",
       "Sports          256 179.55\n",
       "Misc            180  84.15\n",
       "Platform         83  60.31\n",
       "Racing          115  53.50\n",
       "Fighting        105  44.13\n",
       "Simulation       78  34.85\n",
       "Adventure       247  27.70\n",
       "Strategy         67  12.63\n",
       "Puzzle           24   4.79"
      ]
     },
     "execution_count": 49,
     "metadata": {},
     "output_type": "execute_result"
    }
   ],
   "source": [
    "# посмотрим на лидирующие жанры по продажам\n",
    "actual_games.pivot_table(\n",
    "    index = ['genre'], values = 'total_sales', aggfunc = ('sum', 'count') \n",
    ").sort_values(by = 'sum', ascending = False)"
   ]
  },
  {
   "cell_type": "code",
   "execution_count": 50,
   "metadata": {},
   "outputs": [
    {
     "data": {
      "image/png": "[encoded data removed]",
      "text/plain": [
       "<Figure size 432x288 with 1 Axes>"
      ]
     },
     "metadata": {
      "needs_background": "light"
     },
     "output_type": "display_data"
    }
   ],
   "source": [
    "# посмотрим разброс по жанрам \n",
    "actual_games.pivot_table(index = ['genre'], values = 'total_sales', aggfunc = ('sum', 'count') ).boxplot()\n",
    "plt.show()"
   ]
  },
  {
   "cell_type": "code",
   "execution_count": 51,
   "metadata": {},
   "outputs": [
    {
     "data": {
      "text/html": [
       "<div>\n",
       "<style scoped>\n",
       "    .dataframe tbody tr th:only-of-type {\n",
       "        vertical-align: middle;\n",
       "    }\n",
       "\n",
       "    .dataframe tbody tr th {\n",
       "        vertical-align: top;\n",
       "    }\n",
       "\n",
       "    .dataframe thead th {\n",
       "        text-align: right;\n",
       "    }\n",
       "</style>\n",
       "<table border=\"1\" class=\"dataframe\">\n",
       "  <thead>\n",
       "    <tr style=\"text-align: right;\">\n",
       "      <th></th>\n",
       "      <th>count</th>\n",
       "      <th>sum</th>\n",
       "    </tr>\n",
       "  </thead>\n",
       "  <tbody>\n",
       "    <tr>\n",
       "      <th>count</th>\n",
       "      <td>12.00</td>\n",
       "      <td>12.00</td>\n",
       "    </tr>\n",
       "    <tr>\n",
       "      <th>mean</th>\n",
       "      <td>223.50</td>\n",
       "      <td>118.57</td>\n",
       "    </tr>\n",
       "    <tr>\n",
       "      <th>std</th>\n",
       "      <td>248.66</td>\n",
       "      <td>133.66</td>\n",
       "    </tr>\n",
       "    <tr>\n",
       "      <th>min</th>\n",
       "      <td>24.00</td>\n",
       "      <td>4.79</td>\n",
       "    </tr>\n",
       "    <tr>\n",
       "      <th>25%</th>\n",
       "      <td>81.75</td>\n",
       "      <td>33.06</td>\n",
       "    </tr>\n",
       "    <tr>\n",
       "      <th>50%</th>\n",
       "      <td>147.50</td>\n",
       "      <td>56.91</td>\n",
       "    </tr>\n",
       "    <tr>\n",
       "      <th>75%</th>\n",
       "      <td>249.25</td>\n",
       "      <td>179.89</td>\n",
       "    </tr>\n",
       "    <tr>\n",
       "      <th>max</th>\n",
       "      <td>953.00</td>\n",
       "      <td>435.54</td>\n",
       "    </tr>\n",
       "  </tbody>\n",
       "</table>\n",
       "</div>"
      ],
      "text/plain": [
       "       count    sum\n",
       "count  12.00  12.00\n",
       "mean  223.50 118.57\n",
       "std   248.66 133.66\n",
       "min    24.00   4.79\n",
       "25%    81.75  33.06\n",
       "50%   147.50  56.91\n",
       "75%   249.25 179.89\n",
       "max   953.00 435.54"
      ]
     },
     "execution_count": 51,
     "metadata": {},
     "output_type": "execute_result"
    }
   ],
   "source": [
    "# выведем показатели по данным\n",
    "actual_games.pivot_table(index = ['genre'], values = 'total_sales', aggfunc = ('sum', 'count') ).describe()"
   ]
  },
  {
   "cell_type": "code",
   "execution_count": 52,
   "metadata": {},
   "outputs": [
    {
     "data": {
      "text/plain": [
       "<AxesSubplot:xlabel='genre', ylabel='total_sales'>"
      ]
     },
     "execution_count": 52,
     "metadata": {},
     "output_type": "execute_result"
    },
    {
     "data": {
      "image/png": "[encoded data removed]",
      "text/plain": [
       "<Figure size 432x288 with 1 Axes>"
      ]
     },
     "metadata": {
      "needs_background": "light"
     },
     "output_type": "display_data"
    }
   ],
   "source": [
    "sns.boxplot(data = actual_games.query('total_sales < 1.5'), x = 'genre', y = 'total_sales')\n",
    "# actual_games.query('genre = \"Action\"')"
   ]
  },
  {
   "cell_type": "code",
   "execution_count": 53,
   "metadata": {},
   "outputs": [
    {
     "data": {
      "text/html": [
       "<div>\n",
       "<style scoped>\n",
       "    .dataframe tbody tr th:only-of-type {\n",
       "        vertical-align: middle;\n",
       "    }\n",
       "\n",
       "    .dataframe tbody tr th {\n",
       "        vertical-align: top;\n",
       "    }\n",
       "\n",
       "    .dataframe thead th {\n",
       "        text-align: right;\n",
       "    }\n",
       "</style>\n",
       "<table border=\"1\" class=\"dataframe\">\n",
       "  <thead>\n",
       "    <tr style=\"text-align: right;\">\n",
       "      <th></th>\n",
       "      <th>total_sales</th>\n",
       "    </tr>\n",
       "    <tr>\n",
       "      <th>genre</th>\n",
       "      <th></th>\n",
       "    </tr>\n",
       "  </thead>\n",
       "  <tbody>\n",
       "    <tr>\n",
       "      <th>Adventure</th>\n",
       "      <td>0.04</td>\n",
       "    </tr>\n",
       "    <tr>\n",
       "      <th>Puzzle</th>\n",
       "      <td>0.06</td>\n",
       "    </tr>\n",
       "    <tr>\n",
       "      <th>Strategy</th>\n",
       "      <td>0.08</td>\n",
       "    </tr>\n",
       "    <tr>\n",
       "      <th>Simulation</th>\n",
       "      <td>0.12</td>\n",
       "    </tr>\n",
       "    <tr>\n",
       "      <th>Action</th>\n",
       "      <td>0.13</td>\n",
       "    </tr>\n",
       "    <tr>\n",
       "      <th>Racing</th>\n",
       "      <td>0.14</td>\n",
       "    </tr>\n",
       "    <tr>\n",
       "      <th>Misc</th>\n",
       "      <td>0.14</td>\n",
       "    </tr>\n",
       "    <tr>\n",
       "      <th>Fighting</th>\n",
       "      <td>0.15</td>\n",
       "    </tr>\n",
       "    <tr>\n",
       "      <th>Role-Playing</th>\n",
       "      <td>0.16</td>\n",
       "    </tr>\n",
       "    <tr>\n",
       "      <th>Platform</th>\n",
       "      <td>0.21</td>\n",
       "    </tr>\n",
       "    <tr>\n",
       "      <th>Sports</th>\n",
       "      <td>0.27</td>\n",
       "    </tr>\n",
       "    <tr>\n",
       "      <th>Shooter</th>\n",
       "      <td>0.44</td>\n",
       "    </tr>\n",
       "  </tbody>\n",
       "</table>\n",
       "</div>"
      ],
      "text/plain": [
       "              total_sales\n",
       "genre                    \n",
       "Adventure            0.04\n",
       "Puzzle               0.06\n",
       "Strategy             0.08\n",
       "Simulation           0.12\n",
       "Action               0.13\n",
       "Racing               0.14\n",
       "Misc                 0.14\n",
       "Fighting             0.15\n",
       "Role-Playing         0.16\n",
       "Platform             0.21\n",
       "Sports               0.27\n",
       "Shooter              0.44"
      ]
     },
     "execution_count": 53,
     "metadata": {},
     "output_type": "execute_result"
    }
   ],
   "source": [
    "# медианные значения продаж по жанрам\n",
    "actual_games.pivot_table(\n",
    "    index = ['genre'], values = 'total_sales', aggfunc = ('median') ).sort_values(by = 'total_sales')"
   ]
  },
  {
   "cell_type": "markdown",
   "metadata": {},
   "source": [
    "**Вывод**: 12 жанров, самый популярный шутеры (медиана - 0.44 млн. копий). Так же можно выделить жанр с низкими продажами (менее 30,7 млн. копий и медианой ниже 0.1 млн. копий): причключения, стратегии и пазлы. Одновременно можно отметить высокие продажи жанра экшн-игры (384,6 млн. копий за актуальный период).\n"
   ]
  },
  {
   "cell_type": "markdown",
   "metadata": {},
   "source": [
    "## Портрет пользователя каждого региона"
   ]
  },
  {
   "cell_type": "code",
   "execution_count": 54,
   "metadata": {},
   "outputs": [
    {
     "data": {
      "text/html": [
       "<div>\n",
       "<style scoped>\n",
       "    .dataframe tbody tr th:only-of-type {\n",
       "        vertical-align: middle;\n",
       "    }\n",
       "\n",
       "    .dataframe tbody tr th {\n",
       "        vertical-align: top;\n",
       "    }\n",
       "\n",
       "    .dataframe thead th {\n",
       "        text-align: right;\n",
       "    }\n",
       "</style>\n",
       "<table border=\"1\" class=\"dataframe\">\n",
       "  <thead>\n",
       "    <tr style=\"text-align: right;\">\n",
       "      <th></th>\n",
       "      <th>na_sales</th>\n",
       "    </tr>\n",
       "    <tr>\n",
       "      <th>platform</th>\n",
       "      <th></th>\n",
       "    </tr>\n",
       "  </thead>\n",
       "  <tbody>\n",
       "    <tr>\n",
       "      <th>X360</th>\n",
       "      <td>140.05</td>\n",
       "    </tr>\n",
       "    <tr>\n",
       "      <th>PS4</th>\n",
       "      <td>108.74</td>\n",
       "    </tr>\n",
       "    <tr>\n",
       "      <th>PS3</th>\n",
       "      <td>103.38</td>\n",
       "    </tr>\n",
       "    <tr>\n",
       "      <th>XOne</th>\n",
       "      <td>93.12</td>\n",
       "    </tr>\n",
       "    <tr>\n",
       "      <th>3DS</th>\n",
       "      <td>55.31</td>\n",
       "    </tr>\n",
       "  </tbody>\n",
       "</table>\n",
       "</div>"
      ],
      "text/plain": [
       "          na_sales\n",
       "platform          \n",
       "X360        140.05\n",
       "PS4         108.74\n",
       "PS3         103.38\n",
       "XOne         93.12\n",
       "3DS          55.31"
      ]
     },
     "metadata": {},
     "output_type": "display_data"
    },
    {
     "data": {
      "text/html": [
       "<div>\n",
       "<style scoped>\n",
       "    .dataframe tbody tr th:only-of-type {\n",
       "        vertical-align: middle;\n",
       "    }\n",
       "\n",
       "    .dataframe tbody tr th {\n",
       "        vertical-align: top;\n",
       "    }\n",
       "\n",
       "    .dataframe thead th {\n",
       "        text-align: right;\n",
       "    }\n",
       "</style>\n",
       "<table border=\"1\" class=\"dataframe\">\n",
       "  <thead>\n",
       "    <tr style=\"text-align: right;\">\n",
       "      <th></th>\n",
       "      <th>eu_sales</th>\n",
       "    </tr>\n",
       "    <tr>\n",
       "      <th>platform</th>\n",
       "      <th></th>\n",
       "    </tr>\n",
       "  </thead>\n",
       "  <tbody>\n",
       "    <tr>\n",
       "      <th>PS4</th>\n",
       "      <td>141.09</td>\n",
       "    </tr>\n",
       "    <tr>\n",
       "      <th>PS3</th>\n",
       "      <td>106.86</td>\n",
       "    </tr>\n",
       "    <tr>\n",
       "      <th>X360</th>\n",
       "      <td>74.52</td>\n",
       "    </tr>\n",
       "    <tr>\n",
       "      <th>XOne</th>\n",
       "      <td>51.59</td>\n",
       "    </tr>\n",
       "    <tr>\n",
       "      <th>3DS</th>\n",
       "      <td>42.64</td>\n",
       "    </tr>\n",
       "  </tbody>\n",
       "</table>\n",
       "</div>"
      ],
      "text/plain": [
       "          eu_sales\n",
       "platform          \n",
       "PS4         141.09\n",
       "PS3         106.86\n",
       "X360         74.52\n",
       "XOne         51.59\n",
       "3DS          42.64"
      ]
     },
     "metadata": {},
     "output_type": "display_data"
    },
    {
     "data": {
      "text/html": [
       "<div>\n",
       "<style scoped>\n",
       "    .dataframe tbody tr th:only-of-type {\n",
       "        vertical-align: middle;\n",
       "    }\n",
       "\n",
       "    .dataframe tbody tr th {\n",
       "        vertical-align: top;\n",
       "    }\n",
       "\n",
       "    .dataframe thead th {\n",
       "        text-align: right;\n",
       "    }\n",
       "</style>\n",
       "<table border=\"1\" class=\"dataframe\">\n",
       "  <thead>\n",
       "    <tr style=\"text-align: right;\">\n",
       "      <th></th>\n",
       "      <th>jp_sales</th>\n",
       "    </tr>\n",
       "    <tr>\n",
       "      <th>platform</th>\n",
       "      <th></th>\n",
       "    </tr>\n",
       "  </thead>\n",
       "  <tbody>\n",
       "    <tr>\n",
       "      <th>3DS</th>\n",
       "      <td>87.79</td>\n",
       "    </tr>\n",
       "    <tr>\n",
       "      <th>PS3</th>\n",
       "      <td>35.29</td>\n",
       "    </tr>\n",
       "    <tr>\n",
       "      <th>PSV</th>\n",
       "      <td>21.04</td>\n",
       "    </tr>\n",
       "    <tr>\n",
       "      <th>PS4</th>\n",
       "      <td>15.96</td>\n",
       "    </tr>\n",
       "    <tr>\n",
       "      <th>WiiU</th>\n",
       "      <td>13.01</td>\n",
       "    </tr>\n",
       "  </tbody>\n",
       "</table>\n",
       "</div>"
      ],
      "text/plain": [
       "          jp_sales\n",
       "platform          \n",
       "3DS          87.79\n",
       "PS3          35.29\n",
       "PSV          21.04\n",
       "PS4          15.96\n",
       "WiiU         13.01"
      ]
     },
     "metadata": {},
     "output_type": "display_data"
    }
   ],
   "source": [
    "# определим топовые платформы по регионам\n",
    "region_sales  = ['na_sales', 'eu_sales', 'jp_sales']\n",
    "for region in region_sales:\n",
    "    display(actual_games.pivot_table(\n",
    "        index = 'platform', values = region, aggfunc = 'sum'\n",
    "    ).sort_values(\n",
    "        by = region, ascending = False).head(5))"
   ]
  },
  {
   "cell_type": "code",
   "execution_count": 55,
   "metadata": {},
   "outputs": [
    {
     "data": {
      "text/html": [
       "<div>\n",
       "<style scoped>\n",
       "    .dataframe tbody tr th:only-of-type {\n",
       "        vertical-align: middle;\n",
       "    }\n",
       "\n",
       "    .dataframe tbody tr th {\n",
       "        vertical-align: top;\n",
       "    }\n",
       "\n",
       "    .dataframe thead th {\n",
       "        text-align: right;\n",
       "    }\n",
       "</style>\n",
       "<table border=\"1\" class=\"dataframe\">\n",
       "  <thead>\n",
       "    <tr style=\"text-align: right;\">\n",
       "      <th></th>\n",
       "      <th>eu_sales</th>\n",
       "      <th>jp_sales</th>\n",
       "      <th>na_sales</th>\n",
       "    </tr>\n",
       "    <tr>\n",
       "      <th>platform</th>\n",
       "      <th></th>\n",
       "      <th></th>\n",
       "      <th></th>\n",
       "    </tr>\n",
       "  </thead>\n",
       "  <tbody>\n",
       "    <tr>\n",
       "      <th>3DS</th>\n",
       "      <td>42.64</td>\n",
       "      <td>87.79</td>\n",
       "      <td>55.31</td>\n",
       "    </tr>\n",
       "    <tr>\n",
       "      <th>PC</th>\n",
       "      <td>37.76</td>\n",
       "      <td>0.00</td>\n",
       "      <td>19.12</td>\n",
       "    </tr>\n",
       "    <tr>\n",
       "      <th>PS3</th>\n",
       "      <td>106.86</td>\n",
       "      <td>35.29</td>\n",
       "      <td>103.38</td>\n",
       "    </tr>\n",
       "    <tr>\n",
       "      <th>PS4</th>\n",
       "      <td>141.09</td>\n",
       "      <td>15.96</td>\n",
       "      <td>108.74</td>\n",
       "    </tr>\n",
       "    <tr>\n",
       "      <th>PSV</th>\n",
       "      <td>11.36</td>\n",
       "      <td>21.04</td>\n",
       "      <td>10.98</td>\n",
       "    </tr>\n",
       "    <tr>\n",
       "      <th>Wii</th>\n",
       "      <td>11.92</td>\n",
       "      <td>3.39</td>\n",
       "      <td>17.45</td>\n",
       "    </tr>\n",
       "    <tr>\n",
       "      <th>WiiU</th>\n",
       "      <td>25.13</td>\n",
       "      <td>13.01</td>\n",
       "      <td>38.10</td>\n",
       "    </tr>\n",
       "    <tr>\n",
       "      <th>X360</th>\n",
       "      <td>74.52</td>\n",
       "      <td>1.57</td>\n",
       "      <td>140.05</td>\n",
       "    </tr>\n",
       "    <tr>\n",
       "      <th>XOne</th>\n",
       "      <td>51.59</td>\n",
       "      <td>0.34</td>\n",
       "      <td>93.12</td>\n",
       "    </tr>\n",
       "  </tbody>\n",
       "</table>\n",
       "</div>"
      ],
      "text/plain": [
       "          eu_sales  jp_sales  na_sales\n",
       "platform                              \n",
       "3DS          42.64     87.79     55.31\n",
       "PC           37.76      0.00     19.12\n",
       "PS3         106.86     35.29    103.38\n",
       "PS4         141.09     15.96    108.74\n",
       "PSV          11.36     21.04     10.98\n",
       "Wii          11.92      3.39     17.45\n",
       "WiiU         25.13     13.01     38.10\n",
       "X360         74.52      1.57    140.05\n",
       "XOne         51.59      0.34     93.12"
      ]
     },
     "execution_count": 55,
     "metadata": {},
     "output_type": "execute_result"
    }
   ],
   "source": [
    "actual_games.pivot_table(\n",
    "        index = 'platform', values = ['na_sales', 'eu_sales', 'jp_sales'], aggfunc = 'sum')"
   ]
  },
  {
   "cell_type": "code",
   "execution_count": 56,
   "metadata": {},
   "outputs": [
    {
     "data": {
      "text/html": [
       "<div>\n",
       "<style scoped>\n",
       "    .dataframe tbody tr th:only-of-type {\n",
       "        vertical-align: middle;\n",
       "    }\n",
       "\n",
       "    .dataframe tbody tr th {\n",
       "        vertical-align: top;\n",
       "    }\n",
       "\n",
       "    .dataframe thead th {\n",
       "        text-align: right;\n",
       "    }\n",
       "</style>\n",
       "<table border=\"1\" class=\"dataframe\">\n",
       "  <thead>\n",
       "    <tr style=\"text-align: right;\">\n",
       "      <th></th>\n",
       "      <th>na_sales</th>\n",
       "    </tr>\n",
       "    <tr>\n",
       "      <th>genre</th>\n",
       "      <th></th>\n",
       "    </tr>\n",
       "  </thead>\n",
       "  <tbody>\n",
       "    <tr>\n",
       "      <th>Action</th>\n",
       "      <td>177.00</td>\n",
       "    </tr>\n",
       "    <tr>\n",
       "      <th>Shooter</th>\n",
       "      <td>144.77</td>\n",
       "    </tr>\n",
       "    <tr>\n",
       "      <th>Sports</th>\n",
       "      <td>81.38</td>\n",
       "    </tr>\n",
       "    <tr>\n",
       "      <th>Role-Playing</th>\n",
       "      <td>60.65</td>\n",
       "    </tr>\n",
       "    <tr>\n",
       "      <th>Misc</th>\n",
       "      <td>38.13</td>\n",
       "    </tr>\n",
       "  </tbody>\n",
       "</table>\n",
       "</div>"
      ],
      "text/plain": [
       "              na_sales\n",
       "genre                 \n",
       "Action          177.00\n",
       "Shooter         144.77\n",
       "Sports           81.38\n",
       "Role-Playing     60.65\n",
       "Misc             38.13"
      ]
     },
     "metadata": {},
     "output_type": "display_data"
    },
    {
     "data": {
      "text/html": [
       "<div>\n",
       "<style scoped>\n",
       "    .dataframe tbody tr th:only-of-type {\n",
       "        vertical-align: middle;\n",
       "    }\n",
       "\n",
       "    .dataframe tbody tr th {\n",
       "        vertical-align: top;\n",
       "    }\n",
       "\n",
       "    .dataframe thead th {\n",
       "        text-align: right;\n",
       "    }\n",
       "</style>\n",
       "<table border=\"1\" class=\"dataframe\">\n",
       "  <thead>\n",
       "    <tr style=\"text-align: right;\">\n",
       "      <th></th>\n",
       "      <th>eu_sales</th>\n",
       "    </tr>\n",
       "    <tr>\n",
       "      <th>genre</th>\n",
       "      <th></th>\n",
       "    </tr>\n",
       "  </thead>\n",
       "  <tbody>\n",
       "    <tr>\n",
       "      <th>Action</th>\n",
       "      <td>158.43</td>\n",
       "    </tr>\n",
       "    <tr>\n",
       "      <th>Shooter</th>\n",
       "      <td>113.47</td>\n",
       "    </tr>\n",
       "    <tr>\n",
       "      <th>Sports</th>\n",
       "      <td>68.84</td>\n",
       "    </tr>\n",
       "    <tr>\n",
       "      <th>Role-Playing</th>\n",
       "      <td>46.76</td>\n",
       "    </tr>\n",
       "    <tr>\n",
       "      <th>Racing</th>\n",
       "      <td>27.29</td>\n",
       "    </tr>\n",
       "  </tbody>\n",
       "</table>\n",
       "</div>"
      ],
      "text/plain": [
       "              eu_sales\n",
       "genre                 \n",
       "Action          158.43\n",
       "Shooter         113.47\n",
       "Sports           68.84\n",
       "Role-Playing     46.76\n",
       "Racing           27.29"
      ]
     },
     "metadata": {},
     "output_type": "display_data"
    },
    {
     "data": {
      "text/html": [
       "<div>\n",
       "<style scoped>\n",
       "    .dataframe tbody tr th:only-of-type {\n",
       "        vertical-align: middle;\n",
       "    }\n",
       "\n",
       "    .dataframe tbody tr th {\n",
       "        vertical-align: top;\n",
       "    }\n",
       "\n",
       "    .dataframe thead th {\n",
       "        text-align: right;\n",
       "    }\n",
       "</style>\n",
       "<table border=\"1\" class=\"dataframe\">\n",
       "  <thead>\n",
       "    <tr style=\"text-align: right;\">\n",
       "      <th></th>\n",
       "      <th>jp_sales</th>\n",
       "    </tr>\n",
       "    <tr>\n",
       "      <th>genre</th>\n",
       "      <th></th>\n",
       "    </tr>\n",
       "  </thead>\n",
       "  <tbody>\n",
       "    <tr>\n",
       "      <th>Role-Playing</th>\n",
       "      <td>59.12</td>\n",
       "    </tr>\n",
       "    <tr>\n",
       "      <th>Action</th>\n",
       "      <td>49.18</td>\n",
       "    </tr>\n",
       "    <tr>\n",
       "      <th>Misc</th>\n",
       "      <td>12.45</td>\n",
       "    </tr>\n",
       "    <tr>\n",
       "      <th>Simulation</th>\n",
       "      <td>10.35</td>\n",
       "    </tr>\n",
       "    <tr>\n",
       "      <th>Shooter</th>\n",
       "      <td>9.23</td>\n",
       "    </tr>\n",
       "  </tbody>\n",
       "</table>\n",
       "</div>"
      ],
      "text/plain": [
       "              jp_sales\n",
       "genre                 \n",
       "Role-Playing     59.12\n",
       "Action           49.18\n",
       "Misc             12.45\n",
       "Simulation       10.35\n",
       "Shooter           9.23"
      ]
     },
     "metadata": {},
     "output_type": "display_data"
    }
   ],
   "source": [
    "# определим топовые жанры по регионам\n",
    "region_sales  = ['na_sales', 'eu_sales', 'jp_sales']\n",
    "for region in region_sales:\n",
    "    display(actual_games.pivot_table(\n",
    "        index = 'genre', values = region, aggfunc = 'sum').sort_values(by = region, ascending = False).head(5))"
   ]
  },
  {
   "cell_type": "code",
   "execution_count": 57,
   "metadata": {},
   "outputs": [
    {
     "data": {
      "text/html": [
       "<div>\n",
       "<style scoped>\n",
       "    .dataframe tbody tr th:only-of-type {\n",
       "        vertical-align: middle;\n",
       "    }\n",
       "\n",
       "    .dataframe tbody tr th {\n",
       "        vertical-align: top;\n",
       "    }\n",
       "\n",
       "    .dataframe thead th {\n",
       "        text-align: right;\n",
       "    }\n",
       "</style>\n",
       "<table border=\"1\" class=\"dataframe\">\n",
       "  <thead>\n",
       "    <tr style=\"text-align: right;\">\n",
       "      <th></th>\n",
       "      <th>eu_sales</th>\n",
       "      <th>jp_sales</th>\n",
       "      <th>na_sales</th>\n",
       "    </tr>\n",
       "    <tr>\n",
       "      <th>genre</th>\n",
       "      <th></th>\n",
       "      <th></th>\n",
       "      <th></th>\n",
       "    </tr>\n",
       "  </thead>\n",
       "  <tbody>\n",
       "    <tr>\n",
       "      <th>Action</th>\n",
       "      <td>158.43</td>\n",
       "      <td>49.18</td>\n",
       "      <td>177.00</td>\n",
       "    </tr>\n",
       "    <tr>\n",
       "      <th>Adventure</th>\n",
       "      <td>9.41</td>\n",
       "      <td>6.56</td>\n",
       "      <td>8.92</td>\n",
       "    </tr>\n",
       "    <tr>\n",
       "      <th>Fighting</th>\n",
       "      <td>10.79</td>\n",
       "      <td>9.08</td>\n",
       "      <td>19.79</td>\n",
       "    </tr>\n",
       "    <tr>\n",
       "      <th>Misc</th>\n",
       "      <td>25.95</td>\n",
       "      <td>12.45</td>\n",
       "      <td>38.13</td>\n",
       "    </tr>\n",
       "    <tr>\n",
       "      <th>Platform</th>\n",
       "      <td>20.98</td>\n",
       "      <td>8.63</td>\n",
       "      <td>25.17</td>\n",
       "    </tr>\n",
       "    <tr>\n",
       "      <th>Puzzle</th>\n",
       "      <td>1.31</td>\n",
       "      <td>2.14</td>\n",
       "      <td>1.13</td>\n",
       "    </tr>\n",
       "    <tr>\n",
       "      <th>Racing</th>\n",
       "      <td>27.29</td>\n",
       "      <td>2.50</td>\n",
       "      <td>17.22</td>\n",
       "    </tr>\n",
       "    <tr>\n",
       "      <th>Role-Playing</th>\n",
       "      <td>46.76</td>\n",
       "      <td>59.12</td>\n",
       "      <td>60.65</td>\n",
       "    </tr>\n",
       "    <tr>\n",
       "      <th>Shooter</th>\n",
       "      <td>113.47</td>\n",
       "      <td>9.23</td>\n",
       "      <td>144.77</td>\n",
       "    </tr>\n",
       "    <tr>\n",
       "      <th>Simulation</th>\n",
       "      <td>14.47</td>\n",
       "      <td>10.35</td>\n",
       "      <td>7.86</td>\n",
       "    </tr>\n",
       "    <tr>\n",
       "      <th>Sports</th>\n",
       "      <td>68.84</td>\n",
       "      <td>6.98</td>\n",
       "      <td>81.38</td>\n",
       "    </tr>\n",
       "    <tr>\n",
       "      <th>Strategy</th>\n",
       "      <td>5.17</td>\n",
       "      <td>2.17</td>\n",
       "      <td>4.23</td>\n",
       "    </tr>\n",
       "  </tbody>\n",
       "</table>\n",
       "</div>"
      ],
      "text/plain": [
       "              eu_sales  jp_sales  na_sales\n",
       "genre                                     \n",
       "Action          158.43     49.18    177.00\n",
       "Adventure         9.41      6.56      8.92\n",
       "Fighting         10.79      9.08     19.79\n",
       "Misc             25.95     12.45     38.13\n",
       "Platform         20.98      8.63     25.17\n",
       "Puzzle            1.31      2.14      1.13\n",
       "Racing           27.29      2.50     17.22\n",
       "Role-Playing     46.76     59.12     60.65\n",
       "Shooter         113.47      9.23    144.77\n",
       "Simulation       14.47     10.35      7.86\n",
       "Sports           68.84      6.98     81.38\n",
       "Strategy          5.17      2.17      4.23"
      ]
     },
     "execution_count": 57,
     "metadata": {},
     "output_type": "execute_result"
    }
   ],
   "source": [
    "actual_games.pivot_table(\n",
    "        index = 'genre', values = region_sales, aggfunc = 'sum')"
   ]
  },
  {
   "cell_type": "code",
   "execution_count": 58,
   "metadata": {},
   "outputs": [
    {
     "data": {
      "text/html": [
       "<div>\n",
       "<style scoped>\n",
       "    .dataframe tbody tr th:only-of-type {\n",
       "        vertical-align: middle;\n",
       "    }\n",
       "\n",
       "    .dataframe tbody tr th {\n",
       "        vertical-align: top;\n",
       "    }\n",
       "\n",
       "    .dataframe thead th {\n",
       "        text-align: right;\n",
       "    }\n",
       "</style>\n",
       "<table border=\"1\" class=\"dataframe\">\n",
       "  <thead>\n",
       "    <tr style=\"text-align: right;\">\n",
       "      <th></th>\n",
       "      <th>eu_sales</th>\n",
       "      <th>jp_sales</th>\n",
       "      <th>na_sales</th>\n",
       "    </tr>\n",
       "    <tr>\n",
       "      <th>rating</th>\n",
       "      <th></th>\n",
       "      <th></th>\n",
       "      <th></th>\n",
       "    </tr>\n",
       "  </thead>\n",
       "  <tbody>\n",
       "    <tr>\n",
       "      <th>E</th>\n",
       "      <td>97.39</td>\n",
       "      <td>26.42</td>\n",
       "      <td>98.63</td>\n",
       "    </tr>\n",
       "    <tr>\n",
       "      <th>E10+</th>\n",
       "      <td>41.46</td>\n",
       "      <td>7.95</td>\n",
       "      <td>58.40</td>\n",
       "    </tr>\n",
       "    <tr>\n",
       "      <th>M</th>\n",
       "      <td>183.82</td>\n",
       "      <td>20.02</td>\n",
       "      <td>217.67</td>\n",
       "    </tr>\n",
       "    <tr>\n",
       "      <th>T</th>\n",
       "      <td>49.86</td>\n",
       "      <td>21.71</td>\n",
       "      <td>61.32</td>\n",
       "    </tr>\n",
       "  </tbody>\n",
       "</table>\n",
       "</div>"
      ],
      "text/plain": [
       "        eu_sales  jp_sales  na_sales\n",
       "rating                              \n",
       "E          97.39     26.42     98.63\n",
       "E10+       41.46      7.95     58.40\n",
       "M         183.82     20.02    217.67\n",
       "T          49.86     21.71     61.32"
      ]
     },
     "execution_count": 58,
     "metadata": {},
     "output_type": "execute_result"
    }
   ],
   "source": [
    "# определим продажи в зависимости от рейтинга игры\n",
    "actual_games.dropna().reset_index(drop = True).pivot_table(\n",
    "    index = 'rating', values = region_sales, aggfunc = 'sum')"
   ]
  },
  {
   "cell_type": "markdown",
   "metadata": {},
   "source": [
    "Рейтинги ESRB\n",
    "\n",
    "- E — Everyone\n",
    "- E10+ — Everyone 10+\n",
    "- T — Teen\n",
    "- M — Mature\n"
   ]
  },
  {
   "cell_type": "code",
   "execution_count": 59,
   "metadata": {},
   "outputs": [
    {
     "data": {
      "text/html": [
       "<div>\n",
       "<style scoped>\n",
       "    .dataframe tbody tr th:only-of-type {\n",
       "        vertical-align: middle;\n",
       "    }\n",
       "\n",
       "    .dataframe tbody tr th {\n",
       "        vertical-align: top;\n",
       "    }\n",
       "\n",
       "    .dataframe thead th {\n",
       "        text-align: right;\n",
       "    }\n",
       "</style>\n",
       "<table border=\"1\" class=\"dataframe\">\n",
       "  <thead>\n",
       "    <tr style=\"text-align: right;\">\n",
       "      <th></th>\n",
       "      <th>eu_sales</th>\n",
       "      <th>jp_sales</th>\n",
       "      <th>na_sales</th>\n",
       "    </tr>\n",
       "    <tr>\n",
       "      <th>rating</th>\n",
       "      <th></th>\n",
       "      <th></th>\n",
       "      <th></th>\n",
       "    </tr>\n",
       "  </thead>\n",
       "  <tbody>\n",
       "    <tr>\n",
       "      <th>E</th>\n",
       "      <td>380</td>\n",
       "      <td>380</td>\n",
       "      <td>380</td>\n",
       "    </tr>\n",
       "    <tr>\n",
       "      <th>E10+</th>\n",
       "      <td>301</td>\n",
       "      <td>301</td>\n",
       "      <td>301</td>\n",
       "    </tr>\n",
       "    <tr>\n",
       "      <th>M</th>\n",
       "      <td>498</td>\n",
       "      <td>498</td>\n",
       "      <td>498</td>\n",
       "    </tr>\n",
       "    <tr>\n",
       "      <th>T</th>\n",
       "      <td>410</td>\n",
       "      <td>410</td>\n",
       "      <td>410</td>\n",
       "    </tr>\n",
       "  </tbody>\n",
       "</table>\n",
       "</div>"
      ],
      "text/plain": [
       "        eu_sales  jp_sales  na_sales\n",
       "rating                              \n",
       "E            380       380       380\n",
       "E10+         301       301       301\n",
       "M            498       498       498\n",
       "T            410       410       410"
      ]
     },
     "execution_count": 59,
     "metadata": {},
     "output_type": "execute_result"
    }
   ],
   "source": [
    "actual_games.pivot_table(\n",
    "    index = 'rating', values = region_sales, aggfunc = 'count')"
   ]
  },
  {
   "cell_type": "markdown",
   "metadata": {},
   "source": [
    "**Вывод**: В зависимости от региона предрочтения игроков меняются. В частности:\n",
    "- в североамеринском регионе лидируют X360, PS4, PS3, XOne, 3DS, среди жанров лидируют экшн и шутеры, и, соответственно жанрам, самый распространенный рейтинг рейтинг Mature.\n",
    "- в европейском регионе лидируют PS4, PS3, X360, XOne, 3DS среди жанров лидируют так же экшн и шутеры, и, соответственно жанрам, самый распространенный рейтинг Mature.\n",
    "- в Японии лидируют 3DS, PS3, PSV, PS4, WiiU среди жанров лидируют так же ролевые и экшн, и самый распространенный рейтинг Everyone."
   ]
  },
  {
   "cell_type": "markdown",
   "metadata": {},
   "source": [
    "## Проверка гипотезы"
   ]
  },
  {
   "cell_type": "markdown",
   "metadata": {},
   "source": [
    "#### **Средние пользовательские рейтинги платформ Xbox One и PC одинаковые**"
   ]
  },
  {
   "cell_type": "markdown",
   "metadata": {},
   "source": [
    "Сформулируем нулевую и альтернативную теории:\n",
    "    \n",
    "    - H0: Средние пользовательские рейтинги платформ Xbox One и PC одинаковые\n",
    "    - H1: Средние пользовательские рейтинги платформ Xbox One и PC различаются\n",
    "    "
   ]
  },
  {
   "cell_type": "code",
   "execution_count": null,
   "metadata": {},
   "outputs": [],
   "source": [
    "# подготовим данные PC для проверки \n",
    "pc = actual_games.query('platform == \"PC\"')\n",
    "pc = pc.dropna().reset_index(drop = True)\n",
    "pc['user_score'] = pd.to_numeric(pc['user_score'], errors='coerce')\n",
    "pc = pc.dropna().reset_index(drop = True)\n",
    "pc.info()"
   ]
  },
  {
   "cell_type": "code",
   "execution_count": null,
   "metadata": {},
   "outputs": [],
   "source": [
    "# проведем тест\n",
    "alpha = 0.05 #критический уровень статистической значимости\n",
    "\n",
    "results = st.ttest_ind(\n",
    "    xone['user_score'], \n",
    "    pc['user_score'])\n",
    "\n",
    "print('p-значение:', round(results.pvalue, 3))\n",
    "\n",
    "if results.pvalue < (alpha):\n",
    "    print(\"Отвергаем нулевую гипотезу.\")\n",
    "else:\n",
    "    print(\"Не получилось отвергнуть нулевую гипотезу.\")\n",
    "\n",
    "\n",
    "\n"
   ]
  },
  {
   "cell_type": "markdown",
   "metadata": {},
   "source": [
    "**Вывод**: С высокой долей вероятности можно утверждать, что средние пользовательские рейтинги платформ Xbox One и PC одинаковые. "
   ]
  },
  {
   "cell_type": "markdown",
   "metadata": {},
   "source": [
    "#### **Средние пользовательские рейтинги жанров Action (англ. «действие», экшен-игры) и Sports (англ. «спортивные соревнования») разные.**"
   ]
  },
  {
   "cell_type": "markdown",
   "metadata": {},
   "source": [
    "Сформулируем нулевую и альтернативную теории:\n",
    "    \n",
    "    - H0: Средние пользовательские рейтинги жанров Action и Sports одинаковые\n",
    "    - H1: Средние пользовательские рейтинги жанров Action и Sports различаются\n",
    "    "
   ]
  },
  {
   "cell_type": "code",
   "execution_count": null,
   "metadata": {},
   "outputs": [],
   "source": [
    "# подготовим данные для проверки\n",
    "actual_games = actual_games.dropna().reset_index(drop = True)\n",
    "actual_games['user_score'] = actual_games['user_score'].astype('float')\n",
    "actual_games = actual_games.dropna().reset_index(drop = True)\n",
    "actual_games.info()"
   ]
  },
  {
   "cell_type": "code",
   "execution_count": null,
   "metadata": {},
   "outputs": [],
   "source": [
    "# проведем тест\n",
    "alpha = 0.05 #критический уровень статистической значимости\n",
    "\n",
    "results = st.ttest_ind(\n",
    "    actual_games.query('genre == \"Action\"')['user_score'], \n",
    "    actual_games.query('genre == \"Sports\"')['user_score'])\n",
    "\n",
    "print('p-значение:', round(results.pvalue, 3))\n",
    "\n",
    "if results.pvalue < (alpha):\n",
    "    print(\"Отвергаем нулевую гипотезу.\")\n",
    "else:\n",
    "    print(\"Не получилось отвергнуть нулевую гипотезу.\")\n",
    "\n",
    "\n",
    "\n",
    "\n"
   ]
  },
  {
   "cell_type": "markdown",
   "metadata": {},
   "source": [
    "**Вывод**: С высокой долей вероятности можно утверждать, что средние пользовательские рейтинги жанров Action и Sports различаются. "
   ]
  },
  {
   "cell_type": "markdown",
   "metadata": {},
   "source": [
    "## Общий вывод"
   ]
  },
  {
   "cell_type": "markdown",
   "metadata": {},
   "source": [
    "В рамках данной работы рассмотрены данные о продажах и оценках игр c 1980 до 2016 гг. \n",
    "\n",
    "Для анализа загружен и обработан файл games.csv. Записи составлены о **16715 играх** на **31 платформе**. Проверены пропуски и дубликаты, преобразованы типы данных и округлены значения.  \n",
    "\n",
    "Представленные данные позволяют сделать вывод об изменениях на рынке игр. В частности, после 1993 года количество игр резко увеличивается, а с 2012 сокращается. Все это обусловлено сменой поколений платформ.\n",
    "Больше всего игр выпущено для платформы PS2 и DS. В топ 10 кассовых игр за весь период вошли игры на платформах Wii и Nintendo про Марио и спорт.\n",
    "\n",
    "В качестве актуального периода выбраны 2012-2016 гг..\n",
    "\n",
    "Самый популярный жанр - экшн-игры,а низкие продажи у игр в жанре причключения, стратегии и пазлы.\n",
    "\n",
    "В североамеринском и европейском регионе  схожие предрочтения игроков: лидируют X360, PS4, PS3, XOne, 3DS, среди жанров лидируют экшн и шутеры, и, соответственно жанрам, самый распространенный рейтинг рейтинг Mature. В Японии лидируют 3DS, PS3, PSV, PS4, WiiU, чаще выбирают игры для всех возрастов в жанрах ролевые и экшн.\n",
    "\n",
    "С учетом проведенных тестов, можно отметить, что средние пользовательские рейтинги платформ Xbox One и PC одинаковые, а также, что пользователи по-разному оценивают жанры Action и Sports.\n"
   ]
  }
 ],
 "metadata": {
  "ExecuteTimeLog": [
   {
    "duration": 137,
    "start_time": "2022-02-15T08:37:25.931Z"
   },
   {
    "duration": 104,
    "start_time": "2022-02-15T16:42:30.461Z"
   },
   {
    "duration": 1193,
    "start_time": "2022-02-15T20:44:03.472Z"
   },
   {
    "duration": 3894,
    "start_time": "2022-02-15T20:44:04.667Z"
   },
   {
    "duration": -26,
    "start_time": "2022-02-15T20:44:08.591Z"
   },
   {
    "duration": -37,
    "start_time": "2022-02-15T20:44:08.604Z"
   },
   {
    "duration": -51,
    "start_time": "2022-02-15T20:44:08.619Z"
   },
   {
    "duration": -56,
    "start_time": "2022-02-15T20:44:08.625Z"
   },
   {
    "duration": -69,
    "start_time": "2022-02-15T20:44:08.639Z"
   },
   {
    "duration": -82,
    "start_time": "2022-02-15T20:44:08.653Z"
   },
   {
    "duration": -88,
    "start_time": "2022-02-15T20:44:08.660Z"
   },
   {
    "duration": -101,
    "start_time": "2022-02-15T20:44:08.675Z"
   },
   {
    "duration": -114,
    "start_time": "2022-02-15T20:44:08.689Z"
   },
   {
    "duration": -125,
    "start_time": "2022-02-15T20:44:08.701Z"
   },
   {
    "duration": -130,
    "start_time": "2022-02-15T20:44:08.707Z"
   },
   {
    "duration": -142,
    "start_time": "2022-02-15T20:44:08.720Z"
   },
   {
    "duration": -148,
    "start_time": "2022-02-15T20:44:08.727Z"
   },
   {
    "duration": -159,
    "start_time": "2022-02-15T20:44:08.739Z"
   },
   {
    "duration": -171,
    "start_time": "2022-02-15T20:44:08.752Z"
   },
   {
    "duration": -174,
    "start_time": "2022-02-15T20:44:08.756Z"
   },
   {
    "duration": -184,
    "start_time": "2022-02-15T20:44:08.767Z"
   },
   {
    "duration": -187,
    "start_time": "2022-02-15T20:44:08.771Z"
   },
   {
    "duration": -197,
    "start_time": "2022-02-15T20:44:08.782Z"
   },
   {
    "duration": -200,
    "start_time": "2022-02-15T20:44:08.786Z"
   },
   {
    "duration": -205,
    "start_time": "2022-02-15T20:44:08.792Z"
   },
   {
    "duration": -213,
    "start_time": "2022-02-15T20:44:08.801Z"
   },
   {
    "duration": -217,
    "start_time": "2022-02-15T20:44:08.806Z"
   },
   {
    "duration": -226,
    "start_time": "2022-02-15T20:44:08.816Z"
   },
   {
    "duration": -229,
    "start_time": "2022-02-15T20:44:08.820Z"
   },
   {
    "duration": -231,
    "start_time": "2022-02-15T20:44:08.824Z"
   },
   {
    "duration": -240,
    "start_time": "2022-02-15T20:44:08.834Z"
   },
   {
    "duration": -244,
    "start_time": "2022-02-15T20:44:08.839Z"
   },
   {
    "duration": -254,
    "start_time": "2022-02-15T20:44:08.850Z"
   },
   {
    "duration": -258,
    "start_time": "2022-02-15T20:44:08.854Z"
   },
   {
    "duration": -267,
    "start_time": "2022-02-15T20:44:08.864Z"
   },
   {
    "duration": -270,
    "start_time": "2022-02-15T20:44:08.868Z"
   },
   {
    "duration": -274,
    "start_time": "2022-02-15T20:44:08.873Z"
   },
   {
    "duration": -282,
    "start_time": "2022-02-15T20:44:08.883Z"
   },
   {
    "duration": -285,
    "start_time": "2022-02-15T20:44:08.887Z"
   },
   {
    "duration": -288,
    "start_time": "2022-02-15T20:44:08.891Z"
   },
   {
    "duration": -298,
    "start_time": "2022-02-15T20:44:08.902Z"
   },
   {
    "duration": -301,
    "start_time": "2022-02-15T20:44:08.906Z"
   },
   {
    "duration": -315,
    "start_time": "2022-02-15T20:44:08.921Z"
   },
   {
    "duration": -318,
    "start_time": "2022-02-15T20:44:08.925Z"
   },
   {
    "duration": -327,
    "start_time": "2022-02-15T20:44:08.935Z"
   },
   {
    "duration": -330,
    "start_time": "2022-02-15T20:44:08.939Z"
   },
   {
    "duration": -282,
    "start_time": "2022-02-15T20:44:08.951Z"
   },
   {
    "duration": -284,
    "start_time": "2022-02-15T20:44:08.954Z"
   },
   {
    "duration": -294,
    "start_time": "2022-02-15T20:44:08.965Z"
   },
   {
    "duration": -296,
    "start_time": "2022-02-15T20:44:08.968Z"
   },
   {
    "duration": -300,
    "start_time": "2022-02-15T20:44:08.973Z"
   },
   {
    "duration": -308,
    "start_time": "2022-02-15T20:44:08.982Z"
   },
   {
    "duration": -312,
    "start_time": "2022-02-15T20:44:08.987Z"
   },
   {
    "duration": -315,
    "start_time": "2022-02-15T20:44:08.991Z"
   },
   {
    "duration": -323,
    "start_time": "2022-02-15T20:44:09.000Z"
   },
   {
    "duration": -326,
    "start_time": "2022-02-15T20:44:09.004Z"
   },
   {
    "duration": -335,
    "start_time": "2022-02-15T20:44:09.014Z"
   },
   {
    "duration": -338,
    "start_time": "2022-02-15T20:44:09.018Z"
   },
   {
    "duration": -341,
    "start_time": "2022-02-15T20:44:09.022Z"
   },
   {
    "duration": -349,
    "start_time": "2022-02-15T20:44:09.032Z"
   },
   {
    "duration": -352,
    "start_time": "2022-02-15T20:44:09.036Z"
   },
   {
    "duration": -355,
    "start_time": "2022-02-15T20:44:09.040Z"
   },
   {
    "duration": 1137,
    "start_time": "2022-02-15T20:45:39.003Z"
   },
   {
    "duration": 45,
    "start_time": "2022-02-15T20:45:40.142Z"
   },
   {
    "duration": 13,
    "start_time": "2022-02-15T20:45:40.189Z"
   },
   {
    "duration": 10,
    "start_time": "2022-02-15T20:45:40.203Z"
   },
   {
    "duration": 7,
    "start_time": "2022-02-15T20:45:40.215Z"
   },
   {
    "duration": 11,
    "start_time": "2022-02-15T20:45:40.224Z"
   },
   {
    "duration": 9,
    "start_time": "2022-02-15T20:45:40.236Z"
   },
   {
    "duration": 5,
    "start_time": "2022-02-15T20:45:40.270Z"
   },
   {
    "duration": 19,
    "start_time": "2022-02-15T20:45:40.277Z"
   },
   {
    "duration": 4,
    "start_time": "2022-02-15T20:45:40.298Z"
   },
   {
    "duration": 18,
    "start_time": "2022-02-15T20:45:40.304Z"
   },
   {
    "duration": 4,
    "start_time": "2022-02-15T20:45:40.324Z"
   },
   {
    "duration": 12,
    "start_time": "2022-02-15T20:45:40.329Z"
   },
   {
    "duration": 5,
    "start_time": "2022-02-15T20:45:40.370Z"
   },
   {
    "duration": 6,
    "start_time": "2022-02-15T20:45:40.377Z"
   },
   {
    "duration": 18,
    "start_time": "2022-02-15T20:45:40.385Z"
   },
   {
    "duration": 12,
    "start_time": "2022-02-15T20:45:40.405Z"
   },
   {
    "duration": 15,
    "start_time": "2022-02-15T20:45:40.419Z"
   },
   {
    "duration": 47,
    "start_time": "2022-02-15T20:45:40.436Z"
   },
   {
    "duration": 24,
    "start_time": "2022-02-15T20:45:40.486Z"
   },
   {
    "duration": 5,
    "start_time": "2022-02-15T20:45:40.511Z"
   },
   {
    "duration": 16,
    "start_time": "2022-02-15T20:45:40.518Z"
   },
   {
    "duration": 7,
    "start_time": "2022-02-15T20:45:40.571Z"
   },
   {
    "duration": 14,
    "start_time": "2022-02-15T20:45:40.581Z"
   },
   {
    "duration": 28,
    "start_time": "2022-02-15T20:45:40.597Z"
   },
   {
    "duration": 412,
    "start_time": "2022-02-15T20:45:40.627Z"
   },
   {
    "duration": 37,
    "start_time": "2022-02-15T20:45:41.040Z"
   },
   {
    "duration": 23,
    "start_time": "2022-02-15T20:45:41.079Z"
   },
   {
    "duration": 8,
    "start_time": "2022-02-15T20:45:41.103Z"
   },
   {
    "duration": 24,
    "start_time": "2022-02-15T20:45:41.113Z"
   },
   {
    "duration": 37,
    "start_time": "2022-02-15T20:45:41.139Z"
   },
   {
    "duration": 342,
    "start_time": "2022-02-15T20:45:41.178Z"
   },
   {
    "duration": 24,
    "start_time": "2022-02-15T20:45:41.522Z"
   },
   {
    "duration": 216,
    "start_time": "2022-02-15T20:45:41.548Z"
   },
   {
    "duration": 23,
    "start_time": "2022-02-15T20:45:41.769Z"
   },
   {
    "duration": 12,
    "start_time": "2022-02-15T20:45:41.794Z"
   },
   {
    "duration": 6,
    "start_time": "2022-02-15T20:45:41.808Z"
   },
   {
    "duration": 15,
    "start_time": "2022-02-15T20:45:41.816Z"
   },
   {
    "duration": 338,
    "start_time": "2022-02-15T20:45:41.869Z"
   },
   {
    "duration": -4,
    "start_time": "2022-02-15T20:45:42.213Z"
   },
   {
    "duration": -7,
    "start_time": "2022-02-15T20:45:42.218Z"
   },
   {
    "duration": -10,
    "start_time": "2022-02-15T20:45:42.223Z"
   },
   {
    "duration": -14,
    "start_time": "2022-02-15T20:45:42.228Z"
   },
   {
    "duration": -17,
    "start_time": "2022-02-15T20:45:42.232Z"
   },
   {
    "duration": -19,
    "start_time": "2022-02-15T20:45:42.236Z"
   },
   {
    "duration": -23,
    "start_time": "2022-02-15T20:45:42.241Z"
   },
   {
    "duration": -25,
    "start_time": "2022-02-15T20:45:42.245Z"
   },
   {
    "duration": -29,
    "start_time": "2022-02-15T20:45:42.251Z"
   },
   {
    "duration": -33,
    "start_time": "2022-02-15T20:45:42.256Z"
   },
   {
    "duration": -35,
    "start_time": "2022-02-15T20:45:42.260Z"
   },
   {
    "duration": -40,
    "start_time": "2022-02-15T20:45:42.266Z"
   },
   {
    "duration": -42,
    "start_time": "2022-02-15T20:45:42.270Z"
   },
   {
    "duration": -46,
    "start_time": "2022-02-15T20:45:42.275Z"
   },
   {
    "duration": -48,
    "start_time": "2022-02-15T20:45:42.278Z"
   },
   {
    "duration": -50,
    "start_time": "2022-02-15T20:45:42.282Z"
   },
   {
    "duration": -53,
    "start_time": "2022-02-15T20:45:42.286Z"
   },
   {
    "duration": -56,
    "start_time": "2022-02-15T20:45:42.291Z"
   },
   {
    "duration": -59,
    "start_time": "2022-02-15T20:45:42.295Z"
   },
   {
    "duration": -62,
    "start_time": "2022-02-15T20:45:42.299Z"
   },
   {
    "duration": -65,
    "start_time": "2022-02-15T20:45:42.303Z"
   },
   {
    "duration": 5,
    "start_time": "2022-02-15T20:47:58.240Z"
   },
   {
    "duration": 355,
    "start_time": "2022-02-15T20:49:42.574Z"
   },
   {
    "duration": 256,
    "start_time": "2022-02-15T20:51:43.680Z"
   },
   {
    "duration": 8,
    "start_time": "2022-02-15T20:52:21.642Z"
   },
   {
    "duration": 1180,
    "start_time": "2022-02-15T20:53:11.161Z"
   },
   {
    "duration": 45,
    "start_time": "2022-02-15T20:53:12.343Z"
   },
   {
    "duration": 14,
    "start_time": "2022-02-15T20:53:12.390Z"
   },
   {
    "duration": 8,
    "start_time": "2022-02-15T20:53:12.405Z"
   },
   {
    "duration": 7,
    "start_time": "2022-02-15T20:53:12.415Z"
   },
   {
    "duration": 7,
    "start_time": "2022-02-15T20:53:12.423Z"
   },
   {
    "duration": 7,
    "start_time": "2022-02-15T20:53:12.432Z"
   },
   {
    "duration": 31,
    "start_time": "2022-02-15T20:53:12.442Z"
   },
   {
    "duration": 18,
    "start_time": "2022-02-15T20:53:12.475Z"
   },
   {
    "duration": 5,
    "start_time": "2022-02-15T20:53:12.495Z"
   },
   {
    "duration": 17,
    "start_time": "2022-02-15T20:53:12.502Z"
   },
   {
    "duration": 4,
    "start_time": "2022-02-15T20:53:12.521Z"
   },
   {
    "duration": 44,
    "start_time": "2022-02-15T20:53:12.527Z"
   },
   {
    "duration": 7,
    "start_time": "2022-02-15T20:53:12.573Z"
   },
   {
    "duration": 6,
    "start_time": "2022-02-15T20:53:12.582Z"
   },
   {
    "duration": 14,
    "start_time": "2022-02-15T20:53:12.590Z"
   },
   {
    "duration": 13,
    "start_time": "2022-02-15T20:53:12.606Z"
   },
   {
    "duration": 63,
    "start_time": "2022-02-15T20:53:12.621Z"
   },
   {
    "duration": 15,
    "start_time": "2022-02-15T20:53:12.686Z"
   },
   {
    "duration": 23,
    "start_time": "2022-02-15T20:53:12.703Z"
   },
   {
    "duration": 5,
    "start_time": "2022-02-15T20:53:12.728Z"
   },
   {
    "duration": 47,
    "start_time": "2022-02-15T20:53:12.735Z"
   },
   {
    "duration": 6,
    "start_time": "2022-02-15T20:53:12.786Z"
   },
   {
    "duration": 10,
    "start_time": "2022-02-15T20:53:12.794Z"
   },
   {
    "duration": 30,
    "start_time": "2022-02-15T20:53:12.806Z"
   },
   {
    "duration": 403,
    "start_time": "2022-02-15T20:53:12.837Z"
   },
   {
    "duration": 31,
    "start_time": "2022-02-15T20:53:13.242Z"
   },
   {
    "duration": 22,
    "start_time": "2022-02-15T20:53:13.274Z"
   },
   {
    "duration": 7,
    "start_time": "2022-02-15T20:53:13.297Z"
   },
   {
    "duration": 24,
    "start_time": "2022-02-15T20:53:13.306Z"
   },
   {
    "duration": 7,
    "start_time": "2022-02-15T20:53:13.332Z"
   },
   {
    "duration": 328,
    "start_time": "2022-02-15T20:53:13.370Z"
   },
   {
    "duration": 22,
    "start_time": "2022-02-15T20:53:13.700Z"
   },
   {
    "duration": 226,
    "start_time": "2022-02-15T20:53:13.724Z"
   },
   {
    "duration": 27,
    "start_time": "2022-02-15T20:53:13.952Z"
   },
   {
    "duration": 12,
    "start_time": "2022-02-15T20:53:13.981Z"
   },
   {
    "duration": 7,
    "start_time": "2022-02-15T20:53:13.995Z"
   },
   {
    "duration": 17,
    "start_time": "2022-02-15T20:53:14.004Z"
   },
   {
    "duration": 47,
    "start_time": "2022-02-15T20:53:14.023Z"
   },
   {
    "duration": 1103,
    "start_time": "2022-02-15T20:53:14.072Z"
   },
   {
    "duration": 15,
    "start_time": "2022-02-15T20:53:15.177Z"
   },
   {
    "duration": 9,
    "start_time": "2022-02-15T20:53:15.194Z"
   },
   {
    "duration": 1136,
    "start_time": "2022-02-15T20:53:15.205Z"
   },
   {
    "duration": 34,
    "start_time": "2022-02-15T20:53:16.343Z"
   },
   {
    "duration": 10,
    "start_time": "2022-02-15T20:53:16.378Z"
   },
   {
    "duration": 1201,
    "start_time": "2022-02-15T20:53:16.390Z"
   },
   {
    "duration": 20,
    "start_time": "2022-02-15T20:53:17.593Z"
   },
   {
    "duration": 197,
    "start_time": "2022-02-15T20:53:17.615Z"
   },
   {
    "duration": 25,
    "start_time": "2022-02-15T20:53:17.814Z"
   },
   {
    "duration": 348,
    "start_time": "2022-02-15T20:53:17.841Z"
   },
   {
    "duration": 401,
    "start_time": "2022-02-15T20:53:18.191Z"
   },
   {
    "duration": -93,
    "start_time": "2022-02-15T20:53:18.687Z"
   },
   {
    "duration": -98,
    "start_time": "2022-02-15T20:53:18.693Z"
   },
   {
    "duration": -102,
    "start_time": "2022-02-15T20:53:18.698Z"
   },
   {
    "duration": -106,
    "start_time": "2022-02-15T20:53:18.703Z"
   },
   {
    "duration": -110,
    "start_time": "2022-02-15T20:53:18.708Z"
   },
   {
    "duration": -113,
    "start_time": "2022-02-15T20:53:18.712Z"
   },
   {
    "duration": -116,
    "start_time": "2022-02-15T20:53:18.716Z"
   },
   {
    "duration": -118,
    "start_time": "2022-02-15T20:53:18.720Z"
   },
   {
    "duration": -122,
    "start_time": "2022-02-15T20:53:18.725Z"
   },
   {
    "duration": 1445,
    "start_time": "2022-02-16T06:49:18.726Z"
   },
   {
    "duration": 53,
    "start_time": "2022-02-16T06:49:20.174Z"
   },
   {
    "duration": 19,
    "start_time": "2022-02-16T06:49:20.230Z"
   },
   {
    "duration": 12,
    "start_time": "2022-02-16T06:49:20.252Z"
   },
   {
    "duration": 8,
    "start_time": "2022-02-16T06:49:20.266Z"
   },
   {
    "duration": 8,
    "start_time": "2022-02-16T06:49:20.276Z"
   },
   {
    "duration": 44,
    "start_time": "2022-02-16T06:49:20.286Z"
   },
   {
    "duration": 7,
    "start_time": "2022-02-16T06:49:20.332Z"
   },
   {
    "duration": 21,
    "start_time": "2022-02-16T06:49:20.343Z"
   },
   {
    "duration": 6,
    "start_time": "2022-02-16T06:49:20.367Z"
   },
   {
    "duration": 61,
    "start_time": "2022-02-16T06:49:20.375Z"
   },
   {
    "duration": 4,
    "start_time": "2022-02-16T06:49:20.439Z"
   },
   {
    "duration": 11,
    "start_time": "2022-02-16T06:49:20.445Z"
   },
   {
    "duration": 9,
    "start_time": "2022-02-16T06:49:20.459Z"
   },
   {
    "duration": 9,
    "start_time": "2022-02-16T06:49:20.470Z"
   },
   {
    "duration": 22,
    "start_time": "2022-02-16T06:49:20.524Z"
   },
   {
    "duration": 18,
    "start_time": "2022-02-16T06:49:20.549Z"
   },
   {
    "duration": 55,
    "start_time": "2022-02-16T06:49:20.570Z"
   },
   {
    "duration": 22,
    "start_time": "2022-02-16T06:49:20.627Z"
   },
   {
    "duration": 33,
    "start_time": "2022-02-16T06:49:20.652Z"
   },
   {
    "duration": 36,
    "start_time": "2022-02-16T06:49:20.687Z"
   },
   {
    "duration": 22,
    "start_time": "2022-02-16T06:49:20.725Z"
   },
   {
    "duration": 8,
    "start_time": "2022-02-16T06:49:20.750Z"
   },
   {
    "duration": 11,
    "start_time": "2022-02-16T06:49:20.760Z"
   },
   {
    "duration": 83,
    "start_time": "2022-02-16T06:49:20.773Z"
   },
   {
    "duration": 501,
    "start_time": "2022-02-16T06:49:20.859Z"
   },
   {
    "duration": 37,
    "start_time": "2022-02-16T06:49:21.366Z"
   },
   {
    "duration": 44,
    "start_time": "2022-02-16T06:49:21.407Z"
   },
   {
    "duration": 11,
    "start_time": "2022-02-16T06:49:21.454Z"
   },
   {
    "duration": 66,
    "start_time": "2022-02-16T06:49:21.467Z"
   },
   {
    "duration": 10,
    "start_time": "2022-02-16T06:49:21.535Z"
   },
   {
    "duration": 449,
    "start_time": "2022-02-16T06:49:21.547Z"
   },
   {
    "duration": 39,
    "start_time": "2022-02-16T06:49:21.999Z"
   },
   {
    "duration": 295,
    "start_time": "2022-02-16T06:49:22.041Z"
   },
   {
    "duration": 31,
    "start_time": "2022-02-16T06:49:22.339Z"
   },
   {
    "duration": 15,
    "start_time": "2022-02-16T06:49:22.372Z"
   },
   {
    "duration": 35,
    "start_time": "2022-02-16T06:49:22.390Z"
   },
   {
    "duration": 21,
    "start_time": "2022-02-16T06:49:22.427Z"
   },
   {
    "duration": 11,
    "start_time": "2022-02-16T06:49:22.450Z"
   },
   {
    "duration": 1507,
    "start_time": "2022-02-16T06:49:22.463Z"
   },
   {
    "duration": 21,
    "start_time": "2022-02-16T06:49:24.024Z"
   },
   {
    "duration": 14,
    "start_time": "2022-02-16T06:49:24.047Z"
   },
   {
    "duration": 1804,
    "start_time": "2022-02-16T06:49:24.063Z"
   },
   {
    "duration": 23,
    "start_time": "2022-02-16T06:49:25.870Z"
   },
   {
    "duration": 30,
    "start_time": "2022-02-16T06:49:25.895Z"
   },
   {
    "duration": 1674,
    "start_time": "2022-02-16T06:49:25.927Z"
   },
   {
    "duration": 37,
    "start_time": "2022-02-16T06:49:27.603Z"
   },
   {
    "duration": 251,
    "start_time": "2022-02-16T06:49:27.642Z"
   },
   {
    "duration": 48,
    "start_time": "2022-02-16T06:49:27.895Z"
   },
   {
    "duration": 456,
    "start_time": "2022-02-16T06:49:27.945Z"
   },
   {
    "duration": 422,
    "start_time": "2022-02-16T06:49:28.403Z"
   },
   {
    "duration": 243,
    "start_time": "2022-02-16T06:49:28.586Z"
   },
   {
    "duration": 208,
    "start_time": "2022-02-16T06:49:28.624Z"
   },
   {
    "duration": 191,
    "start_time": "2022-02-16T06:49:28.643Z"
   },
   {
    "duration": 175,
    "start_time": "2022-02-16T06:49:28.662Z"
   },
   {
    "duration": 158,
    "start_time": "2022-02-16T06:49:28.681Z"
   },
   {
    "duration": 139,
    "start_time": "2022-02-16T06:49:28.702Z"
   },
   {
    "duration": 108,
    "start_time": "2022-02-16T06:49:28.736Z"
   },
   {
    "duration": 105,
    "start_time": "2022-02-16T06:49:28.741Z"
   },
   {
    "duration": 88,
    "start_time": "2022-02-16T06:49:28.760Z"
   },
   {
    "duration": 529,
    "start_time": "2022-02-16T06:51:27.407Z"
   },
   {
    "duration": 16,
    "start_time": "2022-02-16T06:53:56.849Z"
   },
   {
    "duration": 31,
    "start_time": "2022-02-16T06:53:59.963Z"
   },
   {
    "duration": 283,
    "start_time": "2022-02-16T06:54:01.961Z"
   },
   {
    "duration": 757,
    "start_time": "2022-02-16T06:57:23.859Z"
   },
   {
    "duration": 302,
    "start_time": "2022-02-16T06:57:34.340Z"
   },
   {
    "duration": 275,
    "start_time": "2022-02-16T06:57:57.975Z"
   },
   {
    "duration": 292,
    "start_time": "2022-02-16T06:58:10.695Z"
   },
   {
    "duration": 27,
    "start_time": "2022-02-16T06:58:51.751Z"
   },
   {
    "duration": 33,
    "start_time": "2022-02-16T06:59:01.077Z"
   },
   {
    "duration": 334,
    "start_time": "2022-02-16T06:59:26.931Z"
   },
   {
    "duration": 446,
    "start_time": "2022-02-16T06:59:56.303Z"
   },
   {
    "duration": 459,
    "start_time": "2022-02-16T07:00:21.673Z"
   },
   {
    "duration": 337,
    "start_time": "2022-02-16T07:00:44.164Z"
   },
   {
    "duration": 286,
    "start_time": "2022-02-16T07:00:53.823Z"
   },
   {
    "duration": 30,
    "start_time": "2022-02-16T07:01:57.686Z"
   },
   {
    "duration": 298,
    "start_time": "2022-02-16T07:02:40.455Z"
   },
   {
    "duration": 10,
    "start_time": "2022-02-16T07:02:59.719Z"
   },
   {
    "duration": 11,
    "start_time": "2022-02-16T07:03:28.751Z"
   },
   {
    "duration": 12,
    "start_time": "2022-02-16T07:03:34.020Z"
   },
   {
    "duration": 293,
    "start_time": "2022-02-16T07:04:41.199Z"
   },
   {
    "duration": 302,
    "start_time": "2022-02-16T07:05:01.663Z"
   },
   {
    "duration": 231,
    "start_time": "2022-02-16T07:05:33.369Z"
   },
   {
    "duration": 508,
    "start_time": "2022-02-16T07:07:56.836Z"
   },
   {
    "duration": 506,
    "start_time": "2022-02-16T07:08:12.604Z"
   },
   {
    "duration": 521,
    "start_time": "2022-02-16T07:09:25.757Z"
   },
   {
    "duration": 589,
    "start_time": "2022-02-16T07:10:09.318Z"
   },
   {
    "duration": 479,
    "start_time": "2022-02-16T07:11:38.152Z"
   },
   {
    "duration": 288,
    "start_time": "2022-02-16T07:12:25.420Z"
   },
   {
    "duration": 567,
    "start_time": "2022-02-16T07:18:08.719Z"
   },
   {
    "duration": 580,
    "start_time": "2022-02-16T07:18:17.519Z"
   },
   {
    "duration": 282,
    "start_time": "2022-02-16T07:20:27.344Z"
   },
   {
    "duration": 280,
    "start_time": "2022-02-16T07:20:40.672Z"
   },
   {
    "duration": 285,
    "start_time": "2022-02-16T07:20:48.115Z"
   },
   {
    "duration": 544,
    "start_time": "2022-02-16T07:51:00.215Z"
   },
   {
    "duration": 541,
    "start_time": "2022-02-16T07:52:20.536Z"
   },
   {
    "duration": 579,
    "start_time": "2022-02-16T07:54:15.860Z"
   },
   {
    "duration": 350,
    "start_time": "2022-02-16T07:56:29.783Z"
   },
   {
    "duration": 13,
    "start_time": "2022-02-16T07:57:30.585Z"
   },
   {
    "duration": 15,
    "start_time": "2022-02-16T07:57:54.706Z"
   },
   {
    "duration": 15,
    "start_time": "2022-02-16T07:59:38.813Z"
   },
   {
    "duration": 292,
    "start_time": "2022-02-16T08:01:09.265Z"
   },
   {
    "duration": 279,
    "start_time": "2022-02-16T08:03:35.827Z"
   },
   {
    "duration": 1475,
    "start_time": "2022-02-16T08:04:21.875Z"
   },
   {
    "duration": 321,
    "start_time": "2022-02-16T08:04:50.083Z"
   },
   {
    "duration": 306,
    "start_time": "2022-02-16T08:05:01.574Z"
   },
   {
    "duration": 327,
    "start_time": "2022-02-16T08:05:50.230Z"
   },
   {
    "duration": 1443,
    "start_time": "2022-02-16T08:06:42.923Z"
   },
   {
    "duration": 5,
    "start_time": "2022-02-16T08:43:58.260Z"
   },
   {
    "duration": 6,
    "start_time": "2022-02-16T08:46:26.667Z"
   },
   {
    "duration": 350,
    "start_time": "2022-02-16T08:46:44.453Z"
   },
   {
    "duration": 15,
    "start_time": "2022-02-16T08:47:42.854Z"
   },
   {
    "duration": 14,
    "start_time": "2022-02-16T08:48:02.596Z"
   },
   {
    "duration": 94,
    "start_time": "2022-02-16T08:48:18.383Z"
   },
   {
    "duration": 12,
    "start_time": "2022-02-16T08:48:23.317Z"
   },
   {
    "duration": 15,
    "start_time": "2022-02-16T08:48:36.529Z"
   },
   {
    "duration": 2045,
    "start_time": "2022-02-16T08:48:52.963Z"
   },
   {
    "duration": 191,
    "start_time": "2022-02-16T08:51:42.965Z"
   },
   {
    "duration": 15,
    "start_time": "2022-02-16T08:52:38.456Z"
   },
   {
    "duration": 16,
    "start_time": "2022-02-16T08:53:01.352Z"
   },
   {
    "duration": 1220,
    "start_time": "2022-02-16T08:53:09.703Z"
   },
   {
    "duration": 15,
    "start_time": "2022-02-16T08:54:56.262Z"
   },
   {
    "duration": 1178,
    "start_time": "2022-02-16T08:55:20.750Z"
   },
   {
    "duration": 15,
    "start_time": "2022-02-16T08:55:33.052Z"
   },
   {
    "duration": 1161,
    "start_time": "2022-02-16T08:55:53.679Z"
   },
   {
    "duration": 277,
    "start_time": "2022-02-16T08:57:11.621Z"
   },
   {
    "duration": 278,
    "start_time": "2022-02-16T08:57:49.337Z"
   },
   {
    "duration": 6,
    "start_time": "2022-02-16T08:58:21.809Z"
   },
   {
    "duration": 9,
    "start_time": "2022-02-16T08:58:37.066Z"
   },
   {
    "duration": 698,
    "start_time": "2022-02-16T08:59:54.972Z"
   },
   {
    "duration": 545,
    "start_time": "2022-02-16T09:00:45.552Z"
   },
   {
    "duration": 544,
    "start_time": "2022-02-16T09:00:50.808Z"
   },
   {
    "duration": 308,
    "start_time": "2022-02-16T09:01:23.409Z"
   },
   {
    "duration": 300,
    "start_time": "2022-02-16T09:02:03.792Z"
   },
   {
    "duration": 235,
    "start_time": "2022-02-16T09:02:15.320Z"
   },
   {
    "duration": 227,
    "start_time": "2022-02-16T09:02:45.973Z"
   },
   {
    "duration": 541,
    "start_time": "2022-02-16T09:03:23.976Z"
   },
   {
    "duration": 591,
    "start_time": "2022-02-16T09:03:48.166Z"
   },
   {
    "duration": 23,
    "start_time": "2022-02-16T09:04:50.100Z"
   },
   {
    "duration": 21,
    "start_time": "2022-02-16T09:08:55.297Z"
   },
   {
    "duration": 355,
    "start_time": "2022-02-16T09:09:27.984Z"
   },
   {
    "duration": 308,
    "start_time": "2022-02-16T09:09:39.868Z"
   },
   {
    "duration": 285,
    "start_time": "2022-02-16T09:09:47.036Z"
   },
   {
    "duration": 111,
    "start_time": "2022-02-16T09:10:16.992Z"
   },
   {
    "duration": 1381,
    "start_time": "2022-02-16T09:14:36.629Z"
   },
   {
    "duration": 53,
    "start_time": "2022-02-16T09:14:38.013Z"
   },
   {
    "duration": 18,
    "start_time": "2022-02-16T09:14:38.070Z"
   },
   {
    "duration": 37,
    "start_time": "2022-02-16T09:14:38.091Z"
   },
   {
    "duration": 10,
    "start_time": "2022-02-16T09:14:38.131Z"
   },
   {
    "duration": 12,
    "start_time": "2022-02-16T09:14:38.144Z"
   },
   {
    "duration": 14,
    "start_time": "2022-02-16T09:14:38.159Z"
   },
   {
    "duration": 15,
    "start_time": "2022-02-16T09:14:38.176Z"
   },
   {
    "duration": 47,
    "start_time": "2022-02-16T09:14:38.196Z"
   },
   {
    "duration": 7,
    "start_time": "2022-02-16T09:14:38.246Z"
   },
   {
    "duration": 26,
    "start_time": "2022-02-16T09:14:38.255Z"
   },
   {
    "duration": 5,
    "start_time": "2022-02-16T09:14:38.283Z"
   },
   {
    "duration": 7,
    "start_time": "2022-02-16T09:14:38.324Z"
   },
   {
    "duration": 6,
    "start_time": "2022-02-16T09:14:38.334Z"
   },
   {
    "duration": 11,
    "start_time": "2022-02-16T09:14:38.343Z"
   },
   {
    "duration": 21,
    "start_time": "2022-02-16T09:14:38.357Z"
   },
   {
    "duration": 59,
    "start_time": "2022-02-16T09:14:38.381Z"
   },
   {
    "duration": 20,
    "start_time": "2022-02-16T09:14:38.443Z"
   },
   {
    "duration": 19,
    "start_time": "2022-02-16T09:14:38.465Z"
   },
   {
    "duration": 66,
    "start_time": "2022-02-16T09:14:38.487Z"
   },
   {
    "duration": 7,
    "start_time": "2022-02-16T09:14:38.555Z"
   },
   {
    "duration": 24,
    "start_time": "2022-02-16T09:14:38.565Z"
   },
   {
    "duration": 37,
    "start_time": "2022-02-16T09:14:38.592Z"
   },
   {
    "duration": 9,
    "start_time": "2022-02-16T09:14:38.632Z"
   },
   {
    "duration": 43,
    "start_time": "2022-02-16T09:14:38.643Z"
   },
   {
    "duration": 511,
    "start_time": "2022-02-16T09:14:38.688Z"
   },
   {
    "duration": 48,
    "start_time": "2022-02-16T09:14:39.206Z"
   },
   {
    "duration": 32,
    "start_time": "2022-02-16T09:14:39.257Z"
   },
   {
    "duration": 34,
    "start_time": "2022-02-16T09:14:39.291Z"
   },
   {
    "duration": 34,
    "start_time": "2022-02-16T09:14:39.327Z"
   },
   {
    "duration": 11,
    "start_time": "2022-02-16T09:14:39.363Z"
   },
   {
    "duration": 497,
    "start_time": "2022-02-16T09:14:39.376Z"
   },
   {
    "duration": 16,
    "start_time": "2022-02-16T09:14:39.876Z"
   },
   {
    "duration": 49,
    "start_time": "2022-02-16T09:14:39.895Z"
   },
   {
    "duration": 27,
    "start_time": "2022-02-16T09:14:39.946Z"
   },
   {
    "duration": 418,
    "start_time": "2022-02-16T09:14:39.976Z"
   },
   {
    "duration": 8,
    "start_time": "2022-02-16T09:14:40.397Z"
   },
   {
    "duration": 35,
    "start_time": "2022-02-16T09:14:40.407Z"
   },
   {
    "duration": 11,
    "start_time": "2022-02-16T09:14:40.445Z"
   },
   {
    "duration": 227,
    "start_time": "2022-02-16T09:14:40.459Z"
   },
   {
    "duration": 15,
    "start_time": "2022-02-16T09:14:40.689Z"
   },
   {
    "duration": 1338,
    "start_time": "2022-02-16T09:14:40.706Z"
   },
   {
    "duration": 21,
    "start_time": "2022-02-16T09:14:42.047Z"
   },
   {
    "duration": 16,
    "start_time": "2022-02-16T09:14:42.072Z"
   },
   {
    "duration": 1264,
    "start_time": "2022-02-16T09:14:42.091Z"
   },
   {
    "duration": 26,
    "start_time": "2022-02-16T09:14:43.358Z"
   },
   {
    "duration": 40,
    "start_time": "2022-02-16T09:14:43.386Z"
   },
   {
    "duration": 1419,
    "start_time": "2022-02-16T09:14:43.429Z"
   },
   {
    "duration": 35,
    "start_time": "2022-02-16T09:14:44.852Z"
   },
   {
    "duration": 274,
    "start_time": "2022-02-16T09:14:44.890Z"
   },
   {
    "duration": 37,
    "start_time": "2022-02-16T09:14:45.166Z"
   },
   {
    "duration": 565,
    "start_time": "2022-02-16T09:14:45.224Z"
   },
   {
    "duration": 34,
    "start_time": "2022-02-16T09:14:45.792Z"
   },
   {
    "duration": 47,
    "start_time": "2022-02-16T09:14:45.828Z"
   },
   {
    "duration": 51,
    "start_time": "2022-02-16T09:14:45.877Z"
   },
   {
    "duration": 49,
    "start_time": "2022-02-16T09:14:45.930Z"
   },
   {
    "duration": 51,
    "start_time": "2022-02-16T09:14:45.982Z"
   },
   {
    "duration": 24,
    "start_time": "2022-02-16T09:14:46.036Z"
   },
   {
    "duration": 21,
    "start_time": "2022-02-16T09:14:46.062Z"
   },
   {
    "duration": 45,
    "start_time": "2022-02-16T09:14:46.085Z"
   },
   {
    "duration": 21,
    "start_time": "2022-02-16T09:14:46.132Z"
   },
   {
    "duration": 13,
    "start_time": "2022-02-16T09:14:46.155Z"
   },
   {
    "duration": 1455,
    "start_time": "2022-02-16T11:59:40.939Z"
   },
   {
    "duration": 56,
    "start_time": "2022-02-16T11:59:42.397Z"
   },
   {
    "duration": 19,
    "start_time": "2022-02-16T11:59:42.456Z"
   },
   {
    "duration": 10,
    "start_time": "2022-02-16T11:59:42.478Z"
   },
   {
    "duration": 32,
    "start_time": "2022-02-16T11:59:42.490Z"
   },
   {
    "duration": 10,
    "start_time": "2022-02-16T11:59:42.525Z"
   },
   {
    "duration": 14,
    "start_time": "2022-02-16T11:59:42.537Z"
   },
   {
    "duration": 11,
    "start_time": "2022-02-16T11:59:42.554Z"
   },
   {
    "duration": 57,
    "start_time": "2022-02-16T11:59:42.568Z"
   },
   {
    "duration": 8,
    "start_time": "2022-02-16T11:59:42.628Z"
   },
   {
    "duration": 24,
    "start_time": "2022-02-16T11:59:42.638Z"
   },
   {
    "duration": 5,
    "start_time": "2022-02-16T11:59:42.664Z"
   },
   {
    "duration": 16,
    "start_time": "2022-02-16T11:59:42.672Z"
   },
   {
    "duration": 38,
    "start_time": "2022-02-16T11:59:42.691Z"
   },
   {
    "duration": 8,
    "start_time": "2022-02-16T11:59:42.732Z"
   },
   {
    "duration": 22,
    "start_time": "2022-02-16T11:59:42.742Z"
   },
   {
    "duration": 18,
    "start_time": "2022-02-16T11:59:42.766Z"
   },
   {
    "duration": 24,
    "start_time": "2022-02-16T11:59:42.825Z"
   },
   {
    "duration": 21,
    "start_time": "2022-02-16T11:59:42.852Z"
   },
   {
    "duration": 70,
    "start_time": "2022-02-16T11:59:42.876Z"
   },
   {
    "duration": 8,
    "start_time": "2022-02-16T11:59:42.949Z"
   },
   {
    "duration": 29,
    "start_time": "2022-02-16T11:59:42.960Z"
   },
   {
    "duration": 36,
    "start_time": "2022-02-16T11:59:42.992Z"
   },
   {
    "duration": 12,
    "start_time": "2022-02-16T11:59:43.030Z"
   },
   {
    "duration": 49,
    "start_time": "2022-02-16T11:59:43.045Z"
   },
   {
    "duration": 480,
    "start_time": "2022-02-16T11:59:43.123Z"
   },
   {
    "duration": 52,
    "start_time": "2022-02-16T11:59:43.610Z"
   },
   {
    "duration": 61,
    "start_time": "2022-02-16T11:59:43.666Z"
   },
   {
    "duration": 11,
    "start_time": "2022-02-16T11:59:43.730Z"
   },
   {
    "duration": 36,
    "start_time": "2022-02-16T11:59:43.743Z"
   },
   {
    "duration": 9,
    "start_time": "2022-02-16T11:59:43.781Z"
   },
   {
    "duration": 505,
    "start_time": "2022-02-16T11:59:43.824Z"
   },
   {
    "duration": 20,
    "start_time": "2022-02-16T11:59:44.332Z"
   },
   {
    "duration": 32,
    "start_time": "2022-02-16T11:59:44.355Z"
   },
   {
    "duration": 63,
    "start_time": "2022-02-16T11:59:44.390Z"
   },
   {
    "duration": 315,
    "start_time": "2022-02-16T11:59:44.455Z"
   },
   {
    "duration": 8,
    "start_time": "2022-02-16T11:59:44.773Z"
   },
   {
    "duration": 40,
    "start_time": "2022-02-16T11:59:44.784Z"
   },
   {
    "duration": 12,
    "start_time": "2022-02-16T11:59:44.827Z"
   },
   {
    "duration": 230,
    "start_time": "2022-02-16T11:59:44.841Z"
   },
   {
    "duration": 15,
    "start_time": "2022-02-16T11:59:45.073Z"
   },
   {
    "duration": 1322,
    "start_time": "2022-02-16T11:59:45.091Z"
   },
   {
    "duration": 25,
    "start_time": "2022-02-16T11:59:46.416Z"
   },
   {
    "duration": 14,
    "start_time": "2022-02-16T11:59:46.443Z"
   },
   {
    "duration": 1249,
    "start_time": "2022-02-16T11:59:46.459Z"
   },
   {
    "duration": 28,
    "start_time": "2022-02-16T11:59:47.711Z"
   },
   {
    "duration": 14,
    "start_time": "2022-02-16T11:59:47.741Z"
   },
   {
    "duration": 1284,
    "start_time": "2022-02-16T11:59:47.757Z"
   },
   {
    "duration": 29,
    "start_time": "2022-02-16T11:59:49.044Z"
   },
   {
    "duration": 300,
    "start_time": "2022-02-16T11:59:49.076Z"
   },
   {
    "duration": 54,
    "start_time": "2022-02-16T11:59:49.378Z"
   },
   {
    "duration": 590,
    "start_time": "2022-02-16T11:59:49.435Z"
   },
   {
    "duration": 21,
    "start_time": "2022-02-16T11:59:50.028Z"
   },
   {
    "duration": 78,
    "start_time": "2022-02-16T11:59:50.051Z"
   },
   {
    "duration": 20,
    "start_time": "2022-02-16T11:59:50.132Z"
   },
   {
    "duration": 78,
    "start_time": "2022-02-16T11:59:50.155Z"
   },
   {
    "duration": 21,
    "start_time": "2022-02-16T11:59:50.235Z"
   },
   {
    "duration": 29,
    "start_time": "2022-02-16T11:59:50.259Z"
   },
   {
    "duration": 48,
    "start_time": "2022-02-16T11:59:50.290Z"
   },
   {
    "duration": 22,
    "start_time": "2022-02-16T11:59:50.340Z"
   },
   {
    "duration": 23,
    "start_time": "2022-02-16T11:59:50.364Z"
   },
   {
    "duration": 19,
    "start_time": "2022-02-16T11:59:50.390Z"
   },
   {
    "duration": 3283,
    "start_time": "2022-02-16T13:08:40.507Z"
   },
   {
    "duration": 58,
    "start_time": "2022-02-16T13:08:43.793Z"
   },
   {
    "duration": 22,
    "start_time": "2022-02-16T13:08:43.853Z"
   },
   {
    "duration": 13,
    "start_time": "2022-02-16T13:08:43.878Z"
   },
   {
    "duration": 31,
    "start_time": "2022-02-16T13:08:43.894Z"
   },
   {
    "duration": 9,
    "start_time": "2022-02-16T13:08:43.927Z"
   },
   {
    "duration": 18,
    "start_time": "2022-02-16T13:08:43.938Z"
   },
   {
    "duration": 7,
    "start_time": "2022-02-16T13:08:43.962Z"
   },
   {
    "duration": 67,
    "start_time": "2022-02-16T13:08:43.972Z"
   },
   {
    "duration": 6,
    "start_time": "2022-02-16T13:08:44.041Z"
   },
   {
    "duration": 25,
    "start_time": "2022-02-16T13:08:44.049Z"
   },
   {
    "duration": 6,
    "start_time": "2022-02-16T13:08:44.076Z"
   },
   {
    "duration": 39,
    "start_time": "2022-02-16T13:08:44.085Z"
   },
   {
    "duration": 8,
    "start_time": "2022-02-16T13:08:44.127Z"
   },
   {
    "duration": 8,
    "start_time": "2022-02-16T13:08:44.138Z"
   },
   {
    "duration": 21,
    "start_time": "2022-02-16T13:08:44.149Z"
   },
   {
    "duration": 64,
    "start_time": "2022-02-16T13:08:44.173Z"
   },
   {
    "duration": 22,
    "start_time": "2022-02-16T13:08:44.239Z"
   },
   {
    "duration": 21,
    "start_time": "2022-02-16T13:08:44.263Z"
   },
   {
    "duration": 37,
    "start_time": "2022-02-16T13:08:44.322Z"
   },
   {
    "duration": 6,
    "start_time": "2022-02-16T13:08:44.361Z"
   },
   {
    "duration": 27,
    "start_time": "2022-02-16T13:08:44.369Z"
   },
   {
    "duration": 31,
    "start_time": "2022-02-16T13:08:44.398Z"
   },
   {
    "duration": 13,
    "start_time": "2022-02-16T13:08:44.431Z"
   },
   {
    "duration": 42,
    "start_time": "2022-02-16T13:08:44.446Z"
   },
   {
    "duration": 491,
    "start_time": "2022-02-16T13:08:44.494Z"
   },
   {
    "duration": 54,
    "start_time": "2022-02-16T13:08:44.988Z"
   },
   {
    "duration": 33,
    "start_time": "2022-02-16T13:08:45.045Z"
   },
   {
    "duration": 44,
    "start_time": "2022-02-16T13:08:45.081Z"
   },
   {
    "duration": 40,
    "start_time": "2022-02-16T13:08:45.128Z"
   },
   {
    "duration": 9,
    "start_time": "2022-02-16T13:08:45.170Z"
   },
   {
    "duration": 474,
    "start_time": "2022-02-16T13:08:45.182Z"
   },
   {
    "duration": 17,
    "start_time": "2022-02-16T13:08:45.659Z"
   },
   {
    "duration": 57,
    "start_time": "2022-02-16T13:08:45.678Z"
   },
   {
    "duration": 28,
    "start_time": "2022-02-16T13:08:45.737Z"
   },
   {
    "duration": 329,
    "start_time": "2022-02-16T13:08:45.768Z"
   },
   {
    "duration": 10,
    "start_time": "2022-02-16T13:08:46.099Z"
   },
   {
    "duration": 38,
    "start_time": "2022-02-16T13:08:46.111Z"
   },
   {
    "duration": 19,
    "start_time": "2022-02-16T13:08:46.151Z"
   },
   {
    "duration": 243,
    "start_time": "2022-02-16T13:08:46.173Z"
   },
   {
    "duration": 14,
    "start_time": "2022-02-16T13:08:46.423Z"
   },
   {
    "duration": 1312,
    "start_time": "2022-02-16T13:08:46.439Z"
   },
   {
    "duration": 22,
    "start_time": "2022-02-16T13:08:47.753Z"
   },
   {
    "duration": 21,
    "start_time": "2022-02-16T13:08:47.777Z"
   },
   {
    "duration": 1134,
    "start_time": "2022-02-16T13:08:47.824Z"
   },
   {
    "duration": 25,
    "start_time": "2022-02-16T13:08:48.962Z"
   },
   {
    "duration": 40,
    "start_time": "2022-02-16T13:08:48.990Z"
   },
   {
    "duration": 1147,
    "start_time": "2022-02-16T13:08:49.033Z"
   },
   {
    "duration": 45,
    "start_time": "2022-02-16T13:08:50.183Z"
   },
   {
    "duration": 249,
    "start_time": "2022-02-16T13:08:50.231Z"
   },
   {
    "duration": 58,
    "start_time": "2022-02-16T13:08:50.483Z"
   },
   {
    "duration": 546,
    "start_time": "2022-02-16T13:08:50.543Z"
   },
   {
    "duration": 31,
    "start_time": "2022-02-16T13:08:51.092Z"
   },
   {
    "duration": 49,
    "start_time": "2022-02-16T13:08:51.127Z"
   },
   {
    "duration": 53,
    "start_time": "2022-02-16T13:08:51.178Z"
   },
   {
    "duration": 46,
    "start_time": "2022-02-16T13:08:51.233Z"
   },
   {
    "duration": 50,
    "start_time": "2022-02-16T13:08:51.281Z"
   },
   {
    "duration": 26,
    "start_time": "2022-02-16T13:08:51.333Z"
   },
   {
    "duration": 20,
    "start_time": "2022-02-16T13:08:51.362Z"
   },
   {
    "duration": 44,
    "start_time": "2022-02-16T13:08:51.385Z"
   },
   {
    "duration": 21,
    "start_time": "2022-02-16T13:08:51.431Z"
   },
   {
    "duration": 12,
    "start_time": "2022-02-16T13:08:51.455Z"
   },
   {
    "duration": 20,
    "start_time": "2022-02-16T13:26:42.035Z"
   },
   {
    "duration": 13,
    "start_time": "2022-02-16T13:27:29.050Z"
   },
   {
    "duration": 430,
    "start_time": "2022-02-16T13:29:16.228Z"
   },
   {
    "duration": 13,
    "start_time": "2022-02-16T13:29:30.251Z"
   },
   {
    "duration": 310,
    "start_time": "2022-02-16T13:29:47.137Z"
   },
   {
    "duration": 14,
    "start_time": "2022-02-16T13:30:00.102Z"
   },
   {
    "duration": 14,
    "start_time": "2022-02-16T13:30:24.700Z"
   },
   {
    "duration": 14,
    "start_time": "2022-02-16T13:31:26.094Z"
   },
   {
    "duration": 14,
    "start_time": "2022-02-16T13:31:38.628Z"
   },
   {
    "duration": 373,
    "start_time": "2022-02-16T13:32:12.728Z"
   },
   {
    "duration": 10,
    "start_time": "2022-02-16T13:32:23.256Z"
   },
   {
    "duration": 1611,
    "start_time": "2022-02-16T13:38:02.113Z"
   },
   {
    "duration": 57,
    "start_time": "2022-02-16T13:38:03.726Z"
   },
   {
    "duration": 41,
    "start_time": "2022-02-16T13:38:03.787Z"
   },
   {
    "duration": 15,
    "start_time": "2022-02-16T13:38:03.831Z"
   },
   {
    "duration": 11,
    "start_time": "2022-02-16T13:38:03.849Z"
   },
   {
    "duration": 9,
    "start_time": "2022-02-16T13:38:03.863Z"
   },
   {
    "duration": 48,
    "start_time": "2022-02-16T13:38:03.875Z"
   },
   {
    "duration": 6,
    "start_time": "2022-02-16T13:38:03.927Z"
   },
   {
    "duration": 30,
    "start_time": "2022-02-16T13:38:03.936Z"
   },
   {
    "duration": 7,
    "start_time": "2022-02-16T13:38:03.968Z"
   },
   {
    "duration": 55,
    "start_time": "2022-02-16T13:38:03.977Z"
   },
   {
    "duration": 5,
    "start_time": "2022-02-16T13:38:04.034Z"
   },
   {
    "duration": 12,
    "start_time": "2022-02-16T13:38:04.042Z"
   },
   {
    "duration": 8,
    "start_time": "2022-02-16T13:38:04.056Z"
   },
   {
    "duration": 8,
    "start_time": "2022-02-16T13:38:04.066Z"
   },
   {
    "duration": 60,
    "start_time": "2022-02-16T13:38:04.076Z"
   },
   {
    "duration": 18,
    "start_time": "2022-02-16T13:38:04.138Z"
   },
   {
    "duration": 22,
    "start_time": "2022-02-16T13:38:04.158Z"
   },
   {
    "duration": 58,
    "start_time": "2022-02-16T13:38:04.183Z"
   },
   {
    "duration": 41,
    "start_time": "2022-02-16T13:38:04.243Z"
   },
   {
    "duration": 6,
    "start_time": "2022-02-16T13:38:04.287Z"
   },
   {
    "duration": 48,
    "start_time": "2022-02-16T13:38:04.296Z"
   },
   {
    "duration": 9,
    "start_time": "2022-02-16T13:38:04.349Z"
   },
   {
    "duration": 10,
    "start_time": "2022-02-16T13:38:04.362Z"
   },
   {
    "duration": 81,
    "start_time": "2022-02-16T13:38:04.374Z"
   },
   {
    "duration": 665,
    "start_time": "2022-02-16T13:38:04.458Z"
   },
   {
    "duration": 41,
    "start_time": "2022-02-16T13:38:05.125Z"
   },
   {
    "duration": 57,
    "start_time": "2022-02-16T13:38:05.168Z"
   },
   {
    "duration": 15,
    "start_time": "2022-02-16T13:38:05.227Z"
   },
   {
    "duration": 38,
    "start_time": "2022-02-16T13:38:05.244Z"
   },
   {
    "duration": 39,
    "start_time": "2022-02-16T13:38:05.284Z"
   },
   {
    "duration": 620,
    "start_time": "2022-02-16T13:38:05.327Z"
   },
   {
    "duration": 20,
    "start_time": "2022-02-16T13:38:05.950Z"
   },
   {
    "duration": 71,
    "start_time": "2022-02-16T13:38:05.972Z"
   },
   {
    "duration": 29,
    "start_time": "2022-02-16T13:38:06.045Z"
   },
   {
    "duration": 324,
    "start_time": "2022-02-16T13:38:06.076Z"
   },
   {
    "duration": 21,
    "start_time": "2022-02-16T13:38:06.402Z"
   },
   {
    "duration": 23,
    "start_time": "2022-02-16T13:38:06.426Z"
   },
   {
    "duration": 10,
    "start_time": "2022-02-16T13:38:06.452Z"
   },
   {
    "duration": 305,
    "start_time": "2022-02-16T13:38:06.465Z"
   },
   {
    "duration": 15,
    "start_time": "2022-02-16T13:38:06.773Z"
   },
   {
    "duration": 1794,
    "start_time": "2022-02-16T13:38:06.790Z"
   },
   {
    "duration": 45,
    "start_time": "2022-02-16T13:38:08.588Z"
   },
   {
    "duration": 21,
    "start_time": "2022-02-16T13:38:08.637Z"
   },
   {
    "duration": 1428,
    "start_time": "2022-02-16T13:38:08.660Z"
   },
   {
    "duration": 42,
    "start_time": "2022-02-16T13:38:10.090Z"
   },
   {
    "duration": 18,
    "start_time": "2022-02-16T13:38:10.135Z"
   },
   {
    "duration": 1309,
    "start_time": "2022-02-16T13:38:10.156Z"
   },
   {
    "duration": 30,
    "start_time": "2022-02-16T13:38:11.468Z"
   },
   {
    "duration": 295,
    "start_time": "2022-02-16T13:38:11.501Z"
   },
   {
    "duration": 47,
    "start_time": "2022-02-16T13:38:11.798Z"
   },
   {
    "duration": 592,
    "start_time": "2022-02-16T13:38:11.848Z"
   },
   {
    "duration": 21,
    "start_time": "2022-02-16T13:38:12.443Z"
   },
   {
    "duration": 78,
    "start_time": "2022-02-16T13:38:12.467Z"
   },
   {
    "duration": 20,
    "start_time": "2022-02-16T13:38:12.548Z"
   },
   {
    "duration": 77,
    "start_time": "2022-02-16T13:38:12.570Z"
   },
   {
    "duration": 22,
    "start_time": "2022-02-16T13:38:12.649Z"
   },
   {
    "duration": 53,
    "start_time": "2022-02-16T13:38:12.674Z"
   },
   {
    "duration": 20,
    "start_time": "2022-02-16T13:38:12.730Z"
   },
   {
    "duration": 409,
    "start_time": "2022-02-16T13:38:12.753Z"
   },
   {
    "duration": 84,
    "start_time": "2022-02-16T13:38:13.082Z"
   },
   {
    "duration": 77,
    "start_time": "2022-02-16T13:38:13.091Z"
   },
   {
    "duration": 69,
    "start_time": "2022-02-16T13:38:13.100Z"
   },
   {
    "duration": 63,
    "start_time": "2022-02-16T13:38:13.107Z"
   },
   {
    "duration": 105,
    "start_time": "2022-02-17T11:02:18.059Z"
   },
   {
    "duration": 85,
    "start_time": "2022-02-17T11:02:22.214Z"
   }
  ],
  "kernelspec": {
   "display_name": "Python 3 (ipykernel)",
   "language": "python",
   "name": "python3"
  },
  "language_info": {
   "codemirror_mode": {
    "name": "ipython",
    "version": 3
   },
   "file_extension": ".py",
   "mimetype": "text/x-python",
   "name": "python",
   "nbconvert_exporter": "python",
   "pygments_lexer": "ipython3",
   "version": "3.9.12"
  },
  "toc": {
   "base_numbering": 1,
   "nav_menu": {},
   "number_sections": false,
   "sideBar": true,
   "skip_h1_title": true,
   "title_cell": "Table of Contents",
   "title_sidebar": "Contents",
   "toc_cell": false,
   "toc_position": {},
   "toc_section_display": true,
   "toc_window_display": true
  }
 },
 "nbformat": 4,
 "nbformat_minor": 2
}
